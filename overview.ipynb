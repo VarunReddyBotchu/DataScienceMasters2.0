{
 "cells": [
  {
   "cell_type": "markdown",
   "id": "4497d1df-94b3-4a82-b9b6-49a66782924e",
   "metadata": {},
   "source": [
    "### Overview \n",
    "1. Comments(Single an Multiline)\n",
    "2. Print Statement(Single an Multiple)\n",
    "3. Assigning values to variable, Type Function and Dynamic typing\n",
    "4. Concatination\n",
    "5. Boolean "
   ]
  },
  {
   "cell_type": "code",
   "execution_count": 15,
   "id": "1293a768-d6bb-4eb6-92b4-8176238b65be",
   "metadata": {},
   "outputs": [
    {
     "name": "stdout",
     "output_type": "stream",
     "text": [
      "\n"
     ]
    }
   ],
   "source": [
    "#1.1\n",
    "#this is single line comment\n",
    "'''1.2\n",
    " This is multi-line Comment'''\n",
    "print()"
   ]
  },
  {
   "cell_type": "code",
   "execution_count": 7,
   "id": "e58da1da-2ee8-4e0f-8306-5e39a99fc2f2",
   "metadata": {},
   "outputs": [
    {
     "name": "stdout",
     "output_type": "stream",
     "text": [
      "This is single line print statement\n",
      " This is multiline print statement\n",
      "used for printing multiline statements\n"
     ]
    }
   ],
   "source": [
    "#2.1\n",
    "print(\"This is single line print statement\")\n",
    "#2.2\n",
    "print(\"\"\" This is multiline print statement\n",
    "used for printing multiline statements\"\"\")"
   ]
  },
  {
   "cell_type": "code",
   "execution_count": 13,
   "id": "fd88f180-2302-44e8-97de-1d962b6ff65c",
   "metadata": {},
   "outputs": [
    {
     "data": {
      "text/plain": [
       "int"
      ]
     },
     "execution_count": 13,
     "metadata": {},
     "output_type": "execute_result"
    }
   ],
   "source": [
    "\"\"\"3.1 Different type of assigning values to vairable.\n",
    "Variables are case sensitive and can start only  with alphabets\"\"\"\n",
    "var1=3\n",
    "var_2=5.7\n",
    "Var_2=\"Run\"\n",
    "vAR_2=3+4j\n",
    "var2=9\n",
    "#3.2\n",
    "type(var1)\n",
    "#3.3 Dynamic typing is no need to specify the data type of variable, python assumes it automatically during run-time."
   ]
  },
  {
   "cell_type": "code",
   "execution_count": 19,
   "id": "f96cdd72-4198-4c9b-91a1-a342a1522421",
   "metadata": {},
   "outputs": [
    {
     "name": "stdout",
     "output_type": "stream",
     "text": [
      "3\n",
      "231\n",
      "sun is bright\n"
     ]
    }
   ],
   "source": [
    "#4\n",
    "var1=2\n",
    "var2=\"1\"\n",
    "#A string number cannot be concatinated with an integer, to do so we need to change the string into integer.two integer can be concatinated, two strings can be concatinated.\n",
    "var3=var1+int(var2)\n",
    "print(var3)\n",
    "var4=\"23\"\n",
    "var5=var4+var2\n",
    "print(var5)\n",
    "var6=\"sun\"\n",
    "var7=\" is bright\"\n",
    "var7=var6+var7\n",
    "print(var7)"
   ]
  },
  {
   "cell_type": "code",
   "execution_count": 29,
   "id": "4bf1119b-9c0c-412c-9ec8-85c94c2fb3a8",
   "metadata": {},
   "outputs": [
    {
     "name": "stdout",
     "output_type": "stream",
     "text": [
      "False\n",
      "True\n",
      "True\n",
      "True\n",
      "True\n",
      "True\n",
      "1\n",
      "0\n"
     ]
    }
   ],
   "source": [
    "\"\"\"5.\n",
    "bool of anything other than zero is True.\n",
    "int of bool of True is 1 and int of bool of False is  0\"\"\"\n",
    "print(bool(0))\n",
    "print(bool(1))\n",
    "print(bool(23))\n",
    "print(bool(-789))\n",
    "print(bool(89.05))\n",
    "print(bool(5+6j))\n",
    "print(int(bool(True)))\n",
    "print(int(bool(False)))"
   ]
  },
  {
   "cell_type": "code",
   "execution_count": null,
   "id": "70fde53d-d784-4e14-bb29-56ca3b8f1f32",
   "metadata": {},
   "outputs": [],
   "source": []
  }
 ],
 "metadata": {
  "kernelspec": {
   "display_name": "Python 3 (ipykernel)",
   "language": "python",
   "name": "python3"
  },
  "language_info": {
   "codemirror_mode": {
    "name": "ipython",
    "version": 3
   },
   "file_extension": ".py",
   "mimetype": "text/x-python",
   "name": "python",
   "nbconvert_exporter": "python",
   "pygments_lexer": "ipython3",
   "version": "3.10.8"
  }
 },
 "nbformat": 4,
 "nbformat_minor": 5
}
