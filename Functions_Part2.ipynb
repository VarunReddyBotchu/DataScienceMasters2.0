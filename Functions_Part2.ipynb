{
 "cells": [
  {
   "cell_type": "markdown",
   "id": "bf84fb76-019b-454d-88c8-daf8e06ba964",
   "metadata": {},
   "source": [
    "### Functions Part2\n",
    "1. *args,**kwargs"
   ]
  },
  {
   "cell_type": "code",
   "execution_count": 1,
   "id": "30952630-3e94-4e2c-a754-af04c8c6647e",
   "metadata": {},
   "outputs": [],
   "source": [
    "#1.1\n",
    "def test(a,b,c,d,e):\n",
    "    pass"
   ]
  },
  {
   "cell_type": "code",
   "execution_count": 2,
   "id": "b8bb12f2-230f-460a-9146-df0ab25d30fb",
   "metadata": {},
   "outputs": [],
   "source": [
    "def test1(*args):\n",
    "    return args"
   ]
  },
  {
   "cell_type": "code",
   "execution_count": 3,
   "id": "18fb6143-6e86-4774-ba74-410b44472ec4",
   "metadata": {},
   "outputs": [
    {
     "data": {
      "text/plain": [
       "(2,)"
      ]
     },
     "execution_count": 3,
     "metadata": {},
     "output_type": "execute_result"
    }
   ],
   "source": [
    "test1(2)"
   ]
  },
  {
   "cell_type": "code",
   "execution_count": 6,
   "id": "beb8dff2-1a91-4093-b857-f62be86d3285",
   "metadata": {},
   "outputs": [
    {
     "data": {
      "text/plain": [
       "([2344, 324], {4, 24, 234}, (5435, 4, 32), 4, 'varun')"
      ]
     },
     "execution_count": 6,
     "metadata": {},
     "output_type": "execute_result"
    }
   ],
   "source": [
    "test1([2344,324],{4,4,24,24,234},(5435,4,32),4,\"varun\")"
   ]
  },
  {
   "cell_type": "code",
   "execution_count": 21,
   "id": "e0f15c26-73af-4d12-9e11-4eb9c7d24754",
   "metadata": {},
   "outputs": [],
   "source": [
    "def test2(*varun, a ):\n",
    "    return list(varun), a"
   ]
  },
  {
   "cell_type": "code",
   "execution_count": 22,
   "id": "799e980b-723b-49ae-89bb-92dcf13a2dca",
   "metadata": {},
   "outputs": [
    {
     "data": {
      "text/plain": [
       "([3, 3, 23, 24, 4, 24], 2)"
      ]
     },
     "execution_count": 22,
     "metadata": {},
     "output_type": "execute_result"
    }
   ],
   "source": [
    "test2(3,3,23,24,4,24,a=2)"
   ]
  },
  {
   "cell_type": "code",
   "execution_count": 26,
   "id": "26cb0eb5-154b-47cb-a84c-c6c081b25771",
   "metadata": {},
   "outputs": [],
   "source": [
    "def test3(*args):\n",
    "    l=[]\n",
    "    for i in args:\n",
    "        if type(i)==list:\n",
    "            l.append(i)\n",
    "    return l"
   ]
  },
  {
   "cell_type": "code",
   "execution_count": 29,
   "id": "efe91a1f-b29b-472f-96a6-41134072eec6",
   "metadata": {},
   "outputs": [
    {
     "data": {
      "text/plain": [
       "[[334, 4, 42, 4, 'varun']]"
      ]
     },
     "execution_count": 29,
     "metadata": {},
     "output_type": "execute_result"
    }
   ],
   "source": [
    "test3(1,2,[334,4,42,4,\"varun\"],{4341,6+8j,44,7.9,True,54,4,24},(94.3,43,\"Kumar\",4,424,False))"
   ]
  },
  {
   "cell_type": "code",
   "execution_count": 30,
   "id": "87df97c1-1806-4888-8e47-8d5292a72f1f",
   "metadata": {},
   "outputs": [],
   "source": [
    "#1.2\n",
    "def test4(**kwargs):\n",
    "    return kwargs"
   ]
  },
  {
   "cell_type": "code",
   "execution_count": 31,
   "id": "4643488f-e879-45d5-91c4-495bf12bf5a3",
   "metadata": {},
   "outputs": [
    {
     "data": {
      "text/plain": [
       "dict"
      ]
     },
     "execution_count": 31,
     "metadata": {},
     "output_type": "execute_result"
    }
   ],
   "source": [
    "type(test4())"
   ]
  },
  {
   "cell_type": "code",
   "execution_count": 35,
   "id": "95633df5-0e98-43ff-83fd-ef58e5d24ce4",
   "metadata": {},
   "outputs": [
    {
     "data": {
      "text/plain": [
       "{'a': 2,\n",
       " 'b': 45,\n",
       " 'c': {2, 3, 4, 34, 43},\n",
       " 'd': [242, 23, 'reddy', 83, 3, 21],\n",
       " 'e': True,\n",
       " 'f': 5,\n",
       " 'g': (5+6j),\n",
       " 'h': 54}"
      ]
     },
     "execution_count": 35,
     "metadata": {},
     "output_type": "execute_result"
    }
   ],
   "source": [
    "test4(a=2,b=45,c={34,2,43,3,4,3},d=[242,23,\"reddy\",83,3,21],e=True,f=5,g=5+6j,h=54)"
   ]
  },
  {
   "cell_type": "code",
   "execution_count": 41,
   "id": "f73c4644-80c0-42ed-9b51-d54b75750593",
   "metadata": {},
   "outputs": [],
   "source": [
    "def test5(**kwargs):\n",
    "    for i in kwargs.keys():\n",
    "        if type(kwargs[i])==list:\n",
    "             return i, kwargs[i]"
   ]
  },
  {
   "cell_type": "code",
   "execution_count": 42,
   "id": "0aef86bf-1a35-40b4-bc80-8dbe35c31c7a",
   "metadata": {},
   "outputs": [
    {
     "data": {
      "text/plain": [
       "('d', [242, 23, 'reddy', 83, 3, 21])"
      ]
     },
     "execution_count": 42,
     "metadata": {},
     "output_type": "execute_result"
    }
   ],
   "source": [
    "test5(a=2,b=45,c={34,2,43,3,4,3},d=[242,23,\"reddy\",83,3,21],e=True,f=5,g=5+6j,h=54)"
   ]
  },
  {
   "cell_type": "code",
   "execution_count": 43,
   "id": "43554b92-2191-46bc-aea4-690c4e1aad23",
   "metadata": {},
   "outputs": [],
   "source": [
    "def test6(*args,**kwargs):\n",
    "    return args, kwargs"
   ]
  },
  {
   "cell_type": "code",
   "execution_count": 49,
   "id": "637c2457-424c-44cd-acea-0fd0a547581b",
   "metadata": {},
   "outputs": [
    {
     "data": {
      "text/plain": [
       "((1, 86, 'Chess', 45, 3), {'a': 'king', 'b': 'bishop', 'c': 'knight'})"
      ]
     },
     "execution_count": 49,
     "metadata": {},
     "output_type": "execute_result"
    }
   ],
   "source": [
    "test6(1,86,\"Chess\",45,3,a=\"king\",b=\"bishop\",c=\"knight\")"
   ]
  }
 ],
 "metadata": {
  "kernelspec": {
   "display_name": "Python 3 (ipykernel)",
   "language": "python",
   "name": "python3"
  },
  "language_info": {
   "codemirror_mode": {
    "name": "ipython",
    "version": 3
   },
   "file_extension": ".py",
   "mimetype": "text/x-python",
   "name": "python",
   "nbconvert_exporter": "python",
   "pygments_lexer": "ipython3",
   "version": "3.10.8"
  }
 },
 "nbformat": 4,
 "nbformat_minor": 5
}
