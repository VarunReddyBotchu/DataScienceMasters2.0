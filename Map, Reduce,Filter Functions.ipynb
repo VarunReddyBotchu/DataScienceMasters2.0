{
 "cells": [
  {
   "cell_type": "markdown",
   "id": "c1b7100c-ed6d-4f62-954d-c5e100d0b10c",
   "metadata": {},
   "source": [
    "### Map, Reduce, Filter Functions \n",
    "1. Map\n",
    "2. Reduce\n",
    "3. Filter"
   ]
  },
  {
   "cell_type": "code",
   "execution_count": 44,
   "id": "d663dd47-9378-41c8-bd23-4214603a49fc",
   "metadata": {},
   "outputs": [],
   "source": [
    "#1\n",
    "l=[9,3,5,376,6,75,1095,40]\n",
    "def test(l):\n",
    "    l1=[]\n",
    "    for i in l:\n",
    "        l1.append(i**2)\n",
    "    return l1"
   ]
  },
  {
   "cell_type": "code",
   "execution_count": 49,
   "id": "0549c0c3-c257-4e84-be5f-85a647d4563d",
   "metadata": {},
   "outputs": [
    {
     "data": {
      "text/plain": [
       "[81, 9, 25, 141376, 36, 5625, 1199025, 1600]"
      ]
     },
     "execution_count": 49,
     "metadata": {},
     "output_type": "execute_result"
    }
   ],
   "source": [
    "test(l)"
   ]
  },
  {
   "cell_type": "code",
   "execution_count": 50,
   "id": "364fc93b-9c7c-42aa-8038-130d879ca73d",
   "metadata": {},
   "outputs": [],
   "source": [
    "def sql(x):\n",
    "    return x**3"
   ]
  },
  {
   "cell_type": "code",
   "execution_count": 51,
   "id": "e41df5d5-0453-4742-b4c8-ed855eda7b83",
   "metadata": {},
   "outputs": [
    {
     "data": {
      "text/plain": [
       "[729, 27, 125, 53157376, 216, 421875, 1312932375, 64000]"
      ]
     },
     "execution_count": 51,
     "metadata": {},
     "output_type": "execute_result"
    }
   ],
   "source": [
    "list(map(sql,l))"
   ]
  },
  {
   "cell_type": "code",
   "execution_count": 52,
   "id": "8f99c7fd-8fb7-4037-8960-6cee15eee9d2",
   "metadata": {},
   "outputs": [
    {
     "data": {
      "text/plain": [
       "[729, 27, 125, 53157376, 216, 421875, 1312932375, 64000]"
      ]
     },
     "execution_count": 52,
     "metadata": {},
     "output_type": "execute_result"
    }
   ],
   "source": [
    "list(map(lambda x:x**3,l))"
   ]
  },
  {
   "cell_type": "code",
   "execution_count": 53,
   "id": "eb44814c-8e7e-45ce-b362-67261de7b20a",
   "metadata": {},
   "outputs": [
    {
     "data": {
      "text/plain": [
       "['9', '3', '5', '376', '6', '75', '1095', '40']"
      ]
     },
     "execution_count": 53,
     "metadata": {},
     "output_type": "execute_result"
    }
   ],
   "source": [
    "list(map(lambda x:str(x),l))"
   ]
  },
  {
   "cell_type": "code",
   "execution_count": 54,
   "id": "6af5a599-3902-44f6-8e3e-81da44c88b2e",
   "metadata": {},
   "outputs": [],
   "source": [
    "l1=[6,4,3,2,2,2]\n",
    "l2=[1,23,3,5,65,4,4,3]"
   ]
  },
  {
   "cell_type": "code",
   "execution_count": 55,
   "id": "4074792a-4e54-42b1-948e-32b3ef716108",
   "metadata": {},
   "outputs": [
    {
     "data": {
      "text/plain": [
       "[7, 27, 6, 7, 67, 6]"
      ]
     },
     "execution_count": 55,
     "metadata": {},
     "output_type": "execute_result"
    }
   ],
   "source": [
    "list(map(lambda x,y:x+y,l1,l2))"
   ]
  },
  {
   "cell_type": "code",
   "execution_count": 56,
   "id": "e10e51f0-ba30-4d65-bff8-cbd5840e4428",
   "metadata": {},
   "outputs": [
    {
     "data": {
      "text/plain": [
       "[7, 27, 6, 7, 67, 6]"
      ]
     },
     "execution_count": 56,
     "metadata": {},
     "output_type": "execute_result"
    }
   ],
   "source": [
    "list(map(f,l1,l2))"
   ]
  },
  {
   "cell_type": "code",
   "execution_count": 57,
   "id": "ef4e32c1-5175-4aa4-8418-bfa584003c4f",
   "metadata": {},
   "outputs": [],
   "source": [
    "f=lambda x,y:x+y"
   ]
  },
  {
   "cell_type": "code",
   "execution_count": 58,
   "id": "28eae5aa-ceb6-4ad9-9474-7f0d96366948",
   "metadata": {},
   "outputs": [],
   "source": [
    "s=\"varun kumar\""
   ]
  },
  {
   "cell_type": "code",
   "execution_count": 59,
   "id": "25ca8be2-ee83-42dd-9fee-528565e19258",
   "metadata": {},
   "outputs": [
    {
     "data": {
      "text/plain": [
       "['V', 'A', 'R', 'U', 'N', ' ', 'K', 'U', 'M', 'A', 'R']"
      ]
     },
     "execution_count": 59,
     "metadata": {},
     "output_type": "execute_result"
    }
   ],
   "source": [
    "list(map(lambda x:x.upper(),s))"
   ]
  },
  {
   "cell_type": "code",
   "execution_count": 60,
   "id": "bcd696ca-18f8-40bf-afc0-fdcff88f152d",
   "metadata": {},
   "outputs": [],
   "source": [
    "#2 takes only functions with 2 arguments\n",
    "from functools import reduce"
   ]
  },
  {
   "cell_type": "code",
   "execution_count": 61,
   "id": "b60cbfc9-4f68-49eb-8371-30046b46d60d",
   "metadata": {},
   "outputs": [],
   "source": [
    "l=[1,2,3,4,5,45]"
   ]
  },
  {
   "cell_type": "code",
   "execution_count": 62,
   "id": "1d116430-a2db-497b-8363-6b6f34294466",
   "metadata": {},
   "outputs": [
    {
     "data": {
      "text/plain": [
       "60"
      ]
     },
     "execution_count": 62,
     "metadata": {},
     "output_type": "execute_result"
    }
   ],
   "source": [
    "reduce(lambda x,y:x+y,l)"
   ]
  },
  {
   "cell_type": "code",
   "execution_count": 63,
   "id": "bf66ebeb-d996-41a8-aee3-b66da9540cbf",
   "metadata": {},
   "outputs": [],
   "source": [
    "def add(x,y):\n",
    "    return x+y"
   ]
  },
  {
   "cell_type": "code",
   "execution_count": 64,
   "id": "54a38d50-6bbe-4d57-92d1-ce1c012118da",
   "metadata": {},
   "outputs": [
    {
     "data": {
      "text/plain": [
       "60"
      ]
     },
     "execution_count": 64,
     "metadata": {},
     "output_type": "execute_result"
    }
   ],
   "source": [
    "reduce(add,l)"
   ]
  },
  {
   "cell_type": "code",
   "execution_count": 65,
   "id": "41a5debf-ad81-4b4a-a602-4e1bb4965bb0",
   "metadata": {},
   "outputs": [
    {
     "data": {
      "text/plain": [
       "45"
      ]
     },
     "execution_count": 65,
     "metadata": {},
     "output_type": "execute_result"
    }
   ],
   "source": [
    "reduce(lambda x,y:x if x>y else y, l)"
   ]
  },
  {
   "cell_type": "code",
   "execution_count": 66,
   "id": "db822867-18c2-4288-893c-b9f644eec605",
   "metadata": {},
   "outputs": [
    {
     "data": {
      "text/plain": [
       "[1, 2, 3, 4, 5, 45]"
      ]
     },
     "execution_count": 66,
     "metadata": {},
     "output_type": "execute_result"
    }
   ],
   "source": [
    "l"
   ]
  },
  {
   "cell_type": "code",
   "execution_count": 67,
   "id": "658653d7-204b-4509-ad54-768da49d8c56",
   "metadata": {},
   "outputs": [
    {
     "data": {
      "text/plain": [
       "[2, 4]"
      ]
     },
     "execution_count": 67,
     "metadata": {},
     "output_type": "execute_result"
    }
   ],
   "source": [
    "#3\n",
    "list(filter(lambda x:x%2==0,l))"
   ]
  },
  {
   "cell_type": "code",
   "execution_count": 69,
   "id": "82bf8fa1-3b01-4e53-bd09-f84cc1c80d85",
   "metadata": {},
   "outputs": [
    {
     "data": {
      "text/plain": [
       "[1, 2, 3, 4, 5, 45]"
      ]
     },
     "execution_count": 69,
     "metadata": {},
     "output_type": "execute_result"
    }
   ],
   "source": [
    "list(filter(lambda x:x%21!=0,l))"
   ]
  },
  {
   "cell_type": "code",
   "execution_count": 70,
   "id": "0a653762-2cce-4a90-b684-92173a3e5888",
   "metadata": {},
   "outputs": [],
   "source": [
    "l1=[-1,213,-656,342-1,13-3,-32]"
   ]
  },
  {
   "cell_type": "code",
   "execution_count": 71,
   "id": "6ac5994d-f328-43eb-8d29-f46984520b81",
   "metadata": {},
   "outputs": [
    {
     "data": {
      "text/plain": [
       "[213, 341, 10]"
      ]
     },
     "execution_count": 71,
     "metadata": {},
     "output_type": "execute_result"
    }
   ],
   "source": [
    "list(filter(lambda x:x>0,l1))"
   ]
  },
  {
   "cell_type": "code",
   "execution_count": 72,
   "id": "f07427da-ea9c-4666-be50-a4515453d439",
   "metadata": {},
   "outputs": [
    {
     "data": {
      "text/plain": [
       "[-1, -656, -32]"
      ]
     },
     "execution_count": 72,
     "metadata": {},
     "output_type": "execute_result"
    }
   ],
   "source": [
    "list(filter(lambda x:x<0,l1))"
   ]
  },
  {
   "cell_type": "code",
   "execution_count": 73,
   "id": "abec88dc-ff48-4cfc-8291-bc62cf82ba4a",
   "metadata": {},
   "outputs": [],
   "source": [
    "l2=[\"pwskills\",\"varun\",\"kumar\",\"hyderabad\"]"
   ]
  },
  {
   "cell_type": "code",
   "execution_count": 74,
   "id": "2f023364-0412-4a1c-980d-11f8caff23b4",
   "metadata": {},
   "outputs": [
    {
     "data": {
      "text/plain": [
       "['varun', 'kumar']"
      ]
     },
     "execution_count": 74,
     "metadata": {},
     "output_type": "execute_result"
    }
   ],
   "source": [
    "list(filter(lambda x:len(x)<6,l2))"
   ]
  }
 ],
 "metadata": {
  "kernelspec": {
   "display_name": "Python 3 (ipykernel)",
   "language": "python",
   "name": "python3"
  },
  "language_info": {
   "codemirror_mode": {
    "name": "ipython",
    "version": 3
   },
   "file_extension": ".py",
   "mimetype": "text/x-python",
   "name": "python",
   "nbconvert_exporter": "python",
   "pygments_lexer": "ipython3",
   "version": "3.10.8"
  }
 },
 "nbformat": 4,
 "nbformat_minor": 5
}
