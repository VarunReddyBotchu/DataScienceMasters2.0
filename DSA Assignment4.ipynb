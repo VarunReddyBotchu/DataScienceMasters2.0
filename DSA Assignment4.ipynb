{
 "cells": [
  {
   "cell_type": "markdown",
   "id": "dc741ff2-a36a-4c32-86b6-13fca7480fcf",
   "metadata": {},
   "source": [
    "### DSA Assignment 4"
   ]
  },
  {
   "cell_type": "markdown",
   "id": "aa623cec-f7e9-4799-b235-bd24b3f4980b",
   "metadata": {},
   "source": [
    "##### Question 1\n",
    "###### Given three integer arrays arr1, arr2 and arr3 **sorted** in **strictly increasing** order, return a sorted array of **only** the integers that appeared in **all** three arrays.\n",
    "\n",
    "###### Example 1:\n",
    "\n",
    "###### Input: arr1 = [1,2,3,4,5], arr2 = [1,2,5,7,9], arr3 = [1,3,4,5,8]\n",
    "\n",
    "###### Output: [1,5]\n",
    "\n",
    "###### Explanation: Only 1 and 5 appeared in the three arrays.\n"
   ]
  },
  {
   "cell_type": "code",
   "execution_count": 41,
   "id": "99ea3c75-ee6b-42ea-9cb2-b3d853f36843",
   "metadata": {},
   "outputs": [],
   "source": [
    "def find_common_elements(arr1, arr2, arr3):\n",
    "    i, j, k = 0, 0, 0\n",
    "    result = []\n",
    "\n",
    "    while i < len(arr1) and j < len(arr2) and k < len(arr3):\n",
    "        if arr1[i] == arr2[j] == arr3[k]:\n",
    "            result.append(arr1[i])\n",
    "            i += 1\n",
    "            j += 1\n",
    "            k += 1\n",
    "        elif arr1[i] < arr2[j]:\n",
    "            i += 1\n",
    "        elif arr2[j] < arr3[k]:\n",
    "            j += 1\n",
    "        else:\n",
    "            k += 1\n",
    "\n",
    "    return result"
   ]
  },
  {
   "cell_type": "code",
   "execution_count": 42,
   "id": "383e0eb8-a1df-45f7-a9d7-847a08142f08",
   "metadata": {},
   "outputs": [
    {
     "name": "stdout",
     "output_type": "stream",
     "text": [
      "[1, 5]\n"
     ]
    }
   ],
   "source": [
    "print(find_common_elements([1,2,3,4,5],[1,2,5,7,9],[1,3,4,5,8]))"
   ]
  },
  {
   "cell_type": "markdown",
   "id": "c7b1fbf4-904a-4380-ad8b-2f3e7823cf76",
   "metadata": {},
   "source": [
    "##### Question 2\n",
    "\n",
    "###### Given two 0-indexed integer arrays nums1 and nums2, return a list answer of size 2 where:\n",
    "\n",
    "###### - answer[0] is a list of all distinct integers in nums1 which are not present in nums2\n",
    "###### - answer[1] is a list of all distinct integers in nums2 which are not present in nums1.\n",
    "\n",
    "###### Note that the integers in the lists may be returned in any order.\n",
    "\n",
    "###### Example 1:\n",
    "\n",
    "###### Input: nums1 = [1,2,3], nums2 = [2,4,6]\n",
    "\n",
    "###### Output: [[1,3],[4,6]]\n",
    "\n",
    "###### Explanation:\n",
    "\n",
    "###### For nums1, nums1[1] = 2 is present at index 0 of nums2, whereas nums1[0] = 1 and nums1[2] = 3 are not present in nums2. Therefore, answer[0] = [1,3].\n",
    "\n",
    "###### For nums2, nums2[0] = 2 is present at index 1 of nums1, whereas nums2[1] = 4 and nums2[2] = 6 are not present in nums2. Therefore, answer[1] = [4,6].\n"
   ]
  },
  {
   "cell_type": "code",
   "execution_count": 3,
   "id": "e33eaf96-6e28-48e9-bdb2-6d298b4ba79f",
   "metadata": {},
   "outputs": [],
   "source": [
    "def findDisjoint(nums1, nums2):\n",
    "    answer = []\n",
    "    answer.append(list(set(nums1) - set(nums2)))\n",
    "    answer.append(list(set(nums2) - set(nums1)))\n",
    "    return answer"
   ]
  },
  {
   "cell_type": "code",
   "execution_count": 4,
   "id": "f81bb8c0-4e63-4cae-8c29-7c5d1204039e",
   "metadata": {},
   "outputs": [
    {
     "name": "stdout",
     "output_type": "stream",
     "text": [
      "[[1, 3], [4, 6]]\n"
     ]
    }
   ],
   "source": [
    "print(findDisjoint([1,2,3],[2,4,6]))"
   ]
  },
  {
   "cell_type": "markdown",
   "id": "ff463991-fb70-42cf-bb61-e4784b339def",
   "metadata": {},
   "source": [
    "##### Question 3\n",
    "###### Given a 2D integer array matrix, return the transpose of matrix.\n",
    "\n",
    "###### The transpose of a matrix is the matrix flipped over its main diagonal, switching the matrix's row and column indices.\n",
    "\n",
    "###### Example 1:\n",
    "\n",
    "###### Input: matrix = [[1,2,3],[4,5,6],[7,8,9]]\n",
    "\n",
    "###### Output: [[1,4,7],[2,5,8],[3,6,9]]"
   ]
  },
  {
   "cell_type": "code",
   "execution_count": 5,
   "id": "ff214a56-fb2e-4fea-8ba0-f189253ef59a",
   "metadata": {},
   "outputs": [],
   "source": [
    "def transpose(matrix):\n",
    "    \"\"\"\n",
    "    This function takes a 2D integer array matrix as input and returns its transpose.\n",
    "    \"\"\"\n",
    "    \n",
    "    rows = len(matrix)\n",
    "    cols = len(matrix[0])\n",
    "   \n",
    "    result = [[0 for j in range(rows)] for i in range(cols)]\n",
    "    \n",
    "    \n",
    "    for i in range(rows):\n",
    "        for j in range(cols):\n",
    "            result[j][i] = matrix[i][j]\n",
    "    \n",
    "    return result"
   ]
  },
  {
   "cell_type": "code",
   "execution_count": 12,
   "id": "ba69ca3f-0efe-4872-8836-caf69a54fbd0",
   "metadata": {},
   "outputs": [
    {
     "name": "stdout",
     "output_type": "stream",
     "text": [
      "[[1, 4, 7], [2, 5, 8], [3, 6, 9]]\n"
     ]
    }
   ],
   "source": [
    "print(transpose([[1,2,3],[4,5,6],[7,8,9]]))"
   ]
  },
  {
   "cell_type": "markdown",
   "id": "195483bc-049f-40cf-b644-c2daa83d06ba",
   "metadata": {},
   "source": [
    "##### Question 4\n",
    "###### Given an integer array nums of 2n integers, group these integers into n pairs (a1, b1), (a2, b2), ..., (an, bn) such that the sum of min(ai, bi) for all i is maximized. Return the maximized sum.\n",
    "\n",
    "###### Example 1:\n",
    "\n",
    "###### Input: nums = [1,4,3,2]\n",
    "\n",
    "###### Output: 4\n",
    "\n",
    "###### Explanation: All possible pairings (ignoring the ordering of elements) are:\n",
    "\n",
    "1. (1, 4), (2, 3) -> min(1, 4) + min(2, 3) = 1 + 2 = 3\n",
    "\n",
    "2. (1, 3), (2, 4) -> min(1, 3) + min(2, 4) = 1 + 2 = 3\n",
    "\n",
    "3. (1, 2), (3, 4) -> min(1, 2) + min(3, 4) = 1 + 3 = 4\n",
    "\n",
    "###### So the maximum possible sum is 4.\n"
   ]
  },
  {
   "cell_type": "code",
   "execution_count": 13,
   "id": "5b04be5a-de6e-4bf9-b5e0-abaf7935d89b",
   "metadata": {},
   "outputs": [],
   "source": [
    "def arrayPairSum(nums):\n",
    "    nums.sort()\n",
    "    return sum(nums[::2])"
   ]
  },
  {
   "cell_type": "code",
   "execution_count": 14,
   "id": "db88e7f4-9c17-4cb6-ab0b-d9bfdbb69d85",
   "metadata": {},
   "outputs": [
    {
     "name": "stdout",
     "output_type": "stream",
     "text": [
      "4\n"
     ]
    }
   ],
   "source": [
    "print(arrayPairSum([1,4,3,2]))"
   ]
  },
  {
   "cell_type": "markdown",
   "id": "ded66195-cb36-40ce-9c50-85d33175144c",
   "metadata": {},
   "source": [
    "##### Question 5\n",
    "###### You have n coins and you want to build a staircase with these coins. The staircase consists of k rows where the ith row has exactly i coins. The last row of the staircase may be incomplete.\n",
    "\n",
    "###### Given the integer n, return the number of complete rows of the staircase you will build.\n",
    "\n",
    "###### Example 1:\n",
    "###### Input: n = 5\n",
    "###### Output: 2\n",
    "\n",
    "###### Explanation: Because the 3rd row is incomplete, we return 2."
   ]
  },
  {
   "cell_type": "code",
   "execution_count": 15,
   "id": "936aed47-b96b-4f4d-a6f1-5946cbe968dd",
   "metadata": {},
   "outputs": [],
   "source": [
    "def arrangeCoins(n: int) -> int:\n",
    "    left, right = 1, n\n",
    "    while left <= right:\n",
    "        k = (left + right) // 2\n",
    "        total = (k * (k + 1)) // 2\n",
    "        if total == n:\n",
    "            return k\n",
    "        elif total < n:\n",
    "            left = k + 1\n",
    "        else:\n",
    "            right = k - 1\n",
    "    return right"
   ]
  },
  {
   "cell_type": "code",
   "execution_count": 16,
   "id": "16ebc2e4-eb21-4409-8aee-f07e36726027",
   "metadata": {},
   "outputs": [
    {
     "name": "stdout",
     "output_type": "stream",
     "text": [
      "2\n"
     ]
    }
   ],
   "source": [
    "print(arrangeCoins(5))"
   ]
  },
  {
   "cell_type": "markdown",
   "id": "f1a776f7-da43-4ba0-ba4c-2989df5987bf",
   "metadata": {},
   "source": [
    "##### Question 6\n",
    "Given an integer array nums sorted in non-decreasing order, return an array of the squares of each number sorted in non-decreasing order.\n",
    "\n",
    "Example 1:\n",
    "\n",
    "Input: nums = [-4,-1,0,3,10]\n",
    "\n",
    "Output: [0,1,9,16,100]\n",
    "\n",
    "Explanation: After squaring, the array becomes [16,1,0,9,100].\n",
    "After sorting, it becomes [0,1,9,16,100]"
   ]
  },
  {
   "cell_type": "code",
   "execution_count": 17,
   "id": "aff54fe2-a257-4560-992e-108c624f444a",
   "metadata": {},
   "outputs": [],
   "source": [
    "def sortedSquares(nums):\n",
    "    n = len(nums)\n",
    "    result = [0] * n\n",
    "    left, right = 0, n-1\n",
    "    for i in range(n-1, -1, -1):\n",
    "        if abs(nums[left]) > abs(nums[right]):\n",
    "            result[i] = nums[left]**2\n",
    "            left += 1\n",
    "        else:\n",
    "            result[i] = nums[right]**2\n",
    "            right -= 1\n",
    "    return result"
   ]
  },
  {
   "cell_type": "code",
   "execution_count": 18,
   "id": "77608be7-45f2-4103-8c6a-ffebf32dc2fa",
   "metadata": {},
   "outputs": [
    {
     "name": "stdout",
     "output_type": "stream",
     "text": [
      "[0, 1, 9, 16, 100]\n"
     ]
    }
   ],
   "source": [
    "print(sortedSquares([-4,-1,0,3,10]))"
   ]
  },
  {
   "cell_type": "markdown",
   "id": "e592c9b8-5b33-4c7f-917a-8b7bec1ac7d2",
   "metadata": {},
   "source": [
    "##### Question 7\n",
    "You are given an m x n matrix M initialized with all 0's and an array of operations ops, where ops[i] = [ai, bi] means M[x][y] should be incremented by one for all 0 <= x < ai and 0 <= y< bi.\n",
    "\n",
    "Count and return the number of maximum integers in the matrix after performing all the operations\n",
    "\n",
    "Example 1:\n",
    "\n",
    "\n",
    "Input: m = 3, n = 3, ops = [[2,2],[3,3]]\n",
    "\n",
    "Output: 4\n",
    "\n",
    "Explanation: The maximum integer in M is 2, and there are four of it in M. So return 4.\n"
   ]
  },
  {
   "cell_type": "code",
   "execution_count": 26,
   "id": "8c04e5b5-be4f-4e88-b4a7-2cad063ec4c1",
   "metadata": {},
   "outputs": [],
   "source": [
    "def maxCount(m: int, n: int, ops: list[list[int]]) -> int:\n",
    "    for op in ops:\n",
    "        m = min(m, op[0])\n",
    "        n = min(n, op[1])\n",
    "    return m*n"
   ]
  },
  {
   "cell_type": "code",
   "execution_count": 27,
   "id": "f48eb138-521c-429e-8fdd-e1e3974aad8d",
   "metadata": {},
   "outputs": [
    {
     "name": "stdout",
     "output_type": "stream",
     "text": [
      "4\n"
     ]
    }
   ],
   "source": [
    "print(maxCount(3,3,[[2,2],[3,3]]))"
   ]
  },
  {
   "cell_type": "markdown",
   "id": "fd3aad15-b01f-4a65-a431-1d41df3de597",
   "metadata": {},
   "source": [
    "Question 8\n",
    "\n",
    "Given the array nums consisting of 2n elements in the form [x1,x2,...,xn,y1,y2,...,yn].\n",
    "\n",
    "Return the array in the form* [x1,y1,x2,y2,...,xn,yn].\n",
    "\n",
    "Example 1:\n",
    "\n",
    "Input: nums = [2,5,1,3,4,7], n = 3\n",
    "\n",
    "Output: [2,3,5,4,1,7]\n",
    "\n",
    "Explanation: Since x1=2, x2=5, x3=1, y1=3, y2=4, y3=7 then the answer is [2,3,5,4,1,7]."
   ]
  },
  {
   "cell_type": "code",
   "execution_count": 37,
   "id": "1dba4672-9ba8-4f9e-aaa3-0774914be89e",
   "metadata": {},
   "outputs": [],
   "source": [
    "class Solution:\n",
    "    def shuffle(self, nums: list[int], n: int) -> list[int]:\n",
    "        x = nums[:n]  \n",
    "        y = nums[n:]  \n",
    "        res = []     \n",
    "        for i in range(n):\n",
    "            res.append(x[i])\n",
    "            res.append(y[i])\n",
    "        return res"
   ]
  },
  {
   "cell_type": "code",
   "execution_count": 40,
   "id": "8606f69b-2d38-470d-9b9a-44e32a2a55e9",
   "metadata": {},
   "outputs": [
    {
     "name": "stdout",
     "output_type": "stream",
     "text": [
      "[1, 4, 2, 5, 3, 6]\n"
     ]
    }
   ],
   "source": [
    "arr = [1, 2, 3, 4, 5, 6]\n",
    "n = 3\n",
    "sol = Solution()\n",
    "result = sol.shuffle(arr, n)\n",
    "print(result)"
   ]
  }
 ],
 "metadata": {
  "kernelspec": {
   "display_name": "Python 3 (ipykernel)",
   "language": "python",
   "name": "python3"
  },
  "language_info": {
   "codemirror_mode": {
    "name": "ipython",
    "version": 3
   },
   "file_extension": ".py",
   "mimetype": "text/x-python",
   "name": "python",
   "nbconvert_exporter": "python",
   "pygments_lexer": "ipython3",
   "version": "3.10.8"
  }
 },
 "nbformat": 4,
 "nbformat_minor": 5
}
