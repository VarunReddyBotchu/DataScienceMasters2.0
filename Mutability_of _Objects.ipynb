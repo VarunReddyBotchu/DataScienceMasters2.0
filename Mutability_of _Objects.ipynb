{
 "cells": [
  {
   "cell_type": "markdown",
   "id": "2d615a53-855e-490c-8c7f-ad4158ea44e8",
   "metadata": {},
   "source": [
    "### Mutability of Objects Topics Covered\n",
    "1. String Indexing and Reverse Indexing\n",
    "2. List\n",
    "3. replacing values of List\n",
    "4. Immutability Concept "
   ]
  },
  {
   "cell_type": "code",
   "execution_count": 24,
   "id": "e79ff892-7e57-46a0-8805-d26c2cfddbd6",
   "metadata": {},
   "outputs": [
    {
     "data": {
      "text/plain": [
       "'m'"
      ]
     },
     "execution_count": 24,
     "metadata": {},
     "output_type": "execute_result"
    }
   ],
   "source": [
    "#1\n",
    "var1 = \"Varun Kumar\"\n",
    "var1[8]"
   ]
  },
  {
   "cell_type": "code",
   "execution_count": 25,
   "id": "efd3ce6c-226d-4d85-bca7-b2dd197f7fb8",
   "metadata": {},
   "outputs": [
    {
     "data": {
      "text/plain": [
       "'u'"
      ]
     },
     "execution_count": 25,
     "metadata": {},
     "output_type": "execute_result"
    }
   ],
   "source": [
    "#1\n",
    "var1[-8]"
   ]
  },
  {
   "cell_type": "code",
   "execution_count": 26,
   "id": "f39e6325-f80c-4e15-a317-b5fe33681927",
   "metadata": {},
   "outputs": [],
   "source": [
    "#1 & 2\n",
    "var2 = [2,4.5,\"This is List\", True, 4+2j]"
   ]
  },
  {
   "cell_type": "code",
   "execution_count": 27,
   "id": "f56eae3b-48a7-4017-a4a0-4d1a26c8a254",
   "metadata": {},
   "outputs": [
    {
     "data": {
      "text/plain": [
       "True"
      ]
     },
     "execution_count": 27,
     "metadata": {},
     "output_type": "execute_result"
    }
   ],
   "source": [
    "#2\n",
    "var2[3]"
   ]
  },
  {
   "cell_type": "code",
   "execution_count": 28,
   "id": "39a14a8d-e88e-490c-a50e-4752e8071e29",
   "metadata": {},
   "outputs": [
    {
     "data": {
      "text/plain": [
       "'This is List'"
      ]
     },
     "execution_count": 28,
     "metadata": {},
     "output_type": "execute_result"
    }
   ],
   "source": [
    "#2\n",
    "var2[-3]"
   ]
  },
  {
   "cell_type": "code",
   "execution_count": 31,
   "id": "2e4ff31e-3e74-4321-a00f-ecaab42c6475",
   "metadata": {},
   "outputs": [],
   "source": [
    "#3\n",
    "var2[3]=\"Replacing values of list\""
   ]
  },
  {
   "cell_type": "code",
   "execution_count": 33,
   "id": "553d2ec8-b25c-4517-a4a6-1cc170e7d80d",
   "metadata": {},
   "outputs": [
    {
     "data": {
      "text/plain": [
       "'Replacing values of list'"
      ]
     },
     "execution_count": 33,
     "metadata": {},
     "output_type": "execute_result"
    }
   ],
   "source": [
    "#3\n",
    "var2[3]"
   ]
  },
  {
   "cell_type": "code",
   "execution_count": 37,
   "id": "03df55d9-d432-4690-b6de-1278c4609abe",
   "metadata": {},
   "outputs": [
    {
     "data": {
      "text/plain": [
       "'Varun Kumar'"
      ]
     },
     "execution_count": 37,
     "metadata": {},
     "output_type": "execute_result"
    }
   ],
   "source": [
    "#4\n",
    "var1"
   ]
  },
  {
   "cell_type": "code",
   "execution_count": 40,
   "id": "ae307410-2e9a-46a9-b731-78a0f5722374",
   "metadata": {},
   "outputs": [
    {
     "data": {
      "text/plain": [
       "'n'"
      ]
     },
     "execution_count": 40,
     "metadata": {},
     "output_type": "execute_result"
    }
   ],
   "source": [
    "#4\n",
    "var[4]"
   ]
  },
  {
   "cell_type": "code",
   "execution_count": 41,
   "id": "81a831d6-3c4e-4c80-9882-c68135d833e4",
   "metadata": {},
   "outputs": [
    {
     "ename": "NameError",
     "evalue": "name 'r' is not defined",
     "output_type": "error",
     "traceback": [
      "\u001b[0;31m---------------------------------------------------------------------------\u001b[0m",
      "\u001b[0;31mNameError\u001b[0m                                 Traceback (most recent call last)",
      "Cell \u001b[0;32mIn[41], line 2\u001b[0m\n\u001b[1;32m      1\u001b[0m \u001b[38;5;66;03m#4\u001b[39;00m\n\u001b[0;32m----> 2\u001b[0m var1[\u001b[38;5;241m4\u001b[39m]\u001b[38;5;241m=\u001b[39m \u001b[43mr\u001b[49m\n",
      "\u001b[0;31mNameError\u001b[0m: name 'r' is not defined"
     ]
    }
   ],
   "source": [
    "#4\n",
    "var1[4]= r"
   ]
  },
  {
   "cell_type": "code",
   "execution_count": null,
   "id": "84686308-eeb7-418d-8ae1-ce5d7fd25f03",
   "metadata": {},
   "outputs": [],
   "source": []
  }
 ],
 "metadata": {
  "kernelspec": {
   "display_name": "Python 3 (ipykernel)",
   "language": "python",
   "name": "python3"
  },
  "language_info": {
   "codemirror_mode": {
    "name": "ipython",
    "version": 3
   },
   "file_extension": ".py",
   "mimetype": "text/x-python",
   "name": "python",
   "nbconvert_exporter": "python",
   "pygments_lexer": "ipython3",
   "version": "3.10.8"
  }
 },
 "nbformat": 4,
 "nbformat_minor": 5
}
