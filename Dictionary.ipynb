{
 "cells": [
  {
   "cell_type": "markdown",
   "id": "222ebdbf-c613-44bc-9376-0ecd33a5338c",
   "metadata": {},
   "source": [
    "### Dictionary\n",
    "1. Dictionary Basics, different data types in key elements and value elements\n",
    "2. Nested dictionary, adding key and values to dictionary, acccesing  values using key,accesing nested dictionary keys and key values\n",
    "3. deleting values, in-built functions\n",
    "4. Ditionary comprehension"
   ]
  },
  {
   "cell_type": "code",
   "execution_count": 5,
   "id": "0997a071-c87f-4e09-b63a-a8b1f60f40a5",
   "metadata": {},
   "outputs": [
    {
     "name": "stdout",
     "output_type": "stream",
     "text": [
      "<class 'dict'>\n",
      "<class 'dict'>\n",
      "{'name': 'Varun Kumar', 'email': 'varun@gmail.com', 'degree': 'BTech'}\n",
      "{'name': 'Aveen Kumar', 34: 3.45, (5+6j): True}\n",
      "{(1, 2, 3): 'sunny weather'}\n"
     ]
    }
   ],
   "source": [
    "#1.1,1.2\n",
    "d1={}\n",
    "print(type(d1))\n",
    "d1={\"name\":\"Varun Kumar\",\"email\":\"varun@gmail.com\",\"degree\":\"BTech\"}#stores key and values\n",
    "print(type(d1))\n",
    "print(d1)\n",
    "d2={\"name\":\"Kumar Swamy\",\"name\":\"Aveen Kumar\", 34:3.45, 5+6j:True}#any data type can be key and value can be any data type except special characters, sets, dictionary and list\n",
    "print(d2)#prents name as overwritten value\n",
    "d3={(1,2,3):\"sunny weather\"}\n",
    "print(d3)"
   ]
  },
  {
   "cell_type": "code",
   "execution_count": 6,
   "id": "101f60ca-c417-4743-9b49-13cf31c5572a",
   "metadata": {},
   "outputs": [
    {
     "ename": "SyntaxError",
     "evalue": "invalid syntax (248922785.py, line 2)",
     "output_type": "error",
     "traceback": [
      "\u001b[0;36m  Cell \u001b[0;32mIn[6], line 2\u001b[0;36m\u001b[0m\n\u001b[0;31m    d3={@:34,[4,34,4,2]:\"varun\"}#special characters are not allowed\u001b[0m\n\u001b[0m        ^\u001b[0m\n\u001b[0;31mSyntaxError\u001b[0m\u001b[0;31m:\u001b[0m invalid syntax\n"
     ]
    }
   ],
   "source": [
    "#1.2\n",
    "d3={@:34,[4,34,4,2]:\"varun\"}#special characters are not allowed\n",
    "print(d3)"
   ]
  },
  {
   "cell_type": "code",
   "execution_count": 7,
   "id": "0a173777-6e2a-41f2-8656-f85ae5fa5d75",
   "metadata": {},
   "outputs": [
    {
     "name": "stdout",
     "output_type": "stream",
     "text": [
      "{'course': ['data science', 'web dev', 'Java with dsa and system design']}\n"
     ]
    }
   ],
   "source": [
    "#1.2\n",
    "d4={\"course\":[\"data science\", \"web dev\",\"Java with dsa and system design\"]}\n",
    "print(d4)"
   ]
  },
  {
   "cell_type": "code",
   "execution_count": 8,
   "id": "18d758d5-48ad-481e-8a34-8538a19242c7",
   "metadata": {},
   "outputs": [
    {
     "ename": "SyntaxError",
     "evalue": "invalid syntax (577897142.py, line 1)",
     "output_type": "error",
     "traceback": [
      "\u001b[0;36m  Cell \u001b[0;32mIn[8], line 1\u001b[0;36m\u001b[0m\n\u001b[0;31m    d5={\"key\":@}#special characters are not allowed as values too.except it all data types can be used as values\u001b[0m\n\u001b[0m              ^\u001b[0m\n\u001b[0;31mSyntaxError\u001b[0m\u001b[0;31m:\u001b[0m invalid syntax\n"
     ]
    }
   ],
   "source": [
    "d5={\"key\":@}#special characters are not allowed as values too.except it all data types can be used as values"
   ]
  },
  {
   "cell_type": "code",
   "execution_count": 23,
   "id": "b8630a08-23d3-479e-b563-6db60f34aabd",
   "metadata": {},
   "outputs": [
    {
     "name": "stdout",
     "output_type": "stream",
     "text": [
      "{'names:': ['varun', 'kumar', 'reddy'], 'subjexts:': ('maths', 'science', 'history'), 'institutes': {'LPS': 'Loyola', 'BJC': 'Bhashyam', 'JET': 'Jain'}}\n"
     ]
    }
   ],
   "source": [
    "#2.1\n",
    "d6={\"names:\":[\"varun\",\"kumar\",\"reddy\"]  , \"subjexts:\":(\"maths\",\"science\",\"history\") ,  \"institutes\":{\"LPS\":\"Loyola\",\"BJC\":\"Bhashyam\",\"JET\":\"Jain\"}}\n",
    "print(d6)"
   ]
  },
  {
   "cell_type": "code",
   "execution_count": 24,
   "id": "5d103afd-7589-4a0f-8e9a-afa63365187b",
   "metadata": {},
   "outputs": [
    {
     "name": "stdout",
     "output_type": "stream",
     "text": [
      "{'names:': ['varun', 'kumar', 'reddy'], 'subjexts:': ('maths', 'science', 'history'), 'institutes': {'LPS': 'Loyola', 'BJC': 'Bhashyam', 'JET': 'Jain'}, 'marks': {92, 45, 76}}\n"
     ]
    }
   ],
   "source": [
    "#2.2\n",
    "d6[\"marks\"]={92,45,76}\n",
    "print(d6)\n",
    "d6[\"city\"]=\"bangalore\""
   ]
  },
  {
   "cell_type": "code",
   "execution_count": 25,
   "id": "3ff91d7c-9aed-442b-bf1c-b653eeb294eb",
   "metadata": {},
   "outputs": [
    {
     "name": "stdout",
     "output_type": "stream",
     "text": [
      "{92, 45, 76}\n",
      "<class 'set'>\n"
     ]
    }
   ],
   "source": [
    "#2.2\n",
    "print(d6[\"marks\"])\n",
    "print(type(d6[\"marks\"]))"
   ]
  },
  {
   "cell_type": "code",
   "execution_count": 26,
   "id": "b7daa7f3-95bc-4ed4-961c-1d6f4d5dad2a",
   "metadata": {},
   "outputs": [
    {
     "name": "stdout",
     "output_type": "stream",
     "text": [
      "{'names:': ['varun', 'kumar', 'reddy'], 'subjexts:': ('maths', 'science', 'history'), 'institutes': {'LPS': 'Loyola', 'BJC': 'Bhashyam', 'JET': 'Jain'}, 'marks': {92, 45, 76}, 'city': 'bangalore'}\n",
      "{'LPS': 'Loyola', 'BJC': 'Bhashyam', 'JET': 'Jain'}\n",
      "JAIN\n"
     ]
    }
   ],
   "source": [
    "#2.3 & 2.4\n",
    "print(d6)\n",
    "d6['city'].upper()#converts it to uppercase\n",
    "print(d6[\"institutes\"])\n",
    "print(d6[\"institutes\"][\"JET\"].upper())#acccesing inner key and value elements and converting it into uppercase"
   ]
  },
  {
   "cell_type": "code",
   "execution_count": 27,
   "id": "6d5ccff2-b7e0-4b2b-927c-c78f2cf60845",
   "metadata": {},
   "outputs": [
    {
     "name": "stdout",
     "output_type": "stream",
     "text": [
      "{'names:': ['varun', 'kumar', 'reddy'], 'subjexts:': ('maths', 'science', 'history'), 'institutes': {'LPS': 'Loyola', 'BJC': 'Bhashyam', 'JET': 'Jain'}, 'marks': {92, 45, 76}}\n"
     ]
    }
   ],
   "source": [
    "#3.1\n",
    "del d6['city']#deletes key and value of the key\n",
    "print(d6)"
   ]
  },
  {
   "cell_type": "code",
   "execution_count": 28,
   "id": "8b3af7d5-9f45-4a60-9598-88b9ba276854",
   "metadata": {},
   "outputs": [
    {
     "name": "stdout",
     "output_type": "stream",
     "text": [
      "{}\n",
      "{'names:': ['varun', 'kumar', 'reddy'], 'subjexts:': ('maths', 'science', 'history'), 'institutes': {'LPS': 'Loyola', 'BJC': 'Bhashyam', 'JET': 'Jain'}, 'marks': {92, 45, 76}}\n",
      "dict_keys(['names:', 'subjexts:', 'institutes', 'marks'])\n",
      "dict_values([['varun', 'kumar', 'reddy'], ('maths', 'science', 'history'), {'LPS': 'Loyola', 'BJC': 'Bhashyam', 'JET': 'Jain'}, {92, 45, 76}])\n",
      "['names:', 'subjexts:', 'institutes', 'marks']\n",
      "[['varun', 'kumar', 'reddy'], ('maths', 'science', 'history'), {'LPS': 'Loyola', 'BJC': 'Bhashyam', 'JET': 'Jain'}, {92, 45, 76}]\n",
      "[('names:', ['varun', 'kumar', 'reddy']), ('subjexts:', ('maths', 'science', 'history')), ('institutes', {'LPS': 'Loyola', 'BJC': 'Bhashyam', 'JET': 'Jain'}), ('marks', {92, 45, 76})]\n",
      "{'names:': ['varun', 'kumar', 'reddy'], 'subjexts:': ('maths', 'science', 'history'), 'institutes': {'LPS': 'Loyola', 'BJC': 'Bhashyam', 'JET': 'Jain'}, 'marks': {92, 45, 76}}\n",
      "{'names:': ['varun', 'kumar', 'reddy'], 'subjexts:': ('maths', 'science', 'history'), 'institutes': {'LPS': 'Loyola', 'BJC': 'Bhashyam', 'JET': 'Jain'}, 'marks': {92, 45, 76}}\n"
     ]
    }
   ],
   "source": [
    "#3.2\n",
    "d3.clear()#deletes all keys and values of dictionary\n",
    "print(d3)\n",
    "len(d6)#no of keyand value pairs\n",
    "print(d6)\n",
    "print(d6.keys())#prints all key \n",
    "print(d6.values())#prints all key values\n",
    "print(list(d6.keys()))#prints list of keys\n",
    "print(list(d6.values()))#prints list of values\n",
    "print(list(d6.items()))#prints both keys and values in list\n",
    "d17=d6.copy()#any changes made in d6 after this will not effect d17(using this method)\n",
    "print(d17)\n",
    "dict18=d6\n",
    "print(dict18)#any changes made in d6 will affect dict18(if we use this method)"
   ]
  },
  {
   "cell_type": "code",
   "execution_count": 29,
   "id": "41df96b8-571f-47d0-ace0-64173c034883",
   "metadata": {},
   "outputs": [
    {
     "name": "stdout",
     "output_type": "stream",
     "text": [
      "{'names:': ['varun', 'kumar', 'reddy'], 'subjexts:': ('maths', 'science', 'history'), 'institutes': {'LPS': 'Loyola', 'BJC': 'Bhashyam', 'JET': 'Jain'}, 'marks': {92, 45, 76}}\n"
     ]
    },
    {
     "data": {
      "text/plain": [
       "{45, 76, 92}"
      ]
     },
     "execution_count": 29,
     "metadata": {},
     "output_type": "execute_result"
    }
   ],
   "source": [
    "#3.2\n",
    "print(d6)\n",
    "d6.pop('marks')#in pop one argument is expected(key), its values are printed "
   ]
  },
  {
   "cell_type": "code",
   "execution_count": 36,
   "id": "c41fb12a-8cfb-4f04-8825-db9591efe6a2",
   "metadata": {},
   "outputs": [
    {
     "name": "stdout",
     "output_type": "stream",
     "text": [
      "{'names:': ['varun', 'kumar', 'reddy'], 'subjexts:': ('maths', 'science', 'history'), 'institutes': {'LPS': 'Loyola', 'BJC': 'Bhashyam', 'JET': 'Jain'}}\n"
     ]
    }
   ],
   "source": [
    "print(d6)"
   ]
  },
  {
   "cell_type": "code",
   "execution_count": 39,
   "id": "d58bf8d4-845b-4e3c-bc2b-10088fb782a7",
   "metadata": {},
   "outputs": [
    {
     "data": {
      "text/plain": [
       "{1: ('a', 'bc', 'd'), 2: ('a', 'bc', 'd'), 3: ('a', 'bc', 'd')}"
      ]
     },
     "execution_count": 39,
     "metadata": {},
     "output_type": "execute_result"
    }
   ],
   "source": [
    "#3.2\n",
    "d={}\n",
    "d.fromkeys((1,2,3),('a','b''c','d'))"
   ]
  },
  {
   "cell_type": "code",
   "execution_count": 41,
   "id": "7274ebfa-e897-4584-9996-7e573db92d56",
   "metadata": {},
   "outputs": [
    {
     "data": {
      "text/plain": [
       "({'names:': ['varun', 'kumar', 'reddy'],\n",
       "  'subjexts:': ('maths', 'science', 'history'),\n",
       "  'institutes': {'LPS': 'Loyola', 'BJC': 'Bhashyam', 'JET': 'Jain'}},\n",
       " {})"
      ]
     },
     "execution_count": 41,
     "metadata": {},
     "output_type": "execute_result"
    }
   ],
   "source": [
    "(d6,d)"
   ]
  },
  {
   "cell_type": "code",
   "execution_count": 42,
   "id": "08174fe6-745c-4414-9a44-1679e79d6321",
   "metadata": {},
   "outputs": [],
   "source": [
    "#3.2\n",
    "d.update(d6)"
   ]
  },
  {
   "cell_type": "code",
   "execution_count": 43,
   "id": "9d87d9fe-1909-4f33-abd2-5396a591ecc3",
   "metadata": {},
   "outputs": [
    {
     "name": "stdout",
     "output_type": "stream",
     "text": [
      "{'names:': ['varun', 'kumar', 'reddy'], 'subjexts:': ('maths', 'science', 'history'), 'institutes': {'LPS': 'Loyola', 'BJC': 'Bhashyam', 'JET': 'Jain'}}\n"
     ]
    }
   ],
   "source": [
    "print(d)"
   ]
  },
  {
   "cell_type": "code",
   "execution_count": 45,
   "id": "21476005-620f-4408-bc82-bdc96c0da7b3",
   "metadata": {},
   "outputs": [
    {
     "data": {
      "text/plain": [
       "['varun', 'kumar', 'reddy']"
      ]
     },
     "execution_count": 45,
     "metadata": {},
     "output_type": "execute_result"
    }
   ],
   "source": [
    "#3.2\n",
    "d.get('names:')"
   ]
  },
  {
   "cell_type": "code",
   "execution_count": 46,
   "id": "bda37f8d-ee22-467f-8757-3be1f5364138",
   "metadata": {},
   "outputs": [
    {
     "data": {
      "text/plain": [
       "['varun', 'kumar', 'reddy']"
      ]
     },
     "execution_count": 46,
     "metadata": {},
     "output_type": "execute_result"
    }
   ],
   "source": [
    "d[\"names:\"]"
   ]
  },
  {
   "cell_type": "code",
   "execution_count": 47,
   "id": "97046e0a-aee4-410b-9380-334fd9a4088e",
   "metadata": {},
   "outputs": [
    {
     "data": {
      "text/plain": [
       "{1: 1, 2: 4, 3: 9, 4: 16, 5: 25, 6: 36, 7: 49, 8: 64, 9: 81, 10: 100}"
      ]
     },
     "execution_count": 47,
     "metadata": {},
     "output_type": "execute_result"
    }
   ],
   "source": [
    "#4\n",
    "{i:i**2 for i in range(1,11)}"
   ]
  }
 ],
 "metadata": {
  "kernelspec": {
   "display_name": "Python 3 (ipykernel)",
   "language": "python",
   "name": "python3"
  },
  "language_info": {
   "codemirror_mode": {
    "name": "ipython",
    "version": 3
   },
   "file_extension": ".py",
   "mimetype": "text/x-python",
   "name": "python",
   "nbconvert_exporter": "python",
   "pygments_lexer": "ipython3",
   "version": "3.10.8"
  }
 },
 "nbformat": 4,
 "nbformat_minor": 5
}
