{
 "cells": [
  {
   "cell_type": "markdown",
   "id": "81b582ac-d7a7-4f9c-8e4b-cd6acf97bef7",
   "metadata": {},
   "source": [
    "### Exception Handling Assignment 1"
   ]
  },
  {
   "cell_type": "markdown",
   "id": "4c9de0ae-e1dd-4486-932d-ca45e7dced2b",
   "metadata": {},
   "source": [
    "##### Q1. What is an Exception in python? Write the difference between Exception and Syntax errors."
   ]
  },
  {
   "cell_type": "markdown",
   "id": "0c2e5ecf-e37b-4fe4-b3f0-e1c48f3a73c7",
   "metadata": {},
   "source": [
    "##### A) An exception is an event, which occurs during the execution of a program that disrupts the normal flow of the program's instructions.An error is an issue in a program that prevents the program from completing its task whereas an exception is a condition that interrupts the normal flow of the program. Both errors and exceptions are a type of runtime error, which means they occur during the execution of a program. "
   ]
  },
  {
   "cell_type": "markdown",
   "id": "2c7dcb5d-473a-4673-8029-f33df499e80e",
   "metadata": {},
   "source": [
    "##### Q2. What happens when an exception is not handled?Explain with an example."
   ]
  },
  {
   "cell_type": "markdown",
   "id": "cf3c71a5-7577-44b5-a8af-728937110210",
   "metadata": {},
   "source": [
    "##### A)When an exception is not handled in Python, it results in an error message known as an \"unhandled exception\" or \"traceback.\" The program execution is halted, and the error message provides information about the exception type, the line of code where the exception occurred, and the call stack."
   ]
  },
  {
   "cell_type": "code",
   "execution_count": 1,
   "id": "0ad67a31-b65f-4e84-8cd3-de69f9e5a24b",
   "metadata": {},
   "outputs": [
    {
     "ename": "ZeroDivisionError",
     "evalue": "division by zero",
     "output_type": "error",
     "traceback": [
      "\u001b[0;31m---------------------------------------------------------------------------\u001b[0m",
      "\u001b[0;31mZeroDivisionError\u001b[0m                         Traceback (most recent call last)",
      "Cell \u001b[0;32mIn[1], line 7\u001b[0m\n\u001b[1;32m      4\u001b[0m num1 \u001b[38;5;241m=\u001b[39m \u001b[38;5;241m10\u001b[39m\n\u001b[1;32m      5\u001b[0m num2 \u001b[38;5;241m=\u001b[39m \u001b[38;5;241m0\u001b[39m\n\u001b[0;32m----> 7\u001b[0m result \u001b[38;5;241m=\u001b[39m \u001b[43mdivide\u001b[49m\u001b[43m(\u001b[49m\u001b[43mnum1\u001b[49m\u001b[43m,\u001b[49m\u001b[43m \u001b[49m\u001b[43mnum2\u001b[49m\u001b[43m)\u001b[49m\n\u001b[1;32m      8\u001b[0m \u001b[38;5;28mprint\u001b[39m(result)\n",
      "Cell \u001b[0;32mIn[1], line 2\u001b[0m, in \u001b[0;36mdivide\u001b[0;34m(a, b)\u001b[0m\n\u001b[1;32m      1\u001b[0m \u001b[38;5;28;01mdef\u001b[39;00m \u001b[38;5;21mdivide\u001b[39m(a, b):\n\u001b[0;32m----> 2\u001b[0m     \u001b[38;5;28;01mreturn\u001b[39;00m \u001b[43ma\u001b[49m\u001b[43m \u001b[49m\u001b[38;5;241;43m/\u001b[39;49m\u001b[43m \u001b[49m\u001b[43mb\u001b[49m\n",
      "\u001b[0;31mZeroDivisionError\u001b[0m: division by zero"
     ]
    }
   ],
   "source": [
    "def divide(a, b):\n",
    "    return a / b\n",
    "\n",
    "num1 = 10\n",
    "num2 = 0\n",
    "\n",
    "result = divide(num1, num2)\n",
    "print(result)"
   ]
  },
  {
   "cell_type": "markdown",
   "id": "3d13a04d-73ec-499d-8950-1507ec7a3acf",
   "metadata": {},
   "source": [
    "The traceback shows that the exception occurred in the divide function on line 2. It also indicates that the error was caused by a division by zero.\n",
    "\n",
    "To handle exceptions, you can use a try-except block to catch and handle specific exceptions."
   ]
  },
  {
   "cell_type": "markdown",
   "id": "cfa8f4fa-18e0-4669-8e79-d217299dbf6a",
   "metadata": {},
   "source": [
    "##### Q3) Which python statements are used to catch and handle exceptions?Explain with an example."
   ]
  },
  {
   "cell_type": "code",
   "execution_count": 5,
   "id": "e32288b8-ebd9-4074-839f-171c31ad5e2e",
   "metadata": {},
   "outputs": [
    {
     "name": "stdout",
     "output_type": "stream",
     "text": [
      "Error: Division by zero is not allowed!\n",
      "None\n"
     ]
    }
   ],
   "source": [
    "#Try and except statements are used to catch and handle exception.\n",
    "def divide(a, b):#example\n",
    "    try:\n",
    "        return a / b\n",
    "    except ZeroDivisionError:\n",
    "        print(\"Error: Division by zero is not allowed!\")\n",
    "\n",
    "num1 = 10\n",
    "num2 = 0\n",
    "\n",
    "try:\n",
    "    result = divide(num1, num2)\n",
    "    print(result)\n",
    "except ZeroDivisionError:\n",
    "    print(\"Error: Division by zero occurred in the main code.\")"
   ]
  },
  {
   "cell_type": "markdown",
   "id": "f8ad30a0-3760-4162-8fa0-b98634583a5d",
   "metadata": {},
   "source": [
    "###### Q4)Explain with an example:\n",
    "###### a. try and else\n",
    "###### b. finally\n",
    "###### c. raise"
   ]
  },
  {
   "cell_type": "markdown",
   "id": "abb20f9a-2592-4eac-bad8-354c8247d9e8",
   "metadata": {},
   "source": [
    "##### a)Try:This block will test the excepted error to occur.\n",
    "##### else:If there is no exception then this block will be executed.\n",
    "##### b)Finally:Finally block always gets executed either exception is generated or not.\n",
    "##### c)raise:It is used to bring up the current exception in an exception handler so that it can be handled further up the call stack."
   ]
  },
  {
   "cell_type": "code",
   "execution_count": 9,
   "id": "65903145-9a92-45cb-8bea-299e418909c4",
   "metadata": {},
   "outputs": [],
   "source": [
    "def divide(x, y):\n",
    "    try:\n",
    "        result = x // y\n",
    "    except ZeroDivisionError:\n",
    "        raise ValueError(\"Sorry ! You are dividing by zero \")\n",
    "    else:\n",
    "        print(\"Yeah ! Your answer is :\", result)\n",
    "    finally: \n",
    "        print('This is always executed')  "
   ]
  },
  {
   "cell_type": "code",
   "execution_count": 10,
   "id": "0e01f7e5-eb4e-4a4c-9e27-39f96505c1f5",
   "metadata": {},
   "outputs": [
    {
     "name": "stdout",
     "output_type": "stream",
     "text": [
      "Yeah ! Your answer is : 1\n",
      "This is always executed\n"
     ]
    }
   ],
   "source": [
    "divide(3,2)"
   ]
  },
  {
   "cell_type": "code",
   "execution_count": 11,
   "id": "1addc3b6-3c92-4287-bb9b-e7b08400b184",
   "metadata": {},
   "outputs": [
    {
     "name": "stdout",
     "output_type": "stream",
     "text": [
      "This is always executed\n"
     ]
    },
    {
     "ename": "ValueError",
     "evalue": "Sorry ! You are dividing by zero ",
     "output_type": "error",
     "traceback": [
      "\u001b[0;31m---------------------------------------------------------------------------\u001b[0m",
      "\u001b[0;31mZeroDivisionError\u001b[0m                         Traceback (most recent call last)",
      "Cell \u001b[0;32mIn[9], line 3\u001b[0m, in \u001b[0;36mdivide\u001b[0;34m(x, y)\u001b[0m\n\u001b[1;32m      2\u001b[0m \u001b[38;5;28;01mtry\u001b[39;00m:\n\u001b[0;32m----> 3\u001b[0m     result \u001b[38;5;241m=\u001b[39m \u001b[43mx\u001b[49m\u001b[43m \u001b[49m\u001b[38;5;241;43m/\u001b[39;49m\u001b[38;5;241;43m/\u001b[39;49m\u001b[43m \u001b[49m\u001b[43my\u001b[49m\n\u001b[1;32m      4\u001b[0m \u001b[38;5;28;01mexcept\u001b[39;00m \u001b[38;5;167;01mZeroDivisionError\u001b[39;00m:\n",
      "\u001b[0;31mZeroDivisionError\u001b[0m: integer division or modulo by zero",
      "\nDuring handling of the above exception, another exception occurred:\n",
      "\u001b[0;31mValueError\u001b[0m                                Traceback (most recent call last)",
      "Cell \u001b[0;32mIn[11], line 1\u001b[0m\n\u001b[0;32m----> 1\u001b[0m \u001b[43mdivide\u001b[49m\u001b[43m(\u001b[49m\u001b[38;5;241;43m3\u001b[39;49m\u001b[43m,\u001b[49m\u001b[38;5;241;43m0\u001b[39;49m\u001b[43m)\u001b[49m\n",
      "Cell \u001b[0;32mIn[9], line 5\u001b[0m, in \u001b[0;36mdivide\u001b[0;34m(x, y)\u001b[0m\n\u001b[1;32m      3\u001b[0m     result \u001b[38;5;241m=\u001b[39m x \u001b[38;5;241m/\u001b[39m\u001b[38;5;241m/\u001b[39m y\n\u001b[1;32m      4\u001b[0m \u001b[38;5;28;01mexcept\u001b[39;00m \u001b[38;5;167;01mZeroDivisionError\u001b[39;00m:\n\u001b[0;32m----> 5\u001b[0m     \u001b[38;5;28;01mraise\u001b[39;00m \u001b[38;5;167;01mValueError\u001b[39;00m(\u001b[38;5;124m\"\u001b[39m\u001b[38;5;124mSorry ! You are dividing by zero \u001b[39m\u001b[38;5;124m\"\u001b[39m)\n\u001b[1;32m      6\u001b[0m \u001b[38;5;28;01melse\u001b[39;00m:\n\u001b[1;32m      7\u001b[0m     \u001b[38;5;28mprint\u001b[39m(\u001b[38;5;124m\"\u001b[39m\u001b[38;5;124mYeah ! Your answer is :\u001b[39m\u001b[38;5;124m\"\u001b[39m, result)\n",
      "\u001b[0;31mValueError\u001b[0m: Sorry ! You are dividing by zero "
     ]
    }
   ],
   "source": [
    "divide(3,0)"
   ]
  },
  {
   "cell_type": "markdown",
   "id": "d178c6c5-50e9-4665-b121-0a43c11f3e0a",
   "metadata": {},
   "source": [
    "###### Q5)What are Custom Exceptions in python?Why do we need Custom Exceptions?Explain with an example."
   ]
  },
  {
   "cell_type": "markdown",
   "id": "a76b5fc6-b149-4226-8a6b-afad377473ef",
   "metadata": {},
   "source": [
    "##### Custom or User-defined Exceptions are designed as per the requirement of the program. Using custom Exception we can have our own Exception and a meaningful message explaining the cause of the exception.\n",
    "##### Custom exceptions provide you the flexibility to add attributes and methods that are not part of a standard exception.These can store additional information, like an application-specific error code, or provide utility methods that can be used to handle or present the exception to a user.\n"
   ]
  },
  {
   "cell_type": "code",
   "execution_count": 14,
   "id": "e5638c17-8ceb-4438-9ec4-231eb1fc06e8",
   "metadata": {},
   "outputs": [
    {
     "name": "stdin",
     "output_type": "stream",
     "text": [
      "Enter a number:  12\n"
     ]
    },
    {
     "name": "stdout",
     "output_type": "stream",
     "text": [
      "Exception occurred: Invalid Age\n"
     ]
    }
   ],
   "source": [
    "class InvalidAgeException(Exception):\n",
    "    \"Raised when the input value is less than 18\"\n",
    "    pass\n",
    "\n",
    "number = 18\n",
    "\n",
    "try:\n",
    "    input_num = int(input(\"Enter a number: \"))\n",
    "    if input_num < number:\n",
    "        raise InvalidAgeException\n",
    "    else:\n",
    "        print(\"Eligible to Vote\")\n",
    "        \n",
    "except InvalidAgeException:\n",
    "    print(\"Exception occurred: Invalid Age\")"
   ]
  },
  {
   "cell_type": "markdown",
   "id": "73080d2c-54af-4b15-a484-33792135f61a",
   "metadata": {},
   "source": [
    "##### Q6) Create a custom Exception class.Use this class to handle an exception."
   ]
  },
  {
   "cell_type": "code",
   "execution_count": 18,
   "id": "3fc9502d-ca15-4fcf-9f9b-4fa5029bdd55",
   "metadata": {},
   "outputs": [
    {
     "name": "stdin",
     "output_type": "stream",
     "text": [
      "Enter salary amount:  4999\n"
     ]
    },
    {
     "ename": "SalaryNotInRangeError",
     "evalue": "Salary is not in (5000, 15000) range",
     "output_type": "error",
     "traceback": [
      "\u001b[0;31m---------------------------------------------------------------------------\u001b[0m",
      "\u001b[0;31mSalaryNotInRangeError\u001b[0m                     Traceback (most recent call last)",
      "Cell \u001b[0;32mIn[18], line 17\u001b[0m\n\u001b[1;32m     15\u001b[0m salary \u001b[38;5;241m=\u001b[39m \u001b[38;5;28mint\u001b[39m(\u001b[38;5;28minput\u001b[39m(\u001b[38;5;124m\"\u001b[39m\u001b[38;5;124mEnter salary amount: \u001b[39m\u001b[38;5;124m\"\u001b[39m))\n\u001b[1;32m     16\u001b[0m \u001b[38;5;28;01mif\u001b[39;00m \u001b[38;5;129;01mnot\u001b[39;00m \u001b[38;5;241m5000\u001b[39m \u001b[38;5;241m<\u001b[39m salary \u001b[38;5;241m<\u001b[39m \u001b[38;5;241m15000\u001b[39m:\n\u001b[0;32m---> 17\u001b[0m     \u001b[38;5;28;01mraise\u001b[39;00m SalaryNotInRangeError(salary)\n",
      "\u001b[0;31mSalaryNotInRangeError\u001b[0m: Salary is not in (5000, 15000) range"
     ]
    }
   ],
   "source": [
    "class SalaryNotInRangeError(Exception):\n",
    "    \"\"\"Exception raised for errors in the input salary.\n",
    "\n",
    "    Attributes:\n",
    "        salary -- input salary which caused the error\n",
    "        message -- explanation of the error\n",
    "    \"\"\"\n",
    "\n",
    "    def __init__(self, salary, message=\"Salary is not in (5000, 15000) range\"):\n",
    "        self.salary = salary\n",
    "        self.message = message\n",
    "        super().__init__(self.message)\n",
    "\n",
    "\n",
    "salary = int(input(\"Enter salary amount: \"))\n",
    "if not 5000 < salary < 15000:\n",
    "    raise SalaryNotInRangeError(salary)"
   ]
  }
 ],
 "metadata": {
  "kernelspec": {
   "display_name": "Python 3 (ipykernel)",
   "language": "python",
   "name": "python3"
  },
  "language_info": {
   "codemirror_mode": {
    "name": "ipython",
    "version": 3
   },
   "file_extension": ".py",
   "mimetype": "text/x-python",
   "name": "python",
   "nbconvert_exporter": "python",
   "pygments_lexer": "ipython3",
   "version": "3.10.8"
  }
 },
 "nbformat": 4,
 "nbformat_minor": 5
}
