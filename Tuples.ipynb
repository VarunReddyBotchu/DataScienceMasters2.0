{
 "cells": [
  {
   "cell_type": "markdown",
   "id": "62d078b4-8d19-4f90-a32c-1afa11b3f6a4",
   "metadata": {},
   "source": [
    "### Tuples\n",
    "1. Basics\n",
    "2. in-built functions\n",
    "3. Tuples iteration, tuple concatination, tuple multiplication, max of tuple, min of tuple\n",
    "4. combination of tuples, lists in tuples and tuples in list\n",
    "5. del tuple, length of tuple, present in tuple or not"
   ]
  },
  {
   "cell_type": "code",
   "execution_count": 15,
   "id": "2f40f42c-c2eb-44bb-9488-59203b54783d",
   "metadata": {},
   "outputs": [
    {
     "name": "stdout",
     "output_type": "stream",
     "text": [
      "<class 'tuple'>\n",
      "91\n",
      "(True, (4+7j), 'varun', 5.67, 5, 5, 4, 3, 2, 91)\n",
      "(True, (4+7j), 'varun')\n"
     ]
    }
   ],
   "source": [
    "#1 tuple is immutable\n",
    "tupl1=()\n",
    "print(type(tupl1))\n",
    "tupl1=(91,2,3,4,5,5,5.67,\"varun\",4+7j,True)#tuple is closed with ()\n",
    "print(tupl1[0])\n",
    "print(tupl1[::-1])\n",
    "print(tupl1[-1:-4:-1])"
   ]
  },
  {
   "cell_type": "code",
   "execution_count": 21,
   "id": "2544b5c2-fc59-4e40-85d6-f89276a7599b",
   "metadata": {},
   "outputs": [
    {
     "name": "stdout",
     "output_type": "stream",
     "text": [
      "1\n",
      "4\n",
      "(True, 'kumar', (6+7j), 3.45, 2, 1)\n",
      "0\n",
      "2\n"
     ]
    }
   ],
   "source": [
    "#2\n",
    "print(tupl1.count(2))#counts the no. of times the value is present in tuple\n",
    "print(tupl1.index(5))#returns the index of value's first occurence in tuple\n",
    "tupl2=(1,2,3.45,6+7j, \"kumar\", True)\n",
    "tupl3=(tupl2[::-1])\n",
    "print(tupl3)\n",
    "print(tupl3.index(1))#even the value of True is considered 1 so it returns 0 even if value of 1 is in index 5\n",
    "print(tupl3.count(True))#the value of True is 1, 1 is present 2 times according to tuples\n"
   ]
  },
  {
   "cell_type": "code",
   "execution_count": 29,
   "id": "4f55aba6-d678-4c8f-b26c-3ed0ddec1f80",
   "metadata": {},
   "outputs": [
    {
     "name": "stdout",
     "output_type": "stream",
     "text": [
      "True <class 'bool'> kumar <class 'str'> (6+7j) <class 'complex'> 3.45 <class 'float'> 2 <class 'int'> 1 <class 'int'> "
     ]
    }
   ],
   "source": [
    "#3.1\n",
    "for i in tupl3:\n",
    "    print(i,type(i),end=\" \")"
   ]
  },
  {
   "cell_type": "code",
   "execution_count": 41,
   "id": "68c9f3b8-e905-419b-8cfe-90f1af77c60e",
   "metadata": {},
   "outputs": [
    {
     "name": "stdout",
     "output_type": "stream",
     "text": [
      "(1, 2, 3, 4, 5, 6, 7, 8, 9, 10, 67, 35, 234, 464, 23, 77, 322, 9.45)\n",
      "(1, 2, 3, 4, 5, 6, 7, 8, 9, 10, 1, 2, 3, 4, 5, 6, 7, 8, 9, 10, 1, 2, 3, 4, 5, 6, 7, 8, 9, 10)\n",
      "10\n",
      "1\n"
     ]
    }
   ],
   "source": [
    "#3.2,3.3,3.4 & 3.5\n",
    "tpl4=(1,2,3,4,5,6,7,8,9,10)\n",
    "tpl5=(67,35,234,464,23,77,322,9.45)\n",
    "print(tpl4 + tpl5)#tuple concatination\n",
    "print(tpl4 * 3)#tuple mutliplication\n",
    "print(max(tpl4))#max of tuple\n",
    "print(min(tpl4))#min of tuple"
   ]
  },
  {
   "cell_type": "code",
   "execution_count": 45,
   "id": "66475683-f5c8-4546-b744-40f2177c9922",
   "metadata": {},
   "outputs": [
    {
     "name": "stdout",
     "output_type": "stream",
     "text": [
      "((1, 2, 3, 4, 5, 6, (9+10j)), (6, 7, 8, 9, 'varun'))\n"
     ]
    }
   ],
   "source": [
    "#4.1\n",
    "tpl1=(1,2,3,4,5,6,9+10j)\n",
    "tpl2=(6,7,8,9,\"varun\")\n",
    "tpl3=(tpl1,tpl2)\n",
    "print(tpl3)"
   ]
  },
  {
   "cell_type": "code",
   "execution_count": 49,
   "id": "057b3879-a9b3-47af-9a16-b5105bda3f4b",
   "metadata": {},
   "outputs": [
    {
     "name": "stdout",
     "output_type": "stream",
     "text": [
      "(((1, 2, 3, 4, 5, 6, (9+10j)), (6, 7, 8, 9, 'varun')), [3, 45, 67, 323, 56, 24, 5, 67, 75343])\n",
      "[(((1, 2, 3, 4, 5, 6, (9+10j)), (6, 7, 8, 9, 'varun')), [3, 45, 67, 323, 56, 24, 5, 67, 75343]), [3, 57, 53, 552, 4, 56, 456354, 5]]\n"
     ]
    }
   ],
   "source": [
    "#4.2\n",
    "tpl4=(tpl3,[3,45,67,323,56,24,5,67,75343])\n",
    "print(tpl4)\n",
    "lst1=[3,57,53,552,4,56,456354,5]\n",
    "lst5=[tpl4,lst1]\n",
    "print(lst5)"
   ]
  },
  {
   "cell_type": "code",
   "execution_count": 50,
   "id": "d484148e-9d71-4c1a-baa6-abc305671a78",
   "metadata": {},
   "outputs": [],
   "source": [
    "#5.1\n",
    "tuple1=(3,3453.435435,242425,42,4,25,352,424,2)\n",
    "del tuple1"
   ]
  },
  {
   "cell_type": "code",
   "execution_count": 51,
   "id": "bc26b349-a657-4874-b4d5-50f012c0fd61",
   "metadata": {},
   "outputs": [
    {
     "ename": "NameError",
     "evalue": "name 'tuple11' is not defined",
     "output_type": "error",
     "traceback": [
      "\u001b[0;31m---------------------------------------------------------------------------\u001b[0m",
      "\u001b[0;31mNameError\u001b[0m                                 Traceback (most recent call last)",
      "Cell \u001b[0;32mIn[51], line 1\u001b[0m\n\u001b[0;32m----> 1\u001b[0m \u001b[43mtuple11\u001b[49m\n",
      "\u001b[0;31mNameError\u001b[0m: name 'tuple11' is not defined"
     ]
    }
   ],
   "source": [
    "tuple11"
   ]
  },
  {
   "cell_type": "code",
   "execution_count": 53,
   "id": "2fc3ecbe-9878-47bd-9df9-0a7258943eb0",
   "metadata": {},
   "outputs": [
    {
     "data": {
      "text/plain": [
       "7"
      ]
     },
     "execution_count": 53,
     "metadata": {},
     "output_type": "execute_result"
    }
   ],
   "source": [
    "#5.2\n",
    "len(tpl1)"
   ]
  },
  {
   "cell_type": "code",
   "execution_count": 55,
   "id": "b7abeea0-f082-4c67-8ae4-1928bb2bec94",
   "metadata": {},
   "outputs": [
    {
     "name": "stdout",
     "output_type": "stream",
     "text": [
      "True\n",
      "True\n"
     ]
    }
   ],
   "source": [
    "#5.3\n",
    "tpl1=(1,2,3,4,5,6,9+10j)\n",
    "print(1 in tpl1)\n",
    "print(9+10j in tpl1)"
   ]
  },
  {
   "cell_type": "code",
   "execution_count": null,
   "id": "d55e027b-65b1-42ef-a489-fb458ae9521c",
   "metadata": {},
   "outputs": [],
   "source": []
  }
 ],
 "metadata": {
  "kernelspec": {
   "display_name": "Python 3 (ipykernel)",
   "language": "python",
   "name": "python3"
  },
  "language_info": {
   "codemirror_mode": {
    "name": "ipython",
    "version": 3
   },
   "file_extension": ".py",
   "mimetype": "text/x-python",
   "name": "python",
   "nbconvert_exporter": "python",
   "pygments_lexer": "ipython3",
   "version": "3.10.8"
  }
 },
 "nbformat": 4,
 "nbformat_minor": 5
}
