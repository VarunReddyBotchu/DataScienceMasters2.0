{
 "cells": [
  {
   "cell_type": "markdown",
   "id": "e52acc55-c3d7-4faa-a094-cfbf74023d60",
   "metadata": {},
   "source": [
    "### Strings & List\n",
    "1. Capitalize, Reversing a string\n",
    "2. Removing charater from end of string(strip), lstrip, rstrip\n",
    "3. Replace, expand  tabs\n",
    "4. isupper, islower, isspace\n",
    "5. endswith, startswith, isalnum\n",
    "6. Basics of list\n",
    "7. Concatination Operation, multinested list, iterating through list, checking for elements in a list.\n",
    "8. max, min,pop, reverse, sort, append and extend\n",
    "9. Nested list, list comprehension"
   ]
  },
  {
   "cell_type": "code",
   "execution_count": 2,
   "id": "fb453298-92ff-4dab-ac6b-d41f0e63ddb0",
   "metadata": {},
   "outputs": [
    {
     "data": {
      "text/plain": [
       "'Data science masters'"
      ]
     },
     "execution_count": 2,
     "metadata": {},
     "output_type": "execute_result"
    }
   ],
   "source": [
    "#1.1 \n",
    "var1=\"Data Science Masters\"\n",
    "var1.capitalize()# It capitalizes the first word of the string \n"
   ]
  },
  {
   "cell_type": "code",
   "execution_count": 16,
   "id": "47b93ec7-e491-4393-80cd-9b0a8cbe1f99",
   "metadata": {},
   "outputs": [
    {
     "name": "stdout",
     "output_type": "stream",
     "text": [
      "sretsaM ecneicS ataD\n",
      "sretsaM ecneicS ataD\n",
      "s$r$e$t$s$a$M$ $e$c$n$e$i$c$S$ $a$t$a$D\n",
      "['s', 'r', 'e', 't', 's', 'a', 'M', ' ', 'e', 'c', 'n', 'e', 'i', 'c', 'S', ' ', 'a', 't', 'a', 'D']\n",
      "sretsaM ecneicS ataD"
     ]
    }
   ],
   "source": [
    "#1.2\n",
    "print(var1[::-1])#method 1\n",
    "print(''.join(reversed(var1)))#iteration method using join and reversed\n",
    "print('$'.join(reversed(var1)))\n",
    "print(list(reversed(var1)))#using list and reversed(type casting)\n",
    "for i in list(reversed(var1)):#Using for loop\n",
    "    print(i,end=\"\")"
   ]
  },
  {
   "cell_type": "code",
   "execution_count": 34,
   "id": "f24aef47-272b-4b05-aa86-ae0b9ebaeeb7",
   "metadata": {},
   "outputs": [
    {
     "name": "stdout",
     "output_type": "stream",
     "text": [
      "Varun Kum\n",
      "Varun Kuma\n",
      "run Kumar\n",
      "Varun \n"
     ]
    }
   ],
   "source": [
    "#2.1,2.2 & 2.3\n",
    "var2=\"Varun Kumar\"\n",
    "print(var2.strip(\"ar\"))#used to remove only last character or characters (depends on the arguments) from the string\n",
    "print(var2.strip(\"r\"))\n",
    "print(var2.lstrip(\"Va\"))#used to remove the left most character or characters(depends on the arguments) from the string\n",
    "print(var2.rstrip(\"Kumar\"))#used to remove the right most character or characters(depends on the arguments) from the string"
   ]
  },
  {
   "cell_type": "code",
   "execution_count": null,
   "id": "cf229c0f-d996-42bc-b272-344fc4a62aed",
   "metadata": {},
   "outputs": [
    {
     "name": "stdout",
     "output_type": "stream",
     "text": [
      "Greetings from Pwskills\n",
      "139929702610016\n",
      "Greetings to Pwskills\n",
      "139929702611296\n"
     ]
    }
   ],
   "source": [
    "#3.1\n",
    "var3=\"Greetings from Pwskills\"\n",
    "print(var3)\n",
    "print(id(var3))\n",
    "str1=var3.replace(\"from\",\"to\")#creates a new string replacing arguments(string is immutable) check the id for clarity\n",
    "print(str1)\n",
    "print(id(str1))"
   ]
  },
  {
   "cell_type": "code",
   "execution_count": 9,
   "id": "61d70493-48f1-4352-ad8b-7120c4c846f1",
   "metadata": {},
   "outputs": [
    {
     "name": "stdout",
     "output_type": "stream",
     "text": [
      "Welcome to pwskills.Welcome to Data Science Masters\n"
     ]
    }
   ],
   "source": [
    "#3.1 practice\n",
    "str1=\"Welcome to pwskills.Welcome to Dat cience Masters\"\n",
    "str2=str1.replace(\"Dat\",\"Data\").replace(\"cience\",\"Science\")#we can perform two replace operations in one statement\n",
    "print(str2)"
   ]
  },
  {
   "cell_type": "code",
   "execution_count": 5,
   "id": "0c1f56d6-37e7-4c5f-8607-c57812694f5a",
   "metadata": {},
   "outputs": [
    {
     "data": {
      "text/plain": [
       "'Hello   world'"
      ]
     },
     "execution_count": 5,
     "metadata": {},
     "output_type": "execute_result"
    }
   ],
   "source": [
    "#3.2\n",
    "\"Hello \\tworld\".expandtabs()#gives a tab  space whereever it is present"
   ]
  },
  {
   "cell_type": "code",
   "execution_count": 15,
   "id": "d333a72a-60e0-476a-b584-ee4f7990cf22",
   "metadata": {},
   "outputs": [
    {
     "name": "stdout",
     "output_type": "stream",
     "text": [
      "False\n",
      "False\n",
      "False\n",
      "True\n"
     ]
    }
   ],
   "source": [
    "#4.1, 4.2 & 4.3\n",
    "print(str1.isupper())#checks if it is upper\n",
    "print(str1.islower())#checks if it is lower\n",
    "print(str1.isspace())#checks if string is empty or not\n",
    "print(\" \".isspace())#checks if the character is space or not"
   ]
  },
  {
   "cell_type": "code",
   "execution_count": 22,
   "id": "05a04f2e-bbc0-4d53-9da9-8d669e4026c1",
   "metadata": {},
   "outputs": [
    {
     "name": "stdout",
     "output_type": "stream",
     "text": [
      "False\n",
      "False\n",
      "False\n"
     ]
    }
   ],
   "source": [
    "#5.1,5.2\n",
    "print(str1.endswith(\"S\"))#checks if it endswith the argument given\n",
    "print(str1.startswith(\"P\"))#checks if it starts with the argument given\n",
    "print(str1.isalnum())#checks if the string is all numbers"
   ]
  },
  {
   "cell_type": "code",
   "execution_count": 42,
   "id": "ec48be02-1436-4643-84b6-de32f60ef855",
   "metadata": {},
   "outputs": [
    {
     "name": "stdout",
     "output_type": "stream",
     "text": [
      "11\n",
      "11\n"
     ]
    }
   ],
   "source": [
    "#practics\n",
    "str2=\"go go go go\"\n",
    "count=0\n",
    "for i in str2:\n",
    "    count=count+1\n",
    "print(count)\n",
    "print(len(str2))"
   ]
  },
  {
   "cell_type": "code",
   "execution_count": 32,
   "id": "7918d0d8-1cd8-4142-b074-13a49ed9b6c5",
   "metadata": {},
   "outputs": [
    {
     "name": "stdout",
     "output_type": "stream",
     "text": [
      "p w s k i l l s "
     ]
    }
   ],
   "source": [
    "#practice\n",
    "str3=\"pwskills\"\n",
    "for i in str3:\n",
    "    print(i, end=\" \")"
   ]
  },
  {
   "cell_type": "code",
   "execution_count": 35,
   "id": "7a24442d-6764-48fe-ae3a-79c9612c886f",
   "metadata": {},
   "outputs": [
    {
     "name": "stdout",
     "output_type": "stream",
     "text": [
      "0 = p\n",
      "1 = w\n",
      "2 = s\n",
      "3 = k\n",
      "4 = i\n",
      "5 = l\n",
      "6 = l\n",
      "7 = s\n"
     ]
    }
   ],
   "source": [
    "#practice\n",
    "for i in range(len(str3)):\n",
    "    print(i,\"=\",str3[i])"
   ]
  },
  {
   "cell_type": "code",
   "execution_count": 40,
   "id": "49e75497-dcb3-44e7-8f39-af387fef6195",
   "metadata": {},
   "outputs": [
    {
     "name": "stdout",
     "output_type": "stream",
     "text": [
      "s l l i k s w p "
     ]
    }
   ],
   "source": [
    "#practice\n",
    "for i in range(len(str3)-1,-1,-1):#reversing a string\n",
    "    print(str3[i], end=\" \")"
   ]
  },
  {
   "cell_type": "code",
   "execution_count": 54,
   "id": "8b1bcdba-5634-4562-9f72-223b781c96a0",
   "metadata": {},
   "outputs": [
    {
     "name": "stdout",
     "output_type": "stream",
     "text": [
      "p is not a vowel\n",
      "w is not a vowel\n",
      "s is not a vowel\n",
      "k is not a vowel\n",
      "i is a vowel\n",
      "l is not a vowel\n",
      "l is not a vowel\n",
      "s is not a vowel\n"
     ]
    }
   ],
   "source": [
    "#practice\n",
    "name=\"pwskills\"\n",
    "vowels=\"AaEeIiOoUu\"\n",
    "for i in name:\n",
    "    if i in vowels:\n",
    "        print(\"{} is a vowel\".format(i))\n",
    "    else:\n",
    "        print(\"{} is not a vowel\".format(i))"
   ]
  },
  {
   "cell_type": "code",
   "execution_count": 69,
   "id": "bfdef07e-4177-4357-ab5b-548dfa6d3ce8",
   "metadata": {},
   "outputs": [
    {
     "name": "stdout",
     "output_type": "stream",
     "text": [
      "<class 'list'>\n",
      "['V', 'a', 'r', 'u', 'n', ' ', 'K', 'u', 'm', 'a', 'r']\n",
      "['Varun', 'Kumar']\n",
      "['Varun', 'Kumar']\n",
      "skills\n",
      "['pw', 'skills', 'data', 'Science', 'masters']\n",
      "Science\n",
      "['masters', 'data', 'pw']\n",
      "['pw']\n"
     ]
    }
   ],
   "source": [
    "#6\n",
    "print(type([]))#reutrns data type of the argument\n",
    "lst1=[\"pw\", \"skills\", \"data\", \"science\", \"masters\"]\n",
    "strg1=\"Varun Kumar\"\n",
    "print(list(strg1))#prints string characters as list\n",
    "print(list(strg1.split(\" \")))#same as below\n",
    "print(strg1.split(\" \"))#retun type of split function of string is list\n",
    "print(lst1[1])\n",
    "lst1[3]=\"Science\"\n",
    "print(lst1)\n",
    "print(lst1[-2])\n",
    "print(lst1[::-2])\n",
    "print(lst1[-5::-2])"
   ]
  },
  {
   "cell_type": "code",
   "execution_count": 82,
   "id": "74220988-686b-461f-bdf4-ab5b63556a98",
   "metadata": {},
   "outputs": [
    {
     "name": "stdout",
     "output_type": "stream",
     "text": [
      "['pw', 'skills', 'data', 'Science', 'masters', 'element', 3]\n",
      "['pw', 'skills', 'data', 'Science', 'masters', ['element', 3]]\n",
      "3\n",
      "['pw', 'skills', 'data', 'Science', 'masters', 'pw', 'skills', 'data', 'Science', 'masters']\n",
      "Science is present in the list\n",
      "Science is present\n",
      "True\n"
     ]
    }
   ],
   "source": [
    "#7.1, 7.2,7.3 & 7.4\n",
    "print(lst1 + [\"element\", 3])\n",
    "lst2= lst1 + [[\"element\",3]]#Multinested list\n",
    "print(lst2)\n",
    "print(lst2[-1][1])#to get to multinested list values\n",
    "print(lst1 * 2)#prints list 2 times\n",
    "if \"Science\" in lst1:\n",
    "    print(\"Science is present in the list\")\n",
    "for elements in lst1:\n",
    "    if elements==\"Science\":\n",
    "        print(\"Science is present\")\n",
    "        break\n",
    "lst3=[1,2,3,4,5,67,21]\n",
    "print(4 in lst3)# to chekc an element is present in a list or not "
   ]
  },
  {
   "cell_type": "code",
   "execution_count": 105,
   "id": "4e638e41-921c-4304-9356-66d081c5ced8",
   "metadata": {},
   "outputs": [
    {
     "name": "stdout",
     "output_type": "stream",
     "text": [
      "Zebra\n",
      "9012\n",
      "Donkey\n",
      "1\n",
      "Donkey\n",
      "['Zebra', 'Monkey', 'Lion']\n",
      "['u', 't', 's', 'f', 'r', 'e', 'q']\n",
      "['u', 't', 's', 'f', 'r', 'e', 'q']\n",
      "['e', 'f', 'q', 'r', 's', 't', 'u']\n",
      "['u', 't', 's', 'r', 'q', 'f', 'e']\n",
      "['u', 't', 's', 'r', 'q', 'f', 'e', 'v']\n",
      "['u', 't', 's', 'r', 'q', 'f', 'e', 'v', 'k', 'a']\n"
     ]
    }
   ],
   "source": [
    "#8.1, 8.2, 8.3,8.4, 8.5 & 8.6\n",
    "lst1=[\"Zebra\", \"Monkey\", \"Donkey\",  \"Lion\"]\n",
    "lst2=[1,34,56,757,22,9012]\n",
    "print(max(lst1))#maximum ascii elements of the list\n",
    "print(max(lst2))\n",
    "print(min(lst1))#minimum ascii elements of the list\n",
    "print(min(lst2))\n",
    "print(lst1.pop(2))#will pop of the argument given or will pop of the last element\n",
    "print(lst1)\n",
    "new_list=[\"q\",\"e\", \"r\", \"f\", \"s\", \"t\", \"u\"]\n",
    "print(new_list[::-1])#prints the list elements in reverse order\n",
    "new_list.reverse()#reverses the list elements\n",
    "print(new_list)\n",
    "new_list.sort()#sorting the  elements in list  \n",
    "print(new_list)\n",
    "new_list.sort(reverse=True)#sorts elements in reverse order\n",
    "print(new_list)\n",
    "new_list.append(\"v\")#adds an element in last index\n",
    "print(new_list)\n",
    "new_list.extend([\"k\",\"a\"])#adds elements in last indexes\n",
    "print(new_list)"
   ]
  },
  {
   "cell_type": "code",
   "execution_count": 114,
   "id": "aa7314bc-32de-4c70-9c24-7c802b4af6a0",
   "metadata": {},
   "outputs": [
    {
     "name": "stdout",
     "output_type": "stream",
     "text": [
      "[[1, 2, 3], [4, 5, 6], [7, 8, 9]]\n",
      "6\n",
      "[8, 9]\n"
     ]
    }
   ],
   "source": [
    "#9.1\n",
    "lst1=[1,2,3]\n",
    "lst2=[4,5,6]\n",
    "lst3=[7,8,9]\n",
    "matrix = [lst1, lst2, lst3]\n",
    "print(matrix)\n",
    "print(matrix[1][2])\n",
    "print(matrix[2][1:])"
   ]
  },
  {
   "cell_type": "code",
   "execution_count": 8,
   "id": "02ff2191-b25c-461f-a6b6-b0ae6eb3accc",
   "metadata": {},
   "outputs": [
    {
     "name": "stdout",
     "output_type": "stream",
     "text": [
      "[0, 2, 4, 6, 8, 10, 12, 14, 16, 18]\n",
      "['Even', 1, 'Even', 3, 'Even', 5, 'Even', 7, 'Even', 9, 'Even', 11, 'Even', 13, 'Even', 15, 'Even', 17, 'Even', 19]\n",
      "[0, 'odd', 2, 'odd', 4, 'odd', 6, 'odd', 8, 'odd', 10, 'odd', 12, 'odd', 14, 'odd', 16, 'odd', 18, 'odd']\n"
     ]
    }
   ],
   "source": [
    "#9.2\n",
    "print([i for i in range(0,20,2)])\n",
    "print([i if i%2!=0 else \"Even\" for i in range(20)])\n",
    "print([i if i%2==0 else \"odd\" for i in range(20)])"
   ]
  },
  {
   "cell_type": "code",
   "execution_count": 10,
   "id": "03bf2343-2279-4c59-9db6-0f78dc3f628d",
   "metadata": {},
   "outputs": [
    {
     "name": "stdout",
     "output_type": "stream",
     "text": [
      "20\n",
      "16\n"
     ]
    }
   ],
   "source": [
    "#9.2 Assignment\n",
    "lst=[1,2,3,4,5,6,7,8]\n",
    "even=0\n",
    "odd=0\n",
    "for i in lst:\n",
    "    if i%2==0:\n",
    "        even+=i\n",
    "    else:\n",
    "        odd+=i\n",
    "print(even)\n",
    "print(odd)"
   ]
  },
  {
   "cell_type": "code",
   "execution_count": 13,
   "id": "cfedaa5b-b041-4749-9860-03a4e338b8ab",
   "metadata": {},
   "outputs": [
    {
     "name": "stdout",
     "output_type": "stream",
     "text": [
      "20\n",
      "16\n"
     ]
    }
   ],
   "source": [
    "#9.2 assignment alternative\n",
    "even=sum([num for num in lst if num%2==0])\n",
    "print(even)\n",
    "odd=sum([num for num in lst if num%2!=0])\n",
    "print(odd)"
   ]
  },
  {
   "cell_type": "code",
   "execution_count": 16,
   "id": "e998e16f-6558-437b-9ad8-a96d45a48a23",
   "metadata": {},
   "outputs": [
    {
     "name": "stdout",
     "output_type": "stream",
     "text": [
      "[1, 4, 9, 16, 25, 36, 49, 64]\n",
      "[1, 2, 3, 4, 5, 6, 7, 8]\n"
     ]
    }
   ],
   "source": [
    "#9.2 examples\n",
    "print([num**2 for num in lst])\n",
    "print([num for num in lst if num>0])"
   ]
  },
  {
   "cell_type": "code",
   "execution_count": 17,
   "id": "c1a330ea-c75c-4031-ba13-8feae0898e9c",
   "metadata": {},
   "outputs": [
    {
     "name": "stdout",
     "output_type": "stream",
     "text": [
      "['a', 'b', 'c', 'd']\n"
     ]
    }
   ],
   "source": [
    "#9.2 example\n",
    "words=[\"apple\", \"banana\", \"cherry\", \"date\"]\n",
    "print([word[0] for word in words])"
   ]
  },
  {
   "cell_type": "code",
   "execution_count": 21,
   "id": "a58a4a06-bfa2-49cc-acc1-834f5a4d2856",
   "metadata": {},
   "outputs": [
    {
     "name": "stdout",
     "output_type": "stream",
     "text": [
      "[32.0, 50.0, 68.0, 86.0, 104.0, 122.0]\n"
     ]
    }
   ],
   "source": [
    "#9.2 example\n",
    "celsius_temp=[0,10,20,30,40,50]\n",
    "print([(9/5)*temp+32 for temp in celsius_temp])"
   ]
  },
  {
   "cell_type": "code",
   "execution_count": 24,
   "id": "44069176-1b5c-4a60-8b6a-868f4428e878",
   "metadata": {},
   "outputs": [
    {
     "name": "stdout",
     "output_type": "stream",
     "text": [
      "[1, 2, 3, 4, 5, 6, 7, 8, 9]\n"
     ]
    }
   ],
   "source": [
    "#9.2 example\n",
    "list=[[1,2,3],[4,5,6],[7,8,9]]\n",
    "print([num for sublist in list for num in sublist])"
   ]
  }
 ],
 "metadata": {
  "kernelspec": {
   "display_name": "Python 3 (ipykernel)",
   "language": "python",
   "name": "python3"
  },
  "language_info": {
   "codemirror_mode": {
    "name": "ipython",
    "version": 3
   },
   "file_extension": ".py",
   "mimetype": "text/x-python",
   "name": "python",
   "nbconvert_exporter": "python",
   "pygments_lexer": "ipython3",
   "version": "3.10.8"
  }
 },
 "nbformat": 4,
 "nbformat_minor": 5
}
