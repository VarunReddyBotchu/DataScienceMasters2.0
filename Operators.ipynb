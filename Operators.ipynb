{
 "cells": [
  {
   "cell_type": "markdown",
   "id": "9ba51eb3-0057-49c9-bde5-b14a52d18369",
   "metadata": {},
   "source": [
    "### Operators topics Covered\n",
    "1. Arithmetic Operators\n",
    "2. Comparision Operator\n",
    "3. Logical Operator\n",
    "4. Bitwise Operator & Bin function\n",
    "5. Assignment Operator"
   ]
  },
  {
   "cell_type": "code",
   "execution_count": 1,
   "id": "23fb46eb-5219-4354-8cf8-061c5cedc3e3",
   "metadata": {},
   "outputs": [],
   "source": [
    "#1\n",
    "v1 = 10\n",
    "v2 = 22\n",
    "v3 = 45"
   ]
  },
  {
   "cell_type": "code",
   "execution_count": 10,
   "id": "82cc548e-d72a-4b09-b1b4-9027e0931148",
   "metadata": {},
   "outputs": [
    {
     "name": "stdout",
     "output_type": "stream",
     "text": [
      "55\n",
      "-12\n",
      "990\n",
      "4.5\n",
      "22\n",
      "26559922791424\n",
      "4\n"
     ]
    }
   ],
   "source": [
    "#1\n",
    "print(v1+v3)#Addition operator\n",
    "print(v1-v2)#Subtraction operator\n",
    "print(v2*v3)#Multiplication operator\n",
    "print(v3/v1)#division operator\n",
    "print(v2%v3)#Modulus or remainder operator\n",
    "print(v2**v1)#power operator\n",
    "print(v3//v1)#Division Floor Operator"
   ]
  },
  {
   "cell_type": "code",
   "execution_count": 13,
   "id": "a7e3ff83-8e86-4ad7-9ce9-b66d1a80bfee",
   "metadata": {},
   "outputs": [
    {
     "name": "stdout",
     "output_type": "stream",
     "text": [
      "True\n",
      "True\n",
      "False\n",
      "True\n",
      "False\n",
      "False\n"
     ]
    }
   ],
   "source": [
    "#2\n",
    "print(v1<v2)#Greater than Operator\n",
    "print(v3>v2)#Less than Operator\n",
    "print(v2==v3)#Equal to Operator\n",
    "print(v2!=v3)#Not equal to Operator\n",
    "print(v3<=v2)#Greater than or Equal Operator\n",
    "print(v1>=v3)#Less than or Equal Operator"
   ]
  },
  {
   "cell_type": "code",
   "execution_count": 14,
   "id": "f0105f13-cdfa-4c93-9f63-d3d13119af17",
   "metadata": {},
   "outputs": [
    {
     "name": "stdout",
     "output_type": "stream",
     "text": [
      "True\n",
      "False\n",
      "False\n",
      "False\n"
     ]
    }
   ],
   "source": [
    "#3\n",
    "print(True and True)\n",
    "print(True and False)\n",
    "print(False and True)\n",
    "print(False and False)"
   ]
  },
  {
   "cell_type": "code",
   "execution_count": 15,
   "id": "40f614e4-d6e1-488b-8a82-94acea06384e",
   "metadata": {},
   "outputs": [
    {
     "name": "stdout",
     "output_type": "stream",
     "text": [
      "True\n",
      "True\n",
      "True\n",
      "False\n"
     ]
    }
   ],
   "source": [
    "#3\n",
    "print(True or True)\n",
    "print(True or False)\n",
    "print(False or True)\n",
    "print(False or False)"
   ]
  },
  {
   "cell_type": "code",
   "execution_count": 18,
   "id": "ad964035-17f5-4027-8545-55698f7ef087",
   "metadata": {},
   "outputs": [
    {
     "name": "stdout",
     "output_type": "stream",
     "text": [
      "False\n",
      "True\n"
     ]
    }
   ],
   "source": [
    "#3\n",
    "print(not True)\n",
    "print(not False)"
   ]
  },
  {
   "cell_type": "code",
   "execution_count": 45,
   "id": "a3a76691-5a9b-4d5c-bdfc-c80f0f9f943b",
   "metadata": {},
   "outputs": [
    {
     "data": {
      "text/plain": [
       "2"
      ]
     },
     "execution_count": 45,
     "metadata": {},
     "output_type": "execute_result"
    }
   ],
   "source": [
    "#4\n",
    "10 & 23#and"
   ]
  },
  {
   "cell_type": "code",
   "execution_count": 46,
   "id": "d6bd5f6c-ed1e-46f9-ad0a-35c34594a13b",
   "metadata": {},
   "outputs": [
    {
     "name": "stdout",
     "output_type": "stream",
     "text": [
      "0b1010\n",
      "0b10111\n"
     ]
    }
   ],
   "source": [
    "#4.2\n",
    "print(bin(10))\n",
    "print(bin(23))"
   ]
  },
  {
   "cell_type": "code",
   "execution_count": 22,
   "id": "b1b60d24-50f0-403b-ab18-766ee628bbaa",
   "metadata": {},
   "outputs": [
    {
     "data": {
      "text/plain": [
       "10"
      ]
     },
     "execution_count": 22,
     "metadata": {},
     "output_type": "execute_result"
    }
   ],
   "source": [
    "#4\n",
    "10 & 78#and"
   ]
  },
  {
   "cell_type": "code",
   "execution_count": 34,
   "id": "788f7e54-a6a6-4383-af97-40dd4e224466",
   "metadata": {},
   "outputs": [
    {
     "data": {
      "text/plain": [
       "42"
      ]
     },
     "execution_count": 34,
     "metadata": {},
     "output_type": "execute_result"
    }
   ],
   "source": [
    "#4\n",
    "10 | 34#or"
   ]
  },
  {
   "cell_type": "code",
   "execution_count": 36,
   "id": "f869720a-594b-4aac-aff4-b4f6ba2ec285",
   "metadata": {},
   "outputs": [
    {
     "data": {
      "text/plain": [
       "-2"
      ]
     },
     "execution_count": 36,
     "metadata": {},
     "output_type": "execute_result"
    }
   ],
   "source": [
    "#4\n",
    "~1#negotion"
   ]
  },
  {
   "cell_type": "code",
   "execution_count": 37,
   "id": "1aea6c0e-699d-45c6-8e05-e25a699a0688",
   "metadata": {},
   "outputs": [
    {
     "data": {
      "text/plain": [
       "6"
      ]
     },
     "execution_count": 37,
     "metadata": {},
     "output_type": "execute_result"
    }
   ],
   "source": [
    "#4\n",
    "~-7#negotion"
   ]
  },
  {
   "cell_type": "code",
   "execution_count": 41,
   "id": "6f0898f9-7dac-461a-a87b-e57b56eb8d67",
   "metadata": {},
   "outputs": [
    {
     "data": {
      "text/plain": [
       "8"
      ]
     },
     "execution_count": 41,
     "metadata": {},
     "output_type": "execute_result"
    }
   ],
   "source": [
    "#4\n",
    "33>>2#right shift operator"
   ]
  },
  {
   "cell_type": "code",
   "execution_count": 42,
   "id": "c6789332-f2aa-442b-8a89-e42cccee5031",
   "metadata": {},
   "outputs": [
    {
     "data": {
      "text/plain": [
       "132"
      ]
     },
     "execution_count": 42,
     "metadata": {},
     "output_type": "execute_result"
    }
   ],
   "source": [
    "#4\n",
    "33<<2#left shift operator"
   ]
  },
  {
   "cell_type": "code",
   "execution_count": 65,
   "id": "cb2dd886-e8e8-4f45-aefb-81a12d5d9ff5",
   "metadata": {},
   "outputs": [
    {
     "name": "stdout",
     "output_type": "stream",
     "text": [
      "30\n",
      "42\n",
      "8.0\n",
      "96\n",
      "0\n",
      "4\n",
      "18\n",
      "18\n"
     ]
    }
   ],
   "source": [
    "#5\n",
    "a=28\n",
    "b=45\n",
    "c=32\n",
    "d=48\n",
    "e=100\n",
    "f = 2\n",
    "g = 56\n",
    "h = 9\n",
    "a += 2\n",
    "b -= 3\n",
    "c /= 4\n",
    "d *= 2\n",
    "e %= 25\n",
    "f **= 2\n",
    "g //= 3\n",
    "h <<= 1\n",
    "print(a)\n",
    "print(b)\n",
    "print(c)\n",
    "print(d)\n",
    "print(e)\n",
    "print(f)\n",
    "print(g)\n",
    "print(h)"
   ]
  }
 ],
 "metadata": {
  "kernelspec": {
   "display_name": "Python 3 (ipykernel)",
   "language": "python",
   "name": "python3"
  },
  "language_info": {
   "codemirror_mode": {
    "name": "ipython",
    "version": 3
   },
   "file_extension": ".py",
   "mimetype": "text/x-python",
   "name": "python",
   "nbconvert_exporter": "python",
   "pygments_lexer": "ipython3",
   "version": "3.10.8"
  }
 },
 "nbformat": 4,
 "nbformat_minor": 5
}
