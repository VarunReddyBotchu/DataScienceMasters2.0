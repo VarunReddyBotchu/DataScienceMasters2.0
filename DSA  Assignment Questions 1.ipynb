{
 "cells": [
  {
   "cell_type": "markdown",
   "id": "2a1a0ebf-3136-4653-9da8-065c952539e7",
   "metadata": {},
   "source": [
    "### DSA Day ! Assignment"
   ]
  },
  {
   "cell_type": "markdown",
   "id": "66bf79d3-3f8a-48cd-ae43-a01834dfa61e",
   "metadata": {},
   "source": [
    "\n",
    "#####  Q1. Given an array of integers nums and an integer target, return indices of the two numbers such that they add up to target.\n",
    "\n",
    "##### You may assume that each input would have exactly one solution, and you may not use the same element twice.\n",
    "\n",
    "##### You can return the answer in any order.\n",
    "\n",
    "##### Example:\n",
    "##### Input: nums = [2,7,11,15], target = 9\n",
    "##### Output0 [0,1]\n",
    "\n",
    "##### Explanation: Because nums[0] + nums[1] == 9, we return [0, 1]\n"
   ]
  },
  {
   "cell_type": "code",
   "execution_count": 41,
   "id": "276de24e-06f7-40ee-a5f7-4da64671d5a7",
   "metadata": {},
   "outputs": [],
   "source": [
    "def find_indices(nums, target):\n",
    "    indices_dict = {}\n",
    "    for i, num in enumerate(nums):\n",
    "        complement = target - num\n",
    "        if complement in indices_dict:\n",
    "            return [indices_dict[complement], i]\n",
    "        indices_dict[num] = i\n",
    "    return None"
   ]
  },
  {
   "cell_type": "code",
   "execution_count": 49,
   "id": "0b5a1945-0a2c-4b73-b7bc-c8a01f0ed42b",
   "metadata": {},
   "outputs": [],
   "source": [
    "ques1 = find_indices([1,2,3,4,5,6,9,8,7],11)"
   ]
  },
  {
   "cell_type": "code",
   "execution_count": 50,
   "id": "535ba8d2-30c8-4c73-a926-37b4613237e5",
   "metadata": {},
   "outputs": [
    {
     "data": {
      "text/plain": [
       "[4, 5]"
      ]
     },
     "execution_count": 50,
     "metadata": {},
     "output_type": "execute_result"
    }
   ],
   "source": [
    "ques1"
   ]
  },
  {
   "cell_type": "markdown",
   "id": "8037ce73-d836-45cf-89dd-a48fea5b0918",
   "metadata": {},
   "source": [
    "##### Given an integer array nums and an integer val, remove all occurrences of val in nums in-place. The order of the elements may be changed. Then return the number of elements in nums which are not equal to val.\n",
    "\n",
    "##### Consider the number of elements in nums which are not equal to val be k, to get accepted, you need to do the following things:\n",
    "\n",
    "##### - Change the array nums such that the first k elements of nums contain the elements which are not equal to val. The remaining elements of nums are not important as well as the size of nums.\n",
    "##### - Return k.\n",
    "\n",
    "##### Example :\n",
    "##### Input: nums = [3,2,2,3], val = 3\n",
    "##### Output: 2, nums = [2,2,_*,_*]\n",
    "\n",
    "##### Explanation: Your function should return k = 2, with the first two elements of nums being 2. It does not matter what you leave beyond the returned k (hence they are underscores)\n",
    "\n"
   ]
  },
  {
   "cell_type": "code",
   "execution_count": 58,
   "id": "242466b5-3aef-4a06-a0fb-6716a0b4fcd1",
   "metadata": {},
   "outputs": [],
   "source": [
    "def removeElement(nums, val):\n",
    "    k = 0\n",
    "    for i in range(len(nums)):\n",
    "        if nums[i] != val:\n",
    "            nums[k] = nums[i]\n",
    "            k += 1\n",
    "    return k"
   ]
  },
  {
   "cell_type": "code",
   "execution_count": 59,
   "id": "fef5d5d9-de88-4069-9b9f-6596b8b4738c",
   "metadata": {},
   "outputs": [],
   "source": [
    "ques2 = removeElement([1,2,3,4,5,6,7,8,9],9)"
   ]
  },
  {
   "cell_type": "code",
   "execution_count": 60,
   "id": "305b21fe-07e7-41b2-b5ed-5c381c6e2797",
   "metadata": {},
   "outputs": [
    {
     "data": {
      "text/plain": [
       "8"
      ]
     },
     "execution_count": 60,
     "metadata": {},
     "output_type": "execute_result"
    }
   ],
   "source": [
    "ques2"
   ]
  },
  {
   "cell_type": "markdown",
   "id": "86d4bdd1-9de4-4fe1-847b-4bb355019f3c",
   "metadata": {},
   "source": [
    "\n",
    "##### Q3. Given a sorted array of distinct integers and a target value, return the index if the target is found. If not, return the index where it would be if it were inserted in order.\n",
    "\n",
    "##### You must write an algorithm with O(log n) runtime complexity.\n",
    "\n",
    "##### Example 1:\n",
    "##### Input: nums = [1,3,5,6], target = 5\n",
    "\n",
    "##### Output: 2\n"
   ]
  },
  {
   "cell_type": "code",
   "execution_count": 61,
   "id": "088134f1-2769-470c-aa13-d9e7b38b844c",
   "metadata": {},
   "outputs": [],
   "source": [
    "def searchInsert(nums, target):\n",
    "    left = 0\n",
    "    right = len(nums) - 1\n",
    "\n",
    "    while left <= right:\n",
    "        mid = (left + right) // 2\n",
    "        if nums[mid] == target:\n",
    "            return mid\n",
    "        elif nums[mid] < target:\n",
    "            left = mid + 1\n",
    "        else:\n",
    "            right = mid - 1\n",
    "\n",
    "    return left"
   ]
  },
  {
   "cell_type": "code",
   "execution_count": 70,
   "id": "cd6fc659-1628-4851-be37-bee45e30df17",
   "metadata": {},
   "outputs": [],
   "source": [
    "ques3 = searchInsert([1,3,5,7,8,11,13,14],6)"
   ]
  },
  {
   "cell_type": "code",
   "execution_count": 71,
   "id": "dc78bf70-ea32-43e0-a396-66b23602d9f0",
   "metadata": {},
   "outputs": [
    {
     "data": {
      "text/plain": [
       "3"
      ]
     },
     "execution_count": 71,
     "metadata": {},
     "output_type": "execute_result"
    }
   ],
   "source": [
    "ques3"
   ]
  },
  {
   "cell_type": "markdown",
   "id": "e2d5fe59-3d4c-45f0-b763-4b8aa89e396d",
   "metadata": {},
   "source": [
    "##### Q4. You are given a large integer represented as an integer array digits, where each digits[i] is the ith digit of the integer. The digits are ordered from most significant to least significant in left-to-right order. The large integer does not contain any leading 0's.\n",
    "\n",
    "##### Increment the large integer by one and return the resulting array of digits.\n",
    "\n",
    "##### Example 1:\n",
    "##### Input: digits = [1,2,3]\n",
    "##### Output: [1,2,4]\n",
    "\n",
    "##### Explanation: The array represents the integer 123.\n",
    "\n",
    "##### Incrementing by one gives 123 + 1 = 124.\n",
    "##### Thus, the result should be [1,2,4]."
   ]
  },
  {
   "cell_type": "code",
   "execution_count": 72,
   "id": "ef18f722-86e6-40d7-9df3-43479b67f679",
   "metadata": {},
   "outputs": [],
   "source": [
    "def plusOne(digits):\n",
    "    n = len(digits)\n",
    "    for i in range(n-1, -1, -1):\n",
    "        if digits[i] < 9:\n",
    "            digits[i] += 1\n",
    "            return digits\n",
    "        digits[i] = 0\n",
    "    return [1] + [0] * n"
   ]
  },
  {
   "cell_type": "code",
   "execution_count": 83,
   "id": "6dcf4648-5bf2-4db6-87bf-933e74b9f0ec",
   "metadata": {},
   "outputs": [],
   "source": [
    "ques4 = plusOne([2,3,6])"
   ]
  },
  {
   "cell_type": "code",
   "execution_count": 84,
   "id": "b5f8b5e1-0788-494d-b148-9052a4b2a410",
   "metadata": {},
   "outputs": [
    {
     "data": {
      "text/plain": [
       "[2, 3, 7]"
      ]
     },
     "execution_count": 84,
     "metadata": {},
     "output_type": "execute_result"
    }
   ],
   "source": [
    "ques4"
   ]
  },
  {
   "cell_type": "markdown",
   "id": "27e9928c-5941-4b83-aba0-f54b4961575b",
   "metadata": {},
   "source": [
    "##### Q5. You are given two integer arrays nums1 and nums2, sorted in non-decreasing order, and two integers m and n, representing the number of elements in nums1 and nums2 respectively.\n",
    "\n",
    "##### Merge nums1 and nums2 into a single array sorted in non-decreasing order.\n",
    "\n",
    "##### The final sorted array should not be returned by the function, but instead be stored inside the array nums1. To accommodate this, nums1 has a length of m + n, where the first m elements denote the elements that should be merged, and the last n elements are set to 0 and should be ignored. nums2 has a length of n.\n",
    "\n",
    "##### Example 1:\n",
    "##### Input: nums1 = [1,2,3,0,0,0], m = 3, nums2 = [2,5,6], n = 3\n",
    "##### Output: [1,2,2,3,5,6]\n",
    "\n",
    "##### Explanation: The arrays we are merging are [1,2,3] and [2,5,6].\n",
    "##### The result of the merge is [1,2,2,3,5,6] with the underlined elements coming from nums1."
   ]
  },
  {
   "cell_type": "code",
   "execution_count": 85,
   "id": "ae0bb0d5-9f3c-4e18-864b-768bcc57877b",
   "metadata": {},
   "outputs": [],
   "source": [
    "def merge(nums1, m, nums2, n):\n",
    "    i = m - 1\n",
    "    j = n - 1\n",
    "    k = m + n - 1\n",
    "    \n",
    "    while i >= 0 and j >= 0:\n",
    "        if nums1[i] > nums2[j]:\n",
    "            nums1[k] = nums1[i]\n",
    "            i -= 1\n",
    "        else:\n",
    "            nums1[k] = nums2[j]\n",
    "            j -= 1\n",
    "        k -= 1\n",
    "    \n",
    "    while j >= 0:\n",
    "        nums1[k] = nums2[j]\n",
    "        j -= 1\n",
    "        k -= 1"
   ]
  },
  {
   "cell_type": "code",
   "execution_count": 133,
   "id": "fbe7ed34-9104-4d03-91f8-420b91261a2a",
   "metadata": {},
   "outputs": [],
   "source": [
    "ques5 = merge([1,2,3,0,0,0],3,[2,5,6],3)"
   ]
  },
  {
   "cell_type": "code",
   "execution_count": 136,
   "id": "3b640333-6a6f-4d69-b88d-46e9cf9881b9",
   "metadata": {},
   "outputs": [
    {
     "data": {
      "text/plain": [
       "[1, 2, 2, 3, 5, 6]"
      ]
     },
     "execution_count": 136,
     "metadata": {},
     "output_type": "execute_result"
    }
   ],
   "source": [
    "nums1"
   ]
  },
  {
   "cell_type": "markdown",
   "id": "651d720f-588f-40a2-a149-a388789fa1a0",
   "metadata": {},
   "source": [
    "##### Q6. Given an integer array nums, return true if any value appears at least twice in the array, and return false if every element is distinct.\n",
    "\n",
    "##### Example 1:\n",
    "##### Input: nums = [1,2,3,1]\n",
    "\n",
    "##### Output: true"
   ]
  },
  {
   "cell_type": "code",
   "execution_count": 156,
   "id": "0e51186f-6077-4d6e-afbb-0160103a5393",
   "metadata": {},
   "outputs": [],
   "source": [
    "def containsDuplicate(nums):\n",
    "    unique_set = set()\n",
    "    for num in nums:\n",
    "        if num in unique_set:\n",
    "            return True\n",
    "        else:\n",
    "            unique_set.add(num)\n",
    "    return False"
   ]
  },
  {
   "cell_type": "code",
   "execution_count": 157,
   "id": "ff79584f-769b-4f6d-8627-6bdfce18058c",
   "metadata": {},
   "outputs": [],
   "source": [
    "nums = [1, 2, 3, 1]"
   ]
  },
  {
   "cell_type": "code",
   "execution_count": 158,
   "id": "0f4d9d28-f883-4f49-bc52-75e10c5abe9f",
   "metadata": {},
   "outputs": [
    {
     "name": "stdout",
     "output_type": "stream",
     "text": [
      "True\n"
     ]
    }
   ],
   "source": [
    "print(containsDuplicate(nums)) "
   ]
  },
  {
   "cell_type": "markdown",
   "id": "ba7ad85f-46f3-4896-8d1f-80f642542c05",
   "metadata": {},
   "source": [
    "##### Q7. Given an integer array nums, move all 0's to the end of it while maintaining the relative order of the nonzero elements.\n",
    "\n",
    "##### Note that you must do this in-place without making a copy of the array.\n",
    "##### Example 1:\n",
    "##### Input: nums = [0,1,0,3,12]\n",
    "##### Output: [1,3,12,0,0]"
   ]
  },
  {
   "cell_type": "code",
   "execution_count": 146,
   "id": "79f3b52c-7eec-4725-be8d-e30ade0845ec",
   "metadata": {},
   "outputs": [],
   "source": [
    "def moveZeroes(nums):\n",
    "\n",
    "    last_non_zero_pos = 0\n",
    "    for i in range(len(nums)):\n",
    "        if nums[i] != 0: \n",
    "            nums[last_non_zero_pos], nums[i] = nums[i], nums[last_non_zero_pos]\n",
    "            last_non_zero_pos += 1\n",
    "    for i in range(last_non_zero_pos, len(nums)):\n",
    "        nums[i] = 0"
   ]
  },
  {
   "cell_type": "code",
   "execution_count": 150,
   "id": "7f5d3607-8055-4755-8a00-1208716fed13",
   "metadata": {},
   "outputs": [],
   "source": [
    "def move_zeros(nums):\n",
    "    zero_count = 0"
   ]
  },
  {
   "cell_type": "code",
   "execution_count": 151,
   "id": "adc93116-d714-4a32-a50c-e29a3908994b",
   "metadata": {},
   "outputs": [],
   "source": [
    "nums = [0,1,0,3,12]"
   ]
  },
  {
   "cell_type": "code",
   "execution_count": 152,
   "id": "26e6fdf9-e426-4926-a0fc-6e02680f0223",
   "metadata": {},
   "outputs": [
    {
     "name": "stdout",
     "output_type": "stream",
     "text": [
      "[1, 3, 12, 0, 0]\n"
     ]
    }
   ],
   "source": [
    "moveZeroes(nums)\n",
    "print(nums)"
   ]
  },
  {
   "cell_type": "markdown",
   "id": "44b84ba6-75e4-4373-b684-e88607a047f4",
   "metadata": {},
   "source": [
    "##### Q8. You have a set of integers s, which originally contains all the numbers from 1 to n. Unfortunately, due to some error, one of the numbers in s got duplicated to another number in the set, which results in repetition of one number and loss of another number.\n",
    "\n",
    "##### You are given an integer array nums representing the data status of this set after the error.\n",
    "\n",
    "##### Find the number that occurs twice and the number that is missing and return them in the form of an array.\n",
    "\n",
    "##### Example 1:\n",
    "##### Input: nums = [1,2,2,4]\n",
    "##### Output: [2,3]"
   ]
  },
  {
   "cell_type": "code",
   "execution_count": 153,
   "id": "66af3b4e-f3f7-482f-8861-829810aa89aa",
   "metadata": {},
   "outputs": [],
   "source": [
    "def findErrorNums(nums):\n",
    "    n = len(nums)\n",
    "    freq = {}\n",
    "    missing = duplicated = -1\n",
    "    for num in nums:\n",
    "        freq[num] = freq.get(num, 0) + 1\n",
    "    for i in range(1, n+1):\n",
    "        if i not in freq:\n",
    "            missing = i\n",
    "        elif freq[i] == 2:\n",
    "            duplicated = i\n",
    "    return [duplicated, missing]"
   ]
  },
  {
   "cell_type": "code",
   "execution_count": 154,
   "id": "23e745ac-a41f-4c35-a92c-bad40fa3a8fa",
   "metadata": {},
   "outputs": [],
   "source": [
    "nums = [1, 2, 2, 4]"
   ]
  },
  {
   "cell_type": "code",
   "execution_count": 155,
   "id": "7728abbc-d5b0-49fa-b7aa-98c5a1eb0dbe",
   "metadata": {},
   "outputs": [
    {
     "name": "stdout",
     "output_type": "stream",
     "text": [
      "[2, 3]\n"
     ]
    }
   ],
   "source": [
    "print(findErrorNums(nums)) "
   ]
  }
 ],
 "metadata": {
  "kernelspec": {
   "display_name": "Python 3 (ipykernel)",
   "language": "python",
   "name": "python3"
  },
  "language_info": {
   "codemirror_mode": {
    "name": "ipython",
    "version": 3
   },
   "file_extension": ".py",
   "mimetype": "text/x-python",
   "name": "python",
   "nbconvert_exporter": "python",
   "pygments_lexer": "ipython3",
   "version": "3.10.8"
  }
 },
 "nbformat": 4,
 "nbformat_minor": 5
}
