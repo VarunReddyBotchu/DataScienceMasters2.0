{
 "cells": [
  {
   "cell_type": "markdown",
   "id": "99547482-c12e-40ce-ad4f-c83c71750d78",
   "metadata": {},
   "source": [
    "### Functions Assignment"
   ]
  },
  {
   "cell_type": "markdown",
   "id": "283be502-26c8-4f5f-943e-9acdb508548b",
   "metadata": {},
   "source": [
    "##### Q1. Which keyword is used to create a function? Create a function to return a list of odd numbers in the range of 1 to 25."
   ]
  },
  {
   "cell_type": "code",
   "execution_count": 14,
   "id": "354f345d-bbda-4f28-86da-ee78e5c5493f",
   "metadata": {},
   "outputs": [],
   "source": [
    "#def is the keyword used to create a function.\n",
    "def oddnum(*args):\n",
    "    l=[]\n",
    "    for i in range(1,25):\n",
    "        if i%2!=0:\n",
    "            l.append(i)\n",
    "    return l"
   ]
  },
  {
   "cell_type": "code",
   "execution_count": 15,
   "id": "b17748bf-2962-4852-83a0-ab0269bd47c9",
   "metadata": {},
   "outputs": [
    {
     "data": {
      "text/plain": [
       "[1, 3, 5, 7, 9, 11, 13, 15, 17, 19, 21, 23]"
      ]
     },
     "execution_count": 15,
     "metadata": {},
     "output_type": "execute_result"
    }
   ],
   "source": [
    "oddnum()"
   ]
  },
  {
   "cell_type": "markdown",
   "id": "1c95dab0-3141-483f-a355-d2fa960843a5",
   "metadata": {},
   "source": [
    "##### Q2. Why *args and **kwargs is used in some functions? Create a function each for *args and **kwargs to demonstrate their use."
   ]
  },
  {
   "cell_type": "code",
   "execution_count": 23,
   "id": "c668e18a-9039-44ec-af51-c491178eba38",
   "metadata": {},
   "outputs": [],
   "source": [
    "\"\"\"*args is used to pass a variable number of non-keyword arguments to a Python function, **kwargs is used to pass a variable number of keyword arguments to a Python functions.\n",
    "Or in simple words, they are used when we dont know how many arguments you will pass to the function\"\"\"\n",
    "def test1(*args):#Here is a function to print list of integer arguments given by the user\n",
    "    l=[]\n",
    "    for i in args:\n",
    "        if type(i)==int:\n",
    "            l.append(i)\n",
    "    return l\n"
   ]
  },
  {
   "cell_type": "code",
   "execution_count": 26,
   "id": "bebdb293-e6f3-4d0a-a3c1-171a4cd28e3b",
   "metadata": {},
   "outputs": [
    {
     "data": {
      "text/plain": [
       "[2, 4, 32, 2, 0]"
      ]
     },
     "execution_count": 26,
     "metadata": {},
     "output_type": "execute_result"
    }
   ],
   "source": [
    "test1(2,3.0,4,\"varun\",32,2,True,int(False))"
   ]
  },
  {
   "cell_type": "code",
   "execution_count": 38,
   "id": "2e42fad8-61cb-4326-b222-4e5a2f684695",
   "metadata": {},
   "outputs": [],
   "source": [
    "def test2(**kwargs):#Here is a function to print keyword and value of tuple argument from all arguments given by the user\n",
    "    for i in kwargs.keys():\n",
    "        if type(kwargs[i])==tuple:\n",
    "             return i, kwargs[i]"
   ]
  },
  {
   "cell_type": "code",
   "execution_count": 39,
   "id": "52a7202d-c5be-456b-a708-da40805977f8",
   "metadata": {},
   "outputs": [
    {
     "data": {
      "text/plain": [
       "('name', ('Varun', 'Ajay', 'Meghana', 'Akash'))"
      ]
     },
     "execution_count": 39,
     "metadata": {},
     "output_type": "execute_result"
    }
   ],
   "source": [
    "test2(name=(\"Varun\",\"Ajay\",\"Meghana\",\"Akash\"),city=[\"Bangalore\",\"Hyderabad\",\"California\",\"New Delhi\"],marks={98,34,23,4})"
   ]
  },
  {
   "cell_type": "markdown",
   "id": "0c63e8dd-a039-43ab-b87c-452027464877",
   "metadata": {},
   "source": [
    "##### Q3. What is an iterator in python? Name the method used to initialise the iterator object and the method used for iteration. Use these methods to print the first five elements of the given list \n",
    "[2, 4, 6, 8, 10, 12, 14, 16,18, 20]."
   ]
  },
  {
   "cell_type": "code",
   "execution_count": 44,
   "id": "09131a70-4467-4400-8657-453860f360f2",
   "metadata": {},
   "outputs": [
    {
     "name": "stdout",
     "output_type": "stream",
     "text": [
      "2\n",
      "4\n",
      "6\n",
      "8\n",
      "10\n"
     ]
    }
   ],
   "source": [
    "#In Python, an iterator is an object that allows you to traverse through a collection of data, such as a list.\n",
    "#The iter() method is used to initialize an iterator object, and the next() method is used for iteration.\n",
    "lst3 = [2, 4, 6, 8, 10, 12, 14, 16, 18, 20]\n",
    "elements = iter(lst3)\n",
    "for i in range(5):\n",
    "    print(next(elements))"
   ]
  },
  {
   "cell_type": "markdown",
   "id": "08c48269-eb6f-4c2e-bdd4-4c4ebe771654",
   "metadata": {},
   "source": [
    "##### Q4. What is a generator function in python? Why yield keyword is used? Give an example of a generator function."
   ]
  },
  {
   "cell_type": "code",
   "execution_count": 8,
   "id": "1b23aba1-d2d2-40bf-82b6-a45b4b2485fd",
   "metadata": {},
   "outputs": [],
   "source": [
    "#In Python, a generator function is a special type of function that returns an iterator object.\n",
    "#It is defined like a normal function, but instead of using the return keyword, it uses the yield keyword to return data. \n",
    "#The yield keyword is used to pause the function and save its state, allowing it to resume from where it left off the next time it is called.\n",
    "#This makes generators very memory efficient, as they only generate values on the fly as they are needed.\n",
    "def multiple_5(n):\n",
    "    if n%5==0:\n",
    "        yield n"
   ]
  },
  {
   "cell_type": "code",
   "execution_count": 10,
   "id": "f85058f7-7a3c-4fa6-954b-3c379d24d757",
   "metadata": {},
   "outputs": [
    {
     "data": {
      "text/plain": [
       "[]"
      ]
     },
     "execution_count": 10,
     "metadata": {},
     "output_type": "execute_result"
    }
   ],
   "source": [
    "list(multiple_5(67))"
   ]
  },
  {
   "cell_type": "code",
   "execution_count": 11,
   "id": "593ca177-de54-4050-9710-69f544ad966f",
   "metadata": {},
   "outputs": [
    {
     "data": {
      "text/plain": [
       "[975]"
      ]
     },
     "execution_count": 11,
     "metadata": {},
     "output_type": "execute_result"
    }
   ],
   "source": [
    "list(multiple_5(975))"
   ]
  },
  {
   "cell_type": "markdown",
   "id": "c0711b71-b242-4592-80b6-27ae93663c87",
   "metadata": {},
   "source": [
    "##### Q5. Create a generator function for prime numbers less than 1000. Use the next() method to print the first 20 prime numbers."
   ]
  },
  {
   "cell_type": "code",
   "execution_count": 12,
   "id": "7c5421de-1aa3-455d-91f7-b84b7a228112",
   "metadata": {},
   "outputs": [
    {
     "name": "stdout",
     "output_type": "stream",
     "text": [
      "2\n",
      "3\n",
      "5\n",
      "7\n",
      "11\n",
      "13\n",
      "17\n",
      "19\n",
      "23\n",
      "29\n",
      "31\n",
      "37\n",
      "41\n",
      "43\n",
      "47\n",
      "53\n",
      "59\n",
      "61\n",
      "67\n",
      "71\n"
     ]
    }
   ],
   "source": [
    "def gen_primes():\n",
    "    num = 2\n",
    "    while num < 1000:\n",
    "        for i in range(2, num):\n",
    "            if num % i == 0:\n",
    "                break\n",
    "        else:\n",
    "            yield num\n",
    "        num += 1\n",
    "prime_gen = gen_primes()\n",
    "for i in range(20):\n",
    "    print(next(prime_gen))"
   ]
  }
 ],
 "metadata": {
  "kernelspec": {
   "display_name": "Python 3 (ipykernel)",
   "language": "python",
   "name": "python3"
  },
  "language_info": {
   "codemirror_mode": {
    "name": "ipython",
    "version": 3
   },
   "file_extension": ".py",
   "mimetype": "text/x-python",
   "name": "python",
   "nbconvert_exporter": "python",
   "pygments_lexer": "ipython3",
   "version": "3.10.8"
  }
 },
 "nbformat": 4,
 "nbformat_minor": 5
}
