{
 "cells": [
  {
   "cell_type": "markdown",
   "id": "f84ef2a7-2a4f-437b-ab7c-94838e24025e",
   "metadata": {},
   "source": [
    "### DSA Assignment 6"
   ]
  },
  {
   "cell_type": "markdown",
   "id": "371f1c9f-ecf3-4efc-acb0-45534151d497",
   "metadata": {},
   "source": [
    "##### Question 1\n",
    "A permutation perm of n + 1 integers of all the integers in the range [0, n] can be represented as a string s of length n where:\n",
    "- s[i] == 'I' if perm[i] < perm[i + 1], and\n",
    "- s[i] == 'D' if perm[i] > perm[i + 1].\n",
    "Given a string s, reconstruct the permutation perm and return it. If there are multiple valid permutations perm, return any of them.\n",
    "Example 1:\n",
    "Input: s = \"IDID\"\n",
    "Output:\n",
    "[0,4,1,3,2]\n"
   ]
  },
  {
   "cell_type": "code",
   "execution_count": 10,
   "id": "50c9de12-4e55-47ca-9ac6-2e272b618214",
   "metadata": {},
   "outputs": [],
   "source": [
    "class Solution:\n",
    "    def diStringMatch(self, S: str) -> list[int]:\n",
    "        mini=0\n",
    "        maxi=len(S)\n",
    "        l=[]\n",
    "        \n",
    "        for i in S:\n",
    "            if i==\"I\":\n",
    "                l.append(mini)\n",
    "                mini+=1\n",
    "            else:\n",
    "                l.append(maxi)\n",
    "                maxi-=1\n",
    "        return l+[maxi]"
   ]
  },
  {
   "cell_type": "code",
   "execution_count": 11,
   "id": "f89a6022-6a86-4201-b43a-b82060b6a6aa",
   "metadata": {},
   "outputs": [
    {
     "name": "stdout",
     "output_type": "stream",
     "text": [
      "[0, 4, 1, 3, 2]\n"
     ]
    }
   ],
   "source": [
    "S = 'IDID'\n",
    "q1 = Solution()\n",
    "result = q1.diStringMatch(S)\n",
    "\n",
    "print(result)"
   ]
  },
  {
   "cell_type": "markdown",
   "id": "0917d8bf-acea-41e2-a023-aaa9eaad938f",
   "metadata": {},
   "source": [
    "##### Question 2\n",
    "You are given an m x n integer matrix matrix with the following two properties:\n",
    "- Each row is sorted in non-decreasing order.\n",
    "- The first integer of each row is greater than the last integer of the previous row.\n",
    "Given an integer target, return true if target is in matrix or false otherwise.\n",
    "You must write a solution in O(log(m * n)) time complexity.\n",
    "Example 1:\n",
    "Input: matrix = [[1,3,5,7],[10,11,16,20],[23,30,34,60]], target = 3\n",
    "Output: true"
   ]
  },
  {
   "cell_type": "code",
   "execution_count": 17,
   "id": "db528df3-227e-4bec-9d7b-8cd03d30fa75",
   "metadata": {},
   "outputs": [],
   "source": [
    "def searchMatrix(matrix, target):\n",
    "    m = len(matrix)\n",
    "    n = len(matrix[0])\n",
    "    left = 0\n",
    "    right = (m * n) - 1\n",
    "\n",
    "    while left <= right:\n",
    "        mid = (left + right) // 2\n",
    "        row = mid // n\n",
    "        col = mid % n\n",
    "        if matrix[row][col] == target:\n",
    "            return True\n",
    "        elif matrix[row][col] < target:\n",
    "            left = mid + 1\n",
    "        else:\n",
    "            right = mid - 1\n",
    "\n",
    "    return False"
   ]
  },
  {
   "cell_type": "code",
   "execution_count": 18,
   "id": "9e6ca114-8aa0-4d67-ba40-6a08373cdfe5",
   "metadata": {},
   "outputs": [
    {
     "name": "stdout",
     "output_type": "stream",
     "text": [
      "True\n"
     ]
    }
   ],
   "source": [
    "print(searchMatrix([[1,3,5,7],[10,11,16,20],[23,30,34,60]],3))"
   ]
  },
  {
   "cell_type": "markdown",
   "id": "dcfd4482-bc09-4062-8983-866d0ea23761",
   "metadata": {},
   "source": [
    "##### Question 3\n",
    "Given an array of integers arr, return true if and only if it is a valid mountain array.\n",
    "Recall that arr is a mountain array if and only if:\n",
    "- arr.length >= 3\n",
    "- There exists some i with 0 < i < arr.length - 1 such that:\n",
    "    - arr[0] < arr[1] < ... < arr[i - 1] < arr[i]\n",
    "    - arr[i] > arr[i + 1] > ... > arr[arr.length - 1]\n",
    "Example 1:\n",
    "Input: arr = [2,1]\n",
    "Output:\n",
    "false"
   ]
  },
  {
   "cell_type": "code",
   "execution_count": 25,
   "id": "557f7b5a-ea82-4f1f-be81-427f84ca222e",
   "metadata": {},
   "outputs": [],
   "source": [
    "def validMountainArray(arr):\n",
    "    if len(arr) < 3:\n",
    "        return False\n",
    "    \n",
    "    i = 0\n",
    "    while i < len(arr) - 1 and arr[i] < arr[i + 1]:\n",
    "        i += 1\n",
    "    \n",
    "    if i == 0 or i == len(arr) - 1:\n",
    "        return False\n",
    "    \n",
    "    while i < len(arr) - 1 and arr[i] > arr[i + 1]:\n",
    "        i += 1\n",
    "    \n",
    "    return i == len(arr) - 1"
   ]
  },
  {
   "cell_type": "code",
   "execution_count": 27,
   "id": "2f405a49-c29c-47f0-8c50-4581aaee3707",
   "metadata": {},
   "outputs": [
    {
     "name": "stdout",
     "output_type": "stream",
     "text": [
      "False\n"
     ]
    }
   ],
   "source": [
    "print(validMountainArray([2, 1]))  "
   ]
  },
  {
   "cell_type": "code",
   "execution_count": 28,
   "id": "967796f8-5559-4a1e-9b64-beb1e3a6d867",
   "metadata": {},
   "outputs": [
    {
     "name": "stdout",
     "output_type": "stream",
     "text": [
      "True\n"
     ]
    }
   ],
   "source": [
    "print(validMountainArray([3, 5, 7, 8, 9, 10, 12, 14, 15, 16, 18, 14, 13, 11, 9, 7, 5, 4, 3, 2, 1])) "
   ]
  },
  {
   "cell_type": "code",
   "execution_count": 29,
   "id": "84acb6d4-1a81-4991-87f8-278b2528dd62",
   "metadata": {},
   "outputs": [
    {
     "name": "stdout",
     "output_type": "stream",
     "text": [
      "False\n"
     ]
    }
   ],
   "source": [
    "print(validMountainArray([1, 2, 3, 4, 5])) "
   ]
  },
  {
   "cell_type": "markdown",
   "id": "b1bf58a0-0aed-411d-b44c-955e13c2315d",
   "metadata": {},
   "source": [
    "##### Question 4\n",
    "Given a binary array nums, return the maximum length of a contiguous subarray with an equal number of 0 and 1.\n",
    "Example 1:\n",
    "Input: nums = [0,1]\n",
    "Output: 2\n",
    "Explanation:\n",
    "[0, 1] is the longest contiguous subarray with an equal number of 0 and 1."
   ]
  },
  {
   "cell_type": "code",
   "execution_count": 39,
   "id": "a2c8eb8b-3f70-47a0-a7b2-71411a4c74eb",
   "metadata": {},
   "outputs": [],
   "source": [
    "def findSubArray(arr, n):\n",
    "    sum = 0\n",
    "    maxsize = -1\n",
    "    for i in range(0, n-1):\n",
    "        sum = -1 if(arr[i] == 0) else 1\n",
    "        for j in range(i + 1, n):\n",
    "            sum = sum + (-1) if (arr[j] == 0) else sum + 1\n",
    "            if (sum == 0 and maxsize < j-i + 1):\n",
    "\n",
    "                maxsize = j - i + 1\n",
    "                startindex = i\n",
    "    if (maxsize == -1):\n",
    "        print(\"No such subarray\");\n",
    "    else:\n",
    "        print(startindex, \"to\", startindex + maxsize-1);\n",
    "    return maxsize"
   ]
  },
  {
   "cell_type": "code",
   "execution_count": 40,
   "id": "3ee2665c-4fbc-4455-9258-68105983c5ae",
   "metadata": {},
   "outputs": [
    {
     "name": "stdout",
     "output_type": "stream",
     "text": [
      "0 to 1\n",
      "2\n"
     ]
    }
   ],
   "source": [
    "arr = [0, 1]\n",
    "size = len(arr)\n",
    "print(findSubArray(arr, size))"
   ]
  },
  {
   "cell_type": "markdown",
   "id": "86c2ec07-68d4-4153-a025-986fa20130ba",
   "metadata": {},
   "source": [
    "##### Question 5\n",
    "The product sum of two equal-length arrays a and b is equal to the sum of a[i] * b[i] for all 0 <= i < a.length (0-indexed).\n",
    "- For example, if a = [1,2,3,4] and b = [5,2,3,1], the product sum would be 1*5 + 2*2 + 3*3 + 4*1 = 22.\n",
    "Given two arrays nums1 and nums2 of length n, return the minimum product sum if you are allowed torearrange the order of the elements in nums1.\n",
    "Example 1:\n",
    "Input: nums1 = [5,3,4,2], nums2 = [4,2,2,5]\n",
    "Output: 40\n",
    "Explanation:\n",
    "We can rearrange nums1 to become [3,5,4,2]. The product sum of [3,5,4,2] and [4,2,2,5] is 3*4 + 5*2 + 4*2 + 2*5 = 40."
   ]
  },
  {
   "cell_type": "code",
   "execution_count": 58,
   "id": "8728aaf1-1f10-4002-825c-b5951edbd01d",
   "metadata": {},
   "outputs": [],
   "source": [
    "class Solution:\n",
    "    def minProductSum(self, nums1: list[int], nums2: list[int]) -> int:\n",
    "        nums1.sort()\n",
    "        nums2.sort()\n",
    "        n, res = len(nums1), 0\n",
    "        for i in range(n):\n",
    "            res += nums1[i] * nums2[n - i - 1]\n",
    "        return res"
   ]
  },
  {
   "cell_type": "code",
   "execution_count": 59,
   "id": "26897895-d716-47db-ba8a-ba8234f1be03",
   "metadata": {},
   "outputs": [
    {
     "name": "stdout",
     "output_type": "stream",
     "text": [
      "40\n"
     ]
    }
   ],
   "source": [
    "nums1 = [5,3,4,2]\n",
    "nums2 = [4,2,2,5]\n",
    "q5 = Solution()\n",
    "result = q5.minProductSum(nums1,nums2)\n",
    "print(result)"
   ]
  },
  {
   "cell_type": "markdown",
   "id": "f7a0ed7d-efcd-45b6-85f2-40af61bf87b9",
   "metadata": {},
   "source": [
    "##### Question 6\n",
    "An integer array original is transformed into a doubled array changed by appending twice the value of every element in original, and then randomly shuffling the resulting array.\n",
    "Given an array changed, return original if changed is a doubled array. If changed is not a doubled array, return an empty array. The elements in original may be returned in any order.\n",
    "Example 1:\n",
    "Input: changed = [1,3,4,2,6,8]\n",
    "Output: [1,3,4]\n",
    "Explanation: One possible original array could be [1,3,4]:\n",
    "- Twice the value of 1 is 1 * 2 = 2.\n",
    "- Twice the value of 3 is 3 * 2 = 6.\n",
    "- Twice the value of 4 is 4 * 2 = 8.\n",
    "Other original arrays could be [4,3,1] or [3,1,4]."
   ]
  },
  {
   "cell_type": "code",
   "execution_count": 66,
   "id": "c25c2f70-7089-46b0-b971-997d7da2780b",
   "metadata": {},
   "outputs": [],
   "source": [
    "def findOriginal(arr):\n",
    "    numFreq = {}\n",
    "    for i in range(0, len(arr)):\n",
    "        if (arr[i] in numFreq):\n",
    "            numFreq[arr[i]] += 1\n",
    "        else:\n",
    "            numFreq[arr[i]] = 1\n",
    "    arr.sort()\n",
    "    res = []\n",
    "    for i in range(0, len(arr)):\n",
    "        freq = numFreq[arr[i]]\n",
    "        if (freq > 0):\n",
    "            res.append(arr[i])\n",
    "            numFreq[arr[i]] -= 1\n",
    "            twice = 2 * arr[i]\n",
    "            numFreq[twice] -= 1\n",
    "    return res"
   ]
  },
  {
   "cell_type": "code",
   "execution_count": 69,
   "id": "0b096169-d3ed-4ce9-8b15-8b73573edff5",
   "metadata": {},
   "outputs": [
    {
     "name": "stdout",
     "output_type": "stream",
     "text": [
      "1 3 4 "
     ]
    }
   ],
   "source": [
    "arr = [1,3,4,2,6,8]\n",
    "res = findOriginal(arr)\n",
    "for i in range(0, len(res)):\n",
    "    print(res[i], end=\" \")"
   ]
  },
  {
   "cell_type": "markdown",
   "id": "20dcea31-b991-428b-8e02-a0f7b4704f11",
   "metadata": {},
   "source": [
    "##### Question 7\n",
    "Given a positive integer n, generate an n x n matrix filled with elements from 1 to n2 in spiral order.\n",
    "Example 1:\n",
    "Input: n = 3\n",
    "Output: [[1,2,3],[8,9,4],[7,6,5]]"
   ]
  },
  {
   "cell_type": "code",
   "execution_count": 103,
   "id": "28a67205-35d5-4ff5-abb9-3337cb8a8791",
   "metadata": {},
   "outputs": [],
   "source": [
    "def generateMatrix(n):\n",
    "    if n <= 0:\n",
    "        return []\n",
    "    result = [[None for i in range(n)] for j in range(n)]\n",
    "    xBeg,xEnd = 0,n-1\n",
    "    yBeg,yEnd = 0,n-1\n",
    "    current = 1\n",
    "    while (True):\n",
    "        for i in range(yBeg,yEnd+1):\n",
    "            result[xBeg][i] = current\n",
    "            current += 1\n",
    "        xBeg += 1\n",
    "        if (xBeg > xEnd):\n",
    "            break\n",
    "        for i in range(xBeg,xEnd+1):\n",
    "            result[i][yEnd] = current\n",
    "            current += 1\n",
    "        yEnd -= 1\n",
    "        if (yEnd < yBeg):\n",
    "            break\n",
    "        for i in range(yEnd,yBeg-1,-1):\n",
    "            result[xEnd][i] = current\n",
    "            current += 1\n",
    "        xEnd -= 1\n",
    "        if (xEnd < xBeg):\n",
    "            break\n",
    "        for i in range(xEnd,xBeg-1,-1):\n",
    "            result[i][yBeg] = current\n",
    "            current += 1\n",
    "        yBeg += 1\n",
    "        if (yBeg > yEnd):\n",
    "            break\n",
    "    return result"
   ]
  },
  {
   "cell_type": "code",
   "execution_count": 104,
   "id": "72f6b3bd-a237-4b66-82ea-d1f538d720c1",
   "metadata": {},
   "outputs": [
    {
     "name": "stdout",
     "output_type": "stream",
     "text": [
      "[[1, 2, 3], [8, 9, 4], [7, 6, 5]]\n"
     ]
    }
   ],
   "source": [
    "print(generateMatrix(3))"
   ]
  },
  {
   "cell_type": "markdown",
   "id": "172a2d04-4981-4b3f-aa28-f04a6b01d162",
   "metadata": {},
   "source": [
    "##### Question 8\n",
    "Given two  mat1 of size m x k and mat2 of size k x n, return the result of mat1 x mat2. You may assume that multiplication is always possible.\n",
    "Example 1:\n",
    "Input: mat1 = [[1,0,0],[-1,0,3]], mat2 = [[7,0,0],[0,0,0],[0,0,1]]\n",
    "Output:\n",
    "[[7,0,0],[-7,0,3]]"
   ]
  },
  {
   "cell_type": "code",
   "execution_count": 122,
   "id": "f5894547-4e95-442f-b39f-529e1e1f5fb5",
   "metadata": {},
   "outputs": [],
   "source": [
    "class Solution:\n",
    "  def multiply(self, mat1: list[list[int]], mat2: list[list[int]]) -> list[list[int]]:\n",
    "    m = len(mat1)\n",
    "    n = len(mat2)\n",
    "    l = len(mat2[0])\n",
    "    ans = [[0] * l for _ in range(m)]\n",
    "\n",
    "    for i in range(m):\n",
    "      for j in range(l):\n",
    "        for k in range(n):\n",
    "          ans[i][j] += mat1[i][k] * mat2[k][j]\n",
    "\n",
    "    return ans"
   ]
  },
  {
   "cell_type": "code",
   "execution_count": 123,
   "id": "6b009464-7d60-4962-9091-caf6947ff814",
   "metadata": {},
   "outputs": [
    {
     "name": "stdout",
     "output_type": "stream",
     "text": [
      "[[7, 0, 0], [-7, 0, 3]]\n"
     ]
    }
   ],
   "source": [
    "mat1 = [[1,0,0],[-1,0,3]]\n",
    "mat2 = [[7,0,0],[0,0,0],[0,0,1]]\n",
    "q8 = Solution()\n",
    "result = q8.multiply(mat1, mat2)\n",
    "print(result)"
   ]
  }
 ],
 "metadata": {
  "kernelspec": {
   "display_name": "Python 3 (ipykernel)",
   "language": "python",
   "name": "python3"
  },
  "language_info": {
   "codemirror_mode": {
    "name": "ipython",
    "version": 3
   },
   "file_extension": ".py",
   "mimetype": "text/x-python",
   "name": "python",
   "nbconvert_exporter": "python",
   "pygments_lexer": "ipython3",
   "version": "3.10.8"
  }
 },
 "nbformat": 4,
 "nbformat_minor": 5
}
