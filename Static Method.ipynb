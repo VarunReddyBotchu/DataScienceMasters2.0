{
 "cells": [
  {
   "cell_type": "markdown",
   "id": "57c65df1-0df6-44ea-8369-a1c6a2164c20",
   "metadata": {},
   "source": [
    "### Static Method"
   ]
  },
  {
   "cell_type": "code",
   "execution_count": 1,
   "id": "3e90c089-d290-47c3-8c4f-fa468844bd52",
   "metadata": {},
   "outputs": [],
   "source": [
    "class pwskills:\n",
    "    def student_details(self, name, mail_id, number):\n",
    "        print(name, mail_id, number)"
   ]
  },
  {
   "cell_type": "code",
   "execution_count": 2,
   "id": "f4f9ef5e-23ed-4ed6-9f76-f20375516530",
   "metadata": {},
   "outputs": [],
   "source": [
    "pw = pwskills()"
   ]
  },
  {
   "cell_type": "code",
   "execution_count": 3,
   "id": "70f05ec4-9eee-4487-872a-1540819dc368",
   "metadata": {},
   "outputs": [
    {
     "name": "stdout",
     "output_type": "stream",
     "text": [
      "varun varun@gmail.com 9898\n"
     ]
    }
   ],
   "source": [
    "pw.student_details(\"varun\", \"varun@gmail.com\",9898)"
   ]
  },
  {
   "cell_type": "code",
   "execution_count": 4,
   "id": "7fc5f60b-b6c9-4940-9429-5631ac709df7",
   "metadata": {},
   "outputs": [],
   "source": [
    "class pwskills1:\n",
    "    def student_details(self, name, mail_id, number):\n",
    "        print(name, mail_id, number)\n",
    "        \n",
    "    @staticmethod\n",
    "    def mentor_class(list_mentor):\n",
    "        print(list_mentor)\n",
    "    \n",
    "    def mentor(self, mentor_list):\n",
    "        print(mentor_list)"
   ]
  },
  {
   "cell_type": "code",
   "execution_count": 5,
   "id": "95d364b6-cdc2-4d3e-b217-ace70e42be2f",
   "metadata": {},
   "outputs": [],
   "source": [
    "pw1 = pwskills1()"
   ]
  },
  {
   "cell_type": "code",
   "execution_count": 6,
   "id": "f619e609-58c4-47fa-a40b-75461f3d3666",
   "metadata": {},
   "outputs": [
    {
     "name": "stdout",
     "output_type": "stream",
     "text": [
      "krish\n"
     ]
    }
   ],
   "source": [
    "pw1.mentor(\"krish\")"
   ]
  },
  {
   "cell_type": "code",
   "execution_count": 7,
   "id": "6771060d-8868-443a-98b4-d054bdb408b1",
   "metadata": {},
   "outputs": [
    {
     "name": "stdout",
     "output_type": "stream",
     "text": [
      "['such']\n"
     ]
    }
   ],
   "source": [
    "pw1.mentor_class([\"such\"])"
   ]
  },
  {
   "cell_type": "code",
   "execution_count": 22,
   "id": "ae4b52a2-6cea-4f1b-8659-d5b0a3f02b0b",
   "metadata": {},
   "outputs": [],
   "source": [
    "class pwskills2:\n",
    "    def student_details(self, name, mail_id, number):\n",
    "        print(name, mail_id, number)\n",
    "    @staticmethod\n",
    "    def mentor_mail_id(mail_id):\n",
    "        print(mail_id)\n",
    "    \n",
    "    @staticmethod\n",
    "    def mentor_class(list_mentor):\n",
    "        print(list_mentor)\n",
    "        pwskills2.mentor_mail_id([\"krisha@gmail.com\",\"sudh@gmail.com\"])\n",
    "    \n",
    "    @classmethod\n",
    "    def class_name(cls, class_name):\n",
    "        cls.mentor_class([\"sudh\",\"Krish\"])\n",
    "    \n",
    "    def mentor(self, mentor_list):\n",
    "        print(mentor_list)\n",
    "        self.mentor_class([\"Krish\",\"sudh\"])"
   ]
  },
  {
   "cell_type": "code",
   "execution_count": 23,
   "id": "b1171f54-beca-4353-a0ad-ef6c911015ce",
   "metadata": {},
   "outputs": [],
   "source": [
    "pw2=pwskills2()"
   ]
  },
  {
   "cell_type": "code",
   "execution_count": 24,
   "id": "0aec5833-e149-491a-b09f-54723afcec41",
   "metadata": {},
   "outputs": [
    {
     "name": "stdout",
     "output_type": "stream",
     "text": [
      "mohan mohan@gmail.com 8238483242\n"
     ]
    }
   ],
   "source": [
    "pw2.student_details(\"mohan\",\"mohan@gmail.com\",8238483242)"
   ]
  },
  {
   "cell_type": "code",
   "execution_count": 25,
   "id": "adb690fb-7894-43ce-bc0c-448b19a1a5f0",
   "metadata": {},
   "outputs": [
    {
     "name": "stdout",
     "output_type": "stream",
     "text": [
      "['krisha@gmail.com', 'sudh@gmail.com']\n"
     ]
    }
   ],
   "source": [
    "pw2.mentor_mail_id([\"krisha@gmail.com\",\"sudh@gmail.com\"])"
   ]
  },
  {
   "cell_type": "code",
   "execution_count": 26,
   "id": "58191765-c81c-4318-a082-303f72ec36f1",
   "metadata": {},
   "outputs": [
    {
     "name": "stdout",
     "output_type": "stream",
     "text": [
      "['sudh', 'Krish']\n",
      "['krisha@gmail.com', 'sudh@gmail.com']\n"
     ]
    }
   ],
   "source": [
    "pw2.class_name(\"data sciene masters\")"
   ]
  },
  {
   "cell_type": "code",
   "execution_count": 29,
   "id": "82d4c642-19bc-4ff8-b484-c1ba50d3439b",
   "metadata": {},
   "outputs": [
    {
     "name": "stdout",
     "output_type": "stream",
     "text": [
      "['varun@gmail.com', 'vamsi@gmail.com']\n"
     ]
    }
   ],
   "source": [
    "pwskills2.mentor_mail_id([\"varun@gmail.com\",\"vamsi@gmail.com\"])"
   ]
  }
 ],
 "metadata": {
  "kernelspec": {
   "display_name": "Python 3 (ipykernel)",
   "language": "python",
   "name": "python3"
  },
  "language_info": {
   "codemirror_mode": {
    "name": "ipython",
    "version": 3
   },
   "file_extension": ".py",
   "mimetype": "text/x-python",
   "name": "python",
   "nbconvert_exporter": "python",
   "pygments_lexer": "ipython3",
   "version": "3.10.8"
  }
 },
 "nbformat": 4,
 "nbformat_minor": 5
}
