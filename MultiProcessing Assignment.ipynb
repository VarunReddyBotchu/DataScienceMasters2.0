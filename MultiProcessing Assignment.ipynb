{
 "cells": [
  {
   "cell_type": "markdown",
   "id": "ef26486a-452e-41d7-a4f9-69134da70789",
   "metadata": {},
   "source": [
    "### MultiProcessing Assignment"
   ]
  },
  {
   "cell_type": "markdown",
   "id": "a7def072-d0ed-421a-aa02-9ed465f24e06",
   "metadata": {},
   "source": [
    "##### Q1). What is multiprocessing in python? Why is it useful?"
   ]
  },
  {
   "cell_type": "markdown",
   "id": "3bea80eb-13c0-4624-9be3-9943b4459f6a",
   "metadata": {},
   "source": [
    "##### Multiprocessing in Python refers to the ability to run multiple processes concurrently, allowing for parallel execution on systems with multiple CPUs or cores. \n",
    "\n",
    "##### It is useful for improving performance by leveraging the full computational power of a system and executing tasks in parallel to achieve faster results."
   ]
  },
  {
   "cell_type": "markdown",
   "id": "6e52a387-2899-4308-bd4e-4cd84d0e9a36",
   "metadata": {},
   "source": [
    "##### Q2). What are the differences between multiprocessing and multithreading?"
   ]
  },
  {
   "cell_type": "markdown",
   "id": "8658cb7d-9d15-44c7-a85b-53990588c4ad",
   "metadata": {},
   "source": [
    "##### The three major differences between multiprocessing and multithreading in Python are:\n",
    "1. Memory Space: In multiprocessing, each process has its own memory space, whereas in multithreading, all threads within a process share the same memory space.\n",
    "2. Concurrency Model: Multiprocessing achieves parallelism by executing multiple processes simultaneously, utilizing multiple CPUs or cores. On the other hand, multithreading achieves concurrency within a single process by interleaving the execution of multiple threads within the same CPU or core.\n",
    "3. Overhead: Multiprocessing typically has higher overhead compared to multithreading. Creating and managing processes involve more resources and time due to the need for separate memory spaces and process management.\n",
    "##### These differences impact how concurrency is achieved and how resources are managed in multiprocessing and multithreading. Choosing between them depends on the specific requirements of the application, such as the need for parallelism, data sharing, and resource efficiency."
   ]
  },
  {
   "cell_type": "markdown",
   "id": "de0d2172-b4e6-4577-af5b-ec933f139f9d",
   "metadata": {},
   "source": [
    "##### Q3). Write a python code to create a process using the multiprocessing module."
   ]
  },
  {
   "cell_type": "code",
   "execution_count": 7,
   "id": "6b3e524f-7796-46c0-a52d-9be0e22a6c4c",
   "metadata": {},
   "outputs": [
    {
     "name": "stdout",
     "output_type": "stream",
     "text": [
      "This is a child process.\n",
      "This is the main process.\n"
     ]
    }
   ],
   "source": [
    "import multiprocessing\n",
    "\n",
    "def process_function():\n",
    "    print(\"This is a child process.\")\n",
    "\n",
    "if __name__ == \"__main__\":\n",
    "    # Process object\n",
    "    process = multiprocessing.Process(target=process_function)\n",
    "\n",
    "    # Start \n",
    "    process.start()\n",
    "\n",
    "    # Wait for process to finish\n",
    "    process.join()\n",
    "\n",
    "    print(\"This is the main process.\")"
   ]
  },
  {
   "cell_type": "code",
   "execution_count": 8,
   "id": "8fa001b8-8eae-4102-bcdb-3ecfc43c2884",
   "metadata": {},
   "outputs": [
    {
     "name": "stdout",
     "output_type": "stream",
     "text": [
      "This is a child process.\n"
     ]
    }
   ],
   "source": [
    "process_function()"
   ]
  },
  {
   "cell_type": "markdown",
   "id": "a6c755e9-d3fc-4cfa-bd9b-10d425e8fdc8",
   "metadata": {},
   "source": [
    "##### Q4). What is a multiprocessing pool in python? Why is it used?"
   ]
  },
  {
   "cell_type": "markdown",
   "id": "cbffa63a-cb03-461b-ab78-2d0d2e914a42",
   "metadata": {},
   "source": [
    "##### A multiprocessing pool in Python is a mechanism provided by the 'Multiprocessing' module to manage a pool of worker processes. It enables parallel execution of tasks by distributing them among the available processes. The pool abstracts away the process creation and management, allowing the programmer to focus on defining the tasks to be executed. It is particularly useful when dealing with computationally intensive or I/O-bound tasks, as it maximizes resource utilization and improves overall performance by leveraging multiple processes."
   ]
  },
  {
   "cell_type": "markdown",
   "id": "d674bf38-1de0-4e5a-99bd-7a0e21d02490",
   "metadata": {},
   "source": [
    "##### Q5). How can we create a pool of worker processes in python using the multiprocessing module?"
   ]
  },
  {
   "cell_type": "markdown",
   "id": "c6624b5e-c139-433b-b836-05ec52d104a1",
   "metadata": {},
   "source": [
    "##### To create a pool of worker processes in Python using the multiprocessing module, you can utilize the Pool class."
   ]
  },
  {
   "cell_type": "code",
   "execution_count": 9,
   "id": "7ea990ea-1ebf-416f-a608-878029418215",
   "metadata": {},
   "outputs": [
    {
     "name": "stdout",
     "output_type": "stream",
     "text": [
      "Results: [2, 4, 6, 8, 10]\n"
     ]
    }
   ],
   "source": [
    "import multiprocessing\n",
    "\n",
    "def process_function(data):\n",
    "    # Perform some task using the provided data\n",
    "    result = data * 2\n",
    "    return result\n",
    "\n",
    "if __name__ == \"__main__\":\n",
    "    # Create a pool of worker processes\n",
    "    pool = multiprocessing.Pool()\n",
    "\n",
    "    # Define the data to be processed\n",
    "    data_list = [1, 2, 3, 4, 5]\n",
    "\n",
    "    # Apply the process_function to each data element in parallel using the pool\n",
    "    results = pool.map(process_function, data_list)\n",
    "\n",
    "    # Close the pool\n",
    "    pool.close()\n",
    "\n",
    "    # Wait for all processes in the pool to finish\n",
    "    pool.join()\n",
    "\n",
    "    # Print the results\n",
    "    print(\"Results:\", results)"
   ]
  },
  {
   "cell_type": "markdown",
   "id": "29826580-a848-4657-bc2a-6e77dd516818",
   "metadata": {},
   "source": [
    "##### Q6). Write a python program to create 4 processes, each process should print a different number using the multiprocessing module in python."
   ]
  },
  {
   "cell_type": "code",
   "execution_count": 18,
   "id": "743ffa94-3c33-478d-86fd-460c01c11ab9",
   "metadata": {},
   "outputs": [
    {
     "name": "stdout",
     "output_type": "stream",
     "text": [
      " Process ID: 57895792 Process ID:   Number:   Process ID:1 Number: \n",
      " 58032 \n",
      " Process ID: Number:  58243 \n",
      " Number: 4\n",
      "Program execution completed.\n"
     ]
    }
   ],
   "source": [
    "import multiprocessing\n",
    "\n",
    "def print_number(number):\n",
    "    print(\" Process ID:\", multiprocessing.current_process().pid, \" Number:\", number)\n",
    "\n",
    "if __name__ == \"__main__\":\n",
    "    # Create a list of numbers\n",
    "    numbers = [1, 2, 3, 4]\n",
    "\n",
    "    # Create a list to store the process objects\n",
    "    processes = []\n",
    "\n",
    "    # Create and start processes for printing numbers\n",
    "    for number in numbers:\n",
    "        process = multiprocessing.Process(target=print_number, args=(number,))\n",
    "        processes.append(process)\n",
    "        process.start()\n",
    "\n",
    "    # Wait for all processes to complete\n",
    "    for process in processes:\n",
    "        process.join()\n",
    "\n",
    "    print(\"Program execution completed.\")"
   ]
  }
 ],
 "metadata": {
  "kernelspec": {
   "display_name": "Python 3 (ipykernel)",
   "language": "python",
   "name": "python3"
  },
  "language_info": {
   "codemirror_mode": {
    "name": "ipython",
    "version": 3
   },
   "file_extension": ".py",
   "mimetype": "text/x-python",
   "name": "python",
   "nbconvert_exporter": "python",
   "pygments_lexer": "ipython3",
   "version": "3.10.8"
  }
 },
 "nbformat": 4,
 "nbformat_minor": 5
}
