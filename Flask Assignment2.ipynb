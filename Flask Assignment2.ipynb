{
 "cells": [
  {
   "cell_type": "markdown",
   "id": "878cf450-8771-425b-8eec-70c2d5daf81e",
   "metadata": {},
   "source": [
    "### Flask Assignment 2"
   ]
  },
  {
   "cell_type": "markdown",
   "id": "f313de6e-87ee-493e-aead-12c47b7f0b9d",
   "metadata": {},
   "source": [
    "#### Q1. Explain GET and POST methods."
   ]
  },
  {
   "cell_type": "markdown",
   "id": "cdb650d4-f999-4651-a7e7-f46eb50b0c1b",
   "metadata": {},
   "source": [
    "##### GET: The GET method is used to retrieve data from a server.When a user types a URL into a web browser, the browser sends a GET request to the server asking for the resource at that URL.The parameters for the request (such as search queries or page number) are included in the URL itself, separated by a question mark.Because the parameters are included in the URL, GET requests are visible to the user and can be bookmarked or shared.GET requests are also cached by browsers, which can speed up page load times for frequently visited pages.\n",
    "\n",
    "##### POST: The POST method is used to send data to a server. For example, when a user fills out a form on a website and clicks \"Submit,\" the data from the form is sent to the server using a POST request. Unlike GET requests, POST requests do not include parameters in the URL. Instead, they include the parameters in the request body, which is not visible to the user. This makes POST requests more secure for transmitting sensitive information such as passwords or credit card numbers. Because POST requests are not cached, they are slower than GET requests for repeated requests of the same data."
   ]
  },
  {
   "cell_type": "markdown",
   "id": "52b381de-e3ac-4486-81c6-254b731e993f",
   "metadata": {},
   "source": [
    "#### Q2. Why is request used in Flask?"
   ]
  },
  {
   "cell_type": "markdown",
   "id": "dba02d25-3b9a-4d37-a3c9-eb16a0dfba7f",
   "metadata": {},
   "source": [
    "##### The request module in Flask is used to access incoming request data in Flask applications.When a client (such as a web browser) sends a request to a Flask web application, the application can use the request module to access information about the request, such as the HTTP method used (e.g. GET, POST, etc.), the data sent in the request body (if any), and any parameters or data sent as part of the request URL."
   ]
  },
  {
   "cell_type": "markdown",
   "id": "d13d1e5c-2039-4c37-8509-284a2da57bfa",
   "metadata": {},
   "source": [
    "#### Q3.Why is redirect() used in Flask?"
   ]
  },
  {
   "cell_type": "markdown",
   "id": "087dbad5-e56e-416c-91cf-3c143bc8f713",
   "metadata": {},
   "source": [
    "The redirect() function in Flask is used to redirect the user to a different URL or route within a  Flask application.When a Flask application receives a request, it can use the redirect() function  to send the user to a different URL or route, which can be useful for a variety of reasons."
   ]
  },
  {
   "cell_type": "markdown",
   "id": "252232ad-8783-4787-a541-7f7251f479af",
   "metadata": {},
   "source": [
    "#### Q4. What are templates in Flask? Why is the render_template() function used?"
   ]
  },
  {
   "cell_type": "markdown",
   "id": "9ebe4424-6db7-4088-a5b7-89bed5338e35",
   "metadata": {},
   "source": [
    "##### Templates in Flask are files that contain HTML code with placeholders for dynamic content that will be filled in by the Flask application at runtime. Templates allow developers to separate the presentation logic from the business logic of the application, making it easier to manage and maintain the application over time.\n",
    "\n",
    "##### The render_template() function in Flask is used to render templates and return the result as a response to a client's request. The function takes the name of a template file as its argument and any additional data that needs to be passed to the template for rendering. The function then processes the template, filling in the placeholders with the dynamic data and returning the resulting HTML code as a response to the client's  request."
   ]
  },
  {
   "cell_type": "markdown",
   "id": "e50be721-7062-4308-8308-bab09e8c6125",
   "metadata": {},
   "source": [
    "#### Q5. Create a simple API. Use Postman to test it. Attach the screenshot of the output in the Jupyter Notebook."
   ]
  },
  {
   "attachments": {
    "e1264dc5-803b-460a-8bb8-3d93f1ee1d25.png": {
     "image/png": "[encoded data removed]"
    }
   },
   "cell_type": "markdown",
   "id": "3ddf0f96-d0a6-484a-9572-bcda376e3f1b",
   "metadata": {},
   "source": [
    "![flask 2.5.1.png](attachment:e1264dc5-803b-460a-8bb8-3d93f1ee1d25.png)"
   ]
  },
  {
   "attachments": {
    "de99e2fa-c3d9-4bf5-a510-f37477b490ac.png": {
     "image/png": "[encoded data removed]"
    }
   },
   "cell_type": "markdown",
   "id": "8f5c692f-540d-4e1a-9be9-e92a30e02e5d",
   "metadata": {},
   "source": [
    "![flask 2.5.2.png](attachment:de99e2fa-c3d9-4bf5-a510-f37477b490ac.png)"
   ]
  }
 ],
 "metadata": {
  "kernelspec": {
   "display_name": "Python 3 (ipykernel)",
   "language": "python",
   "name": "python3"
  },
  "language_info": {
   "codemirror_mode": {
    "name": "ipython",
    "version": 3
   },
   "file_extension": ".py",
   "mimetype": "text/x-python",
   "name": "python",
   "nbconvert_exporter": "python",
   "pygments_lexer": "ipython3",
   "version": "3.10.8"
  }
 },
 "nbformat": 4,
 "nbformat_minor": 5
}
