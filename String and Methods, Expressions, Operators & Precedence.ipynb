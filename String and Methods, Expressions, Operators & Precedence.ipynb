{
 "cells": [
  {
   "cell_type": "markdown",
   "id": "af9b0757-b122-49b2-828d-05ddf89c233e",
   "metadata": {},
   "source": [
    "### Strings and Methods, Expressions, Operators & Precedence\n",
    "1. Logical Operators(and, or, not)\n",
    "2. Equality Operators(is, is not, ==, !=)\n",
    "3. Comparision Operators(<.>,<=,>=)\n",
    "4. Arithmetic Operators(+,-,*,/,//,%,**)\n",
    "5. Bitwise Operators(~,&,|,^,<<,>>)\n",
    "6. Strings(Mutability, slice, cconcatination, printing substring, find, count, length functions)\n",
    "7. String (split, partition, Upper and lower case, swap case, title)"
   ]
  },
  {
   "cell_type": "code",
   "execution_count": 31,
   "id": "4869799b-27e6-4a31-854c-4bb2901e1f3f",
   "metadata": {},
   "outputs": [
    {
     "name": "stdout",
     "output_type": "stream",
     "text": [
      "False\n",
      "False\n",
      "False\n",
      "True\n"
     ]
    }
   ],
   "source": [
    "#1.1\n",
    "#Used in comparision or conditional statements \n",
    "print(False and False)\n",
    "print(True and False)\n",
    "print(False and True)\n",
    "print(True and True)"
   ]
  },
  {
   "cell_type": "code",
   "execution_count": 32,
   "id": "522cdf0e-436d-489e-b7e9-46e6cc8b3210",
   "metadata": {},
   "outputs": [
    {
     "name": "stdout",
     "output_type": "stream",
     "text": [
      "False\n",
      "True\n",
      "True\n",
      "True\n"
     ]
    }
   ],
   "source": [
    "#1.2\n",
    "#Used in comparision or conditional statements \n",
    "print(False or False)\n",
    "print(True or False)\n",
    "print(False or True)\n",
    "print(True or True)"
   ]
  },
  {
   "cell_type": "code",
   "execution_count": 33,
   "id": "01860fc1-ba86-4e13-901f-8611f87d463c",
   "metadata": {},
   "outputs": [
    {
     "name": "stdout",
     "output_type": "stream",
     "text": [
      "False\n",
      "True\n",
      "True\n",
      "False\n",
      "True\n",
      "False\n"
     ]
    }
   ],
   "source": [
    "#1.3\n",
    "#Used in comparision or conditional statements \n",
    "print(not True)\n",
    "print(not False)\n",
    "print(not int(bool(0)))\n",
    "print(not int(bool(1)))\n",
    "print(not 0)\n",
    "print(not 1)"
   ]
  },
  {
   "cell_type": "code",
   "execution_count": 34,
   "id": "5cba3143-75f2-4efd-99f9-5510e0e3891a",
   "metadata": {},
   "outputs": [
    {
     "name": "stdout",
     "output_type": "stream",
     "text": [
      "True\n",
      "0\n"
     ]
    }
   ],
   "source": [
    "#1.3 practice\n",
    "print(not(True) * False)#not without braces typecasting(bodmas rule)\n",
    "print((not(True)) * False)#not with braces (bodmas rule)"
   ]
  },
  {
   "cell_type": "code",
   "execution_count": 35,
   "id": "61173bb9-c341-4e9f-b944-8846d1cf9e84",
   "metadata": {},
   "outputs": [
    {
     "name": "stdout",
     "output_type": "stream",
     "text": [
      "140645252703168\n",
      "140645252738112\n",
      "False\n",
      "140645252703168\n",
      "140645252703168\n",
      "True\n",
      "False\n",
      "True\n"
     ]
    }
   ],
   "source": [
    "#2.1 & 2.2 returns true if variable/identifiers a and b point to the same object\n",
    "list1=[1,2,3,4]\n",
    "list2=[1,2,3,4]\n",
    "print(id(list1))\n",
    "print(id(list2))\n",
    "print(list1 is list2)\n",
    "list3=list1\n",
    "print(id(list1))\n",
    "print(id(list3))\n",
    "print(list1 is list3)\n",
    "print(list1 is not list3)\n",
    "print(list1 is not list2)"
   ]
  },
  {
   "cell_type": "code",
   "execution_count": 36,
   "id": "930e35fe-0808-4c3e-b2a1-0c9cd36b771f",
   "metadata": {},
   "outputs": [
    {
     "name": "stdout",
     "output_type": "stream",
     "text": [
      "140645252846592\n",
      "140645252846720\n",
      "140645252732288\n",
      "True\n",
      "False\n",
      "140645252514224\n",
      "140645252514224\n",
      "140645252516080\n",
      "False\n",
      "True\n"
     ]
    }
   ],
   "source": [
    "#2.3 & 2.4 returns true if value is same and Mutability concept can also be observed through id of lists and string variables.\n",
    "lst3=[5,6,7,8]\n",
    "lst4=[5,6,7,8]\n",
    "lst5=[56,78,23,90]\n",
    "print(id(lst3))\n",
    "print(id(lst4))\n",
    "print(id(lst5))\n",
    "print(lst3==lst4)\n",
    "print(lst3==lst5)\n",
    "str1=\"Rambo\"\n",
    "str2=\"Rambo\"\n",
    "str3=\"Kim\"\n",
    "print(id(str1))\n",
    "print(id(str2))\n",
    "print(id(str3))\n",
    "print(str1!=str2)\n",
    "print(str1!=str3)"
   ]
  },
  {
   "cell_type": "code",
   "execution_count": 13,
   "id": "f07a623e-a570-403c-a4e1-66fbc96b2610",
   "metadata": {},
   "outputs": [
    {
     "name": "stdout",
     "output_type": "stream",
     "text": [
      "False\n",
      "False\n",
      "True\n",
      "True\n"
     ]
    }
   ],
   "source": [
    "#3\n",
    "a=2\n",
    "b=5\n",
    "print(a>b)\n",
    "print(a>=b)\n",
    "print(a<b)\n",
    "print(a<=b)"
   ]
  },
  {
   "cell_type": "code",
   "execution_count": 39,
   "id": "932e618c-3fb6-4651-b552-a0a6bf93ffeb",
   "metadata": {},
   "outputs": [
    {
     "name": "stdout",
     "output_type": "stream",
     "text": [
      "39\n",
      "673\n",
      "23052\n",
      "0.007374631268436578\n",
      "135\n",
      "32\n",
      "1827298894514262811220351235523157955201489361047129986041650713518536689986753912559525160812544\n"
     ]
    }
   ],
   "source": [
    "#4\n",
    "a=34\n",
    "b=5\n",
    "c=678\n",
    "print(a+b)\n",
    "print(c-b)\n",
    "print(c*a)\n",
    "print(b/c)\n",
    "print(c//b)\n",
    "print(c%a)\n",
    "print(c**a)"
   ]
  },
  {
   "cell_type": "code",
   "execution_count": 41,
   "id": "fb477b4e-1212-4dab-9d92-7e692f7358d8",
   "metadata": {},
   "outputs": [
    {
     "name": "stdout",
     "output_type": "stream",
     "text": [
      "0b100010\n",
      "-35\n",
      "True\n",
      "False\n",
      "5\n",
      "12\n",
      "0\n"
     ]
    }
   ],
   "source": [
    "#5 \n",
    "a=6\n",
    "b=2\n",
    "c=3\n",
    "var1=34\n",
    "print(bin(var1))\n",
    "print(~var1)\n",
    "print(True & True)\n",
    "print(False | False)\n",
    "print(a^c)\n",
    "print(c<<b)\n",
    "print(c>>b)"
   ]
  },
  {
   "cell_type": "code",
   "execution_count": 42,
   "id": "737871ab-b82c-4a66-8f67-91251b9a47b9",
   "metadata": {},
   "outputs": [
    {
     "name": "stdout",
     "output_type": "stream",
     "text": [
      "o data science masters\n",
      "o data\n",
      "to data scienc\n",
      "welcome to data science master\n",
      "18\n",
      "welcome to data science masters\n",
      "sretsam ecneics atad ot emoclew\n",
      "neics atad ot emo\n",
      "Data Science Masters\n",
      "ecneicS\n",
      "Data Science Masters Course\n",
      "Data Science MastersData Science MastersData Science MastersData Science MastersData Science Masters\n",
      "20\n",
      "-1\n",
      "3\n",
      "21\n"
     ]
    }
   ],
   "source": [
    "\"\"\"6.String is Immutable.\n",
    "     String has in-built functions.String Concatination\"\"\"\n",
    "str1=\"welcome to data science masters\"\n",
    "print(str1[9:])#slice operation\n",
    "print(str1[9:15])#prints the values in those indexes\n",
    "print(str1[-23:-9])#prints the values in the indexes but counting the indexes backward\n",
    "print(str1[:-1])#prints the values in the index backward\n",
    "print(str1.find(\"i\"))#receives the lowest index of the value in the string\n",
    "print(str1)#prints the string\n",
    "print(str1[::-1])#To reverse a string\n",
    "print(str1[20:3:-1])#to reverse a part of string using indexes\n",
    "#6 practice\n",
    "course_name=\"Data Science Masters\"\n",
    "print(course_name)#prints the string\n",
    "print(course_name[11:4:-1])#prints those index values in reverse order \n",
    "print(course_name + \" Course\")#concatination\n",
    "print(course_name * 5)#prints 5 times\n",
    "print(len(course_name))#prints length of the string\n",
    "print(course_name.find(\"s\",0,9))#when it cant find the value in the given indexes it returns -1\n",
    "print(course_name.count(\"a\"))#prints the no.of times the value is present in the string if none returns 0\n",
    "print(course_name.count(\"\"))#prints the length of the string when no value is given to find"
   ]
  },
  {
   "cell_type": "code",
   "execution_count": 43,
   "id": "7e84af90-ff3f-46f7-9118-7e322b46d49c",
   "metadata": {},
   "outputs": [
    {
     "name": "stdout",
     "output_type": "stream",
     "text": [
      "['Data', 'Science', 'Masters']\n",
      "['Data Science ', 'asters']\n",
      "('Data ', 'S', 'cience Masters')\n",
      "DATA SCIENCE MASTERS\n",
      "data science masters\n",
      "dATA sCIENCE mASTERS\n",
      "Data Science Masters\n"
     ]
    }
   ],
   "source": [
    "#7\n",
    "print(course_name.split(\" \"))#splits the substring where ever space is present\n",
    "print(course_name.split(\"M\"))#splits the substring where ever M is present if  not present will not split\n",
    "print(course_name.partition(\"S\"))#partitions  the string whereever S is present without removing S\n",
    "print(course_name.upper())#Returns the string in Upper case\n",
    "print(course_name.lower())#Returns the string in lower case\n",
    "print(course_name.swapcase())#returns the string with uppercase to lower and lower case to upper case\n",
    "print(course_name.title())#Returns the string where each word is titlecased."
   ]
  }
 ],
 "metadata": {
  "kernelspec": {
   "display_name": "Python 3 (ipykernel)",
   "language": "python",
   "name": "python3"
  },
  "language_info": {
   "codemirror_mode": {
    "name": "ipython",
    "version": 3
   },
   "file_extension": ".py",
   "mimetype": "text/x-python",
   "name": "python",
   "nbconvert_exporter": "python",
   "pygments_lexer": "ipython3",
   "version": "3.10.8"
  }
 },
 "nbformat": 4,
 "nbformat_minor": 5
}
