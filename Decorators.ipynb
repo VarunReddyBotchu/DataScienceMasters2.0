{
 "cells": [
  {
   "cell_type": "markdown",
   "id": "7d7248a5-c6c3-42b5-aa27-f55b7642b116",
   "metadata": {},
   "source": [
    "### Deccorators"
   ]
  },
  {
   "cell_type": "code",
   "execution_count": 6,
   "id": "12a62a7d-978b-41f5-892b-ecac3d33575d",
   "metadata": {},
   "outputs": [],
   "source": [
    "def test():\n",
    "    print(\"this is the start of my funtion\")\n",
    "    print(4+3)\n",
    "    print(\"this is the end of my funtion\")"
   ]
  },
  {
   "cell_type": "code",
   "execution_count": 7,
   "id": "fdf2d64f-74e2-479f-ad34-38b8310b6509",
   "metadata": {},
   "outputs": [
    {
     "name": "stdout",
     "output_type": "stream",
     "text": [
      "this is the start of my funtion\n",
      "7\n",
      "this is the end of my funtion\n"
     ]
    }
   ],
   "source": [
    "test()"
   ]
  },
  {
   "cell_type": "code",
   "execution_count": 21,
   "id": "a27ee4f7-7e8f-43d7-97dc-eb5bf4eadd50",
   "metadata": {},
   "outputs": [],
   "source": [
    "def deco(func):\n",
    "    def inner_deco():\n",
    "        print(\"this is the start of my funtion\")\n",
    "        func()\n",
    "        print(\"this is the end of my funtion\") \n",
    "    return inner_deco\n"
   ]
  },
  {
   "cell_type": "code",
   "execution_count": 22,
   "id": "73ea814b-8347-4cdb-801d-79da34f979d1",
   "metadata": {},
   "outputs": [],
   "source": [
    "def test1():\n",
    "    print(4+67)"
   ]
  },
  {
   "cell_type": "code",
   "execution_count": 23,
   "id": "eb053c7a-6002-4308-b3d2-1618db958236",
   "metadata": {},
   "outputs": [
    {
     "name": "stdout",
     "output_type": "stream",
     "text": [
      "71\n"
     ]
    }
   ],
   "source": [
    "test1()"
   ]
  },
  {
   "cell_type": "code",
   "execution_count": 25,
   "id": "946431c5-63e8-4683-97c8-60a49c7d0418",
   "metadata": {},
   "outputs": [],
   "source": [
    "@deco\n",
    "def test2():\n",
    "    print(4+56)"
   ]
  },
  {
   "cell_type": "code",
   "execution_count": 26,
   "id": "5673705a-d8f2-48d8-b6e0-934eff25509b",
   "metadata": {},
   "outputs": [
    {
     "name": "stdout",
     "output_type": "stream",
     "text": [
      "this is the start of my funtion\n",
      "60\n",
      "this is the end of my funtion\n"
     ]
    }
   ],
   "source": [
    "test2()"
   ]
  },
  {
   "cell_type": "code",
   "execution_count": 27,
   "id": "5511f40f-f846-4cd5-9d8f-e1c4d5884070",
   "metadata": {},
   "outputs": [],
   "source": [
    "import time\n",
    "def timer_test(func):\n",
    "    def timer_test_inner():\n",
    "        start = time.time()\n",
    "        func()\n",
    "        end = time.time()\n",
    "        print(end-start)\n",
    "    return timer_test_inner"
   ]
  },
  {
   "cell_type": "code",
   "execution_count": 28,
   "id": "c3df2058-9826-40e1-a0f5-e79570b2a881",
   "metadata": {},
   "outputs": [],
   "source": [
    "@timer_test\n",
    "def test3():\n",
    "    print(45+32)"
   ]
  },
  {
   "cell_type": "code",
   "execution_count": 29,
   "id": "b02db11e-d46a-495b-b985-e95c34c9a711",
   "metadata": {},
   "outputs": [
    {
     "name": "stdout",
     "output_type": "stream",
     "text": [
      "77\n",
      "4.4345855712890625e-05\n"
     ]
    }
   ],
   "source": [
    "test3()"
   ]
  },
  {
   "cell_type": "code",
   "execution_count": 38,
   "id": "249ce624-e244-4a2b-8cad-b1b4460e4a4f",
   "metadata": {},
   "outputs": [],
   "source": [
    "@timer_test\n",
    "def test4():\n",
    "    for i in range(1000000):\n",
    "        pass"
   ]
  },
  {
   "cell_type": "code",
   "execution_count": 39,
   "id": "6a562f45-ff68-4928-9b48-dacf8c175ade",
   "metadata": {},
   "outputs": [
    {
     "name": "stdout",
     "output_type": "stream",
     "text": [
      "0.020741939544677734\n"
     ]
    }
   ],
   "source": [
    "test4()"
   ]
  }
 ],
 "metadata": {
  "kernelspec": {
   "display_name": "Python 3 (ipykernel)",
   "language": "python",
   "name": "python3"
  },
  "language_info": {
   "codemirror_mode": {
    "name": "ipython",
    "version": 3
   },
   "file_extension": ".py",
   "mimetype": "text/x-python",
   "name": "python",
   "nbconvert_exporter": "python",
   "pygments_lexer": "ipython3",
   "version": "3.10.8"
  }
 },
 "nbformat": 4,
 "nbformat_minor": 5
}
