{
 "cells": [
  {
   "cell_type": "markdown",
   "id": "dd965340-4dde-4cba-a83f-0a8f2b8d1e4a",
   "metadata": {},
   "source": [
    "### Reading and Writing Files"
   ]
  },
  {
   "cell_type": "code",
   "execution_count": 4,
   "id": "bb87fbb3-6ac6-40dc-9101-47efa26aaafe",
   "metadata": {},
   "outputs": [],
   "source": [
    "data = {\n",
    "    \"name\" : \"varun\",\n",
    "    \"mail_id\" : \"varun@gmail.com\",\n",
    "    \"phone_number\" : 2343243298,\n",
    "    \"subject\" : [\"data science\",\"web development\"]\n",
    "}"
   ]
  },
  {
   "cell_type": "code",
   "execution_count": 5,
   "id": "f14897a4-e382-406f-81e7-eb6bd1a26046",
   "metadata": {},
   "outputs": [],
   "source": [
    "import json"
   ]
  },
  {
   "cell_type": "code",
   "execution_count": 7,
   "id": "a117d1b1-8f68-48ab-af13-d642b40d72f7",
   "metadata": {},
   "outputs": [],
   "source": [
    "with open(\"test1.json\",\"w\") as f:\n",
    "    json.dump(data, f)"
   ]
  },
  {
   "cell_type": "code",
   "execution_count": 9,
   "id": "44f86914-abfe-4d97-9975-bcda4dc3fba2",
   "metadata": {},
   "outputs": [],
   "source": [
    "with open(\"test1.json\", \"r\") as f:\n",
    "    data1 = json.load(f)"
   ]
  },
  {
   "cell_type": "code",
   "execution_count": 10,
   "id": "264ecf78-83d3-42fe-b511-bc64cd0e8bb4",
   "metadata": {},
   "outputs": [
    {
     "data": {
      "text/plain": [
       "{'name': 'varun',\n",
       " 'mail_id': 'varun@gmail.com',\n",
       " 'phone_number': 2343243298,\n",
       " 'subject': ['data science', 'web development']}"
      ]
     },
     "execution_count": 10,
     "metadata": {},
     "output_type": "execute_result"
    }
   ],
   "source": [
    "data1"
   ]
  },
  {
   "cell_type": "code",
   "execution_count": 11,
   "id": "bd884ebb-9a33-42f1-950c-c956723bd13c",
   "metadata": {},
   "outputs": [
    {
     "data": {
      "text/plain": [
       "'web development'"
      ]
     },
     "execution_count": 11,
     "metadata": {},
     "output_type": "execute_result"
    }
   ],
   "source": [
    "data1[\"subject\"][1]"
   ]
  },
  {
   "cell_type": "code",
   "execution_count": 17,
   "id": "f4cdbc21-fd80-455d-82bb-5c9f5e6cffb9",
   "metadata": {},
   "outputs": [],
   "source": [
    "data = [[\"name\",\"email_id\",\"number\"],\n",
    "       [\"sudh\",\"sudh@gmail.com\", 9893424323],\n",
    "       [\"varun\",\"varun@gmail.com\",4982347928]]"
   ]
  },
  {
   "cell_type": "code",
   "execution_count": 18,
   "id": "c1b68d5d-7ef6-4db1-8ad9-59d3240b9151",
   "metadata": {},
   "outputs": [],
   "source": [
    "import csv"
   ]
  },
  {
   "cell_type": "code",
   "execution_count": 20,
   "id": "427930e7-9284-4306-ab0b-46c2c45fe0a1",
   "metadata": {},
   "outputs": [],
   "source": [
    "with open(\"test3.csv\",\"w\") as f:\n",
    "    w = csv.writer(f)\n",
    "    for i in data:\n",
    "        w.writerow(i)"
   ]
  },
  {
   "cell_type": "code",
   "execution_count": 23,
   "id": "dd798720-f83a-4551-864e-f51c7f1c9912",
   "metadata": {},
   "outputs": [
    {
     "name": "stdout",
     "output_type": "stream",
     "text": [
      "['name', 'email_id', 'number']\n",
      "['sudh', 'sudh@gmail.com', '9893424323']\n",
      "['varun', 'varun@gmail.com', '4982347928']\n"
     ]
    }
   ],
   "source": [
    "with open(\"test3.csv\" , \"r\") as f:\n",
    "    read = csv.reader(f)\n",
    "    for i in read:\n",
    "        print(i)"
   ]
  },
  {
   "cell_type": "code",
   "execution_count": 27,
   "id": "6330cfda-ee0e-48a7-b246-56445a5e2afc",
   "metadata": {},
   "outputs": [],
   "source": [
    "with open(\"test4.bin\",\"wb\") as f:\n",
    "    f.write(b\"\\x01\\x02\\x03\")"
   ]
  },
  {
   "cell_type": "code",
   "execution_count": 28,
   "id": "a1b44c83-1560-4c8d-aff6-970f7467e7fa",
   "metadata": {},
   "outputs": [
    {
     "name": "stdout",
     "output_type": "stream",
     "text": [
      "b'\\x01\\x02\\x03'\n"
     ]
    }
   ],
   "source": [
    "with open(\"test4.bin\", \"rb\") as f:\n",
    "    print(f.read())"
   ]
  }
 ],
 "metadata": {
  "kernelspec": {
   "display_name": "Python 3 (ipykernel)",
   "language": "python",
   "name": "python3"
  },
  "language_info": {
   "codemirror_mode": {
    "name": "ipython",
    "version": 3
   },
   "file_extension": ".py",
   "mimetype": "text/x-python",
   "name": "python",
   "nbconvert_exporter": "python",
   "pygments_lexer": "ipython3",
   "version": "3.10.8"
  }
 },
 "nbformat": 4,
 "nbformat_minor": 5
}
