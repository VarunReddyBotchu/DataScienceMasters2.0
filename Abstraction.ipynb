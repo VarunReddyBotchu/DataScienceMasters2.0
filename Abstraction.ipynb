{
 "cells": [
  {
   "cell_type": "markdown",
   "id": "44786bcd-910b-42a4-b442-cdaddb2aa6e1",
   "metadata": {},
   "source": [
    "### Abstraction"
   ]
  },
  {
   "cell_type": "code",
   "execution_count": 3,
   "id": "2950e6de-f869-47f3-ab26-affe8f2caf3e",
   "metadata": {},
   "outputs": [],
   "source": [
    "import abc\n",
    "\n",
    "class pwskills:\n",
    "    \n",
    "    @abc.abstractmethod\n",
    "    def student_details(self):\n",
    "        pass\n",
    "    @abc.abstractmethod\n",
    "    def student_assignment(self):\n",
    "        pass\n",
    "    @abc.abstractmethod\n",
    "    def student_marks(self):\n",
    "        pass"
   ]
  },
  {
   "cell_type": "code",
   "execution_count": 4,
   "id": "e527fd25-52fa-497c-a801-be485956a0bc",
   "metadata": {},
   "outputs": [],
   "source": [
    "class data_science(pwskills):\n",
    "    \n",
    "    def student_details(self):\n",
    "        return \"It will try to return a details of data science masters\"\n",
    "    \n",
    "    def student_assignment(self):\n",
    "        return \"It will return a  details of student assignment for data science masters\""
   ]
  },
  {
   "cell_type": "code",
   "execution_count": 6,
   "id": "94b64da8-6c35-4915-b006-9201a24789ba",
   "metadata": {},
   "outputs": [],
   "source": [
    "class web_dev(pwskills):\n",
    "    def student_details(self):\n",
    "        return \"this will return a details of web dev\"\n",
    "    \n",
    "    \n",
    "    \n",
    "    def student_marks(self): \n",
    "        return\"this will return marks of web dev class\""
   ]
  },
  {
   "cell_type": "code",
   "execution_count": 7,
   "id": "362809a9-91ba-4e04-9aae-63c4ed77a536",
   "metadata": {},
   "outputs": [
    {
     "data": {
      "text/plain": [
       "'It will try to return a details of data science masters'"
      ]
     },
     "execution_count": 7,
     "metadata": {},
     "output_type": "execute_result"
    }
   ],
   "source": [
    "ds = data_science()\n",
    "ds.student_details()"
   ]
  }
 ],
 "metadata": {
  "kernelspec": {
   "display_name": "Python 3 (ipykernel)",
   "language": "python",
   "name": "python3"
  },
  "language_info": {
   "codemirror_mode": {
    "name": "ipython",
    "version": 3
   },
   "file_extension": ".py",
   "mimetype": "text/x-python",
   "name": "python",
   "nbconvert_exporter": "python",
   "pygments_lexer": "ipython3",
   "version": "3.10.8"
  }
 },
 "nbformat": 4,
 "nbformat_minor": 5
}
