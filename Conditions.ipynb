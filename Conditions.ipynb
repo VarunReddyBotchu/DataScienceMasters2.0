{
 "cells": [
  {
   "cell_type": "markdown",
   "id": "97ff3134-7557-4640-a883-4cd5c9b99a4f",
   "metadata": {},
   "source": [
    "### Conditions\n",
    "1. if else\n",
    "2. if elif else\n",
    "3. while loop, break and continue, else\n",
    "4. for loop in List, String, break and continue\n",
    "5. range function"
   ]
  },
  {
   "cell_type": "code",
   "execution_count": 1,
   "id": "39aeb416-b614-4906-8305-8d5e28a87518",
   "metadata": {},
   "outputs": [
    {
     "name": "stdout",
     "output_type": "stream",
     "text": [
      "Number is less than or equal to 10\n"
     ]
    }
   ],
   "source": [
    "#1\n",
    "var1=10\n",
    "if var1<=10:\n",
    "    print(\"Number is less than or equal to 10\")\n",
    "else:\n",
    "    print(\"Number is greater than 10\")"
   ]
  },
  {
   "cell_type": "code",
   "execution_count": 2,
   "id": "e7398e69-ab05-43b8-9dac-1fbe083508ef",
   "metadata": {},
   "outputs": [
    {
     "name": "stdout",
     "output_type": "stream",
     "text": [
      "Number is greater than 10\n"
     ]
    }
   ],
   "source": [
    "#1\n",
    "var1=13\n",
    "if var1<=10:\n",
    "    print(\"Number is less than or equal to 10\")\n",
    "else:\n",
    "    print(\"Number is greater than 10\")"
   ]
  },
  {
   "cell_type": "code",
   "execution_count": 5,
   "id": "57adf370-ab40-4640-9d76-8ea1e239d048",
   "metadata": {},
   "outputs": [
    {
     "name": "stdout",
     "output_type": "stream",
     "text": [
      "Number is less than 10\n"
     ]
    }
   ],
   "source": [
    "#2\n",
    "var1=9\n",
    "if var1<10:\n",
    "    print(\"Number is less than 10\")\n",
    "elif var1==10:\n",
    "    print(\"Number is equal to  10\")\n",
    "else:\n",
    "    print(\"Number is greater than 10\")"
   ]
  },
  {
   "cell_type": "code",
   "execution_count": 6,
   "id": "6e74bf12-831e-4f08-a094-cd786996301d",
   "metadata": {},
   "outputs": [
    {
     "name": "stdout",
     "output_type": "stream",
     "text": [
      "Number is equal to  10\n"
     ]
    }
   ],
   "source": [
    "#2\n",
    "var1=10\n",
    "if var1<10:\n",
    "    print(\"Number is less than 10\")\n",
    "elif var1==10:\n",
    "    print(\"Number is equal to  10\")\n",
    "else:\n",
    "    print(\"Number is greater than 10\")"
   ]
  },
  {
   "cell_type": "code",
   "execution_count": 7,
   "id": "487d2b0f-a522-43a5-ab86-57b17ac9e576",
   "metadata": {},
   "outputs": [
    {
     "name": "stdout",
     "output_type": "stream",
     "text": [
      "Number is greater than 10\n"
     ]
    }
   ],
   "source": [
    "#2\n",
    "var1=14\n",
    "if var1<10:\n",
    "    print(\"Number is less than 10\")\n",
    "elif var1==10:\n",
    "    print(\"Number is equal to  10\")\n",
    "else:\n",
    "    print(\"Number is greater than 10\")"
   ]
  },
  {
   "cell_type": "code",
   "execution_count": 9,
   "id": "cc6f04cb-04f2-4ecf-b33b-814dc5ad1329",
   "metadata": {},
   "outputs": [
    {
     "name": "stdout",
     "output_type": "stream",
     "text": [
      "1\n",
      "2\n",
      "3\n",
      "4\n",
      "5\n",
      "6\n",
      "7\n",
      "8\n",
      "9\n",
      "10\n"
     ]
    }
   ],
   "source": [
    "#3.1\n",
    "i =1\n",
    "while i<=10:\n",
    "    print(i)\n",
    "    i+=1"
   ]
  },
  {
   "cell_type": "code",
   "execution_count": 23,
   "id": "a578dede-97c3-4ae1-9a88-157873ab9772",
   "metadata": {},
   "outputs": [
    {
     "name": "stdout",
     "output_type": "stream",
     "text": [
      "1\n",
      "2\n",
      "3\n"
     ]
    }
   ],
   "source": [
    "#3.2\n",
    "i =1\n",
    "while i<=10:\n",
    "    print(i)\n",
    "    if i==3:\n",
    "     break\n",
    "    i+=1"
   ]
  },
  {
   "cell_type": "code",
   "execution_count": 20,
   "id": "78952914-7c4d-4d1b-8ebb-dd4368b39597",
   "metadata": {},
   "outputs": [
    {
     "name": "stdout",
     "output_type": "stream",
     "text": [
      "1\n",
      "2\n",
      "4\n",
      "5\n",
      "6\n",
      "7\n",
      "8\n",
      "9\n",
      "10\n"
     ]
    }
   ],
   "source": [
    "#3.3\n",
    "i = 0\n",
    "while i < 10:\n",
    "    i += 1\n",
    "    if i == 3:\n",
    "        continue\n",
    "    print(i)      "
   ]
  },
  {
   "cell_type": "code",
   "execution_count": 21,
   "id": "52c4a9cc-ba5d-45f6-9130-f09d13ad2a23",
   "metadata": {},
   "outputs": [
    {
     "name": "stdout",
     "output_type": "stream",
     "text": [
      "1\n",
      "2\n",
      "3\n",
      "4\n",
      "5\n",
      "i is greater than 6\n"
     ]
    }
   ],
   "source": [
    "#3.4\n",
    "i = 1\n",
    "while i < 6:\n",
    "  print(i)\n",
    "  i += 1\n",
    "else:\n",
    "  print(\"i is greater than 6\")"
   ]
  },
  {
   "cell_type": "code",
   "execution_count": 22,
   "id": "a916d8d8-d4c2-46c4-bf35-27907ca1cbac",
   "metadata": {},
   "outputs": [
    {
     "name": "stdout",
     "output_type": "stream",
     "text": [
      "BasketBall\n",
      "Volleyball\n",
      "Cricket\n",
      "Football\n",
      "Carroms\n"
     ]
    }
   ],
   "source": [
    "#4.1\n",
    "sports=[\"BasketBall\", \"Volleyball\", \"Cricket\", \"Football\",\"Carroms\"]\n",
    "for i in sports:\n",
    "    print(i)"
   ]
  },
  {
   "cell_type": "code",
   "execution_count": 28,
   "id": "828ccf84-de8d-4ffb-b735-edf43433f68e",
   "metadata": {},
   "outputs": [
    {
     "name": "stdout",
     "output_type": "stream",
     "text": [
      "F\n",
      "o\n",
      "o\n",
      "t\n",
      "b\n",
      "a\n",
      "l\n",
      "l\n"
     ]
    }
   ],
   "source": [
    "#4.2\n",
    "sport1=\"Football\"\n",
    "for i in sport1:\n",
    "    print(i)"
   ]
  },
  {
   "cell_type": "code",
   "execution_count": 31,
   "id": "20d2a146-1a32-4cf1-86db-e33cdd4a8a8d",
   "metadata": {},
   "outputs": [
    {
     "name": "stdout",
     "output_type": "stream",
     "text": [
      "BasketBall\n",
      "Volleyball\n",
      "Cricket\n"
     ]
    }
   ],
   "source": [
    "#4.3\n",
    "for i in sports:\n",
    "    if i == \"Football\":\n",
    "        break\n",
    "    print(i)"
   ]
  },
  {
   "cell_type": "code",
   "execution_count": 32,
   "id": "c3db3bf4-d1ef-488f-bc0d-a8fba9e32eb5",
   "metadata": {},
   "outputs": [
    {
     "name": "stdout",
     "output_type": "stream",
     "text": [
      "BasketBall\n",
      "Volleyball\n",
      "Cricket\n",
      "Carroms\n"
     ]
    }
   ],
   "source": [
    "#4.4\n",
    "for i in sports:\n",
    "    if i == \"Football\":\n",
    "        continue\n",
    "    print(i)"
   ]
  },
  {
   "cell_type": "code",
   "execution_count": 35,
   "id": "2f3a11b0-f1de-4d71-8fa7-404ececcdef6",
   "metadata": {},
   "outputs": [
    {
     "name": "stdout",
     "output_type": "stream",
     "text": [
      "0\n",
      "2\n",
      "4\n",
      "6\n",
      "8\n",
      "10\n",
      "12\n",
      "14\n"
     ]
    }
   ],
   "source": [
    "#5(It counts till the range number 15)\n",
    "for i in range(15):\n",
    "    if i%2==0:\n",
    "        print(i)"
   ]
  },
  {
   "cell_type": "code",
   "execution_count": 36,
   "id": "7b95d725-093e-423b-9323-fd9dc9cdd9cc",
   "metadata": {},
   "outputs": [
    {
     "name": "stdout",
     "output_type": "stream",
     "text": [
      "0\n",
      "2\n",
      "4\n",
      "6\n",
      "8\n",
      "10\n",
      "12\n"
     ]
    }
   ],
   "source": [
    "#5(It counts till the range number 15)\n",
    "for i in range(14):\n",
    "    if i%2==0:\n",
    "        print(i)"
   ]
  },
  {
   "cell_type": "code",
   "execution_count": null,
   "id": "f0c52d98-8b9b-4d16-b9af-efedd3be3383",
   "metadata": {},
   "outputs": [],
   "source": []
  }
 ],
 "metadata": {
  "kernelspec": {
   "display_name": "Python 3 (ipykernel)",
   "language": "python",
   "name": "python3"
  },
  "language_info": {
   "codemirror_mode": {
    "name": "ipython",
    "version": 3
   },
   "file_extension": ".py",
   "mimetype": "text/x-python",
   "name": "python",
   "nbconvert_exporter": "python",
   "pygments_lexer": "ipython3",
   "version": "3.10.8"
  }
 },
 "nbformat": 4,
 "nbformat_minor": 5
}
