{
 "cells": [
  {
   "cell_type": "markdown",
   "id": "dc741ff2-a36a-4c32-86b6-13fca7480fcf",
   "metadata": {},
   "source": [
    "### DSA Assignment 2"
   ]
  },
  {
   "cell_type": "markdown",
   "id": "83056371-3252-48d6-9bf8-ba738c028913",
   "metadata": {},
   "source": [
    "\n",
    "##### Question 1\n",
    "###### Given an integer array nums of 2n integers, group these integers into n pairs (a1, b1), (a2, b2),..., (an, bn) such that the sum of min(ai, bi) for all i is maximized. Return the maximized sum.\n",
    "\n",
    "###### Example 1:\n",
    "###### Input: nums = [1,4,3,2]\n",
    "###### Output: 4\n",
    "\n",
    "###### Explanation:All possible pairings (ignoring the ordering of elements) are:\n",
    "\n",
    "1) (1, 4), (2, 3) -> min(1, 4) + min(2, 3) = 1 + 2 = 3\n",
    "2) (1, 3), (2, 4) -> min(1, 3) + min(2, 4) = 1 + 2 = 3\n",
    "3) (1, 2), (3, 4) -> min(1, 2) + min(3, 4) = 1 + 3 = 4\n",
    "###### So the maximum possible sum is 4\n"
   ]
  },
  {
   "cell_type": "code",
   "execution_count": 1,
   "id": "fa164850-1544-4cd2-94b9-d6db156b1436",
   "metadata": {},
   "outputs": [],
   "source": [
    "def array_pair_sum(nums):\n",
    "    nums.sort()\n",
    "    result = 0\n",
    "    for i in range(0, len(nums), 2):\n",
    "        result += min(nums[i], nums[i+1])\n",
    "    return result"
   ]
  },
  {
   "cell_type": "code",
   "execution_count": 7,
   "id": "43b11f11-3f0a-4db4-a2cc-9162f94b9b98",
   "metadata": {},
   "outputs": [],
   "source": [
    "test1 = array_pair_sum([1,2,3,4])"
   ]
  },
  {
   "cell_type": "code",
   "execution_count": 8,
   "id": "3dd69e4c-f30e-42d9-a33b-452fd082ddcb",
   "metadata": {},
   "outputs": [
    {
     "data": {
      "text/plain": [
       "4"
      ]
     },
     "execution_count": 8,
     "metadata": {},
     "output_type": "execute_result"
    }
   ],
   "source": [
    "test1"
   ]
  },
  {
   "cell_type": "code",
   "execution_count": 13,
   "id": "fbdcf543-1c25-4014-9965-b69d2bdf0335",
   "metadata": {},
   "outputs": [],
   "source": [
    "test2 = array_pair_sum([18,24,37,46,59,62,73,85])"
   ]
  },
  {
   "cell_type": "code",
   "execution_count": 14,
   "id": "11e9da32-2e35-44d8-a761-014d156b92cc",
   "metadata": {},
   "outputs": [
    {
     "data": {
      "text/plain": [
       "187"
      ]
     },
     "execution_count": 14,
     "metadata": {},
     "output_type": "execute_result"
    }
   ],
   "source": [
    "test2"
   ]
  },
  {
   "cell_type": "markdown",
   "id": "9d09d319-0c53-4d27-b4b9-13840265a7b1",
   "metadata": {},
   "source": [
    "##### Question 2\n",
    "###### Alice has n candies, where the ith candy is of type candyType[i]. Alice noticed that she started to gain weight, so she visited a doctor. \n",
    "\n",
    "###### The doctor advised Alice to only eat n / 2 of the candies she has (n is always even). Alice likes her candies very much, and she wants to eat the maximum number of different types of candies while still following the doctor's advice. \n",
    "\n",
    "###### Given the integer array candyType of length n, return the maximum number of different types of candies she can eat if she only eats n / 2 of them.\n",
    "\n",
    "###### Example 1:\n",
    "###### Input: candyType = [1,1,2,2,3,3]\n",
    "###### Output: 3\n",
    "\n",
    "###### Explanation: Alice can only eat 6 / 2 = 3 candies. Since there are only 3 types, she can eat one of each type."
   ]
  },
  {
   "cell_type": "code",
   "execution_count": 40,
   "id": "86761b0f-83be-4b67-9d2a-5901c619d6be",
   "metadata": {},
   "outputs": [],
   "source": [
    "def max_num_of_candies(candyType):\n",
    "    unique_candies = set(candyType)\n",
    "    return min(len(unique_candies), len(candyType) // 2)"
   ]
  },
  {
   "cell_type": "code",
   "execution_count": 31,
   "id": "774ec285-ca16-47d1-a92b-9a2c7725b02e",
   "metadata": {},
   "outputs": [],
   "source": [
    "q2test1 = max_num_of_candies([1,1,2,2,3,3])"
   ]
  },
  {
   "cell_type": "code",
   "execution_count": 32,
   "id": "89b3f46e-4767-45f6-9bfb-78cd05e63b5a",
   "metadata": {},
   "outputs": [
    {
     "data": {
      "text/plain": [
       "3"
      ]
     },
     "execution_count": 32,
     "metadata": {},
     "output_type": "execute_result"
    }
   ],
   "source": [
    "q2test1"
   ]
  },
  {
   "cell_type": "code",
   "execution_count": 41,
   "id": "d2307c79-b1b8-421e-a397-07f95c5d6cb0",
   "metadata": {},
   "outputs": [],
   "source": [
    "q2test2 = max_num_of_candies([1,1,1,1,2,2,2,2,3,3,3,3,4,4,4,4])"
   ]
  },
  {
   "cell_type": "code",
   "execution_count": 42,
   "id": "2082cfd7-e429-4769-aa40-db062649c546",
   "metadata": {},
   "outputs": [
    {
     "data": {
      "text/plain": [
       "4"
      ]
     },
     "execution_count": 42,
     "metadata": {},
     "output_type": "execute_result"
    }
   ],
   "source": [
    "q2test2"
   ]
  },
  {
   "cell_type": "markdown",
   "id": "7202ae04-60d4-4b8b-8de0-2e00c019ed3c",
   "metadata": {},
   "source": [
    "##### Question 3\n",
    "###### We define a harmonious array as an array where the difference between its maximum value and its minimum value is exactly 1.\n",
    "\n",
    "###### Given an integer array nums, return the length of its longest harmonious subsequence among all its possible subsequences.\n",
    "\n",
    "###### A subsequence of an array is a sequence that can be derived from the array by deleting some or no elements without changing the order of the remaining elements.\n",
    "\n",
    "###### Example 1:\n",
    "###### Input: nums = [1,3,2,2,5,2,3,7]\n",
    "###### Output: 5\n",
    "\n",
    "###### Explanation: The longest harmonious subsequence is [3,2,2,2,3]."
   ]
  },
  {
   "cell_type": "code",
   "execution_count": 7,
   "id": "e0cbd7c9-4201-40f1-931b-254738a2efad",
   "metadata": {},
   "outputs": [],
   "source": [
    "def findLHS(nums):\n",
    "    freq = {}\n",
    "    for num in nums:\n",
    "        freq[num] = freq.get(num, 0) + 1\n",
    "\n",
    "    result = 0\n",
    "    for num in freq:\n",
    "        if num + 1 in freq:\n",
    "            result = max(result, freq[num] + freq[num+1])\n",
    "\n",
    "    return result"
   ]
  },
  {
   "cell_type": "code",
   "execution_count": 22,
   "id": "aebb117e-69de-446a-84f7-56f7823d6afd",
   "metadata": {},
   "outputs": [],
   "source": [
    "q3test1 = findLHS([1,3,2,2,5,2,3,7])"
   ]
  },
  {
   "cell_type": "code",
   "execution_count": 23,
   "id": "14486b41-324c-40f4-a91e-00ab450d555d",
   "metadata": {},
   "outputs": [
    {
     "data": {
      "text/plain": [
       "5"
      ]
     },
     "execution_count": 23,
     "metadata": {},
     "output_type": "execute_result"
    }
   ],
   "source": [
    "q3test1"
   ]
  },
  {
   "cell_type": "code",
   "execution_count": 24,
   "id": "6a017867-492a-45d8-9fa7-d3e01e89505a",
   "metadata": {},
   "outputs": [],
   "source": [
    "q3test2 = findLHS([1,6,2,8,4,9,10,6,4,9,2])"
   ]
  },
  {
   "cell_type": "code",
   "execution_count": 25,
   "id": "77d3f91b-922a-4581-a672-b38bc5e3f41f",
   "metadata": {},
   "outputs": [
    {
     "data": {
      "text/plain": [
       "3"
      ]
     },
     "execution_count": 25,
     "metadata": {},
     "output_type": "execute_result"
    }
   ],
   "source": [
    "q3test2"
   ]
  },
  {
   "cell_type": "markdown",
   "id": "6c83e162-6863-43d5-a96e-92ce39549924",
   "metadata": {},
   "source": [
    "##### Question 4\n",
    "###### You have a long flowerbed in which some of the plots are planted, and some are not.\n",
    "###### However, flowers cannot be planted in adjacent plots.\n",
    "###### Given an integer array flowerbed containing 0's and 1's, where 0 means empty and 1 means not empty, and an integer n, return true if n new flowers can be planted in the flowerbed without violating the no-adjacent-flowers rule and false otherwise.\n",
    "\n",
    "###### Example 1:\n",
    "###### Input: flowerbed = [1,0,0,0,1], n = 1\n",
    "###### Output: true"
   ]
  },
  {
   "cell_type": "code",
   "execution_count": 21,
   "id": "a9b93429-5c7c-4219-8616-62271188b37f",
   "metadata": {},
   "outputs": [],
   "source": [
    "def can_place_flowers(flowerbed, n):\n",
    "    i = 0\n",
    "    while i < len(flowerbed) and n > 0:\n",
    "        if flowerbed[i] == 0 and (i == 0 or flowerbed[i-1] == 0) and (i == len(flowerbed)-1 or flowerbed[i+1] == 0):\n",
    "            flowerbed[i] = 1\n",
    "            n -= 1\n",
    "        i += 1\n",
    "    return n == 0"
   ]
  },
  {
   "cell_type": "code",
   "execution_count": 13,
   "id": "108c3201-4d6b-4174-955a-a51746718ce6",
   "metadata": {},
   "outputs": [],
   "source": [
    "q4test1 = can_place_flowers([1,0,0,0,1], 1)"
   ]
  },
  {
   "cell_type": "code",
   "execution_count": 26,
   "id": "52c3fd49-456e-47a1-8718-cac5eb20ca93",
   "metadata": {},
   "outputs": [
    {
     "data": {
      "text/plain": [
       "True"
      ]
     },
     "execution_count": 26,
     "metadata": {},
     "output_type": "execute_result"
    }
   ],
   "source": [
    "q4test1"
   ]
  },
  {
   "cell_type": "code",
   "execution_count": 27,
   "id": "87550cb0-d02b-436d-9872-b6f1a93c7465",
   "metadata": {},
   "outputs": [],
   "source": [
    "q4test2 = can_place_flowers([1,0,1,0,1,0,0,1,0,1,0,1],3)"
   ]
  },
  {
   "cell_type": "code",
   "execution_count": 28,
   "id": "ce54b1c5-9717-4e7d-bcf6-f04965b5ba9a",
   "metadata": {},
   "outputs": [
    {
     "data": {
      "text/plain": [
       "False"
      ]
     },
     "execution_count": 28,
     "metadata": {},
     "output_type": "execute_result"
    }
   ],
   "source": [
    "q4test2"
   ]
  },
  {
   "cell_type": "markdown",
   "id": "4a8d146e-4899-440e-b8f3-8f392f8d3bbe",
   "metadata": {},
   "source": [
    "##### Question 5\n",
    "###### Given an integer array nums, find three numbers whose product is maximum and return the maximum product.\n",
    "\n",
    "###### Example 1:\n",
    "###### Input: nums = [1,2,3]\n",
    "###### Output: 6"
   ]
  },
  {
   "cell_type": "code",
   "execution_count": 68,
   "id": "5ff4425b-4b2a-4c63-a8be-27d731f3c666",
   "metadata": {},
   "outputs": [],
   "source": [
    "def maximumProduct(nums):\n",
    "    nums.sort()\n",
    "    return max(nums[-1] * nums[-2] * nums[-3], nums[0] * nums[1] * nums[-1])"
   ]
  },
  {
   "cell_type": "code",
   "execution_count": 71,
   "id": "d6c15988-49fa-4130-bd2f-5b3c733d873c",
   "metadata": {},
   "outputs": [],
   "source": [
    "q5test1 = maximumProduct([1,2,3])"
   ]
  },
  {
   "cell_type": "code",
   "execution_count": 72,
   "id": "f5a587ae-affb-4855-898e-b4637801c61e",
   "metadata": {},
   "outputs": [
    {
     "data": {
      "text/plain": [
       "6"
      ]
     },
     "execution_count": 72,
     "metadata": {},
     "output_type": "execute_result"
    }
   ],
   "source": [
    "q5test1"
   ]
  },
  {
   "cell_type": "code",
   "execution_count": 73,
   "id": "70f23f81-6cba-4918-833c-69a1eff008e6",
   "metadata": {},
   "outputs": [],
   "source": [
    "q5test2 = maximumProduct([4,5,67,324,23])"
   ]
  },
  {
   "cell_type": "code",
   "execution_count": 74,
   "id": "fcf6356a-4b27-43fd-9e07-f8a63127e8a3",
   "metadata": {},
   "outputs": [
    {
     "data": {
      "text/plain": [
       "499284"
      ]
     },
     "execution_count": 74,
     "metadata": {},
     "output_type": "execute_result"
    }
   ],
   "source": [
    "q5test2"
   ]
  },
  {
   "cell_type": "markdown",
   "id": "6d9840bd-cd28-429c-9990-2a87e8f6e495",
   "metadata": {},
   "source": [
    "##### Question 6\n",
    "###### Given an array of integers nums which is sorted in ascending order, and an integer target,\n",
    "###### write a function to search target in nums. If target exists, then return its index. Otherwise, return -1.\n",
    "\n",
    "###### You must write an algorithm with O(log n) runtime complexity.\n",
    "\n",
    "###### Input: nums = [-1,0,3,5,9,12], target = 9\n",
    "###### Output: 4\n",
    "\n",
    "###### Explanation: 9 exists in nums and its index is 4"
   ]
  },
  {
   "cell_type": "code",
   "execution_count": 34,
   "id": "d7e6dfd2-bcb1-4e99-a14f-4bf7e8254992",
   "metadata": {},
   "outputs": [],
   "source": [
    "def binary_search(nums, target):\n",
    "    left, right = 0, len(nums) - 1\n",
    "    \n",
    "    while left <= right:\n",
    "        mid = (left + right) // 2\n",
    "        \n",
    "        if nums[mid] == target:\n",
    "            return mid\n",
    "        elif nums[mid] > target:\n",
    "            right = mid - 1\n",
    "        else:\n",
    "            left = mid + 1\n",
    "    \n",
    "    return -1"
   ]
  },
  {
   "cell_type": "code",
   "execution_count": 70,
   "id": "5f8d6db7-2227-4fa5-8d4f-20d3752a6a63",
   "metadata": {},
   "outputs": [
    {
     "name": "stdout",
     "output_type": "stream",
     "text": [
      "4\n"
     ]
    }
   ],
   "source": [
    "nums = [-1,0,3,5,9,12]\n",
    "target = 9\n",
    "print(binary_search(nums, target)) "
   ]
  },
  {
   "cell_type": "code",
   "execution_count": 77,
   "id": "cffb9d37-775a-430e-a782-88452c096dfa",
   "metadata": {},
   "outputs": [
    {
     "name": "stdout",
     "output_type": "stream",
     "text": [
      "-1\n"
     ]
    }
   ],
   "source": [
    "nums = [-3,2,7,9,16]\n",
    "target = 12\n",
    "print(binary_search(nums, target))"
   ]
  },
  {
   "cell_type": "markdown",
   "id": "7f6af1e4-13d0-4a0a-ab3e-0a893f81d308",
   "metadata": {},
   "source": [
    "##### Question 7\n",
    "###### An array is monotonic if it is either monotone increasing or monotone decreasing.\n",
    "\n",
    "###### An array nums is monotone increasing if for all i <= j, nums[i] <= nums[j]. An array nums is monotone decreasing if for all i <= j, nums[i] >= nums[j].\n",
    "\n",
    "###### Given an integer array nums, return true if the given array is monotonic, or false otherwise.\n",
    "\n",
    "###### Example 1:\n",
    "###### Input: nums = [1,2,2,3]\n",
    "###### Output: true"
   ]
  },
  {
   "cell_type": "code",
   "execution_count": 36,
   "id": "6f15660c-dcc9-4153-83d6-60eeccdbcfa9",
   "metadata": {},
   "outputs": [],
   "source": [
    "def isMonotonic(nums):\n",
    "    increasing = decreasing = True\n",
    "    for i in range(1, len(nums)):\n",
    "        if nums[i] > nums[i-1]:\n",
    "            decreasing = False\n",
    "        if nums[i] < nums[i-1]:\n",
    "            increasing = False\n",
    "        if not increasing and not decreasing:\n",
    "            return False\n",
    "    return True"
   ]
  },
  {
   "cell_type": "code",
   "execution_count": 3,
   "id": "5f12f8c9-d882-40fe-8571-e7d730d19c28",
   "metadata": {},
   "outputs": [
    {
     "name": "stdout",
     "output_type": "stream",
     "text": [
      "True\n"
     ]
    }
   ],
   "source": [
    "print(isMonotonic([1,2,2,3]))"
   ]
  },
  {
   "cell_type": "code",
   "execution_count": 4,
   "id": "f4f86007-219e-41b0-bf01-4a8dc521095f",
   "metadata": {},
   "outputs": [
    {
     "name": "stdout",
     "output_type": "stream",
     "text": [
      "True\n"
     ]
    }
   ],
   "source": [
    "nums = [6,5,4,4]\n",
    "print(isMonotonic(nums)) "
   ]
  },
  {
   "cell_type": "code",
   "execution_count": 5,
   "id": "6b7a7d97-6307-4f7f-bfc1-f3fb4136eb36",
   "metadata": {},
   "outputs": [
    {
     "name": "stdout",
     "output_type": "stream",
     "text": [
      "False\n"
     ]
    }
   ],
   "source": [
    "nums = [1,3,2]\n",
    "print(isMonotonic(nums)) "
   ]
  },
  {
   "cell_type": "markdown",
   "id": "2704865f-2943-48b8-9efe-47f57a619a45",
   "metadata": {},
   "source": [
    "##### Question 8\n",
    "###### You are given an integer array nums and an integer k.\n",
    "\n",
    "###### In one operation, you can choose any index i where 0 <= i < nums.length and change nums[i] to nums[i] + x where x is an integer from the range [-k, k]. You can apply this operation at most once for each index i.\n",
    "\n",
    "###### The score of nums is the difference between the maximum and minimum elements in nums.\n",
    "\n",
    "###### Return the minimum score of nums after applying the mentioned operation at most once for each index in it.\n",
    "\n",
    "###### Example 1:\n",
    "###### Input: nums = [1], k = 0\n",
    "###### Output: 0\n",
    "\n",
    "###### Explanation: The score is max(nums) - min(nums) = 1 - 1 = 0."
   ]
  },
  {
   "cell_type": "code",
   "execution_count": 41,
   "id": "c75dcb6e-d39e-478d-b8bf-1b15ed3b953a",
   "metadata": {},
   "outputs": [],
   "source": [
    "def smallestRange(nums, k):\n",
    "    nums.sort()\n",
    "    n = len(nums)\n",
    "    left, right = nums[0] + k, nums[-1] - k\n",
    "    ans = nums[-1] - nums[0]\n",
    "    for i in range(n-1):\n",
    "        min_val = min(left, nums[i+1]-k)\n",
    "        max_val = max(right, nums[i]+k)\n",
    "        if max_val - min_val < ans:\n",
    "            ans = max_val - min_val\n",
    "        left = min_val\n",
    "        right = max_val\n",
    "    return ans"
   ]
  },
  {
   "cell_type": "code",
   "execution_count": 37,
   "id": "e515f061-28b2-4086-a737-6d6026a67ced",
   "metadata": {},
   "outputs": [
    {
     "name": "stdout",
     "output_type": "stream",
     "text": [
      "0\n"
     ]
    }
   ],
   "source": [
    "print(smallestRange([1],0))"
   ]
  },
  {
   "cell_type": "code",
   "execution_count": 39,
   "id": "d228b2e5-1fb2-4686-9ea5-625d3811e4f1",
   "metadata": {},
   "outputs": [
    {
     "name": "stdout",
     "output_type": "stream",
     "text": [
      "2\n"
     ]
    }
   ],
   "source": [
    "print(smallestRange([1,5,3],2))"
   ]
  }
 ],
 "metadata": {
  "kernelspec": {
   "display_name": "Python 3 (ipykernel)",
   "language": "python",
   "name": "python3"
  },
  "language_info": {
   "codemirror_mode": {
    "name": "ipython",
    "version": 3
   },
   "file_extension": ".py",
   "mimetype": "text/x-python",
   "name": "python",
   "nbconvert_exporter": "python",
   "pygments_lexer": "ipython3",
   "version": "3.10.8"
  }
 },
 "nbformat": 4,
 "nbformat_minor": 5
}
