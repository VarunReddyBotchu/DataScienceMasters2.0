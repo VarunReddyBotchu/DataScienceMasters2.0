{
  "metadata": {
    "language_info": {
      "codemirror_mode": {
        "name": "python",
        "version": 3
      },
      "file_extension": ".py",
      "mimetype": "text/x-python",
      "name": "python",
      "nbconvert_exporter": "python",
      "pygments_lexer": "ipython3",
      "version": "3.8"
    },
    "kernelspec": {
      "name": "python",
      "display_name": "Python (Pyodide)",
      "language": "python"
    }
  },
  "nbformat_minor": 4,
  "nbformat": 4,
  "cells": [
    {
      "cell_type": "markdown",
      "source": "###Assignment Questions",
      "metadata": {}
    },
    {
      "cell_type": "markdown",
      "source": "##### Move Zeroes\n##### Given an integer array nums, move all 0's to the end of it while maintaining the relative order of the non-zero elements.\n\n##### Note that you must do this in-place without making a copy of the array.\n\n##### Example 1:\n##### Input: nums = [0,1,0,3,12]\n##### Output: [1,3,12,0,0]\n\n##### Example 2:\n##### Input: nums = [0]\n##### Output: [0]\n\n##### Constraints:\n##### a. 1 <= nums.length <= 10^4\n##### b. -2^31 <= nums[i] <= 2^31 - 1\n\n##### Note: Create a GitHub file for the solution and add the file link the the answer section below.",
      "metadata": {}
    },
    {
      "cell_type": "code",
      "source": "def moveZeroes(nums):\n    marker = 0\n    for i in range(len(nums)):\n        if nums[i] != 0:\n            nums[i], nums[marker] = nums[marker], nums[i]\n            marker += 1\n    return nums",
      "metadata": {
        "trusted": true
      },
      "execution_count": 32,
      "outputs": []
    },
    {
      "cell_type": "code",
      "source": "nums = [0,1,0,3,12]",
      "metadata": {
        "trusted": true
      },
      "execution_count": 33,
      "outputs": []
    },
    {
      "cell_type": "code",
      "source": "print(moveZeroes(nums))",
      "metadata": {
        "trusted": true
      },
      "execution_count": 34,
      "outputs": [
        {
          "name": "stdout",
          "text": "[1, 3, 12, 0, 0]\n",
          "output_type": "stream"
        }
      ]
    },
    {
      "cell_type": "code",
      "source": "nums = [0]",
      "metadata": {
        "trusted": true
      },
      "execution_count": 35,
      "outputs": []
    },
    {
      "cell_type": "code",
      "source": "print(moveZeroes(nums))",
      "metadata": {
        "trusted": true
      },
      "execution_count": 36,
      "outputs": [
        {
          "name": "stdout",
          "text": "[0]\n",
          "output_type": "stream"
        }
      ]
    },
    {
      "cell_type": "markdown",
      "source": "##### First Unique Character in a String\n\n##### Given a string s, find the first non-repeating character in it and return its index. If it does not exist, return -1.\n\n##### Example 1:\n##### Input: s = \"leetcode\"\n##### Output: 0\n\n##### Example 2:\n##### Input: s = \"loveleetcode\"\n##### Output: 2\n\n##### Example 3:\n##### Input: s = \"aabb\"\n##### Output: -1\n\n##### Constraints:\n##### a. 1 <= s.length <= 10^5\n##### b. s consists of only lowercase English letters.\n\n##### Note: Create a GitHub file for the solution and add the file link the the answer section below.",
      "metadata": {}
    },
    {
      "cell_type": "code",
      "source": "def firstUniqChar(s: str) -> int:\n    freq = {}\n    \n    for char in s:\n        freq[char] = freq.get(char, 0) + 1\n\n    for i in range(len(s)):\n        if freq[s[i]] == 1:\n            return i\n    \n    return -1",
      "metadata": {
        "trusted": true
      },
      "execution_count": 77,
      "outputs": []
    },
    {
      "cell_type": "code",
      "source": "s = \"leetcode\"\nprint(firstUniqChar(s)) ",
      "metadata": {
        "trusted": true
      },
      "execution_count": 78,
      "outputs": [
        {
          "name": "stdout",
          "text": "0\n",
          "output_type": "stream"
        }
      ]
    },
    {
      "cell_type": "code",
      "source": "s = \"aabb\"",
      "metadata": {
        "trusted": true
      },
      "execution_count": 79,
      "outputs": []
    },
    {
      "cell_type": "code",
      "source": "print(firstUniqChar(s))",
      "metadata": {
        "trusted": true
      },
      "execution_count": 80,
      "outputs": [
        {
          "name": "stdout",
          "text": "-1\n",
          "output_type": "stream"
        }
      ]
    },
    {
      "cell_type": "code",
      "source": "s = \"loveleetcode\"\nprint(firstUniqChar(s))",
      "metadata": {
        "trusted": true
      },
      "execution_count": 81,
      "outputs": [
        {
          "name": "stdout",
          "text": "2\n",
          "output_type": "stream"
        }
      ]
    }
  ]
}