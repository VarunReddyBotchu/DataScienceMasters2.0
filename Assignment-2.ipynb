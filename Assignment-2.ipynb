{
 "cells": [
  {
   "cell_type": "markdown",
   "id": "4e133a85-f325-4e38-8f7a-e6c49cae8063",
   "metadata": {},
   "source": [
    "### Assignment-2"
   ]
  },
  {
   "cell_type": "markdown",
   "id": "d7a19304-50a8-4db1-af4c-76dcdc682dde",
   "metadata": {},
   "source": [
    "##### Q1. How do you comment code in Python? What are the different types of comments?"
   ]
  },
  {
   "cell_type": "markdown",
   "id": "e6da66de-35e5-465d-9297-95ef540c4733",
   "metadata": {},
   "source": [
    "###### We can comment in Python using # beside the code.Comments are used to make code easy to understand.There are two types of comments.\n",
    "1. Single-line comment(#).\n",
    "   Used for small comments \n",
    "2. Multi-line comment(\"\"\" \"\"\") or (''' ''').\n",
    "   Used for big comments or explination"
   ]
  },
  {
   "cell_type": "code",
   "execution_count": 2,
   "id": "40bf33dc-a336-44cc-87da-2e3aa8cd1093",
   "metadata": {},
   "outputs": [
    {
     "name": "stdout",
     "output_type": "stream",
     "text": [
      "17\n"
     ]
    }
   ],
   "source": [
    "#single line comment Example \n",
    "str1=\"varun Kumar reddy\"\n",
    "print(len(str1))#prints the length of string"
   ]
  },
  {
   "cell_type": "code",
   "execution_count": 16,
   "id": "ce5e9e81-b972-4b61-8c9e-3c8005a32936",
   "metadata": {},
   "outputs": [
    {
     "name": "stdout",
     "output_type": "stream",
     "text": [
      "VARUN KUMAR REDDY\n"
     ]
    }
   ],
   "source": [
    "''' multi line comment example.\n",
    "This is used for big comments or explination'''\n",
    "\"\"\"this prints str1 in uppercase.\n",
    "this is a built in method for strings \"\"\"\n",
    "print(str1.upper())"
   ]
  },
  {
   "cell_type": "markdown",
   "id": "dd5ed4d0-3a1a-43dc-bc6a-c77f1589e2df",
   "metadata": {},
   "source": [
    "##### Q2. What are variables in Python? How do you declare and assign values to variables?"
   ]
  },
  {
   "cell_type": "markdown",
   "id": "d9f8df3d-b29d-4b8d-ba00-aa93f2c5a495",
   "metadata": {},
   "source": [
    "##### Variable is a reserved memory location in which values assigned by the user are stored.In python we need not declare the variable type as soon as we create it, based on the values assigned, python interprets it during runtime and understands its data type."
   ]
  },
  {
   "cell_type": "code",
   "execution_count": 23,
   "id": "77589dee-6dc7-486a-bd01-2f83558bf793",
   "metadata": {},
   "outputs": [
    {
     "name": "stdout",
     "output_type": "stream",
     "text": [
      "23 <class 'int'>\n"
     ]
    },
    {
     "name": "stdin",
     "output_type": "stream",
     "text": [
      "Enter your name: Varun Kumar Reddy\n"
     ]
    },
    {
     "name": "stdout",
     "output_type": "stream",
     "text": [
      "Varun Kumar Reddy\n"
     ]
    }
   ],
   "source": [
    "#How to declare and assign values to variables\n",
    "var1=23#we can directly assign values and python understands its data type automaticaly\n",
    "print(var1,type(var1))#prints value and its data type\n",
    "var2=str(input(\"Enter your name:\"))\n",
    "\"\"\"we can prompt the user to enter value and assign a data type to it.\n",
    "Python takes the value prompted by user and stores in we assigned in the data type we declared.\"\"\"\n",
    "print(var2)"
   ]
  },
  {
   "cell_type": "markdown",
   "id": "ec651f05-5562-4196-853b-92b3c16b3de2",
   "metadata": {},
   "source": [
    "##### Q3. How do you convert one data type to another in Python?"
   ]
  },
  {
   "cell_type": "code",
   "execution_count": 29,
   "id": "7b1e490f-c73c-4e61-9906-dba4186781c7",
   "metadata": {},
   "outputs": [
    {
     "name": "stdout",
     "output_type": "stream",
     "text": [
      "<class 'float'>\n",
      "5 <class 'int'>\n",
      "1\n",
      "1.0\n"
     ]
    }
   ],
   "source": [
    "'''We can convert one data type to another using type casting.\n",
    "We an convert float to int, complex to int,float, bool to int, float, string integers to int, float'''\n",
    "flt1=5.439\n",
    "print(type(flt1))\n",
    "var3=int(flt1)#using type casting to convert float data to int data type\n",
    "print(var3,type(var3))\n",
    "str2=\"193\"\n",
    "bln1=True\n",
    "print(int(bln1))\n",
    "print(float(bln1))"
   ]
  },
  {
   "cell_type": "markdown",
   "id": "e1468362-4be1-4ddc-b533-143bc31e7889",
   "metadata": {},
   "source": [
    "##### Q4. How do you write and execute a Python script from the command line?"
   ]
  },
  {
   "cell_type": "code",
   "execution_count": 30,
   "id": "b6538a80-f2f7-40f7-af93-9ffe1256a4ba",
   "metadata": {},
   "outputs": [],
   "source": [
    "#We can write and execute python script from the command line by opening command line, typing python or python3 and path of the python script."
   ]
  },
  {
   "cell_type": "markdown",
   "id": "e420a0d1-d5c8-44b7-8a49-e75aca207a9f",
   "metadata": {},
   "source": [
    "##### Q5. Given a list my_list = [1, 2, 3, 4, 5], write the code to slice the list and obtain the sub-list [2, 3]."
   ]
  },
  {
   "cell_type": "code",
   "execution_count": 31,
   "id": "27aaa658-dd95-431f-bf2e-190e883bc988",
   "metadata": {},
   "outputs": [
    {
     "name": "stdout",
     "output_type": "stream",
     "text": [
      "[2, 3]\n"
     ]
    }
   ],
   "source": [
    "my_list=[1,2,3,4,5]\n",
    "print(my_list[1:3:1])#it slices and prints 2nd and 3rd element of the list"
   ]
  },
  {
   "cell_type": "markdown",
   "id": "8240bd70-d84d-4791-b060-7b9810aa7bb7",
   "metadata": {},
   "source": [
    "##### Q6. What is a complex number in mathematics, and how is it represented in Python?"
   ]
  },
  {
   "cell_type": "code",
   "execution_count": 35,
   "id": "44a8fbbe-62c8-45b2-95b2-68b56330b272",
   "metadata": {},
   "outputs": [
    {
     "name": "stdout",
     "output_type": "stream",
     "text": [
      "(9+10j) <class 'complex'>\n"
     ]
    }
   ],
   "source": [
    "\"\"\"Complex numbers in mathematics are numbers expressed in the form of a+ib where a and b are real numbers and i is the imaginary part of the number.\n",
    "The value of i is square root of -1.in 6+i7, 6,7 are real numbers and i is imaginary part called \"iota\".\n",
    "In python it is represented by complex data type, but only difference is the imaginary numbers can be denoted by j \"\"\"\n",
    "cmp1=9+10j\n",
    "print(cmp1,type(cmp1))#prints cmp1 value and its data type"
   ]
  },
  {
   "cell_type": "markdown",
   "id": "082f176d-4d0b-4d7b-8a74-6bbb9873b4f2",
   "metadata": {},
   "source": [
    "##### Q7. What is the correct way to declare a variable named age and assign the value 25 to it?"
   ]
  },
  {
   "cell_type": "code",
   "execution_count": 36,
   "id": "10ea0135-1ec8-46fa-b685-7c38d9377792",
   "metadata": {},
   "outputs": [],
   "source": [
    "\"\"\"The correct way to declare a variable is:\n",
    "1.variable name starts with letters  or undersore.\n",
    "2.variable cannot have space between their name.\n",
    "3.variables are case-sensitive\n",
    "4.variables can be named only using alpha-numeric characters and underscore.\"\"\"\n",
    "age = 25#this is the method to declare variable named age and assign the value 25 to it"
   ]
  },
  {
   "cell_type": "markdown",
   "id": "b0947438-223e-4deb-8292-0210a088e96a",
   "metadata": {},
   "source": [
    "##### Q8. Declare a variable named price and assign the value 9.99 to it. What data type does this variable belong to?"
   ]
  },
  {
   "cell_type": "code",
   "execution_count": 37,
   "id": "5fee344d-ed37-4857-85d5-28b9c860bb8f",
   "metadata": {},
   "outputs": [
    {
     "name": "stdout",
     "output_type": "stream",
     "text": [
      "<class 'float'>\n"
     ]
    }
   ],
   "source": [
    "price=9.99\n",
    "print(type(price))#prints the data type of variable price"
   ]
  },
  {
   "cell_type": "markdown",
   "id": "4595a4cd-add9-403f-9334-ed9f06072b79",
   "metadata": {},
   "source": [
    "##### Q9. Create a variable named name and assign your full name to it as a string. How would you print the value of this variable?"
   ]
  },
  {
   "cell_type": "code",
   "execution_count": 44,
   "id": "86f8b6cb-5ccc-4c02-b10b-20f70adcbeb2",
   "metadata": {},
   "outputs": [
    {
     "name": "stdout",
     "output_type": "stream",
     "text": [
      "Varun Kumar Reddy\n",
      "Varun Kumar Reddy\n",
      "Varun Kumar Reddy\n"
     ]
    }
   ],
   "source": [
    "name=\"Varun Kumar Reddy\"\n",
    "#we can print the value in three types.normal method, f method, format method.\n",
    "print(name)\n",
    "print(f\"{name}\")\n",
    "print(\"{}\".format(name))"
   ]
  },
  {
   "cell_type": "markdown",
   "id": "30a82ac3-4e7c-4a1f-b1bd-7112d0e1697a",
   "metadata": {},
   "source": [
    "##### Q10. Given the string \"Hello, World!\", extract the substring \"World\"."
   ]
  },
  {
   "cell_type": "code",
   "execution_count": 47,
   "id": "2bb85f3c-6adb-48ce-b88d-caa6a136e2ed",
   "metadata": {},
   "outputs": [
    {
     "name": "stdout",
     "output_type": "stream",
     "text": [
      "World\n"
     ]
    }
   ],
   "source": [
    "str1=\"Hello World!\"\n",
    "print(str1[6:11:1])"
   ]
  },
  {
   "cell_type": "markdown",
   "id": "6346cb12-7a8a-46d4-9c56-0912755e8159",
   "metadata": {},
   "source": [
    "##### Q11. Create a variable named \"is_student\" and assign it a boolean value indicating whether you are currently a student or not."
   ]
  },
  {
   "cell_type": "code",
   "execution_count": 48,
   "id": "a826a3ee-0dcb-48cb-a9df-7b4bdd786b38",
   "metadata": {},
   "outputs": [],
   "source": [
    "is_student = True"
   ]
  }
 ],
 "metadata": {
  "kernelspec": {
   "display_name": "Python 3 (ipykernel)",
   "language": "python",
   "name": "python3"
  },
  "language_info": {
   "codemirror_mode": {
    "name": "ipython",
    "version": 3
   },
   "file_extension": ".py",
   "mimetype": "text/x-python",
   "name": "python",
   "nbconvert_exporter": "python",
   "pygments_lexer": "ipython3",
   "version": "3.10.8"
  }
 },
 "nbformat": 4,
 "nbformat_minor": 5
}
