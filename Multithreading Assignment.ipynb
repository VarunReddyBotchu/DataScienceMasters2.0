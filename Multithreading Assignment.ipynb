{
 "cells": [
  {
   "cell_type": "markdown",
   "id": "ba6c5e4a-3da8-44b6-89e2-077e7c33fcd4",
   "metadata": {},
   "source": [
    "### Multithreading Assignment"
   ]
  },
  {
   "cell_type": "markdown",
   "id": "23757cd6-daaa-486e-a402-cf914772f436",
   "metadata": {},
   "source": [
    "##### 1). What is multithreading in python? Why is it used? Name the module used to handle threads in python."
   ]
  },
  {
   "cell_type": "markdown",
   "id": "556a335d-b958-473d-b408-b327493baf11",
   "metadata": {},
   "source": [
    "##### Multithreading in Python refers to the concurrent execution of multiple threads within a single program. A thread is a lightweight unit of execution that runs independently, allowing for parallel or concurrent execution of tasks.\n",
    "\n",
    "##### Multithreading is used in Python to achieve concurrent execution and improve the efficiency of programs that perform multiple tasks simultaneously. It allows for better utilization of system resources and can enhance the responsiveness and performance of applications, particularly in scenarios where tasks can be executed concurrently without dependencies.\n",
    "\n",
    "##### The threading module is used to handle threads in Python. It provides a high-level interface for creating, managing, and synchronizing threads. The threading module allows you to create new threads, start and stop threads, manage thread synchronization, and coordinate thread execution. It simplifies the process of working with threads and provides abstractions for common threading operations, such as locks, conditions, and events."
   ]
  },
  {
   "cell_type": "markdown",
   "id": "c8b2c245-8841-4e57-9e94-850b811a4d94",
   "metadata": {},
   "source": [
    "##### 2). Why threading module used? Write the use of the following functions."
   ]
  },
  {
   "cell_type": "markdown",
   "id": "59b404d2-c10b-40c3-9b27-a406566325c4",
   "metadata": {},
   "source": [
    "##### The threading module in Python is used to handle threads and provides a high-level interface for managing and synchronizing threads. It offers various functions and classes to facilitate concurrent programming. Here's the use of the following functions:\n",
    "\n",
    "##### activeCount(): The activeCount() function returns the number of Thread objects currently alive (i.e., threads that have been started but not yet finished). It is useful for monitoring the number of active threads in a program.\n",
    "\n",
    "##### currentThread(): The currentThread() function returns the Thread object representing the current thread. It allows you to access properties and methods of the current thread, such as its name or identifier. This function is helpful when you need to perform operations or make decisions based on the current thread's state.\n",
    "\n",
    "##### enumerate(): The enumerate() function returns a list of all Thread objects currently alive. It is useful for obtaining a snapshot of all the active threads in a program. Each thread is listed with its unique identifier and name.\n",
    "\n",
    "##### These functions, along with other capabilities of the threading module, provide the means to create, manage, and synchronize threads effectively. "
   ]
  },
  {
   "cell_type": "markdown",
   "id": "92b9b574-ba2f-447a-9bf2-a9f03aae321e",
   "metadata": {},
   "source": [
    "##### 3). Explain the following functions\n",
    "##### i.run()\n",
    "##### ii.start()\n",
    "##### iii.join()\n",
    "##### iiii.isAlive()"
   ]
  },
  {
   "cell_type": "markdown",
   "id": "98fcefda-665f-4ad7-b3b2-abf673d1d3ee",
   "metadata": {},
   "source": [
    "##### run(): The run() method is the entry point for the execution of a thread. It contains the code that will be executed in the thread when it is started. By default, the run() method of the Thread class does nothing. To execute custom code in a thread, you need to subclass Thread and override the run() method with your desired functionality.\n",
    "\n",
    "##### start(): The start() method is used to start the execution of a thread. It launches a new thread and calls the run() method internally. Once the start() method is called, the code inside the run() method of the thread is executed concurrently.\n",
    "\n",
    "##### join(): The join() method is used to wait for a thread to complete its execution. It blocks the calling thread until the specified thread finishes execution or until a timeout occurs. When you call join() on a thread, the calling thread waits until the target thread has finished executing its run() method.\n",
    "\n",
    "###### isAlive(): The isAlive() method is used to check if a thread is currently active and executing its run() method. It returns True if the thread is still running, and False otherwise. This method can be helpful when you need to determine the status of a thread or check if it has completed its execution.\n",
    "\n",
    "##### These functions are essential for managing threads in Python. run() and start() are used to initiate the execution of a thread, join() is used to synchronize thread execution, and isAlive() allows you to check the status of a thread during its execution."
   ]
  },
  {
   "cell_type": "markdown",
   "id": "9bd7224d-50a2-442a-b2f9-e387caa41f7b",
   "metadata": {},
   "source": [
    "4. ). Write a python program to create two threads. Thread one must print the list of squares and thread two must print the list of cubes"
   ]
  },
  {
   "cell_type": "code",
   "execution_count": 1,
   "id": "04132362-873b-4ab9-bbbb-ec65e62bc111",
   "metadata": {},
   "outputs": [
    {
     "name": "stdout",
     "output_type": "stream",
     "text": [
      "Square of 1: 1\n",
      "Square of 2: 4\n",
      "Square of 3: 9\n",
      "Square of 4: 16\n",
      "Square of 5: 25\n",
      "Square of 6: 36\n",
      "Square of 7: 49\n",
      "Square of 8: 64\n",
      "Square of 9: 81\n",
      "Square of 10: 100\n",
      "Cube of 1: 1\n",
      "Cube of 2: 8\n",
      "Cube of 3: 27\n",
      "Cube of 4: 64\n",
      "Cube of 5: 125\n",
      "Cube of 6: 216\n",
      "Cube of 7: 343\n",
      "Cube of 8: 512\n",
      "Cube of 9: 729\n",
      "Cube of 10: 1000\n",
      "Program execution completed.\n"
     ]
    }
   ],
   "source": [
    "import threading\n",
    "\n",
    "def print_squares():\n",
    "    for i in range(1, 11):\n",
    "        print(f\"Square of {i}: {i*i}\")\n",
    "\n",
    "def print_cubes():\n",
    "    for i in range(1, 11):\n",
    "        print(f\"Cube of {i}: {i*i*i}\")\n",
    "\n",
    "#First thread for printing squares\n",
    "thread1 = threading.Thread(target=print_squares)\n",
    "\n",
    "#Second thread for printing cubes\n",
    "thread2 = threading.Thread(target=print_cubes)\n",
    "\n",
    "# Start the threads\n",
    "thread1.start()\n",
    "thread2.start()\n",
    "\n",
    "# Wait for both threads to complete\n",
    "thread1.join()\n",
    "thread2.join()\n",
    "\n",
    "print(\"Program execution completed.\")"
   ]
  },
  {
   "cell_type": "markdown",
   "id": "1f885cea-69b5-4e28-85e8-fbc8aec619da",
   "metadata": {},
   "source": [
    "5. State advantages and disadvantages of multithreading."
   ]
  },
  {
   "cell_type": "markdown",
   "id": "b5d484fb-9e4f-4b68-b00b-a81975df48ee",
   "metadata": {},
   "source": [
    "##### Advantages of Multithreading:\n",
    "\n",
    "1. Improved Performance: Multithreading allows for parallel execution of tasks, which can lead to improved performance and increased efficiency. By utilizing multiple threads, the program can distribute the workload across different cores or processors, enabling concurrent execution of tasks and potentially reducing overall execution time.\n",
    "\n",
    "2. Responsiveness and Concurrency: Multithreading enables concurrent execution of tasks, making the program more responsive and capable of handling multiple activities simultaneously. It allows for smooth execution of operations that involve I/O operations, user interactions, or waiting for external resources.\n",
    "\n",
    "3. Resource Sharing: Threads within the same process can share the same memory space, allowing for efficient communication and data sharing. This facilitates collaboration and coordination between threads, as they can easily access shared data structures and exchange information.\n",
    "\n",
    "4. Modular and Organized Design: Multithreading promotes a modular and organized design approach, as it allows you to break down complex tasks into smaller, manageable units of work. Each thread can focus on a specific subset of functionality, making the code more readable, maintainable, and easier to understand.\n",
    "\n",
    "##### Disadvantages of Multithreading:\n",
    "\n",
    "1. Complexity and Debugging: Multithreaded programs can be more complex to design, implement, and debug compared to single-threaded programs. Issues such as race conditions, deadlocks, and synchronization problems can arise, requiring careful attention and testing to ensure proper functionality.\n",
    "\n",
    "2. Increased Resource Consumption: Each thread consumes system resources, including memory and CPU cycles. If not managed properly, creating and managing numerous threads can lead to increased resource consumption and potential performance degradation.\n",
    "\n",
    "3. Synchronization Overhead: When multiple threads access shared resources or data structures, synchronization mechanisms like locks, semaphores, or mutexes are often required to ensure data integrity and prevent race conditions. Implementing and managing synchronization can introduce additional complexity and overhead.\n",
    "\n",
    "4. Scalability Limitations: While multithreading can improve performance on systems with multiple cores or processors, there can be limitations to scalability. In some cases, adding more threads may not always result in proportional performance gains due to factors such as contention for resources, communication overhead, or the nature of the tasks being executed."
   ]
  },
  {
   "cell_type": "markdown",
   "id": "9f78433d-81af-4eb9-a6f6-da308f8ad021",
   "metadata": {},
   "source": [
    "##### Q6. Explain deadlocks and race conditions."
   ]
  },
  {
   "cell_type": "markdown",
   "id": "0c31d17d-fb10-45ba-89a6-93b07d38d4b0",
   "metadata": {},
   "source": [
    "##### Deadlocks and race conditions are common concurrency issues that can occur in multithreaded programs in Python.\n",
    "##### Deadlocks:A deadlock is a situation where two or more threads are unable to proceed because each is waiting for a resource held by another thread, resulting in a circular dependency. As a result, the threads end up in a deadlock state, and the program becomes unresponsive. Deadlocks can occur when the following four conditions hold simultaneously:\n",
    "1. Mutual Exclusion: At least one resource must be exclusively held or allocated to a thread at a time.\n",
    "2. Hold and Wait: A thread holds a resource while waiting for another resource.\n",
    "3. No Preemption: Resources cannot be forcibly taken away from a thread.\n",
    "4. Circular Wait: A circular chain of threads exists, where each thread is waiting for a resource held by another thread in the chain.\n",
    "##### Race Conditions:A race condition occurs when multiple threads access shared resources or variables concurrently, and the final outcome depends on the relative timing or interleaving of their execution. Race conditions can lead to unpredictable and incorrect results. They typically occur when:\n",
    "1. Multiple threads attempt to read and write to the same shared resource simultaneously.\n",
    "2. At least one of the threads modifies the shared resource."
   ]
  }
 ],
 "metadata": {
  "kernelspec": {
   "display_name": "Python 3 (ipykernel)",
   "language": "python",
   "name": "python3"
  },
  "language_info": {
   "codemirror_mode": {
    "name": "ipython",
    "version": 3
   },
   "file_extension": ".py",
   "mimetype": "text/x-python",
   "name": "python",
   "nbconvert_exporter": "python",
   "pygments_lexer": "ipython3",
   "version": "3.10.8"
  }
 },
 "nbformat": 4,
 "nbformat_minor": 5
}
