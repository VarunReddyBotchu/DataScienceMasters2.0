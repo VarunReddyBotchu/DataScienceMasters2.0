{
 "cells": [
  {
   "cell_type": "markdown",
   "id": "d13a896e-a01a-4964-9143-7eebbb3e310d",
   "metadata": {},
   "source": [
    "### Lambda Funcctions\n",
    "1. Lambda or anonymous function"
   ]
  },
  {
   "cell_type": "code",
   "execution_count": 1,
   "id": "ffb4ed9e-0245-4b08-8fc5-f1431c0b31be",
   "metadata": {},
   "outputs": [],
   "source": [
    "def test(n,p):\n",
    "    return n**p"
   ]
  },
  {
   "cell_type": "code",
   "execution_count": 2,
   "id": "9d957af5-45bf-4ac4-abf9-1f1c25d6decd",
   "metadata": {},
   "outputs": [
    {
     "data": {
      "text/plain": [
       "8"
      ]
     },
     "execution_count": 2,
     "metadata": {},
     "output_type": "execute_result"
    }
   ],
   "source": [
    "test(2,3)"
   ]
  },
  {
   "cell_type": "code",
   "execution_count": 4,
   "id": "c83e61af-70dd-469c-b387-0f2e3e0269de",
   "metadata": {},
   "outputs": [
    {
     "data": {
      "text/plain": [
       "64"
      ]
     },
     "execution_count": 4,
     "metadata": {},
     "output_type": "execute_result"
    }
   ],
   "source": [
    "test(4,3)"
   ]
  },
  {
   "cell_type": "code",
   "execution_count": 6,
   "id": "88d70f0d-2883-44b0-8e78-22e92da5f210",
   "metadata": {},
   "outputs": [],
   "source": [
    "a=lambda n,p:n**p"
   ]
  },
  {
   "cell_type": "code",
   "execution_count": 7,
   "id": "b932ee9b-1862-4cfc-949f-e8a42ab472ae",
   "metadata": {},
   "outputs": [
    {
     "data": {
      "text/plain": [
       "8"
      ]
     },
     "execution_count": 7,
     "metadata": {},
     "output_type": "execute_result"
    }
   ],
   "source": [
    "a(2,3)"
   ]
  },
  {
   "cell_type": "code",
   "execution_count": 8,
   "id": "16311a5b-7eb8-4318-87d2-820dd728d632",
   "metadata": {},
   "outputs": [
    {
     "data": {
      "text/plain": [
       "64"
      ]
     },
     "execution_count": 8,
     "metadata": {},
     "output_type": "execute_result"
    }
   ],
   "source": [
    "a(4,3)"
   ]
  },
  {
   "cell_type": "code",
   "execution_count": 10,
   "id": "55393ea6-bedd-45eb-b13e-66ac508a86b4",
   "metadata": {},
   "outputs": [],
   "source": [
    "add=lambda x,y:x+y"
   ]
  },
  {
   "cell_type": "code",
   "execution_count": 11,
   "id": "156ba7f6-3070-4d80-83a2-eaf7c45c4630",
   "metadata": {},
   "outputs": [
    {
     "data": {
      "text/plain": [
       "13303"
      ]
     },
     "execution_count": 11,
     "metadata": {},
     "output_type": "execute_result"
    }
   ],
   "source": [
    "add(90,13213)"
   ]
  },
  {
   "cell_type": "code",
   "execution_count": 13,
   "id": "850c3ebe-c23c-45c0-879d-1e02c3716147",
   "metadata": {},
   "outputs": [],
   "source": [
    "cf=lambda c:(9/5)*c+32"
   ]
  },
  {
   "cell_type": "code",
   "execution_count": 14,
   "id": "11a8f00a-7f09-4c70-b0aa-3081085697d7",
   "metadata": {},
   "outputs": [
    {
     "data": {
      "text/plain": [
       "89.6"
      ]
     },
     "execution_count": 14,
     "metadata": {},
     "output_type": "execute_result"
    }
   ],
   "source": [
    "cf(32)"
   ]
  },
  {
   "cell_type": "code",
   "execution_count": 17,
   "id": "8551cb93-67f7-47ca-8bc8-b3f6040b097c",
   "metadata": {},
   "outputs": [],
   "source": [
    "max=lambda a,b:a if a>b else b "
   ]
  },
  {
   "cell_type": "code",
   "execution_count": 18,
   "id": "03539ea7-4a62-4bcd-a130-75b07e2dbeda",
   "metadata": {},
   "outputs": [
    {
     "data": {
      "text/plain": [
       "45"
      ]
     },
     "execution_count": 18,
     "metadata": {},
     "output_type": "execute_result"
    }
   ],
   "source": [
    "max(3,45)"
   ]
  },
  {
   "cell_type": "code",
   "execution_count": 19,
   "id": "63e3a921-99ab-42a3-865a-97ad756e48d7",
   "metadata": {},
   "outputs": [],
   "source": [
    "len_str=lambda s:len(s)"
   ]
  },
  {
   "cell_type": "code",
   "execution_count": 21,
   "id": "9c2a2e51-1497-405e-8d78-6a7d63d2bd9e",
   "metadata": {},
   "outputs": [
    {
     "data": {
      "text/plain": [
       "8"
      ]
     },
     "execution_count": 21,
     "metadata": {},
     "output_type": "execute_result"
    }
   ],
   "source": [
    "len_str(\"pwskills\")"
   ]
  }
 ],
 "metadata": {
  "kernelspec": {
   "display_name": "Python 3 (ipykernel)",
   "language": "python",
   "name": "python3"
  },
  "language_info": {
   "codemirror_mode": {
    "name": "ipython",
    "version": 3
   },
   "file_extension": ".py",
   "mimetype": "text/x-python",
   "name": "python",
   "nbconvert_exporter": "python",
   "pygments_lexer": "ipython3",
   "version": "3.10.8"
  }
 },
 "nbformat": 4,
 "nbformat_minor": 5
}
