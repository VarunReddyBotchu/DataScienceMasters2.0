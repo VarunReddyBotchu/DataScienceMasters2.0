{
 "cells": [
  {
   "cell_type": "markdown",
   "id": "61c51e72-34e9-456f-b4fa-b722842b0033",
   "metadata": {},
   "source": [
    "### Best Practice Exception Handling"
   ]
  },
  {
   "cell_type": "code",
   "execution_count": 2,
   "id": "d63688da-210a-415a-bf8a-95f8b44a0d8e",
   "metadata": {},
   "outputs": [
    {
     "name": "stdout",
     "output_type": "stream",
     "text": [
      "division by zero\n"
     ]
    }
   ],
   "source": [
    "try:\n",
    "    10/0\n",
    "except Exception as e:\n",
    "    print(e)"
   ]
  },
  {
   "cell_type": "code",
   "execution_count": 3,
   "id": "ea8bcc75-3d12-4698-b4d0-8079c3d89528",
   "metadata": {},
   "outputs": [
    {
     "name": "stdout",
     "output_type": "stream",
     "text": [
      "division by zero\n"
     ]
    }
   ],
   "source": [
    "try:#if you know the error mention it for others\n",
    "    10/0\n",
    "except ZeroDivisionError as e:\n",
    "    print(e)"
   ]
  },
  {
   "cell_type": "code",
   "execution_count": 4,
   "id": "2c65e097-6d68-4a09-a80b-c34996a526a0",
   "metadata": {},
   "outputs": [
    {
     "name": "stdout",
     "output_type": "stream",
     "text": [
      "this is my Zero Division Error I am Handling division by zero\n"
     ]
    }
   ],
   "source": [
    "try:#display valid message\n",
    "    10/0\n",
    "except ZeroDivisionError as e:\n",
    "    print(\"this is my Zero Division Error I am Handling\", e)"
   ]
  },
  {
   "cell_type": "code",
   "execution_count": 5,
   "id": "1c511cec-d995-4e2d-a2df-63f9a6ffc774",
   "metadata": {},
   "outputs": [],
   "source": [
    "import logging#try to log\n",
    "logging.basicConfig(filename = \"error.log\", level = logging.ERROR)\n",
    "try:\n",
    "    10/0\n",
    "except ZeroDivisionError as e:\n",
    "    logging.error(\"this is my zero division error I am handling {} \".format(e))"
   ]
  },
  {
   "cell_type": "code",
   "execution_count": 7,
   "id": "16b60f26-a401-4b92-896c-c377d7bdf93c",
   "metadata": {},
   "outputs": [],
   "source": [
    "#always avoid to write a multiple exception handling\n",
    "try:\n",
    "    10/0\n",
    "except FileNotFoundError as e:\n",
    "    logging.error(\"this is my file not found {} \".format(e))\n",
    "except ZeroDivisionError as e :\n",
    "    logging.error(\"this is my zero dividion error i am handling() \".format(e))\n",
    "except AttributeError as e:\n",
    "    logging.error(\"this is my attribute error i am handling ()\".format(e))"
   ]
  },
  {
   "cell_type": "code",
   "execution_count": 8,
   "id": "a96e74ca-b3a8-471b-9098-87a6d0748261",
   "metadata": {},
   "outputs": [],
   "source": [
    "#always try to prepare a proper documentation"
   ]
  },
  {
   "cell_type": "code",
   "execution_count": 9,
   "id": "e6a2b89a-a668-4ba5-bc2b-69ca4ae7b018",
   "metadata": {},
   "outputs": [],
   "source": [
    "#clean up all the resources\n",
    "try:\n",
    "    with open(\"test.txt\", \"w\") as f:\n",
    "        f.write(\"this is my msg to file\")\n",
    "except FileNotFoundError as e:\n",
    "    logging.error(\"this is my file not found {} \".format(e))\n",
    "finally:\n",
    "    f.close()"
   ]
  },
  {
   "cell_type": "code",
   "execution_count": null,
   "id": "57ae6c01-9c85-4483-9c93-84bc4b8d1d0a",
   "metadata": {},
   "outputs": [],
   "source": []
  }
 ],
 "metadata": {
  "kernelspec": {
   "display_name": "Python 3 (ipykernel)",
   "language": "python",
   "name": "python3"
  },
  "language_info": {
   "codemirror_mode": {
    "name": "ipython",
    "version": 3
   },
   "file_extension": ".py",
   "mimetype": "text/x-python",
   "name": "python",
   "nbconvert_exporter": "python",
   "pygments_lexer": "ipython3",
   "version": "3.10.8"
  }
 },
 "nbformat": 4,
 "nbformat_minor": 5
}
