{
 "cells": [
  {
   "cell_type": "markdown",
   "id": "6da353a0-0dfb-4172-8c3c-1234b972db00",
   "metadata": {},
   "source": [
    "##### Question 1\n",
    "###### Given an integer array nums of length n and an integer target, find three integers in nums such that the sum is closest to the target.\n",
    "###### Return the sum of the three integers.\n",
    "\n",
    "###### You may assume that each input would have exactly one solution.\n",
    "\n",
    "###### Example 1:\n",
    "###### Input: nums = [-1,2,1,-4], target = 1\n",
    "###### Output: 2\n",
    "\n",
    "###### Explanation: The sum that is closest to the target is 2. (-1 + 2 + 1 = 2)."
   ]
  },
  {
   "cell_type": "code",
   "execution_count": 10,
   "id": "431272d7-946d-4530-bee0-9fa37fc2794b",
   "metadata": {},
   "outputs": [],
   "source": [
    "def threeSumClosest(nums, target):\n",
    "    nums.sort()\n",
    "    n = len(nums)\n",
    "    diff = float('inf')\n",
    "    closest_sum = float('inf')\n",
    "    for i in range(n):\n",
    "        left, right = i+1, n-1\n",
    "        while left < right:\n",
    "            curr_sum = nums[i] + nums[left] + nums[right]\n",
    "            curr_diff = abs(curr_sum - target)\n",
    "            if curr_diff < diff:\n",
    "                diff = curr_diff\n",
    "                closest_sum = curr_sum\n",
    "            if curr_sum < target:\n",
    "                left += 1\n",
    "            else:\n",
    "                right -= 1\n",
    "    return closest_sum"
   ]
  },
  {
   "cell_type": "code",
   "execution_count": 12,
   "id": "02f755b3-e7a4-43f6-97b5-0857e13045ec",
   "metadata": {},
   "outputs": [
    {
     "name": "stdout",
     "output_type": "stream",
     "text": [
      "2\n"
     ]
    }
   ],
   "source": [
    "print(threeSumClosest([-1,2,1,-4],1))"
   ]
  },
  {
   "cell_type": "markdown",
   "id": "1c60564c-a4e9-49d6-9cf9-d79ae7758e8f",
   "metadata": {},
   "source": [
    "##### Question 2\n",
    "###### Given an array nums of n integers, return an array of all the unique quadruplets [nums[a], nums[b], nums[c], nums[d] ] such that:\n",
    "######           ● 0 <= a, b, c, d < n\n",
    "######           ● a, b, c, and d are distinct.\n",
    "######           ● nums[a] + nums[b] + nums[c] + nums[d] == target\n",
    "\n",
    "###### You may return the answer in any order.\n",
    "\n",
    "###### Example 1:\n",
    "###### Input: nums = [1,0,-1,0,-2,2], target = 0\n",
    "###### Output: [[-2,-1,1,2],[-2,0,0,2],[-1,0,0,1]]"
   ]
  },
  {
   "cell_type": "code",
   "execution_count": 36,
   "id": "6e0a8eee-7cb0-474a-85be-9f3feab20dd9",
   "metadata": {},
   "outputs": [],
   "source": [
    "def fourSum(nums, target):\n",
    "    nums.sort()\n",
    "    result = []\n",
    "    n = len(nums)\n",
    "    for i in range(n-3):\n",
    "        if i > 0 and nums[i] == nums[i-1]:\n",
    "            continue\n",
    "        for j in range(i+1, n-2):\n",
    "            if j > i+1 and nums[j] == nums[j-1]:\n",
    "                continue\n",
    "            left = j+1\n",
    "            right = n-1\n",
    "            while left < right:\n",
    "                s = nums[i] + nums[j] + nums[left] + nums[right]\n",
    "                if s == target:\n",
    "                    result.append([nums[i], nums[j], nums[left], nums[right]])\n",
    "                    left += 1\n",
    "                    right -= 1\n",
    "                    while left < right and nums[left] == nums[left-1]:\n",
    "                        left += 1\n",
    "                    while left < right and nums[right] == nums[right+1]:\n",
    "                        right -= 1\n",
    "                elif s < target:\n",
    "                    left += 1\n",
    "                else:\n",
    "                    right -= 1\n",
    "    return result"
   ]
  },
  {
   "cell_type": "code",
   "execution_count": 37,
   "id": "780069fd-3cdc-4dce-8e4d-93fb686c0c45",
   "metadata": {},
   "outputs": [
    {
     "name": "stdout",
     "output_type": "stream",
     "text": [
      "[[-2, -1, 1, 2], [-2, 0, 0, 2], [-1, 0, 0, 1]]\n"
     ]
    }
   ],
   "source": [
    "print(fourSum([1,0,-1,0,-2,2], 0))"
   ]
  },
  {
   "cell_type": "markdown",
   "id": "57e6230d-8576-45f4-b060-49762ea55898",
   "metadata": {},
   "source": [
    "##### Question 3\n",
    "###### A permutation of an array of integers is an arrangement of its members into a sequence or linear order.\n",
    "\n",
    "###### For example, for arr = [1,2,3], the following are all the permutations of arr: [1,2,3], [1,3,2], [2, 1, 3], [2, 3, 1], [3,1,2], [3,2,1].\n",
    "\n",
    "###### The next permutation of an array of integers is the next lexicographically greater permutation of its integer. More formally, if all the permutations of the array are sorted in one container according to their lexicographical order, then the next permutation of that array is the permutation that follows it in the sorted container.\n",
    "\n",
    "###### If such an arrangement is not possible, the array must be rearranged as the lowest possible order (i.e., sorted in ascending order).\n",
    "\n",
    "###### ● For example, the next permutation of arr = [1,2,3] is [1,3,2].\n",
    "###### ● Similarly, the next permutation of arr = [2,3,1] is [3,1,2].\n",
    "###### ● While the next permutation of arr = [3,2,1] is [1,2,3] because [3,2,1] does not have a lexicographical larger rearrangement.\n",
    "\n",
    "###### Given an array of integers nums, find the next permutation of nums.\n",
    "###### The replacement must be in place and use only constant extra memory.\n",
    "\n",
    "###### Example 1:\n",
    "###### Input: nums = [1,2,3]\n",
    "###### Output: [1,3,2]"
   ]
  },
  {
   "cell_type": "code",
   "execution_count": 63,
   "id": "df33f9c2-f2f5-453c-bcbb-c51e72254d1e",
   "metadata": {},
   "outputs": [],
   "source": [
    "def next_permutation(nums):\n",
    "    i = len(nums) - 2\n",
    "    while i >= 0 and nums[i] >= nums[i+1]:\n",
    "        i -= 1\n",
    "    if i >= 0:\n",
    "        j = len(nums) - 1\n",
    "        while j >= 0 and nums[i] >= nums[j]:\n",
    "            j -= 1\n",
    "        nums[i], nums[j] = nums[j], nums[i]\n",
    "    nums[i+1:] = nums[i+1:][::-1]"
   ]
  },
  {
   "cell_type": "code",
   "execution_count": 65,
   "id": "152c5ba6-6f80-450f-9893-75d7e9a68f53",
   "metadata": {},
   "outputs": [
    {
     "name": "stdout",
     "output_type": "stream",
     "text": [
      "[1, 3, 2]\n"
     ]
    }
   ],
   "source": [
    "nums = [1, 2, 3]\n",
    "next_permutation(nums)\n",
    "print(nums)  "
   ]
  },
  {
   "cell_type": "markdown",
   "id": "bfd55e6b-24c4-4833-98f5-6cbb4de94ef6",
   "metadata": {},
   "source": [
    "#####  Question 4\n",
    "######  Given a sorted array of distinct integers and a target value, return the index if the target is found. If not, return the index where it would be if it were inserted in order.\n",
    "\n",
    "######  You must write an algorithm with O(log n) runtime complexity.\n",
    "\n",
    "######  Example 1:\n",
    "######  Input: nums = [1,3,5,6], target = 5\n",
    "######  Output: 2"
   ]
  },
  {
   "cell_type": "code",
   "execution_count": 98,
   "id": "3ea1d8a5-fbfe-489c-b984-b9f835716e43",
   "metadata": {},
   "outputs": [],
   "source": [
    "def searchInsert(nums, target):\n",
    "    left, right = 0, len(nums)-1\n",
    "    while left <= right:\n",
    "        mid = (left + right) // 2\n",
    "        if nums[mid] == target:\n",
    "            return mid\n",
    "        elif nums[mid] < target:\n",
    "            left = mid + 1\n",
    "        else:\n",
    "            right = mid - 1\n",
    "    return left"
   ]
  },
  {
   "cell_type": "code",
   "execution_count": 99,
   "id": "878b6798-6acf-409b-b9d8-da0b3c54e5dc",
   "metadata": {},
   "outputs": [
    {
     "name": "stdout",
     "output_type": "stream",
     "text": [
      "2\n"
     ]
    }
   ],
   "source": [
    "print(searchInsert([1,3,5,6],5))"
   ]
  },
  {
   "cell_type": "markdown",
   "id": "d5f4de67-f096-4ff8-ae7f-e6d034b80aaa",
   "metadata": {},
   "source": [
    "##### Question 5\n",
    "###### You are given a large integer represented as an integer array digits, where each digits[i] is the ith digit of the integer. The digits are ordered from most significant to least significant in left-to-right order. The large integer does not contain any leading 0's.\n",
    "\n",
    "###### Increment the large integer by one and return the resulting array of digits.\n",
    "\n",
    "###### Example 1:\n",
    "###### Input: digits = [1,2,3]\n",
    "###### Output: [1,2,4]\n",
    "\n",
    "###### Explanation: The array represents the integer 123.\n",
    "###### Incrementing by one gives 123 + 1 = 124.\n",
    "###### Thus, the result should be [1,2,4]."
   ]
  },
  {
   "cell_type": "code",
   "execution_count": 107,
   "id": "4f30041d-443b-4dda-bee3-31eec33baf6b",
   "metadata": {},
   "outputs": [],
   "source": [
    "def plusOne(digits):\n",
    "    for i in range(len(digits)-1, -1, -1):\n",
    "        digits[i] += 1\n",
    "        if digits[i] < 10:\n",
    "            return digits\n",
    "        digits[i] = 0\n",
    "    return [1] + digits"
   ]
  },
  {
   "cell_type": "code",
   "execution_count": 108,
   "id": "d270cc78-80c0-489e-b1b4-94be88cf8e65",
   "metadata": {},
   "outputs": [
    {
     "name": "stdout",
     "output_type": "stream",
     "text": [
      "[1, 2, 4]\n"
     ]
    }
   ],
   "source": [
    "print(plusOne([1,2,3]))"
   ]
  },
  {
   "cell_type": "markdown",
   "id": "0a72228a-1dd4-4de7-ab12-4e9aaa449427",
   "metadata": {},
   "source": [
    "##### Question 6\n",
    "###### Given a non-empty array of integers nums, every element appears twice except for one. Find that single one.\n",
    "\n",
    "###### You must implement a solution with a linear runtime complexity and use only constant extra space.\n",
    "\n",
    "###### Example 1:\n",
    "###### Input: nums = [2,2,1]\n",
    "###### Output: 1"
   ]
  },
  {
   "cell_type": "code",
   "execution_count": 89,
   "id": "e3f7c4f1-7cb0-4034-beb0-bcdd0973117d",
   "metadata": {},
   "outputs": [],
   "source": [
    "def singleNumber(nums):\n",
    "    result = 0\n",
    "    for num in nums:\n",
    "        result ^= num\n",
    "    return result"
   ]
  },
  {
   "cell_type": "code",
   "execution_count": 90,
   "id": "3f9f581c-3b10-4c4c-9bd7-b2dd9929dfa7",
   "metadata": {},
   "outputs": [
    {
     "name": "stdout",
     "output_type": "stream",
     "text": [
      "1\n"
     ]
    }
   ],
   "source": [
    "print(singleNumber([2,2,1]))"
   ]
  },
  {
   "cell_type": "markdown",
   "id": "65e8723a-aa16-41ec-865f-f39eb96c965c",
   "metadata": {},
   "source": [
    "##### Question 7\n",
    "###### You are given an inclusive range [lower, upper] and a sorted unique integer array nums, where all elements are within the inclusive range.\n",
    "\n",
    "###### A number x is considered missing if x is in the range [lower, upper] and x is not in nums.\n",
    "\n",
    "###### Return the shortest sorted list of ranges that exactly covers all the missing numbers. That is, no element of nums is included in any of the ranges, and each missing number is covered by one of the ranges.\n",
    "\n",
    "###### Example 1:\n",
    "###### Input: nums = [0,1,3,50,75], lower = 0, upper = 99\n",
    "###### Output: [[2,2],[4,49],[51,74],[76,99]]\n",
    "\n",
    "###### Explanation: The ranges are:\n",
    "###### [2,2]\n",
    "###### [4,49]\n",
    "###### [51,74]\n",
    "###### [76,99]"
   ]
  },
  {
   "cell_type": "code",
   "execution_count": 87,
   "id": "16ec2e12-799b-4ef3-ba23-2da80d46d518",
   "metadata": {},
   "outputs": [],
   "source": [
    "def findMissingRanges(nums, lower, upper):\n",
    "    ans = []\n",
    "    \n",
    "    if not nums:\n",
    "        ans.append(getRange(lower, upper))\n",
    "        return ans\n",
    "    \n",
    "    if nums[0] != lower:\n",
    "        ans.append(getRange(lower, nums[0]-1))\n",
    "   \n",
    "    for i in range(1, len(nums)):\n",
    "        if nums[i] - nums[i-1] > 1:\n",
    "            ans.append(getRange(nums[i-1]+1, nums[i]-1))\n",
    "    \n",
    "    if nums[-1] != upper:\n",
    "        ans.append(getRange(nums[-1]+1, upper))\n",
    "    return ans\n",
    "\n",
    "\n",
    "def getRange(lower, upper):\n",
    "    if lower == upper:\n",
    "        return str(lower)\n",
    "    else:\n",
    "        return str(lower) + \"->\" + str(upper)"
   ]
  },
  {
   "cell_type": "code",
   "execution_count": 88,
   "id": "f2ae66d4-1797-41c4-9e19-58072b56cb15",
   "metadata": {},
   "outputs": [
    {
     "name": "stdout",
     "output_type": "stream",
     "text": [
      "['2', '4->49', '51->74', '76->99']\n"
     ]
    }
   ],
   "source": [
    "print(findMissingRanges([0,1,3,50,75],0,99))"
   ]
  },
  {
   "cell_type": "markdown",
   "id": "1e4e3d0a-972d-438a-9130-dcd7a19575d9",
   "metadata": {},
   "source": [
    "##### Question 8\n",
    "###### Given an array of meeting time intervals where intervals[i] = [starti, endi], determine if a person could attend all meetings.\n",
    "\n",
    "###### Example 1:\n",
    "###### Input: intervals = [[0,30],[5,10],[15,20]]\n",
    "###### Output: false"
   ]
  },
  {
   "cell_type": "code",
   "execution_count": 79,
   "id": "5266e798-83af-4001-ac83-b5cc3e70351e",
   "metadata": {},
   "outputs": [],
   "source": [
    "def canAttendAllMeetings(intervals):\n",
    "    intervals.sort(key=lambda x: x[0]) \n",
    "    for i in range(1, len(intervals)):\n",
    "        if intervals[i][0] < intervals[i-1][1]: \n",
    "            return False\n",
    "    return True"
   ]
  },
  {
   "cell_type": "code",
   "execution_count": 77,
   "id": "b34f97b0-ff20-44e1-a197-9e28665fe52b",
   "metadata": {},
   "outputs": [
    {
     "name": "stdout",
     "output_type": "stream",
     "text": [
      "False\n"
     ]
    }
   ],
   "source": [
    "print(canAttendAllMeetings([[0,30],[5,10],[15,20]]))"
   ]
  }
 ],
 "metadata": {
  "kernelspec": {
   "display_name": "Python 3 (ipykernel)",
   "language": "python",
   "name": "python3"
  },
  "language_info": {
   "codemirror_mode": {
    "name": "ipython",
    "version": 3
   },
   "file_extension": ".py",
   "mimetype": "text/x-python",
   "name": "python",
   "nbconvert_exporter": "python",
   "pygments_lexer": "ipython3",
   "version": "3.10.8"
  }
 },
 "nbformat": 4,
 "nbformat_minor": 5
}
