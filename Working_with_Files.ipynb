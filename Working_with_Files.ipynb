{
 "cells": [
  {
   "cell_type": "markdown",
   "id": "e7128756-98a7-49aa-94ac-546f1058dde6",
   "metadata": {},
   "source": [
    "### Working with Files"
   ]
  },
  {
   "cell_type": "code",
   "execution_count": 1,
   "id": "d551530e-da3d-4cd6-a937-38f3a14546bd",
   "metadata": {},
   "outputs": [],
   "source": [
    "f = open(\"test.txt\", \"w\")"
   ]
  },
  {
   "cell_type": "code",
   "execution_count": 2,
   "id": "8a512dd1-152d-452a-837a-a2ca0be6eb1d",
   "metadata": {},
   "outputs": [
    {
     "data": {
      "text/plain": [
       "'/home/jovyan/work'"
      ]
     },
     "execution_count": 2,
     "metadata": {},
     "output_type": "execute_result"
    }
   ],
   "source": [
    "pwd"
   ]
  },
  {
   "cell_type": "code",
   "execution_count": 3,
   "id": "c2b87fb1-3467-4d0a-9062-17104a4a2b34",
   "metadata": {},
   "outputs": [
    {
     "name": "stdout",
     "output_type": "stream",
     "text": [
      " Abstraction.ipynb\n",
      " Assignment1.ipynb\n",
      " Assignment-2.ipynb\n",
      "'Class Methods.ipynb'\n",
      " Day1.ipynb\n",
      " Day2.ipynb\n",
      " Day3.ipynb\n",
      " Decorators.ipynb\n",
      " Dictionary.ipynb\n",
      " Encapsulation.ipynb\n",
      "'Functions Assignment.ipynb'\n",
      " Functions_Part1.ipynb\n",
      " Functions_Part2.ipynb\n",
      "'Generator Functions.ipynb'\n",
      " Inheritance.ipynb\n",
      "'Lambda Functions.ipynb'\n",
      "'Map, Reduce,Filter Functions.ipynb'\n",
      "'OOPS Assignment.ipynb'\n",
      " OOPS.ipynb\n",
      "'OOPS Task Assignment.ipynb'\n",
      " Polymorphism.ipynb\n",
      "'Property Decorators.ipynb'\n",
      " pythonBasics.ipynb\n",
      " Sets.ipynb\n",
      "'Special(magic or dunder) Methods.ipynb'\n",
      "'Static Method.ipynb'\n",
      "'String and Methods, Expressions, Operators & Precedence.ipynb'\n",
      "'Strings List.ipynb'\n",
      " test.txt\n",
      " Tuples.ipynb\n",
      " Untitled1.ipynb\n",
      " Untitled.ipynb\n",
      " Working_with_Files.ipynb\n"
     ]
    }
   ],
   "source": [
    "ls"
   ]
  },
  {
   "cell_type": "code",
   "execution_count": 4,
   "id": "103e32be-0642-4897-84a3-53d844822725",
   "metadata": {},
   "outputs": [
    {
     "data": {
      "text/plain": [
       "44"
      ]
     },
     "execution_count": 4,
     "metadata": {},
     "output_type": "execute_result"
    }
   ],
   "source": [
    "f.write(\"this is my first write operation in the file\")"
   ]
  },
  {
   "cell_type": "code",
   "execution_count": 5,
   "id": "2354b434-33fa-4967-a781-8ead20199a83",
   "metadata": {},
   "outputs": [],
   "source": [
    "f.close()"
   ]
  },
  {
   "cell_type": "code",
   "execution_count": 8,
   "id": "a2ed8645-8b6d-4b78-9f07-06da451219a2",
   "metadata": {},
   "outputs": [],
   "source": [
    "data = open(\"test.txt\",\"r\")"
   ]
  },
  {
   "cell_type": "code",
   "execution_count": 9,
   "id": "dbec25e8-4b84-4e78-b5d0-a713488c4b5e",
   "metadata": {},
   "outputs": [
    {
     "data": {
      "text/plain": [
       "'this is my first write operation in the file'"
      ]
     },
     "execution_count": 9,
     "metadata": {},
     "output_type": "execute_result"
    }
   ],
   "source": [
    "data.read()"
   ]
  },
  {
   "cell_type": "code",
   "execution_count": 11,
   "id": "f134b0cf-276c-48ca-ad55-256c2170cdb1",
   "metadata": {},
   "outputs": [
    {
     "data": {
      "text/plain": [
       "0"
      ]
     },
     "execution_count": 11,
     "metadata": {},
     "output_type": "execute_result"
    }
   ],
   "source": [
    "data.seek(0)"
   ]
  },
  {
   "cell_type": "code",
   "execution_count": 12,
   "id": "45df5711-7d3a-45f8-b25d-30fe76c73712",
   "metadata": {},
   "outputs": [],
   "source": [
    "data1 = open(\"test.txt\",\"r\")"
   ]
  },
  {
   "cell_type": "code",
   "execution_count": 13,
   "id": "546e2532-7107-4c14-89e4-55adfef50ad3",
   "metadata": {},
   "outputs": [
    {
     "name": "stdout",
     "output_type": "stream",
     "text": [
      "this is my first write operation in the file\n"
     ]
    }
   ],
   "source": [
    "for i in data1:\n",
    "    print(i)"
   ]
  },
  {
   "cell_type": "code",
   "execution_count": 14,
   "id": "1528af01-47af-4fa8-bbb0-38b1cf7a024f",
   "metadata": {},
   "outputs": [],
   "source": [
    "import os"
   ]
  },
  {
   "cell_type": "code",
   "execution_count": 15,
   "id": "b2670bea-2396-4dcd-826d-7bbc89ed05e5",
   "metadata": {},
   "outputs": [
    {
     "data": {
      "text/plain": [
       "44"
      ]
     },
     "execution_count": 15,
     "metadata": {},
     "output_type": "execute_result"
    }
   ],
   "source": [
    "os.path.getsize(\"test.txt\")"
   ]
  },
  {
   "cell_type": "code",
   "execution_count": 16,
   "id": "41c50f18-2a6a-4c04-be5f-487d00da3d43",
   "metadata": {},
   "outputs": [],
   "source": [
    "import shutil"
   ]
  },
  {
   "cell_type": "code",
   "execution_count": 17,
   "id": "d1c09c33-9d6a-4c44-bc2e-625a1415c2e1",
   "metadata": {},
   "outputs": [
    {
     "data": {
      "text/plain": [
       "'new test.txt'"
      ]
     },
     "execution_count": 17,
     "metadata": {},
     "output_type": "execute_result"
    }
   ],
   "source": [
    "shutil.copy(\"test.txt\",\"new test.txt\")"
   ]
  },
  {
   "cell_type": "code",
   "execution_count": 18,
   "id": "2fd5eb3f-5fdd-42ac-9c67-6fc21560f8ff",
   "metadata": {},
   "outputs": [],
   "source": [
    "os.remove(\"test.txt\")"
   ]
  },
  {
   "cell_type": "code",
   "execution_count": 22,
   "id": "8ff0d6ce-9481-4d61-97de-eca1fca67e67",
   "metadata": {},
   "outputs": [
    {
     "name": "stdout",
     "output_type": "stream",
     "text": [
      "this is my first write operation in the file\n"
     ]
    }
   ],
   "source": [
    "with open(\"new test.txt\", \"r\") as f:\n",
    "    print(f.read())"
   ]
  },
  {
   "cell_type": "code",
   "execution_count": 23,
   "id": "8fbb789b-b15a-4e54-b388-80bdac519143",
   "metadata": {},
   "outputs": [],
   "source": [
    "os.rename(\"new test.txt\",\"test1.txt\")"
   ]
  },
  {
   "cell_type": "code",
   "execution_count": null,
   "id": "b116af6c-e35b-407a-b9fd-d02fa8aaff3e",
   "metadata": {},
   "outputs": [],
   "source": []
  }
 ],
 "metadata": {
  "kernelspec": {
   "display_name": "Python 3 (ipykernel)",
   "language": "python",
   "name": "python3"
  },
  "language_info": {
   "codemirror_mode": {
    "name": "ipython",
    "version": 3
   },
   "file_extension": ".py",
   "mimetype": "text/x-python",
   "name": "python",
   "nbconvert_exporter": "python",
   "pygments_lexer": "ipython3",
   "version": "3.10.8"
  }
 },
 "nbformat": 4,
 "nbformat_minor": 5
}
