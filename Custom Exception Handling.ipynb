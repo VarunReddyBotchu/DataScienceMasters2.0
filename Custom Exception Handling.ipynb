{
 "cells": [
  {
   "cell_type": "markdown",
   "id": "8960fe1d-9ec3-4f8a-be89-17edb5c3e0d5",
   "metadata": {},
   "source": [
    "### Custom Exception Handling"
   ]
  },
  {
   "cell_type": "code",
   "execution_count": 1,
   "id": "d0f80a45-9333-4c0e-be07-30288f20fad9",
   "metadata": {},
   "outputs": [
    {
     "name": "stdin",
     "output_type": "stream",
     "text": [
      "enter your age -23\n"
     ]
    }
   ],
   "source": [
    "age = int(input(\"enter your age\"))"
   ]
  },
  {
   "cell_type": "code",
   "execution_count": 2,
   "id": "cdf2b1e5-6317-4703-9295-a52d55845b7b",
   "metadata": {},
   "outputs": [],
   "source": [
    "class validateage(Exception):\n",
    "    def __init__(self, msg):\n",
    "        self.msg = msg "
   ]
  },
  {
   "cell_type": "code",
   "execution_count": 4,
   "id": "c1dae1de-0a95-4640-8919-106856f4ec26",
   "metadata": {},
   "outputs": [],
   "source": [
    "def validate_age(age):\n",
    "    if age<0:\n",
    "        raise validateage(\"age shouldn't be lesser than zero\")\n",
    "    elif age>200:\n",
    "        raise validateage(\"age is too high\")\n",
    "    else :\n",
    "        print(\"age is valid\")"
   ]
  },
  {
   "cell_type": "code",
   "execution_count": 7,
   "id": "ab1f9f9f-ee67-421c-b80d-92f39cd3085a",
   "metadata": {},
   "outputs": [
    {
     "name": "stdin",
     "output_type": "stream",
     "text": [
      "enter your age 234\n"
     ]
    },
    {
     "name": "stdout",
     "output_type": "stream",
     "text": [
      "age is too high\n"
     ]
    }
   ],
   "source": [
    "try:\n",
    "    age = int(input(\"enter your age\"))\n",
    "    validate_age(age)\n",
    "except validateage as e:\n",
    "    print(e)"
   ]
  },
  {
   "cell_type": "code",
   "execution_count": null,
   "id": "b77854c0-573e-43e6-9f9d-037e780349dd",
   "metadata": {},
   "outputs": [],
   "source": []
  }
 ],
 "metadata": {
  "kernelspec": {
   "display_name": "Python 3 (ipykernel)",
   "language": "python",
   "name": "python3"
  },
  "language_info": {
   "codemirror_mode": {
    "name": "ipython",
    "version": 3
   },
   "file_extension": ".py",
   "mimetype": "text/x-python",
   "name": "python",
   "nbconvert_exporter": "python",
   "pygments_lexer": "ipython3",
   "version": "3.10.8"
  }
 },
 "nbformat": 4,
 "nbformat_minor": 5
}
