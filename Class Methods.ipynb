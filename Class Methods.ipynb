{
 "cells": [
  {
   "cell_type": "markdown",
   "id": "c721beae-5d8c-4352-b88e-367a8b7e634b",
   "metadata": {},
   "source": [
    "### Class Methods"
   ]
  },
  {
   "cell_type": "code",
   "execution_count": 7,
   "id": "084ca29f-b262-44ce-ba49-055111017af4",
   "metadata": {},
   "outputs": [],
   "source": [
    "class pwskills:\n",
    "    def __init__(self, name, email):\n",
    "        \n",
    "        self.name = name\n",
    "        self.email = email\n",
    "        \n",
    "    def student_details(self):\n",
    "        print(self.name , self.email)"
   ]
  },
  {
   "cell_type": "code",
   "execution_count": 12,
   "id": "28a68035-a000-4da7-a363-b34f2a225913",
   "metadata": {},
   "outputs": [],
   "source": [
    "pw = pwskills(\"varun\",\"varunb@gmail.com\")"
   ]
  },
  {
   "cell_type": "code",
   "execution_count": 13,
   "id": "56e142cd-f01f-4a27-affa-7e312532f390",
   "metadata": {},
   "outputs": [
    {
     "data": {
      "text/plain": [
       "'varun'"
      ]
     },
     "execution_count": 13,
     "metadata": {},
     "output_type": "execute_result"
    }
   ],
   "source": [
    "pw.name"
   ]
  },
  {
   "cell_type": "code",
   "execution_count": 14,
   "id": "95eab574-4621-4042-ac4c-91113d4ab65b",
   "metadata": {},
   "outputs": [
    {
     "data": {
      "text/plain": [
       "'varunb@gmail.com'"
      ]
     },
     "execution_count": 14,
     "metadata": {},
     "output_type": "execute_result"
    }
   ],
   "source": [
    "pw.email"
   ]
  },
  {
   "cell_type": "code",
   "execution_count": 16,
   "id": "807c5398-3503-4b2d-afec-dde713194600",
   "metadata": {},
   "outputs": [
    {
     "name": "stdout",
     "output_type": "stream",
     "text": [
      "varun varunb@gmail.com\n"
     ]
    }
   ],
   "source": [
    "pw.student_details()"
   ]
  },
  {
   "cell_type": "code",
   "execution_count": 27,
   "id": "8caba870-1173-4711-ae73-8891bcc01de1",
   "metadata": {},
   "outputs": [],
   "source": [
    "class pwskills1:\n",
    "    def __init__(self, name, email):\n",
    "        \n",
    "        self.name = name\n",
    "        self.email = email\n",
    "        \n",
    "    @classmethod   \n",
    "    def details(cls, name1, email1):\n",
    "        return cls(name1, email1)\n",
    "    \n",
    "    def student_details(self):\n",
    "        print(self.name , self.email)"
   ]
  },
  {
   "cell_type": "code",
   "execution_count": 28,
   "id": "31844f3d-f231-4027-88b1-98dd27f1f46f",
   "metadata": {},
   "outputs": [],
   "source": [
    "pw1=pwskills1.details(\"pavan\",\"pavankumar@gmail.com\")"
   ]
  },
  {
   "cell_type": "code",
   "execution_count": 29,
   "id": "0dadaa55-d102-4176-a340-f7e6dc331284",
   "metadata": {},
   "outputs": [
    {
     "data": {
      "text/plain": [
       "'pavan'"
      ]
     },
     "execution_count": 29,
     "metadata": {},
     "output_type": "execute_result"
    }
   ],
   "source": [
    "pw1.name"
   ]
  },
  {
   "cell_type": "code",
   "execution_count": 31,
   "id": "87e373b7-60ce-4ab3-b0bd-7cae668360cc",
   "metadata": {},
   "outputs": [
    {
     "data": {
      "text/plain": [
       "'pavankumar@gmail.com'"
      ]
     },
     "execution_count": 31,
     "metadata": {},
     "output_type": "execute_result"
    }
   ],
   "source": [
    "pw1.email"
   ]
  },
  {
   "cell_type": "code",
   "execution_count": 32,
   "id": "012315a3-2aa4-45d3-aae0-bc1f4d51dee8",
   "metadata": {},
   "outputs": [
    {
     "name": "stdout",
     "output_type": "stream",
     "text": [
      "pavan pavankumar@gmail.com\n"
     ]
    }
   ],
   "source": [
    "pw1.student_details()"
   ]
  },
  {
   "cell_type": "code",
   "execution_count": 42,
   "id": "956ad14c-099f-496d-ac82-4bdf8eda821e",
   "metadata": {},
   "outputs": [],
   "source": [
    "class pwskills2:\n",
    "    \n",
    "    mobile_number = 4593492242\n",
    "    \n",
    "    def __init__(self, name, email):\n",
    "        \n",
    "        self.name = name\n",
    "        self.email = email\n",
    "        \n",
    "    @classmethod\n",
    "    def change_number(cls, mobile):\n",
    "        pwskills2.mobile_number = mobile  \n",
    "        \n",
    "    @classmethod   \n",
    "    def details(cls, name1, email1):\n",
    "        return cls(name1, email1)\n",
    "    \n",
    "    def student_details(self):\n",
    "        print(self.name , self.email, pwskills2.mobile_number)"
   ]
  },
  {
   "cell_type": "code",
   "execution_count": 43,
   "id": "6462867b-78f2-4f32-9c09-12af1cfd34df",
   "metadata": {},
   "outputs": [
    {
     "data": {
      "text/plain": [
       "4593492242"
      ]
     },
     "execution_count": 43,
     "metadata": {},
     "output_type": "execute_result"
    }
   ],
   "source": [
    "pwskills2.mobile_number"
   ]
  },
  {
   "cell_type": "code",
   "execution_count": 44,
   "id": "b95394ab-ddb7-421b-aa8f-98a84b673c34",
   "metadata": {},
   "outputs": [],
   "source": [
    "pw2=pwskills2.details(\"ramesh\",\"sefsf@gmail.com\")"
   ]
  },
  {
   "cell_type": "code",
   "execution_count": 45,
   "id": "f1bf4c1f-329c-4955-a756-6a9af3dae08f",
   "metadata": {},
   "outputs": [
    {
     "name": "stdout",
     "output_type": "stream",
     "text": [
      "ramesh sefsf@gmail.com 4593492242\n"
     ]
    }
   ],
   "source": [
    "pw2.student_details()"
   ]
  },
  {
   "cell_type": "code",
   "execution_count": 46,
   "id": "7a4f2b3c-980b-465c-a08c-bb3e8d8e9bfe",
   "metadata": {},
   "outputs": [],
   "source": [
    "pw2_obj = pwskills2(\"Somesh\" , \"sarem@gmail.com\")"
   ]
  },
  {
   "cell_type": "code",
   "execution_count": 47,
   "id": "f57a8a0d-b4eb-4c81-8515-49b7ff729f0d",
   "metadata": {},
   "outputs": [
    {
     "name": "stdout",
     "output_type": "stream",
     "text": [
      "Somesh sarem@gmail.com 4593492242\n"
     ]
    }
   ],
   "source": [
    "pw2_obj.student_details()"
   ]
  },
  {
   "cell_type": "code",
   "execution_count": 53,
   "id": "e3a7a988-06bb-4a98-95ec-e5993a7b6de6",
   "metadata": {},
   "outputs": [],
   "source": [
    "pwskills2.change_number(4242342488888)"
   ]
  },
  {
   "cell_type": "code",
   "execution_count": 54,
   "id": "d007c0ea-c13b-48bb-b6e0-95b403cee3bf",
   "metadata": {},
   "outputs": [
    {
     "data": {
      "text/plain": [
       "4242342488888"
      ]
     },
     "execution_count": 54,
     "metadata": {},
     "output_type": "execute_result"
    }
   ],
   "source": [
    "pwskills2.mobile_number"
   ]
  },
  {
   "cell_type": "code",
   "execution_count": 60,
   "id": "bee8b6e0-23be-4a08-8bd1-879abaa2fd61",
   "metadata": {},
   "outputs": [
    {
     "data": {
      "text/plain": [
       "<__main__.pwskills2 at 0x7faba6aa1600>"
      ]
     },
     "execution_count": 60,
     "metadata": {},
     "output_type": "execute_result"
    }
   ],
   "source": [
    "pw2_obj.details(\"fsrun\",\"vasfsdfne@gmail.com\")"
   ]
  },
  {
   "cell_type": "code",
   "execution_count": 61,
   "id": "8c68c4af-d90f-4f29-97ca-083590d812ff",
   "metadata": {},
   "outputs": [
    {
     "data": {
      "text/plain": [
       "'ramesh'"
      ]
     },
     "execution_count": 61,
     "metadata": {},
     "output_type": "execute_result"
    }
   ],
   "source": [
    "pw2.name"
   ]
  },
  {
   "cell_type": "code",
   "execution_count": 62,
   "id": "b1f8bab7-1321-4ac2-b55a-d36cefc22a75",
   "metadata": {},
   "outputs": [],
   "source": [
    "pw2.change_number(344452535)"
   ]
  },
  {
   "cell_type": "code",
   "execution_count": 63,
   "id": "44e6e224-d32a-43bf-9391-013eff95393a",
   "metadata": {},
   "outputs": [
    {
     "name": "stdout",
     "output_type": "stream",
     "text": [
      "ramesh sefsf@gmail.com 344452535\n"
     ]
    }
   ],
   "source": [
    "pw2.student_details()"
   ]
  },
  {
   "cell_type": "code",
   "execution_count": 65,
   "id": "1c3e397a-4f05-4fca-9e88-48fff574453b",
   "metadata": {},
   "outputs": [
    {
     "data": {
      "text/plain": [
       "344452535"
      ]
     },
     "execution_count": 65,
     "metadata": {},
     "output_type": "execute_result"
    }
   ],
   "source": [
    "pw2.mobile_number"
   ]
  },
  {
   "cell_type": "code",
   "execution_count": 66,
   "id": "27d62930-1102-403a-a66d-b21d2264bf43",
   "metadata": {},
   "outputs": [],
   "source": [
    "class pwskills3:\n",
    "    \n",
    "    mobile_number = 4593492242\n",
    "    \n",
    "    def __init__(self, name, email):\n",
    "        \n",
    "        self.name = name\n",
    "        self.email = email\n",
    "        \n",
    "    @classmethod\n",
    "    def change_number(cls, mobile):\n",
    "        pwskills2.mobile_number = mobile  \n",
    "        \n",
    "    @classmethod   \n",
    "    def details(cls, name1, email1):\n",
    "        return cls(name1, email1)\n",
    "    \n",
    "    def student_details(self):\n",
    "        print(self.name , self.email, pwskills2.mobile_number)"
   ]
  },
  {
   "cell_type": "code",
   "execution_count": 67,
   "id": "b1ebe877-4e69-4d7b-be6d-1452960de126",
   "metadata": {},
   "outputs": [],
   "source": [
    "def course_details(cls,course_name):\n",
    "    print(\"course details\", course_name)"
   ]
  },
  {
   "cell_type": "code",
   "execution_count": 69,
   "id": "c48a7142-6214-4801-a19a-034b878e5d63",
   "metadata": {},
   "outputs": [],
   "source": [
    "pwskills3.course_details = classmethod(course_details)"
   ]
  },
  {
   "cell_type": "code",
   "execution_count": 71,
   "id": "ed900274-95d3-4a3d-bb4f-13a4730af3db",
   "metadata": {},
   "outputs": [
    {
     "name": "stdout",
     "output_type": "stream",
     "text": [
      "course details data science masters\n"
     ]
    }
   ],
   "source": [
    "pwskills3.course_details(\"data science masters\")"
   ]
  },
  {
   "cell_type": "code",
   "execution_count": 72,
   "id": "e1e2d4b0-322a-44f0-a52a-4153ae2896a8",
   "metadata": {},
   "outputs": [],
   "source": [
    "pw3=pwskills3(\"smack\",\"smaxk@gmail.com\")"
   ]
  },
  {
   "cell_type": "code",
   "execution_count": 73,
   "id": "fcb1b562-0bc4-4c77-aa71-8d2dd847e119",
   "metadata": {},
   "outputs": [
    {
     "name": "stdout",
     "output_type": "stream",
     "text": [
      "course details web dev\n"
     ]
    }
   ],
   "source": [
    "pw3.course_details(\"web dev\")"
   ]
  },
  {
   "cell_type": "code",
   "execution_count": 82,
   "id": "3397baa5-291d-487a-bb24-7f5da6a0be81",
   "metadata": {},
   "outputs": [],
   "source": [
    "class pwskills4:\n",
    "    \n",
    "    mobile_number = 4593492242\n",
    "    \n",
    "    def __init__(self, name, email):\n",
    "        \n",
    "        self.name = name\n",
    "        self.email = email\n",
    "        \n",
    "    @classmethod\n",
    "    def change_number(cls, mobile):\n",
    "        pwskills2.mobile_number = mobile  \n",
    "        \n",
    "    @classmethod   \n",
    "    def details(cls, name1, email1):\n",
    "        return cls(name1, email1)\n",
    "    \n",
    "    def student_details(self):\n",
    "        print(self.name , self.email, pwskills2.mobile_number)"
   ]
  },
  {
   "cell_type": "code",
   "execution_count": 83,
   "id": "bdc8ecfa-e2b7-422a-b41e-7f4488b684cf",
   "metadata": {},
   "outputs": [],
   "source": [
    "del pwskills4.change_number"
   ]
  },
  {
   "cell_type": "code",
   "execution_count": 84,
   "id": "f1f35d8e-b076-48ff-af33-5ef803178885",
   "metadata": {},
   "outputs": [],
   "source": [
    "delattr(pwskills4,\"details\")"
   ]
  },
  {
   "cell_type": "code",
   "execution_count": 85,
   "id": "0777fe3e-c924-4da0-93c2-ef1cebe97e03",
   "metadata": {},
   "outputs": [],
   "source": [
    "delattr(pwskills4,\"mobile_number\")"
   ]
  }
 ],
 "metadata": {
  "kernelspec": {
   "display_name": "Python 3 (ipykernel)",
   "language": "python",
   "name": "python3"
  },
  "language_info": {
   "codemirror_mode": {
    "name": "ipython",
    "version": 3
   },
   "file_extension": ".py",
   "mimetype": "text/x-python",
   "name": "python",
   "nbconvert_exporter": "python",
   "pygments_lexer": "ipython3",
   "version": "3.10.8"
  }
 },
 "nbformat": 4,
 "nbformat_minor": 5
}
