{
 "cells": [
  {
   "cell_type": "markdown",
   "id": "3488e4b4-05da-4129-8897-7d5aebc11ce5",
   "metadata": {},
   "source": [
    "##### Question 1\n",
    "Given two strings s1 and s2, return the lowest ASCII sum of deleted characters to make two strings equal.\n",
    "Example 1:\n",
    "Input: s1 = \"sea\", s2 = \"eat\"\n",
    "Output: 231\n",
    "Explanation: Deleting \"s\" from \"sea\" adds the ASCII value of \"s\" (115) to the sum.\n",
    "Deleting \"t\" from \"eat\" adds 116 to the sum.\n",
    "At the end, both strings are equal, and 115 + 116 = 231 is the minimum sum possible to achieve this."
   ]
  },
  {
   "cell_type": "code",
   "execution_count": 1,
   "id": "945884f6-9f34-466c-8793-c59cfe5942ea",
   "metadata": {},
   "outputs": [],
   "source": [
    "def minimumDeleteSum(s1, s2):\n",
    "    m, n = len(s1), len(s2)\n",
    "    dp = [[0] * (n + 1) for _ in range(m + 1)]\n",
    "\n",
    "    for i in range(1, m + 1):\n",
    "        dp[i][0] = dp[i-1][0] + ord(s1[i-1])\n",
    "    for j in range(1, n + 1):\n",
    "        dp[0][j] = dp[0][j-1] + ord(s2[j-1])\n",
    "\n",
    "    for i in range(1, m + 1):\n",
    "        for j in range(1, n + 1):\n",
    "            if s1[i-1] == s2[j-1]:\n",
    "                dp[i][j] = dp[i-1][j-1]\n",
    "            else:\n",
    "                dp[i][j] = min(dp[i-1][j] + ord(s1[i-1]), dp[i][j-1] + ord(s2[j-1]))\n",
    "\n",
    "    return dp[m][n]"
   ]
  },
  {
   "cell_type": "code",
   "execution_count": 2,
   "id": "ab21c0a0-d953-470c-b4ba-15ba5f802364",
   "metadata": {},
   "outputs": [
    {
     "name": "stdout",
     "output_type": "stream",
     "text": [
      "231\n"
     ]
    }
   ],
   "source": [
    "s1 = \"sea\"\n",
    "s2 = \"eat\"\n",
    "print(minimumDeleteSum(s1, s2))  "
   ]
  },
  {
   "cell_type": "markdown",
   "id": "b7a8fc5c-15b4-4264-a833-97184afcdac0",
   "metadata": {},
   "source": [
    "##### Question 2\n",
    "Given a string s containing only three types of characters: '(', ')' and '*', return true if s is valid.\n",
    "The following rules define a valid string:\n",
    "- Any left parenthesis '(' must have a corresponding right parenthesis ')'.\n",
    "- Any right parenthesis ')' must have a corresponding left parenthesis '('.\n",
    "- Left parenthesis '(' must go before the corresponding right parenthesis ')'.\n",
    "- '*' could be treated as a single right parenthesis ')' or a single left parenthesis '(' or an empty string \"\".\n",
    "Example 1:\n",
    "Input: s = \"()\"\n",
    "Output:true"
   ]
  },
  {
   "cell_type": "code",
   "execution_count": 4,
   "id": "11285094-6aca-4fac-af35-bfdac37f18ae",
   "metadata": {},
   "outputs": [],
   "source": [
    "class Solution(object):\n",
    "    def checkValidString(self, s):\n",
    "        max_open, min_open = 0, 0\n",
    "        for c in s:\n",
    "            min_open = min_open + 1 if c == '(' else min_open - 1\n",
    "            max_open = max_open + 1 if c != ')' else max_open - 1\n",
    "            if max_open < 0: return False\n",
    "            min_open = max(0, min_open)\n",
    "        return min_open == 0"
   ]
  },
  {
   "cell_type": "code",
   "execution_count": 5,
   "id": "659dfb03-ceb5-4c73-8976-def973bdc9fb",
   "metadata": {},
   "outputs": [
    {
     "name": "stdout",
     "output_type": "stream",
     "text": [
      "True\n"
     ]
    }
   ],
   "source": [
    "s = \"()\"\n",
    "q2 = Solution()\n",
    "result = q2.checkValidString(s)\n",
    "print(result)"
   ]
  },
  {
   "cell_type": "markdown",
   "id": "679cd800-e515-4646-8f3d-5660f14c6edd",
   "metadata": {},
   "source": [
    "##### Question 3\n",
    "Given two strings word1 and word2, return the minimum number of steps required to make word1 and word2 the same.\n",
    "In one step, you can delete exactly one character in either string.\n",
    "Example 1:\n",
    "Input: word1 = \"sea\", word2 = \"eat\"\n",
    "Output: 2\n",
    "Explanation: You need one step to make \"sea\" to \"ea\" and another step to make \"eat\" to \"ea\"."
   ]
  },
  {
   "cell_type": "code",
   "execution_count": 10,
   "id": "2f122739-d2d7-4627-97e0-c0bba1056eef",
   "metadata": {},
   "outputs": [],
   "source": [
    "class Solution:\n",
    "    def minDistance(self, W1: str, W2: str) -> int:\n",
    "        m, n = len(W1), len(W2)\n",
    "        if m < n: W1, W2, m, n = W2, W1, n, m\n",
    "        dpLast, dpCurr = [0] * (n + 1), [0] * (n + 1)\n",
    "        for c1 in W1:\n",
    "            for j in range(n):\n",
    "                dpCurr[j+1] = dpLast[j] + 1 if c1 == W2[j] else max(dpCurr[j], dpLast[j+1])\n",
    "            dpLast, dpCurr = dpCurr, dpLast\n",
    "        return m + n - 2 * dpLast[n]"
   ]
  },
  {
   "cell_type": "code",
   "execution_count": 11,
   "id": "378a49bd-dedc-4321-9d06-3eb41f7a135f",
   "metadata": {},
   "outputs": [
    {
     "name": "stdout",
     "output_type": "stream",
     "text": [
      "2\n"
     ]
    }
   ],
   "source": [
    "word1= \"sea\"\n",
    "word2 = \"eat\"\n",
    "q3 = Solution()\n",
    "result = q3.minDistance(word1, word2)\n",
    "print(result)"
   ]
  },
  {
   "cell_type": "markdown",
   "id": "16614e66-256c-403f-8fd1-848846323a71",
   "metadata": {},
   "source": [
    "##### Question 4\n",
    "You need to construct a binary tree from a string consisting of parenthesis and integers.\n",
    "The whole input represents a binary tree. It contains an integer followed by zero, one or two pairs of parenthesis. The integer represents the root's value and a pair of parenthesis contains a child binary tree with the same structure.\n",
    "You always start to construct the left child node of the parent first if it exists.\n",
    "Input: s = \"4(2(3)(1))(6(5))\"\n",
    "Output: [4,2,6,3,1,5]"
   ]
  },
  {
   "cell_type": "code",
   "execution_count": 19,
   "id": "18817796-5d90-40b7-9f00-d486ecee47da",
   "metadata": {},
   "outputs": [],
   "source": [
    "class TreeNode:\n",
    "    def __init__(self, val=0, left=None, right=None):\n",
    "        self.val = val\n",
    "        self.left = left\n",
    "        self.right = right\n",
    "def buildTree(s):\n",
    "    if not s:\n",
    "        return None\n",
    "    i = s.find('(')\n",
    "    if i == -1:\n",
    "        val = int(s)\n",
    "        return TreeNode(val)\n",
    "\n",
    "    val = int(s[:i])\n",
    "    node = TreeNode(val)\n",
    "    count = 0\n",
    "    j = i\n",
    "    while j < len(s):\n",
    "        if s[j] == '(':\n",
    "            count += 1\n",
    "        elif s[j] == ')':\n",
    "            count -= 1\n",
    "        if count == 0:\n",
    "            break\n",
    "        j += 1\n",
    "    node.left = buildTree(s[i+1:j])\n",
    "    node.right = buildTree(s[j+2:-1])\n",
    "    return node\n",
    "def inorderTraversal(root):\n",
    "    if not root:\n",
    "        return []\n",
    "    return inorderTraversal(root.left) + [root.val] + inorderTraversal(root.right)"
   ]
  },
  {
   "cell_type": "code",
   "execution_count": 20,
   "id": "ea5f5f95-7930-4d02-a400-e9fb051f9d99",
   "metadata": {},
   "outputs": [
    {
     "name": "stdout",
     "output_type": "stream",
     "text": [
      "[3, 2, 1, 4, 5, 6]\n"
     ]
    }
   ],
   "source": [
    "s = \"4(2(3)(1))(6(5))\"\n",
    "root = buildTree(s)\n",
    "result = inorderTraversal(root)\n",
    "print(result)  "
   ]
  },
  {
   "cell_type": "markdown",
   "id": "63ce23d5-c201-4462-a7f2-1993dec121ef",
   "metadata": {},
   "source": [
    "##### Question 5\n",
    "Given an array of characters chars, compress it using the following algorithm:\n",
    "Begin with an empty string s. For each group of consecutive repeating characters in chars:\n",
    "- If the group's length is 1, append the character to s.\n",
    "- Otherwise, append the character followed by the group's length.\n",
    "The compressed string s should not be returned separately, but instead, be stored in the input character array chars. Note that group lengths that are 10 or longer will be split into multiple characters in chars.\n",
    "After you are done modifying the input array, return the new length of the array.\n",
    "You must write an algorithm that uses only constant extra space.\n",
    "Example 1:\n",
    "Input: chars = [\"a\",\"a\",\"b\",\"b\",\"c\",\"c\",\"c\"]\n",
    "Output: Return 6, and the first 6 characters of the input array should be: [\"a\",\"2\",\"b\",\"2\",\"c\",\"3\"]\n",
    "Explanation:\n",
    "The groups are \"aa\", \"bb\", and \"ccc\". This compresses to \"a2b2c3\"."
   ]
  },
  {
   "cell_type": "code",
   "execution_count": 22,
   "id": "f6d7cdac-e8a2-4943-a71f-46c33ced5db5",
   "metadata": {},
   "outputs": [],
   "source": [
    "class Solution:\n",
    "    def compress(self, array: list[str]) -> int:\n",
    "        ans=[]\n",
    "        i=0\n",
    "        while i < len(array):\n",
    "            temp=array[i]\n",
    "            count=i+1\n",
    "            while count<len(array)and array[count]==temp:\n",
    "                count+=1\n",
    "                if count==len(array):\n",
    "                    break\n",
    "            ans.append(temp)\n",
    "            if count-i>1 and count-i<10:\n",
    "                ans.append(str(count-i))\n",
    "            if count-i>9:\n",
    "                num=count-i\n",
    "                dup=[]\n",
    "                while num:\n",
    "                    dup.append(str(num%10))\n",
    "                    num//=10\n",
    "                for j in range(len(dup)-1,-1,-1):\n",
    "                    ans.append(dup[j])\n",
    "            i=count\n",
    "        array.clear()\n",
    "        for i in range(len(ans)):\n",
    "            array.append(ans[i])\n",
    "        return len(ans)"
   ]
  },
  {
   "cell_type": "code",
   "execution_count": 23,
   "id": "0dfea3f6-77a4-4edb-b595-ee714fc2d709",
   "metadata": {},
   "outputs": [
    {
     "name": "stdout",
     "output_type": "stream",
     "text": [
      "6\n"
     ]
    }
   ],
   "source": [
    "chars = [\"a\",\"a\",\"b\",\"b\",\"c\",\"c\",\"c\"]\n",
    "q5 = Solution()\n",
    "result = q5.compress(chars)\n",
    "print(result)"
   ]
  },
  {
   "cell_type": "markdown",
   "id": "717042fc-8d88-4bf6-87fc-ec2ab36eabaa",
   "metadata": {},
   "source": [
    "##### Question 6\n",
    "Given two strings s and p, return *an array of all the start indices of* p*'s anagrams in* s. You may return the answer in **any order**.\n",
    "An **Anagram** is a word or phrase formed by rearranging the letters of a different word or phrase, typically using all the original letters exactly once.\n",
    "**Example 1:**\n",
    "**Input:** s = \"cbaebabacd\", p = \"abc\"\n",
    "**Output:** [0,6]\n",
    "**Explanation:**\n",
    "The substring with start index = 0 is \"cba\", which is an anagram of \"abc\".\n",
    "The substring with start index = 6 is \"bac\", which is an anagram of \"abc\"."
   ]
  },
  {
   "cell_type": "code",
   "execution_count": 37,
   "id": "c7dabae9-6897-490b-8d93-f3364390accf",
   "metadata": {},
   "outputs": [],
   "source": [
    "def findAnagrams(s, p):\n",
    "    n = len(s)\n",
    "    m = len(p)\n",
    "    if n < m:\n",
    "        return []\n",
    "    \n",
    "    s_count = [0] * 26\n",
    "    p_count = [0] * 26\n",
    "    \n",
    "    for i in range(m):\n",
    "        s_count[ord(s[i]) - ord('a')] += 1\n",
    "        p_count[ord(p[i]) - ord('a')] += 1\n",
    "    \n",
    "    result = []\n",
    "    count = 0\n",
    "    left = 0\n",
    "    right = m - 1\n",
    "    \n",
    "    while right < n:\n",
    "        if s_count == p_count:\n",
    "            result.append(left)\n",
    "        \n",
    "        right += 1\n",
    "        if right != n:\n",
    "            s_count[ord(s[right]) - ord('a')] += 1\n",
    "            s_count[ord(s[left]) - ord('a')] -= 1\n",
    "            left += 1\n",
    "        \n",
    "    return result"
   ]
  },
  {
   "cell_type": "code",
   "execution_count": 38,
   "id": "b0e393bc-ddbd-471e-9aee-376ca1f3558f",
   "metadata": {},
   "outputs": [
    {
     "name": "stdout",
     "output_type": "stream",
     "text": [
      "[0, 6]\n"
     ]
    }
   ],
   "source": [
    "s = \"cbaebabacd\"\n",
    "p = \"abc\"\n",
    "print(findAnagrams(s,p))"
   ]
  },
  {
   "cell_type": "markdown",
   "id": "948658dc-c616-463b-a477-4ae65f7d790c",
   "metadata": {},
   "source": [
    "##### Question 7\n",
    "Given an encoded string, return its decoded string.\n",
    "The encoding rule is: k[encoded_string], where the encoded_string inside the square brackets is being repeated exactly k times. Note that k is guaranteed to be a positive integer.\n",
    "You may assume that the input string is always valid; there are no extra white spaces, square brackets are well-formed, etc. Furthermore, you may assume that the original data does not contain any digits and that digits are only for those repeat numbers, k. For example, there will not be input like 3a or 2[4].\n",
    "The test cases are generated so that the length of the output will never exceed 105.\n",
    "Example 1:\n",
    "Input: s = \"3[a]2[bc]\"\n",
    "Output: \"aaabcbc\""
   ]
  },
  {
   "cell_type": "code",
   "execution_count": 41,
   "id": "54328c76-7526-4111-8c59-2041109dc7ef",
   "metadata": {},
   "outputs": [],
   "source": [
    "class Solution:\n",
    "    def decodeString(self, s: str) -> str:        \n",
    "        curr = \"\" \n",
    "        stack = [] \n",
    "        num = 0\n",
    "        for char in s:\n",
    "            if char.isdigit():\n",
    "                num = 10*num + int(char)\n",
    "            if char=='[': \n",
    "                stack.append(num)\n",
    "                stack.append(curr)\n",
    "                num = 0\n",
    "                curr = \"\"\n",
    "            if char.isalpha():\n",
    "                curr+=char\n",
    "            if char==']': \n",
    "                pre_curr_str = stack.pop()\n",
    "                pre_curr_num = stack.pop()\n",
    "                curr = pre_curr_str + (pre_curr_num*curr)\n",
    "        return curr "
   ]
  },
  {
   "cell_type": "code",
   "execution_count": 42,
   "id": "5cbb7d98-199f-4d8a-877c-9b56b0ae434b",
   "metadata": {},
   "outputs": [
    {
     "name": "stdout",
     "output_type": "stream",
     "text": [
      "aaabcbc\n"
     ]
    }
   ],
   "source": [
    "s = \"3[a]2[bc]\"\n",
    "q7 = Solution()\n",
    "result = q7.decodeString(s)\n",
    "print(result)"
   ]
  },
  {
   "cell_type": "markdown",
   "id": "5b66ae28-625f-4051-9d69-5e448ee6b880",
   "metadata": {},
   "source": [
    "##### Question 8\n",
    "Given two strings s and goal, return true if you can swap two letters in s so the result is equal to goal, otherwise, return false.\n",
    "Swapping letters is defined as taking two indices i and j (0-indexed) such that i != j and swapping the characters at s[i] and s[j].\n",
    "- For example, swapping at indices 0 and 2 in \"abcd\" results in \"cbad\".\n",
    "Example 1:\n",
    "Input: s = \"ab\", goal = \"ba\"\n",
    "Output: true\n",
    "Explanation: You can swap s[0] = 'a' and s[1] = 'b' to get \"ba\", which is equal to goal."
   ]
  },
  {
   "cell_type": "code",
   "execution_count": 45,
   "id": "58dda7cf-5ee7-4724-9483-d300b6bb9aee",
   "metadata": {},
   "outputs": [],
   "source": [
    "def buddyStrings(s, goal):\n",
    "    if len(s) != len(goal):\n",
    "        return False\n",
    "    if s == goal:\n",
    "        seen = set()\n",
    "        for char in s:\n",
    "            if char in seen:\n",
    "                return True\n",
    "            seen.add(char)\n",
    "        return False\n",
    "    indices = []\n",
    "    for i in range(len(s)):\n",
    "        if s[i] != goal[i]:\n",
    "            indices.append(i)\n",
    "    if len(indices) != 2:\n",
    "        return False\n",
    "    i, j = indices\n",
    "    s = list(s)\n",
    "    s[i], s[j] = s[j], s[i]\n",
    "    s = ''.join(s)\n",
    "    return s == goal"
   ]
  },
  {
   "cell_type": "code",
   "execution_count": 46,
   "id": "f3ffacc9-4034-4a24-abe5-1c5552916671",
   "metadata": {},
   "outputs": [
    {
     "name": "stdout",
     "output_type": "stream",
     "text": [
      "True\n"
     ]
    }
   ],
   "source": [
    "s = \"ab\"\n",
    "goal = \"ba\"\n",
    "print(buddyStrings(s, goal))  "
   ]
  }
 ],
 "metadata": {
  "kernelspec": {
   "display_name": "Python 3 (ipykernel)",
   "language": "python",
   "name": "python3"
  },
  "language_info": {
   "codemirror_mode": {
    "name": "ipython",
    "version": 3
   },
   "file_extension": ".py",
   "mimetype": "text/x-python",
   "name": "python",
   "nbconvert_exporter": "python",
   "pygments_lexer": "ipython3",
   "version": "3.10.8"
  }
 },
 "nbformat": 4,
 "nbformat_minor": 5
}
