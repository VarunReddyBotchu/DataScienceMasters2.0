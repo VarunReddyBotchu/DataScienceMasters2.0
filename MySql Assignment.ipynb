{
 "cells": [
  {
   "cell_type": "markdown",
   "id": "4050c7d2-6115-4c44-a03d-bbea1a181c1f",
   "metadata": {},
   "source": [
    "### MySql Assignment"
   ]
  },
  {
   "cell_type": "markdown",
   "id": "39021948-2b26-4cd8-bb08-e297d2b0800c",
   "metadata": {},
   "source": [
    "#### Q1). What is a database? Differentiate between SQL and NoSQL databases."
   ]
  },
  {
   "cell_type": "markdown",
   "id": "b2da2524-4445-4a2a-8323-7a37e8da6cb8",
   "metadata": {},
   "source": [
    "##### A database is an organized collection of data that is stored and managed electronically. It provides a structured way to store, retrieve, and manage data efficiently. Databases are used in various applications and industries to handle large amounts of information.\n",
    "\n",
    "##### SQL databases are based on the relational model, which organizes data into tables with rows and columns. They adhere to a fixed schema, meaning the structure of the data is predefined and must be strictly followed. SQL databases use SQL as the standard language for defining, manipulating, and querying the data.\n",
    "\n",
    "##### NoSQL databases represent a wide range of database technologies that depart from the traditional relational model. They provide flexible data models that are often schema-less or have a dynamic schema. NoSQL databases are designed to handle large-scale data, high-velocity data ingestion, and distributed architectures.\n",
    "\n",
    "##### It's important to note that the choice between SQL and NoSQL databases depends on the specific requirements of the application or project, such as the type of data, scalability needs, performance requirements, and development preferences."
   ]
  },
  {
   "cell_type": "markdown",
   "id": "f01c02b6-8d10-41a5-8155-a2b3e3b9e3e0",
   "metadata": {},
   "source": [
    "#### Q2). What is DDL? Explain why CREATE, DROP, ALTER, and TRUNCATE are used with an example."
   ]
  },
  {
   "cell_type": "markdown",
   "id": "5150e4ed-fe7d-4c80-bfd3-cc8677458c65",
   "metadata": {},
   "source": [
    "##### DDL stands for Data Definition Language. It is a subset of SQL that is used to define and manage the structure of a database and its objects. DDL statements are responsible for creating, modifying, and deleting database objects such as tables, indexes, views, and schemas."
   ]
  },
  {
   "cell_type": "markdown",
   "id": "4194891c-47fb-478c-a115-4d7a9ecc7e26",
   "metadata": {},
   "source": [
    "##### CREATE:\n",
    "##### The CREATE statement is used to create new database objects, such as tables, views, indexes, or schemas."
   ]
  },
  {
   "cell_type": "code",
   "execution_count": null,
   "id": "5a16a07d-500d-4d81-8512-a253ff978d54",
   "metadata": {},
   "outputs": [],
   "source": [
    "CREATE TABLE Employees (\n",
    "    id INT PRIMARY KEY,\n",
    "    name VARCHAR(100),\n",
    "    age INT,\n",
    "    salary DECIMAL(10, 2)\n",
    ");"
   ]
  },
  {
   "cell_type": "markdown",
   "id": "0d32046d-6519-46fc-bf34-fd59f691e1a2",
   "metadata": {},
   "source": [
    "##### DROP:\n",
    "##### The DROP statement is used to remove existing database objects, such as tables, views, or indexes."
   ]
  },
  {
   "cell_type": "code",
   "execution_count": null,
   "id": "73d87214-d539-4f16-892c-d408a524b1f3",
   "metadata": {},
   "outputs": [],
   "source": [
    "DROP TABLE Employees;"
   ]
  },
  {
   "cell_type": "markdown",
   "id": "bdbd2640-f44e-4e2f-9511-57b7773c3f57",
   "metadata": {},
   "source": [
    "##### ALTER:\n",
    "##### The ALTER statement is used to modify the structure of existing database objects. It allows you to add, modify, or delete columns, constraints, or indexes."
   ]
  },
  {
   "cell_type": "code",
   "execution_count": null,
   "id": "08ef82fa-6067-481e-b722-d7f35fd80aea",
   "metadata": {},
   "outputs": [],
   "source": [
    "ALTER TABLE Employees\n",
    "ADD COLUMN email VARCHAR(255);"
   ]
  },
  {
   "cell_type": "code",
   "execution_count": null,
   "id": "952ad42b-e264-4d1a-a67e-ebc58a4830cc",
   "metadata": {},
   "outputs": [],
   "source": [
    "ALTER TABLE Employees\n",
    "ADD COLUMN email VARCHAR(255);"
   ]
  },
  {
   "cell_type": "markdown",
   "id": "395a80cc-4456-4791-8ea4-6a7d1c0e0c4f",
   "metadata": {},
   "source": [
    "##### TRUNCATE:\n",
    "##### The TRUNCATE statement is used to remove all data from a table, but keep the table structure intact. It is a faster alternative to the DELETE statement when you want to remove all records from a table."
   ]
  },
  {
   "cell_type": "code",
   "execution_count": null,
   "id": "de8a5223-15db-4beb-823e-1bc05d91a953",
   "metadata": {},
   "outputs": [],
   "source": [
    "TRUNCATE TABLE Employees;"
   ]
  },
  {
   "cell_type": "markdown",
   "id": "5ff6ebe1-5100-4429-9546-9614a0edcede",
   "metadata": {},
   "source": [
    "##### These DDL statements are essential for managing the structure and objects of a database. They provide the ability to create new objects, remove existing ones, and modify the structure to meet the evolving requirements of the application or system."
   ]
  },
  {
   "cell_type": "markdown",
   "id": "96070b74-a2ec-4ffb-ac25-063fe367afc1",
   "metadata": {},
   "source": [
    "##### Q3). What is DML? Explain INSERT, UPDATE, and DELETE with an example."
   ]
  },
  {
   "cell_type": "markdown",
   "id": "0c52b065-7ee8-49cb-971a-9a1ae1fc81ad",
   "metadata": {},
   "source": [
    "##### DML stands for Data Manipulation Language. It is a subset of SQL used to manage and manipulate the data within a database. DML statements are responsible for inserting, updating, and deleting data in database tables."
   ]
  },
  {
   "cell_type": "markdown",
   "id": "da52d5ae-50f9-4041-b6ef-b11bea1d422c",
   "metadata": {},
   "source": [
    "##### INSERT:\n",
    "##### The INSERT statement is used to add new records or rows into a table."
   ]
  },
  {
   "cell_type": "code",
   "execution_count": null,
   "id": "02709daf-d8e2-4681-bcfd-cea6ef0517b3",
   "metadata": {},
   "outputs": [],
   "source": [
    "INSERT INTO Employees (id, name, age, salary)\n",
    "VALUES (1, 'John Doe', 30, 50000);"
   ]
  },
  {
   "cell_type": "markdown",
   "id": "a411b324-0644-4d94-b73c-67a3b82f26e6",
   "metadata": {},
   "source": [
    "##### UPDATE:\n",
    "##### The UPDATE statement is used to modify existing records in a table."
   ]
  },
  {
   "cell_type": "code",
   "execution_count": null,
   "id": "37607ab7-6951-4aaa-a765-011d50a0a25b",
   "metadata": {},
   "outputs": [],
   "source": [
    "UPDATE Employees\n",
    "SET salary = 55000\n",
    "WHERE id = 1;"
   ]
  },
  {
   "cell_type": "markdown",
   "id": "37ee6251-9045-43f5-8d53-876a270c78a5",
   "metadata": {},
   "source": [
    "##### DELETE:\n",
    "##### The DELETE statement is used to remove records from a table."
   ]
  },
  {
   "cell_type": "code",
   "execution_count": null,
   "id": "7f2c9272-ecca-4674-8969-b3a6a8c4c23b",
   "metadata": {},
   "outputs": [],
   "source": [
    "DELETE FROM Employees\n",
    "WHERE id = 1;"
   ]
  },
  {
   "cell_type": "markdown",
   "id": "f80c1276-aa57-4eab-9b43-9508574186bf",
   "metadata": {},
   "source": [
    "##### Q4). What is DQL? Explain SELECT with an example."
   ]
  },
  {
   "cell_type": "markdown",
   "id": "0392ac14-ecdc-4d33-877c-fb6cc8a5975f",
   "metadata": {},
   "source": [
    "##### DQL stands for Data Query Language. It is a subset of SQL used to retrieve and query data from a database. DQL statements, particularly the SELECT statement, are used to extract specific information from one or more database tables.\n",
    "\n",
    "##### SELECT:\n",
    "##### The SELECT statement is used to retrieve data from a database table or multiple tables. It allows you to specify the columns you want to retrieve and apply various filtering and sorting conditions.The SELECT statement is the core component of querying data from a database. It provides powerful capabilities to retrieve specific information, apply filters, perform aggregations, and sort the results according to your requirements."
   ]
  },
  {
   "cell_type": "code",
   "execution_count": null,
   "id": "e8bf4583-4e2e-40b9-b82b-f6aa1ee6afc4",
   "metadata": {},
   "outputs": [],
   "source": [
    "SELECT id, name, age\n",
    "FROM Employees\n",
    "WHERE age > 25\n",
    "ORDER BY name ASC;"
   ]
  },
  {
   "cell_type": "markdown",
   "id": "766dc885-7b5b-4bdf-8d6e-262ffb68c1c5",
   "metadata": {},
   "source": [
    "##### Q5). Explain Primary Key and Foreign Key."
   ]
  },
  {
   "cell_type": "markdown",
   "id": "5cb7d32e-3bb1-408d-90ae-b11345bee5f9",
   "metadata": {},
   "source": [
    "##### Primary Key: A primary key is a column or a combination of columns in a database table that uniquely identifies each record. It enforces data integrity by ensuring that no two records in the table can have the same primary key value. The primary key is used as a reference point for other tables to establish relationships and maintain data consistency.\n",
    "\n",
    "##### Foreign Key: A foreign key is a column or a combination of columns in a database table that establishes a link or relationship to the primary key of another table. It helps enforce referential integrity by ensuring that values in the foreign key columns match existing values in the primary key column of the related table. Foreign keys enable the creation of relationships between tables, enforcing data consistency and enabling efficient retrieval and manipulation of related data."
   ]
  },
  {
   "cell_type": "markdown",
   "id": "3938a0da-ae7e-46c5-9757-820c56007c6c",
   "metadata": {},
   "source": [
    "##### Q6). Write a python code to connect MySQL to python. Explain the cursor() and execute() method."
   ]
  },
  {
   "cell_type": "code",
   "execution_count": null,
   "id": "73d91c5f-3467-47a6-87c6-1eaa8eca913c",
   "metadata": {},
   "outputs": [],
   "source": [
    "pip install mysql-connector-python"
   ]
  },
  {
   "cell_type": "code",
   "execution_count": null,
   "id": "ad9b8f59-b269-4153-a1a0-aa2704f2d5d4",
   "metadata": {},
   "outputs": [],
   "source": [
    "import mysql.connector\n",
    "\n",
    "mydb = mysql.connector.connect(\n",
    "  host=\"localhost\",\n",
    "  user=\"abc\",\n",
    "  password=\"password\"\n",
    ")\n",
    "print(mydb)\n",
    "mycursor = mydb.cursor()\n",
    "mycursor.execute(\"SHOW DATABASES\")\n",
    "for x in mycursor:\n",
    "  print(x)"
   ]
  },
  {
   "cell_type": "markdown",
   "id": "9b90920c-368e-4591-a53c-d99c07d8cc00",
   "metadata": {},
   "source": [
    "##### cursor() method:\n",
    "\n",
    "##### The cursor() method is used to create a cursor object that allows you to execute SQL queries and fetch the result.The cursor acts as a pointer or handle to the result set returned by the executed query.It provides methods to execute SQL statements and retrieve the data from the result set."
   ]
  },
  {
   "cell_type": "markdown",
   "id": "f1d2a82b-0b72-49ad-ae69-6dadc87303d2",
   "metadata": {},
   "source": [
    "##### execute() method:\n",
    "\n",
    "##### The execute() method is used to execute SQL queries or statements through the cursor object.It takes an SQL query as a parameter and executes it against the connected MySQL database.The execute() method can be used to perform various database operations such as SELECT, INSERT, UPDATE, DELETE, etc."
   ]
  },
  {
   "cell_type": "markdown",
   "id": "641352dc-7a39-4199-b485-b7156fbd41a2",
   "metadata": {},
   "source": [
    "##### Q7). Give the order of execution of SQL clauses in an SQL query."
   ]
  },
  {
   "cell_type": "markdown",
   "id": "29e90346-cd9d-48ef-81ee-79bdb2805e34",
   "metadata": {},
   "source": [
    "##### The general order of execution of SQL clauses in an SQL query is as follows:\n",
    "\n",
    "##### SELECT: The SELECT clause is executed first. It specifies the columns to retrieve from the table(s) and may include functions, aliases, and expressions.\n",
    "\n",
    "##### FROM: The FROM clause is executed next. It specifies the table(s) from which to retrieve the data.\n",
    "\n",
    "##### WHERE: The WHERE clause is executed after the FROM clause. It filters the rows based on specified conditions.\n",
    "\n",
    "##### GROUP BY: The GROUP BY clause is executed after the WHERE clause. It groups the rows based on specified columns or expressions.\n",
    "\n",
    "##### HAVING: The HAVING clause is executed after the GROUP BY clause. It filters the grouped rows based on specified conditions.\n",
    "\n",
    "##### ORDER BY: The ORDER BY clause is executed after the HAVING clause. It sorts the result set based on specified columns or expressions.\n",
    "\n",
    "##### LIMIT/OFFSET: The LIMIT/OFFSET clause is executed last. It limits the number of rows returned or specifies a starting point for the result set.\n",
    "\n",
    "##### It's important to note that not all clauses are required in every SQL query. The order and inclusion of clauses may vary depending on the specific query requirements. Additionally, some clauses, such as GROUP BY and HAVING, are optional and may not be present in every query."
   ]
  }
 ],
 "metadata": {
  "kernelspec": {
   "display_name": "Python 3 (ipykernel)",
   "language": "python",
   "name": "python3"
  },
  "language_info": {
   "codemirror_mode": {
    "name": "ipython",
    "version": 3
   },
   "file_extension": ".py",
   "mimetype": "text/x-python",
   "name": "python",
   "nbconvert_exporter": "python",
   "pygments_lexer": "ipython3",
   "version": "3.10.8"
  }
 },
 "nbformat": 4,
 "nbformat_minor": 5
}
