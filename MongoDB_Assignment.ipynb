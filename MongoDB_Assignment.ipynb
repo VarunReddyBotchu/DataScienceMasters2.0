{
 "cells": [
  {
   "cell_type": "markdown",
   "id": "6aa3718b-dbf7-42aa-ad7c-7a4a73948eec",
   "metadata": {},
   "source": [
    "Q1. What is MongoDB? Explain non-relational databases in short. In which scenarios it is preferred to use\n",
    "MongoDB over SQL databases?"
   ]
  },
  {
   "cell_type": "markdown",
   "id": "fd1be2c3-6535-443d-9d9b-9f7a092db9d8",
   "metadata": {},
   "source": [
    "MongoDB is a NoSQL database that uses a document-oriented model for data storage. Instead of storing data in tables like relational databases, it stores data in JSON-like documents with flexible schemas.\n",
    "\n",
    "Non-relational (NoSQL) databases store data in formats other than the traditional rows and columns, such as key-value pairs, documents, or graphs.\n",
    "They are designed for scalability, flexibility, and performance, particularly for unstructured or semi-structured data.\n",
    "\n",
    "When to prefer MongoDB over SQL databases:\n",
    "MongoDB is ideal when the schema is dynamic or evolving, as it allows schema-less document storage, for applications handling large amounts of unstructured data, MongoDB's scalability is advantageous.Its ability to handle large datasets with quick read/write operations suits real-time use cases.MongoDB is designed for distributed architectures and horizontal scaling across clusters.Applications involving nested or hierarchical data structures benefit from MongoDB's document model. MongoDB is suitable for agile environments where changes in schema are frequent."
   ]
  },
  {
   "cell_type": "markdown",
   "id": "0ce10fe8-4389-402b-bf21-2e1c0a2f3968",
   "metadata": {},
   "source": [
    "Q2. State and Explain the features of MongoDB."
   ]
  },
  {
   "cell_type": "markdown",
   "id": "5984a12f-a366-4154-a8e7-c20d731f44b3",
   "metadata": {},
   "source": [
    "Schema-less: MongoDB stores data in flexible JSON-like documents, enabling dynamic schema changes without downtime.\n",
    "\n",
    "Scalability: It supports horizontal scaling through sharding, distributing data across multiple servers.\n",
    "\n",
    "High Performance: Optimized for high throughput and low latency for read and write operations.\n",
    "\n",
    "Indexing: MongoDB allows indexing on fields to enhance query performance.\n",
    "\n",
    "Replication: Provides high availability through replica sets, ensuring redundancy and failover support.\n",
    "\n",
    "Aggregation Framework: Offers powerful aggregation capabilities for complex data transformations and analysis.\n",
    "\n",
    "Rich Query Language: Supports a wide range of queries, including geospatial and text searches.\n",
    "\n",
    "Load Balancing: Handles large data volumes efficiently by balancing loads across nodes.\n",
    "\n",
    "File Storage: Offers GridFS for handling large files like images and videos.\n",
    "\n",
    "Platform Compatibility: Works across various platforms and supports integration with multiple programming languages."
   ]
  },
  {
   "cell_type": "markdown",
   "id": "d54124da-0a5d-4b94-ac99-8a08a7918182",
   "metadata": {},
   "source": [
    "Q3. Write a code to connect MongoDB to Python. Also, create a database and a collection in MongoDB."
   ]
  },
  {
   "cell_type": "code",
   "execution_count": 1,
   "id": "180f180f-b336-4c1f-bf8a-f957c0b2323b",
   "metadata": {},
   "outputs": [
    {
     "name": "stdout",
     "output_type": "stream",
     "text": [
      "Database and collection created\n"
     ]
    }
   ],
   "source": [
    "from pymongo import MongoClient\n",
    "client = MongoClient(\"mongodb://localhost:27017/\")  \n",
    "db = client[\"sample_database\"]\n",
    "collection = db[\"sample_collection\"]\n",
    "print(\"Database and collection created\")"
   ]
  },
  {
   "cell_type": "markdown",
   "id": "ef536e1a-81ad-4cdf-b36b-f0f1cf1ff925",
   "metadata": {},
   "source": [
    "Q4. Using the database and the collection created in question number 3, write a code to insert one record,\n",
    "and insert many records. Use the find() and find_one() methods to print the inserted record."
   ]
  },
  {
   "cell_type": "code",
   "execution_count": 2,
   "id": "92239b2a-e5be-4e2c-92bd-e39760eee054",
   "metadata": {},
   "outputs": [
    {
     "name": "stdout",
     "output_type": "stream",
     "text": [
      "Find one record: {'_id': ObjectId('673dac2b1c4dcc8158808922'), 'name': 'Dwight', 'age': 35, 'city': 'Chicago'}\n",
      "Find all records:\n",
      "{'_id': ObjectId('673dac2b1c4dcc8158808920'), 'name': 'Bob', 'age': 25, 'city': 'New York'}\n",
      "{'_id': ObjectId('673dac2b1c4dcc8158808921'), 'name': 'John', 'age': 30, 'city': 'Los Angeles'}\n",
      "{'_id': ObjectId('673dac2b1c4dcc8158808922'), 'name': 'Dwight', 'age': 35, 'city': 'Chicago'}\n",
      "{'_id': ObjectId('673dac2b1c4dcc8158808923'), 'name': 'Stanley', 'age': 28, 'city': 'Houston'}\n"
     ]
    }
   ],
   "source": [
    "record_one = {\"name\": \"Bob\", \"age\": 25, \"city\": \"New York\"}\n",
    "collection.insert_one(record_one)\n",
    "\n",
    "records_many = [\n",
    "    {\"name\": \"John\", \"age\": 30, \"city\": \"Los Angeles\"},\n",
    "    {\"name\": \"Dwight\", \"age\": 35, \"city\": \"Chicago\"},\n",
    "    {\"name\": \"Stanley\", \"age\": 28, \"city\": \"Houston\"}\n",
    "]\n",
    "collection.insert_many(records_many)\n",
    "\n",
    "print(\"Find one record:\", collection.find_one({\"name\": \"Dwight\"}))\n",
    "\n",
    "# Find and print all records\n",
    "print(\"Find all records:\")\n",
    "for record in collection.find():\n",
    "    print(record)"
   ]
  },
  {
   "cell_type": "markdown",
   "id": "67421433-2a98-487d-a402-df9952035038",
   "metadata": {},
   "source": [
    "Q5. Explain how you can use the find() method to query the MongoDB database. Write a simple code to\n",
    "demonstrate this."
   ]
  },
  {
   "cell_type": "markdown",
   "id": "bdfcdbb4-459c-4813-9154-12f983140a8a",
   "metadata": {},
   "source": [
    "The find() method is used to query and retrieve documents from a collection. You can use filters, projection and sorting within this method."
   ]
  },
  {
   "cell_type": "code",
   "execution_count": 3,
   "id": "67cc3efc-8c9d-4469-a277-814720b8cc43",
   "metadata": {},
   "outputs": [
    {
     "name": "stdout",
     "output_type": "stream",
     "text": [
      "Documents where age > 28:\n",
      "{'_id': ObjectId('673dac2b1c4dcc8158808921'), 'name': 'John', 'age': 30, 'city': 'Los Angeles'}\n",
      "{'_id': ObjectId('673dac2b1c4dcc8158808922'), 'name': 'Dwight', 'age': 35, 'city': 'Chicago'}\n"
     ]
    }
   ],
   "source": [
    "# Query to find documents where age > 28\n",
    "query = {\"age\": {\"$gt\": 28}}\n",
    "results = collection.find(query)\n",
    "print(\"Documents where age > 28:\")\n",
    "for result in results:\n",
    "    print(result)"
   ]
  },
  {
   "cell_type": "markdown",
   "id": "8a81aef2-a7dd-4e9f-aad7-6f6635064671",
   "metadata": {},
   "source": [
    "Q6. Explain the sort() method. Give an example to demonstrate sorting in MongoDB."
   ]
  },
  {
   "cell_type": "markdown",
   "id": "890cba7c-eebd-4f2d-aad4-debc8cd07095",
   "metadata": {},
   "source": [
    "The sort() method is used to arrange the documents in ascending (1) or descending (-1) order based on specified fields."
   ]
  },
  {
   "cell_type": "code",
   "execution_count": 4,
   "id": "2c25757c-2100-47ce-871e-33b974963a63",
   "metadata": {},
   "outputs": [
    {
     "name": "stdout",
     "output_type": "stream",
     "text": [
      "Documents sorted by age (ascending):\n",
      "{'_id': ObjectId('673dac2b1c4dcc8158808920'), 'name': 'Bob', 'age': 25, 'city': 'New York'}\n",
      "{'_id': ObjectId('673dac2b1c4dcc8158808923'), 'name': 'Stanley', 'age': 28, 'city': 'Houston'}\n",
      "{'_id': ObjectId('673dac2b1c4dcc8158808921'), 'name': 'John', 'age': 30, 'city': 'Los Angeles'}\n",
      "{'_id': ObjectId('673dac2b1c4dcc8158808922'), 'name': 'Dwight', 'age': 35, 'city': 'Chicago'}\n"
     ]
    }
   ],
   "source": [
    "# Sort documents by age in ascending order\n",
    "sorted_results = collection.find().sort(\"age\", 1)\n",
    "print(\"Documents sorted by age (ascending):\")\n",
    "for doc in sorted_results:\n",
    "    print(doc)"
   ]
  },
  {
   "cell_type": "markdown",
   "id": "680cc859-ff71-4be0-8e76-e6a0f5e95086",
   "metadata": {},
   "source": [
    "Q7. Explain why delete_one(), delete_many(), and drop() is used."
   ]
  },
  {
   "cell_type": "code",
   "execution_count": 5,
   "id": "28a3587e-9d06-40e8-b205-378e0f916930",
   "metadata": {},
   "outputs": [],
   "source": [
    "#delete_one():Deletes a single document that matches the filter.Useful when you need to remove a specific document.\n",
    "\n",
    "collection.delete_one({\"name\": \"Alice\"})\n",
    "\n",
    "#delete_many():Deletes all documents that match the filter.Useful for bulk deletions.\n",
    "\n",
    "collection.delete_many({\"age\": {\"$gt\": 30}})\n",
    "\n",
    "#drop():Removes the entire collection from the database.Useful when the collection is no longer needed.\n",
    "\n",
    "collection.drop()"
   ]
  },
  {
   "cell_type": "code",
   "execution_count": 6,
   "id": "9b28d4dc-dfb2-47fa-b9dd-46d618b57d58",
   "metadata": {},
   "outputs": [],
   "source": [
    "for record in collection.find():\n",
    "    print(record)"
   ]
  },
  {
   "cell_type": "code",
   "execution_count": null,
   "id": "a39ddabb-f628-47fd-ae35-f3df80af0e6d",
   "metadata": {},
   "outputs": [],
   "source": []
  }
 ],
 "metadata": {
  "kernelspec": {
   "display_name": "Python 3 (ipykernel)",
   "language": "python",
   "name": "python3"
  },
  "language_info": {
   "codemirror_mode": {
    "name": "ipython",
    "version": 3
   },
   "file_extension": ".py",
   "mimetype": "text/x-python",
   "name": "python",
   "nbconvert_exporter": "python",
   "pygments_lexer": "ipython3",
   "version": "3.11.7"
  }
 },
 "nbformat": 4,
 "nbformat_minor": 5
}
