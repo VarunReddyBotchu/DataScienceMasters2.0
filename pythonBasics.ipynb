{
 "cells": [
  {
   "cell_type": "markdown",
   "id": "a580d636-507f-47ab-81f6-2af12ac8ab76",
   "metadata": {},
   "source": [
    "### Python Basics\n",
    "1. different ways to print  values  in print statement\n",
    "2. If, if  else, if elif else\n",
    "3. Nested if\n",
    "4. Single statement suites\n",
    "5. While loop\n",
    "6. for loop\n",
    "7. Nested loop\n",
    "8. Loop Control(break, continue, pass)"
   ]
  },
  {
   "cell_type": "code",
   "execution_count": 7,
   "id": "a61e966d-130d-488c-9566-be991bba6734",
   "metadata": {},
   "outputs": [
    {
     "name": "stdin",
     "output_type": "stream",
     "text": [
      "Enter your name varun\n",
      "Enter your age 22\n"
     ]
    },
    {
     "name": "stdout",
     "output_type": "stream",
     "text": [
      "Your name is: varun\n",
      "Your age is : 22\n",
      "Your name is varun and your age is 22\n",
      "Your name is varun and your age is 22\n"
     ]
    }
   ],
   "source": [
    "name = str(input(\"Enter your name\"))\n",
    "age = str(input(\"Enter your age\"))\n",
    "#1.1normal\n",
    "print(\"Your name is:\", name)\n",
    "#1.2 f type\n",
    "print(f\"Your age is : {age}\")\n",
    "#1.3 format()\n",
    "print(\"Your name is {} and your age is {}\".format(name, age))\n",
    "#1.4 placeholder\n",
    "print(\"Your name is {var1} and your age is {var2}\".format(var1=name,var2=age))"
   ]
  },
  {
   "cell_type": "code",
   "execution_count": 9,
   "id": "2cd16643-c85a-4c8c-b49e-be8c6e24bcaa",
   "metadata": {},
   "outputs": [
    {
     "name": "stdout",
     "output_type": "stream",
     "text": [
      "My age is 22 and I have completed: my degree of btech with the name of varun\n",
      "My age is 22 and I have completed: my degree of btech with the name of varun\n",
      "My age is 22 and I have completed: my degree of btech with the name of varun\n"
     ]
    }
   ],
   "source": [
    "#1.practice\n",
    "name=\"varun\"\n",
    "age=22\n",
    "degree=\"btech\"\n",
    "print(f\"My age is {age} and I have completed: my degree of {degree} with the name of {name}\")\n",
    "print(\"My age is {} and I have completed: my degree of {} with the name of {}\".format(age, degree, name))\n",
    "print(\"My age is {var1} and I have completed: my degree of {var2} with the name of {var3}\".format(var1=age, var2=degree, var3=name))"
   ]
  },
  {
   "cell_type": "code",
   "execution_count": 15,
   "id": "2571b89c-7ccf-4af1-babb-1e266ac44d1d",
   "metadata": {},
   "outputs": [
    {
     "name": "stdin",
     "output_type": "stream",
     "text": [
      "enter your age: 12\n"
     ]
    }
   ],
   "source": [
    " #2.1 \n",
    "age=int(input(\"enter your age:\"))\n",
    "if age>=18:\n",
    "     print(\"You are eligible to vote\")"
   ]
  },
  {
   "cell_type": "code",
   "execution_count": 16,
   "id": "225776b7-541f-4f13-a2b6-2e0f27e7c7c0",
   "metadata": {},
   "outputs": [
    {
     "name": "stdin",
     "output_type": "stream",
     "text": [
      "enter your age: 12\n"
     ]
    },
    {
     "name": "stdout",
     "output_type": "stream",
     "text": [
      "You are not eligible to vote\n"
     ]
    }
   ],
   "source": [
    "#2.2\n",
    "age=int(input(\"enter your age:\"))\n",
    "if age>=18:\n",
    "     print(\"You are eligible to vote\")\n",
    "else:\n",
    "    print(\"You are not eligible to vote\")"
   ]
  },
  {
   "cell_type": "code",
   "execution_count": 18,
   "id": "80cabf78-8942-4c6c-870b-6f5ef679af8d",
   "metadata": {},
   "outputs": [
    {
     "name": "stdin",
     "output_type": "stream",
     "text": [
      "enter your age: 45\n"
     ]
    },
    {
     "name": "stdout",
     "output_type": "stream",
     "text": [
      "You are young blood\n"
     ]
    }
   ],
   "source": [
    "#2.1 practice\n",
    "#take age as input and if age is greater than 18 and less than 32 print you are young blood\n",
    "age=int(input(\"enter your age:\"))\n",
    "if age>=18 and age<=45:\n",
    "     print(\"You are young blood\")"
   ]
  },
  {
   "cell_type": "code",
   "execution_count": 21,
   "id": "e857cb0a-b603-4fd5-a1ac-552a1055814d",
   "metadata": {},
   "outputs": [
    {
     "name": "stdin",
     "output_type": "stream",
     "text": [
      "enter your age: 45\n"
     ]
    },
    {
     "name": "stdout",
     "output_type": "stream",
     "text": [
      "You are young blood\n"
     ]
    }
   ],
   "source": [
    "#2.2 practice\n",
    "#take age as input and if age is greater than 18 and less than 32 print you are young blood\n",
    "age=int(input(\"enter your age:\"))\n",
    "if age>=18 and age<=45:\n",
    "     print(\"You are young blood\")\n",
    "else:\n",
    "    print(\"Thank you.We will let you know\")"
   ]
  },
  {
   "cell_type": "code",
   "execution_count": 26,
   "id": "107c1971-72c1-413b-b7e8-e4eb02987931",
   "metadata": {},
   "outputs": [
    {
     "name": "stdout",
     "output_type": "stream",
     "text": [
      "Welcome to Online Shoping Portal\n"
     ]
    },
    {
     "name": "stdin",
     "output_type": "stream",
     "text": [
      "Enter the price of product you wish to buy: 6500\n"
     ]
    },
    {
     "name": "stdout",
     "output_type": "stream",
     "text": [
      "Your product price was 6500.YOu will be getting a discount of 20%off\n",
      "Your total after 20% discount is 5200.0\n"
     ]
    }
   ],
   "source": [
    "\"\"\"2.2 practice\n",
    "if prod>1000 20%off\n",
    "if prod<=1000 30%off\n",
    "print the price of product after discount\"\"\"\n",
    "print(\"Welcome to Online Shoping Portal\")\n",
    "prodprice=int(input(\"Enter the price of product you wish to buy:\"))\n",
    "if prodprice<=1000 and prodprice>0:\n",
    "    print(\"Your product price was {}.You will be getting a discount of 30%off\".format(prodprice))\n",
    "    total=prodprice*0.7\n",
    "    print(\"Your total after 30% discount is\", total)\n",
    "else:\n",
    "    print(\"Your product price was {}.YOu will be getting a discount of 20%off\".format(prodprice))\n",
    "    total=prodprice*0.8\n",
    "    print(\"Your total after 20% discount is\", total)\n"
   ]
  },
  {
   "cell_type": "code",
   "execution_count": 27,
   "id": "89df5d03-4201-4af8-8116-b745baf0a799",
   "metadata": {},
   "outputs": [
    {
     "name": "stdin",
     "output_type": "stream",
     "text": [
      "Enter the price of Product: 1999\n"
     ]
    },
    {
     "name": "stdout",
     "output_type": "stream",
     "text": [
      "Your total will be 1199.3999999999999\n"
     ]
    }
   ],
   "source": [
    "#2.3 practice and 3 practice\n",
    "#if prod>2000 30%off\n",
    "#if prod<=2000 40%off\n",
    "#if prod=4000 goa trip\n",
    "#if prod<2000 20% off\n",
    "#print the price of product after discount\"\"\"\n",
    "prodprice=int(input(\"Enter the price of Product:\"))\n",
    "if prodprice<=2000:\n",
    "    print(f\"Your total will be {prodprice*0.6}\")\n",
    "elif prodprice>2000 and prodprice<=3000:\n",
    "    if prodprice==2999:\n",
    "        print(\"You will get an additional gift\")\n",
    "        print(f\"Your total will be {prodprice*0.7}\")\n",
    "else:\n",
    "     print(f\"Your total will be {prodprice*0.8}\")\n",
    "if prodprice==4000:\n",
    "        print(\"You will get a goa trip\")"
   ]
  },
  {
   "cell_type": "code",
   "execution_count": 28,
   "id": "74d34110-08ba-4f01-a61a-a027fc9e06a6",
   "metadata": {},
   "outputs": [
    {
     "name": "stdin",
     "output_type": "stream",
     "text": [
      "Enter the product price 998\n"
     ]
    },
    {
     "name": "stdout",
     "output_type": "stream",
     "text": [
      "Value is less than 999\n"
     ]
    }
   ],
   "source": [
    "#4\n",
    "prod=int(input(\"Enter the product price\"))\n",
    "if prod<=999:print(\"Value is less than 999\")"
   ]
  },
  {
   "cell_type": "code",
   "execution_count": 35,
   "id": "7599931d-5506-45ac-a1ee-7baa5e507c47",
   "metadata": {},
   "outputs": [
    {
     "name": "stdout",
     "output_type": "stream",
     "text": [
      "55\n",
      "56\n",
      "57\n",
      "58\n",
      "59\n",
      "60\n",
      "time to retire\n"
     ]
    }
   ],
   "source": [
    "#5\n",
    "join_age=55\n",
    "while join_age<=60:\n",
    "    print(join_age)\n",
    "    join_age+=1\n",
    "else:print(\"time to retire\")"
   ]
  },
  {
   "cell_type": "code",
   "execution_count": 50,
   "id": "9ed39c90-9f66-4234-af5b-ddc352a99eee",
   "metadata": {},
   "outputs": [
    {
     "name": "stdout",
     "output_type": "stream",
     "text": [
      "1000\n",
      "900\n",
      "800\n",
      "700\n",
      "600\n",
      "500\n",
      "400\n",
      "300\n",
      "200\n",
      "100\n",
      "Put more money bank people\n"
     ]
    }
   ],
   "source": [
    "#5.practice\n",
    "total_amt=1000\n",
    "while total_amt>0:\n",
    "     print(total_amt)\n",
    "     total_amt-=100\n",
    "else:\n",
    "    print(\"Put more money bank people\")"
   ]
  },
  {
   "cell_type": "code",
   "execution_count": 56,
   "id": "629feec4-0fc9-4c08-b66a-2cbc33ae792b",
   "metadata": {},
   "outputs": [
    {
     "name": "stdout",
     "output_type": "stream",
     "text": [
      "1.3\n",
      "4\n",
      "5\n",
      "4\n",
      "2\n",
      "44\n",
      "5\n",
      "2\n",
      "3\n",
      "5\n",
      "52\n",
      "42\n",
      "its forty two\n",
      "44\n",
      "24\n",
      "2\n"
     ]
    }
   ],
   "source": [
    "#6\n",
    "list1=[1.3,4,5,4,2,44,5,2,3,5,52,42,44,24,2]\n",
    "for i in list1:\n",
    "    print(i)\n",
    "    if i==42:\n",
    "        print(\"its forty two\")"
   ]
  },
  {
   "cell_type": "code",
   "execution_count": 58,
   "id": "db6a641c-846f-4b76-ae31-20b3138bd0d4",
   "metadata": {},
   "outputs": [
    {
     "name": "stdout",
     "output_type": "stream",
     "text": [
      "varun Kumar"
     ]
    }
   ],
   "source": [
    "#6 in string\n",
    "#string is a collection of elements\n",
    "var1=\"varun Kumar\"\n",
    "for i in var1:\n",
    "    print(i, end=\"\")"
   ]
  },
  {
   "cell_type": "code",
   "execution_count": 83,
   "id": "73996200-ea1c-418e-993f-be09eea62cb9",
   "metadata": {},
   "outputs": [
    {
     "name": "stdout",
     "output_type": "stream",
     "text": [
      "*\n",
      "**\n",
      "***\n",
      "****\n",
      "*****\n",
      "******\n",
      "*******\n"
     ]
    }
   ],
   "source": [
    "#7\n",
    "n=7\n",
    "for i in range(0,n):\n",
    "    for j in range(0,i+1):\n",
    "        print(\"*\", end=\"\")\n",
    "    print(\"\\r\")"
   ]
  },
  {
   "cell_type": "code",
   "execution_count": 95,
   "id": "706f1fa1-981a-4ac2-8c34-cf7d7d58f6ab",
   "metadata": {},
   "outputs": [
    {
     "name": "stdout",
     "output_type": "stream",
     "text": [
      "Apple\n",
      "Banana\n",
      "The fruit is Orange\n"
     ]
    }
   ],
   "source": [
    "#8.1\n",
    "fruitlist=[\"Apple\",\"Banana\", \"Orange\", \"Papaya\"]\n",
    "for i in fruitlist:\n",
    "    if i==\"Orange\":\n",
    "             print(\"The fruit is Orange\")\n",
    "             break\n",
    "    print(i)"
   ]
  },
  {
   "cell_type": "code",
   "execution_count": 96,
   "id": "000b589c-f432-4c7e-a50d-b3a496226373",
   "metadata": {},
   "outputs": [
    {
     "name": "stdout",
     "output_type": "stream",
     "text": [
      "Apple\n",
      "Banana\n",
      "The fruit is Orange\n",
      "Papaya\n"
     ]
    }
   ],
   "source": [
    "#8.2\n",
    "fruitlist=[\"Apple\",\"Banana\", \"Orange\", \"Papaya\"]\n",
    "for i in fruitlist:\n",
    "    if i==\"Orange\":\n",
    "             print(\"The fruit is Orange\")\n",
    "             continue\n",
    "    print(i)"
   ]
  },
  {
   "cell_type": "code",
   "execution_count": 97,
   "id": "dad6d7f8-612c-4fe1-8eeb-4e9d7a15f4eb",
   "metadata": {},
   "outputs": [
    {
     "name": "stdout",
     "output_type": "stream",
     "text": [
      "Apple\n",
      "Banana\n",
      "The fruit is Orange\n",
      "Orange\n",
      "Papaya\n"
     ]
    }
   ],
   "source": [
    "#8.3\n",
    "fruitlist=[\"Apple\",\"Banana\", \"Orange\", \"Papaya\"]\n",
    "for i in fruitlist:\n",
    "    if i==\"Orange\":\n",
    "             print(\"The fruit is Orange\")\n",
    "             pass\n",
    "    print(i)"
   ]
  }
 ],
 "metadata": {
  "kernelspec": {
   "display_name": "Python 3 (ipykernel)",
   "language": "python",
   "name": "python3"
  },
  "language_info": {
   "codemirror_mode": {
    "name": "ipython",
    "version": 3
   },
   "file_extension": ".py",
   "mimetype": "text/x-python",
   "name": "python",
   "nbconvert_exporter": "python",
   "pygments_lexer": "ipython3",
   "version": "3.10.8"
  }
 },
 "nbformat": 4,
 "nbformat_minor": 5
}
