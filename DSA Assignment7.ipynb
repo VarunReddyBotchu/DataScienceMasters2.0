{
 "cells": [
  {
   "cell_type": "markdown",
   "id": "6243356b-a66a-435d-8a3d-b7628ed1a760",
   "metadata": {},
   "source": [
    "### DSA Assignment 7"
   ]
  },
  {
   "cell_type": "markdown",
   "id": "83bb3109-13b2-43be-b726-0621b28ed7fa",
   "metadata": {},
   "source": [
    "##### Question 1\n",
    "Given two strings s and t, determine if they are isomorphic.\n",
    "Two strings s and t are isomorphic if the characters in s can be replaced to get t.\n",
    "All occurrences of a character must be replaced with another character while preserving the order of characters. No two characters may map to the same character, but a character may map to itself.\n",
    "Example 1:\n",
    "Input:s = \"egg\", t = \"add\"\n",
    "Output: true"
   ]
  },
  {
   "cell_type": "code",
   "execution_count": 2,
   "id": "c3ec8237-cbd4-4581-a8fd-a52f48111816",
   "metadata": {},
   "outputs": [],
   "source": [
    "def isisomorphic(str1, str2):\n",
    "    if len(str1) != len(str2):\n",
    "        return False\n",
    "    else:\n",
    "        map1, map2 = {}, {}\n",
    "        for i in range(len(str1)):\n",
    "            ch1, ch2 = str1[i], str2[i]\n",
    "            if ch1 not in map1:\n",
    "                map1[ch1] = ch2\n",
    "            if ch2 not in map2:\n",
    "                map2[ch2] = ch1\n",
    "            if map1[ch1] != ch2 or map2[ch2] != ch1:\n",
    "                return False\n",
    "    return True"
   ]
  },
  {
   "cell_type": "code",
   "execution_count": 3,
   "id": "ec7803f4-1b84-4b85-880b-4bf567f19007",
   "metadata": {},
   "outputs": [
    {
     "name": "stdout",
     "output_type": "stream",
     "text": [
      "True\n"
     ]
    }
   ],
   "source": [
    "str1 = \"egg\"\n",
    "str2 = \"add\"\n",
    "print(isisomorphic(str1, str2))"
   ]
  },
  {
   "cell_type": "markdown",
   "id": "9e2e07bc-17b0-4e10-a234-820db96dcd7e",
   "metadata": {},
   "source": [
    "##### Question 2\n",
    "Given a string num which represents an integer, return true if num is a strobogrammatic number.\n",
    "A strobogrammatic number is a number that looks the same when rotated 180 degrees (looked at upside down).\n",
    "Example 1:\n",
    "Input: num = \"69\"\n",
    "Output:true"
   ]
  },
  {
   "cell_type": "code",
   "execution_count": 14,
   "id": "1736e4b4-a505-46b3-927b-514e99681c13",
   "metadata": {},
   "outputs": [],
   "source": [
    "class Solution(object):\n",
    "    def isStrobogrammatic(self, num):\n",
    "      \n",
    "        maps = {(\"0\", \"0\"), (\"1\", \"1\"), (\"6\", \"9\"), (\"8\", \"8\"), (\"9\", \"6\")}\n",
    "        i,j = 0, len(num) - 1\n",
    "        while i <= j:\n",
    "            if (num[i], num[j]) not in maps:\n",
    "                return False\n",
    "            i += 1\n",
    "            j -= 1\n",
    "        return True"
   ]
  },
  {
   "cell_type": "code",
   "execution_count": 15,
   "id": "a8d0958e-cd8b-4839-8a74-0687d2dd7aa0",
   "metadata": {},
   "outputs": [
    {
     "name": "stdout",
     "output_type": "stream",
     "text": [
      "True\n"
     ]
    }
   ],
   "source": [
    "q2 = Solution()\n",
    "result = q2.isStrobogrammatic(\"69\")\n",
    "print(result)"
   ]
  },
  {
   "cell_type": "markdown",
   "id": "b6392b3a-6f7c-4437-b1e2-dc1577bde652",
   "metadata": {},
   "source": [
    "##### Question 3\n",
    "Given two non-negative integers, num1 and num2 represented as string, return the sum of num1 and num2 as a string.\n",
    "You must solve the problem without using any built-in library for handling large integers (such as BigInteger). You must also not convert the inputs to integers directly.\n",
    "Example 1:\n",
    "Input: num1 = \"11\", num2 = \"123\"\n",
    "Output:\"134\""
   ]
  },
  {
   "cell_type": "code",
   "execution_count": 19,
   "id": "62c4d55e-e056-4aef-b807-6b182cbbd4df",
   "metadata": {},
   "outputs": [],
   "source": [
    "class Solution:\n",
    "    def addStrings(self, num1: str, num2: str) -> str:\n",
    "        i, j = len(num1) - 1, len(num2) - 1\n",
    "        ans = []\n",
    "        c = 0\n",
    "        while i >= 0 or j >= 0 or c:\n",
    "            a = 0 if i < 0 else int(num1[i])\n",
    "            b = 0 if j < 0 else int(num2[j])\n",
    "            c, v = divmod(a + b + c, 10)\n",
    "            ans.append(str(v))\n",
    "            i, j = i - 1, j - 1\n",
    "        return \"\".join(ans[::-1])"
   ]
  },
  {
   "cell_type": "code",
   "execution_count": 20,
   "id": "5616e301-4057-422b-9179-46cc1332e4a6",
   "metadata": {},
   "outputs": [
    {
     "name": "stdout",
     "output_type": "stream",
     "text": [
      "134\n"
     ]
    }
   ],
   "source": [
    "q3 = Solution()\n",
    "result = q3.addStrings(\"11\",\"123\")\n",
    "print(result)"
   ]
  },
  {
   "cell_type": "code",
   "execution_count": 21,
   "id": "8b927f50-4a14-4778-be33-1bd11492881a",
   "metadata": {},
   "outputs": [
    {
     "data": {
      "text/plain": [
       "str"
      ]
     },
     "execution_count": 21,
     "metadata": {},
     "output_type": "execute_result"
    }
   ],
   "source": [
    "type(result)"
   ]
  },
  {
   "cell_type": "markdown",
   "id": "3475bc41-b5a1-49ee-b1b0-4037f6084e47",
   "metadata": {},
   "source": [
    "##### Question 4\n",
    "Given a string s, reverse the order of characters in each word within a sentence while still preserving whitespace and initial word order.\n",
    "Example 1:\n",
    "Input: s = \"Let's take LeetCode contest\"\n",
    "Output: \"s'teL ekat edoCteeL tsetnoc\""
   ]
  },
  {
   "cell_type": "code",
   "execution_count": 24,
   "id": "f64c08a5-2650-4c21-914e-26ed4ef8a754",
   "metadata": {},
   "outputs": [],
   "source": [
    "class Solution(object):\n",
    "    def reverseWords(self, s):\n",
    "        return \" \".join(s.split(\" \")[::-1])[::-1]"
   ]
  },
  {
   "cell_type": "code",
   "execution_count": 25,
   "id": "928b527a-c699-400a-8ae8-36a1d93afb8a",
   "metadata": {},
   "outputs": [
    {
     "name": "stdout",
     "output_type": "stream",
     "text": [
      "s'teL ekat edoCteeL tsetnoc\n"
     ]
    }
   ],
   "source": [
    "q4 = Solution()\n",
    "result = q4.reverseWords(\"Let's take LeetCode contest\")\n",
    "print(result)"
   ]
  },
  {
   "cell_type": "markdown",
   "id": "6e4f91bc-98b8-429a-933e-0301f17d5288",
   "metadata": {},
   "source": [
    "##### Question 5\n",
    "Given a string s and an integer k, reverse the first k characters for every 2k characters counting from the start of the string.\n",
    "If there are fewer than k characters left, reverse all of them. If there are less than 2k but greater than or equal to k characters, then reverse the first k characters and leave the other as original.\n",
    "Example 1:\n",
    "Input: s = \"abcdefg\", k = 2\n",
    "Output:\"bacdfeg\""
   ]
  },
  {
   "cell_type": "code",
   "execution_count": 31,
   "id": "cefdd18b-27c3-4f70-b5d8-e958a305ff0a",
   "metadata": {},
   "outputs": [],
   "source": [
    "class Solution:\n",
    "    def reverseStr(self, s, k):\n",
    "         l = list(s)\n",
    "         i = k-1\n",
    "         while i < len(l)+k:\n",
    "             a = l[:i-k+1]\n",
    "             b = l[i-k+1:i+1]\n",
    "             c = l[i+1:]\n",
    "             l = a + b[::-1] + c\n",
    "             i += 2*k\n",
    "         return ''.join(l)"
   ]
  },
  {
   "cell_type": "code",
   "execution_count": 32,
   "id": "8ed6181e-4cb4-49b5-b970-6e74ecf9ec01",
   "metadata": {},
   "outputs": [
    {
     "name": "stdout",
     "output_type": "stream",
     "text": [
      "cbadefg\n"
     ]
    }
   ],
   "source": [
    "ob = Solution()\n",
    "print(ob.reverseStr(\"abcdefg\", 3))"
   ]
  },
  {
   "cell_type": "markdown",
   "id": "fa450142-6df2-442c-aeaf-aefa5fb06cf6",
   "metadata": {},
   "source": [
    "##### Question 6\n",
    "Given two strings s and goal, return true if and only if s can become goal after some number of shifts on s.\n",
    "A shift on s consists of moving the leftmost character of s to the rightmost position.\n",
    "- For example, if s = \"abcde\", then it will be \"bcdea\" after one shift.\n",
    "Example 1:\n",
    "Input: s = \"abcde\", goal = \"cdeab\"\n",
    "Output:true"
   ]
  },
  {
   "cell_type": "code",
   "execution_count": 34,
   "id": "18575d43-7012-408c-b6de-bd738e13bc2e",
   "metadata": {},
   "outputs": [],
   "source": [
    "class Solution :\n",
    "    def  rotateString(self, s,  goal) :\n",
    "        return (len(s) == len(goal) and  goal in (s + s))"
   ]
  },
  {
   "cell_type": "code",
   "execution_count": 36,
   "id": "762e922c-e0d6-4b25-bdfa-a2719601b971",
   "metadata": {},
   "outputs": [
    {
     "name": "stdout",
     "output_type": "stream",
     "text": [
      "True\n"
     ]
    }
   ],
   "source": [
    "s = \"abcde\"\n",
    "goal = \"cdeab\"\n",
    "q6 = Solution()\n",
    "result = q6.rotateString(s, goal)\n",
    "print(result)"
   ]
  },
  {
   "cell_type": "markdown",
   "id": "4b29b2af-6517-4abf-b06d-33e4e45e42df",
   "metadata": {},
   "source": [
    "##### Question 7\n",
    "Given two strings s and t, return true *if they are equal when both are typed into empty text editors*. '#' means a backspace character.\n",
    "Note that after backspacing an empty text, the text will continue empty.\n",
    "Example 1:\n",
    "Input: s = \"ab#c\", t = \"ad#c\"\n",
    "Output: true\n",
    "Explanation:Both s and t become \"ac\"."
   ]
  },
  {
   "cell_type": "code",
   "execution_count": 39,
   "id": "9d37c8a5-85b1-44e2-9654-087ca506a7e8",
   "metadata": {},
   "outputs": [],
   "source": [
    "class Solution:\n",
    "    def backspaceCompare(self, S: str, T: str) -> bool:\n",
    "        def bckspc(string):\n",
    "            stack=[]\n",
    "            for i in string:\n",
    "                if i =='#':\n",
    "                    try:\n",
    "                        stack.pop()\n",
    "                    except:\n",
    "                        pass\n",
    "                else:\n",
    "                    stack.append(i)\n",
    "            return ''.join(stack)\n",
    "\n",
    "        return (bckspc(S)==bckspc(T))"
   ]
  },
  {
   "cell_type": "code",
   "execution_count": 40,
   "id": "e6855a91-5016-45f1-9e45-aeaad38cd4e1",
   "metadata": {},
   "outputs": [
    {
     "name": "stdout",
     "output_type": "stream",
     "text": [
      "True\n"
     ]
    }
   ],
   "source": [
    "S = \"ab#c\"\n",
    "T = \"ad#c\"\n",
    "q7 = Solution()\n",
    "result = q7.backspaceCompare(S , T)\n",
    "print(result)"
   ]
  },
  {
   "cell_type": "markdown",
   "id": "cb0167a3-ca46-4da0-b11f-7349ccbbe926",
   "metadata": {},
   "source": [
    "##### Question 8\n",
    "You are given an array coordinates, coordinates[i] = [x, y], where [x, y] represents the coordinate of a point. Check if these points make a straight line in the XY plane.\n",
    "Example 1:\n",
    "Input: coordinates = [[1,2],[2,3],[3,4],[4,5],[5,6],[6,7]]\n",
    "Output: true"
   ]
  },
  {
   "cell_type": "code",
   "execution_count": 49,
   "id": "bd744b02-89a6-4027-9f10-c5df7073a3e4",
   "metadata": {},
   "outputs": [],
   "source": [
    "class Solution:\n",
    "    def checkStraightLine(self, coordinates: list[list[int]]) -> bool:\n",
    "        num = len(coordinates)\n",
    "        if coordinates is None or num == 2: return True\n",
    "        dy0 = coordinates[1][1] - coordinates[0][1]\n",
    "        dx0 = coordinates[1][0] - coordinates[0][0]\n",
    "        for i in range(1,num-1):\n",
    "            dy1 = coordinates[i+1][1] - coordinates[i][1]\n",
    "            dx1 = coordinates[i+1][0] - coordinates[i][0]\n",
    "            if dy0 * dx1 != dy1 * dx0: return False\n",
    "        return True"
   ]
  },
  {
   "cell_type": "code",
   "execution_count": 50,
   "id": "ba263b02-a3d7-4a9a-b914-a1a64093b91e",
   "metadata": {},
   "outputs": [
    {
     "name": "stdout",
     "output_type": "stream",
     "text": [
      "True\n"
     ]
    }
   ],
   "source": [
    "q8 = Solution()\n",
    "result = q8.checkStraightLine([[1,2],[2,3],[3,4],[4,5],[5,6],[6,7]])\n",
    "print(result)"
   ]
  },
  {
   "cell_type": "code",
   "execution_count": null,
   "id": "07433937-3897-484e-bcc8-9621a7cdc45d",
   "metadata": {},
   "outputs": [],
   "source": []
  }
 ],
 "metadata": {
  "kernelspec": {
   "display_name": "Python 3 (ipykernel)",
   "language": "python",
   "name": "python3"
  },
  "language_info": {
   "codemirror_mode": {
    "name": "ipython",
    "version": 3
   },
   "file_extension": ".py",
   "mimetype": "text/x-python",
   "name": "python",
   "nbconvert_exporter": "python",
   "pygments_lexer": "ipython3",
   "version": "3.10.8"
  }
 },
 "nbformat": 4,
 "nbformat_minor": 5
}
