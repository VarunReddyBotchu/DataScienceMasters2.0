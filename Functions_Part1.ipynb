{
 "cells": [
  {
   "cell_type": "markdown",
   "id": "5196ac39-d9ae-4379-be4a-3d229479a8ca",
   "metadata": {},
   "source": [
    "### Functions Part1\n",
    "1. creating a function"
   ]
  },
  {
   "cell_type": "code",
   "execution_count": 2,
   "id": "fa0b2981-edea-4fce-b3f5-3d3959df4919",
   "metadata": {},
   "outputs": [],
   "source": [
    "#1\n",
    "def function1():#empty function gives syntax error\n",
    "    pass#to execute empty fundtion we can use pass"
   ]
  },
  {
   "cell_type": "code",
   "execution_count": 60,
   "id": "df6dd08f-5a67-487d-be0a-272d8c21d37c",
   "metadata": {},
   "outputs": [],
   "source": [
    "def function2():\n",
    "    print(\"This is my first function\")"
   ]
  },
  {
   "cell_type": "code",
   "execution_count": 10,
   "id": "51e4bc48-c078-4589-9a67-ea2d13b35b1d",
   "metadata": {},
   "outputs": [
    {
     "name": "stdout",
     "output_type": "stream",
     "text": [
      "This is my first function\n",
      "This is my first function\n"
     ]
    },
    {
     "ename": "TypeError",
     "evalue": "unsupported operand type(s) for +: 'NoneType' and 'str'",
     "output_type": "error",
     "traceback": [
      "\u001b[0;31m---------------------------------------------------------------------------\u001b[0m",
      "\u001b[0;31mTypeError\u001b[0m                                 Traceback (most recent call last)",
      "Cell \u001b[0;32mIn[10], line 2\u001b[0m\n\u001b[1;32m      1\u001b[0m function2()\n\u001b[0;32m----> 2\u001b[0m var1\u001b[38;5;241m=\u001b[39m\u001b[43mfunction2\u001b[49m\u001b[43m(\u001b[49m\u001b[43m)\u001b[49m\u001b[38;5;241;43m+\u001b[39;49m\u001b[38;5;124;43m\"\u001b[39;49m\u001b[38;5;124;43m-VK\u001b[39;49m\u001b[38;5;124;43m\"\u001b[39;49m\n\u001b[1;32m      3\u001b[0m \u001b[38;5;28mprint\u001b[39m(var1)\n",
      "\u001b[0;31mTypeError\u001b[0m: unsupported operand type(s) for +: 'NoneType' and 'str'"
     ]
    }
   ],
   "source": [
    "function2()\n",
    "var1=function2()+\"-VK\"\n",
    "print(var1)"
   ]
  },
  {
   "cell_type": "code",
   "execution_count": 59,
   "id": "9cc38b07-8870-462d-a47f-93f9173487c4",
   "metadata": {},
   "outputs": [],
   "source": [
    "def test2():\n",
    "    return \"this is my function with return\""
   ]
  },
  {
   "cell_type": "code",
   "execution_count": 12,
   "id": "77dda0c2-2410-4516-b8ff-68ebe99e7ced",
   "metadata": {},
   "outputs": [
    {
     "data": {
      "text/plain": [
       "'this is my function with return'"
      ]
     },
     "execution_count": 12,
     "metadata": {},
     "output_type": "execute_result"
    }
   ],
   "source": [
    "test2()"
   ]
  },
  {
   "cell_type": "code",
   "execution_count": 13,
   "id": "71e52cac-5aa7-4c53-aaea-0a2fe3b77c48",
   "metadata": {},
   "outputs": [
    {
     "data": {
      "text/plain": [
       "'this is my function with return-VK'"
      ]
     },
     "execution_count": 13,
     "metadata": {},
     "output_type": "execute_result"
    }
   ],
   "source": [
    "test2()+\"-VK\""
   ]
  },
  {
   "cell_type": "code",
   "execution_count": 14,
   "id": "d960e0cc-59f2-4589-8efc-156123eb44eb",
   "metadata": {},
   "outputs": [],
   "source": [
    "def test3():\n",
    "    return 1,4,\"pwskills\", 4.56"
   ]
  },
  {
   "cell_type": "code",
   "execution_count": 15,
   "id": "9077247c-7649-4862-8709-683de3f5b749",
   "metadata": {},
   "outputs": [
    {
     "data": {
      "text/plain": [
       "(1, 4, 'pwskills', 4.56)"
      ]
     },
     "execution_count": 15,
     "metadata": {},
     "output_type": "execute_result"
    }
   ],
   "source": [
    "test3()"
   ]
  },
  {
   "cell_type": "code",
   "execution_count": 16,
   "id": "9f6e7d8f-c71a-4079-ac80-c2d75ad80905",
   "metadata": {},
   "outputs": [
    {
     "data": {
      "text/plain": [
       "tuple"
      ]
     },
     "execution_count": 16,
     "metadata": {},
     "output_type": "execute_result"
    }
   ],
   "source": [
    "type(test3())"
   ]
  },
  {
   "cell_type": "code",
   "execution_count": 17,
   "id": "41c98525-77ae-4167-baf1-24f49cd87448",
   "metadata": {},
   "outputs": [],
   "source": [
    "a=1,2,3,4,5,6"
   ]
  },
  {
   "cell_type": "code",
   "execution_count": 18,
   "id": "b1c11710-b5f8-4aa8-925f-c2e088fe0b4f",
   "metadata": {},
   "outputs": [
    {
     "data": {
      "text/plain": [
       "(1, 2, 3, 4, 5, 6)"
      ]
     },
     "execution_count": 18,
     "metadata": {},
     "output_type": "execute_result"
    }
   ],
   "source": [
    "a"
   ]
  },
  {
   "cell_type": "code",
   "execution_count": 19,
   "id": "59d6f884-9fdb-485d-95eb-e9dc9bc0c4d3",
   "metadata": {},
   "outputs": [],
   "source": [
    "a,b,c,d=1,2,4.45,True"
   ]
  },
  {
   "cell_type": "code",
   "execution_count": 20,
   "id": "cbc4e7ca-450f-4cf3-a807-b7df437d5483",
   "metadata": {},
   "outputs": [
    {
     "data": {
      "text/plain": [
       "1"
      ]
     },
     "execution_count": 20,
     "metadata": {},
     "output_type": "execute_result"
    }
   ],
   "source": [
    "a"
   ]
  },
  {
   "cell_type": "code",
   "execution_count": 21,
   "id": "698c8bf2-c869-424c-8956-6333f76ed15b",
   "metadata": {},
   "outputs": [
    {
     "data": {
      "text/plain": [
       "(2, 4.45, True)"
      ]
     },
     "execution_count": 21,
     "metadata": {},
     "output_type": "execute_result"
    }
   ],
   "source": [
    "b,c,d"
   ]
  },
  {
   "cell_type": "code",
   "execution_count": 27,
   "id": "6bacc1cb-4663-4d8b-892d-da566716f46e",
   "metadata": {},
   "outputs": [
    {
     "data": {
      "text/plain": [
       "4.56"
      ]
     },
     "execution_count": 27,
     "metadata": {},
     "output_type": "execute_result"
    }
   ],
   "source": [
    "test3()[3]"
   ]
  },
  {
   "cell_type": "code",
   "execution_count": 28,
   "id": "c11bee2a-c035-45fa-8353-fbef93a268f8",
   "metadata": {},
   "outputs": [],
   "source": [
    "a,b,c,d=test3()"
   ]
  },
  {
   "cell_type": "code",
   "execution_count": 29,
   "id": "fb294bc9-312e-42bb-86fd-0cd9d0da3e31",
   "metadata": {},
   "outputs": [
    {
     "data": {
      "text/plain": [
       "1"
      ]
     },
     "execution_count": 29,
     "metadata": {},
     "output_type": "execute_result"
    }
   ],
   "source": [
    "a\n"
   ]
  },
  {
   "cell_type": "code",
   "execution_count": 30,
   "id": "c830e962-9608-4be4-af66-c837866f0131",
   "metadata": {},
   "outputs": [
    {
     "data": {
      "text/plain": [
       "'pwskills'"
      ]
     },
     "execution_count": 30,
     "metadata": {},
     "output_type": "execute_result"
    }
   ],
   "source": [
    "c"
   ]
  },
  {
   "cell_type": "code",
   "execution_count": 31,
   "id": "6547dfd4-bcb1-4313-86f4-994a1ac62828",
   "metadata": {},
   "outputs": [
    {
     "data": {
      "text/plain": [
       "4.56"
      ]
     },
     "execution_count": 31,
     "metadata": {},
     "output_type": "execute_result"
    }
   ],
   "source": [
    "d"
   ]
  },
  {
   "cell_type": "code",
   "execution_count": 32,
   "id": "e281d2cf-e158-4d61-b3ba-92a892a24dcc",
   "metadata": {},
   "outputs": [],
   "source": [
    "def test4():\n",
    "    a=3*4+5\n",
    "    return a"
   ]
  },
  {
   "cell_type": "code",
   "execution_count": 33,
   "id": "aa15c986-767a-4871-a96d-60e8614291be",
   "metadata": {},
   "outputs": [
    {
     "data": {
      "text/plain": [
       "17"
      ]
     },
     "execution_count": 33,
     "metadata": {},
     "output_type": "execute_result"
    }
   ],
   "source": [
    "test4()"
   ]
  },
  {
   "cell_type": "code",
   "execution_count": 34,
   "id": "d5cddc6c-30db-462f-a7ee-0330ee6879e1",
   "metadata": {},
   "outputs": [
    {
     "data": {
      "text/plain": [
       "int"
      ]
     },
     "execution_count": 34,
     "metadata": {},
     "output_type": "execute_result"
    }
   ],
   "source": [
    "type(test4())"
   ]
  },
  {
   "cell_type": "code",
   "execution_count": 44,
   "id": "bc267d26-5db2-4eff-bc03-5464e65c2612",
   "metadata": {},
   "outputs": [],
   "source": [
    "def test5(a,b):\n",
    "    c=a+b\n",
    "    return c"
   ]
  },
  {
   "cell_type": "code",
   "execution_count": 45,
   "id": "cb3536a6-52b4-4591-9bd8-c8d30baa8478",
   "metadata": {},
   "outputs": [
    {
     "data": {
      "text/plain": [
       "52"
      ]
     },
     "execution_count": 45,
     "metadata": {},
     "output_type": "execute_result"
    }
   ],
   "source": [
    "test5(45,7)"
   ]
  },
  {
   "cell_type": "code",
   "execution_count": 48,
   "id": "c10f5d54-fa6a-4421-92a1-ec58051964ad",
   "metadata": {},
   "outputs": [
    {
     "data": {
      "text/plain": [
       "'varun Kumar'"
      ]
     },
     "execution_count": 48,
     "metadata": {},
     "output_type": "execute_result"
    }
   ],
   "source": [
    "test5(\"varun\",\" Kumar\")"
   ]
  },
  {
   "cell_type": "code",
   "execution_count": 49,
   "id": "499577ca-4ad6-47e5-9f90-f9c6f605e26b",
   "metadata": {},
   "outputs": [
    {
     "data": {
      "text/plain": [
       "[1, 2, 3, 4, 5, 6]"
      ]
     },
     "execution_count": 49,
     "metadata": {},
     "output_type": "execute_result"
    }
   ],
   "source": [
    "test5([1,2,3],[4,5,6])"
   ]
  },
  {
   "cell_type": "code",
   "execution_count": 50,
   "id": "84ca3e90-b054-4629-a25e-737abcc0be1b",
   "metadata": {},
   "outputs": [
    {
     "data": {
      "text/plain": [
       "'VarunKumar'"
      ]
     },
     "execution_count": 50,
     "metadata": {},
     "output_type": "execute_result"
    }
   ],
   "source": [
    "test5(b=\"Kumar\",a=\"Varun\")"
   ]
  },
  {
   "cell_type": "code",
   "execution_count": 51,
   "id": "7c6bcb0d-ed65-4997-a78c-fb7d866f44b3",
   "metadata": {},
   "outputs": [],
   "source": [
    "l=[1,2,3,4,5,\"varun\",\"pwskills\",[1,2,3,4,564,40]]"
   ]
  },
  {
   "cell_type": "code",
   "execution_count": 52,
   "id": "706624d5-57a4-47fd-9a19-6a6281642d2c",
   "metadata": {},
   "outputs": [],
   "source": [
    "#function with list as input and give final list with only numeric values\n",
    "def test6(lst):\n",
    "    n=[]\n",
    "    for i in lst:\n",
    "        if type(i)==int or type(i)==float:\n",
    "            n.append(i)\n",
    "    return n"
   ]
  },
  {
   "cell_type": "code",
   "execution_count": 53,
   "id": "f5fbe16c-d5e9-48bc-8594-f8c8a8a6be17",
   "metadata": {},
   "outputs": [
    {
     "data": {
      "text/plain": [
       "[1, 2, 3, 4, 5]"
      ]
     },
     "execution_count": 53,
     "metadata": {},
     "output_type": "execute_result"
    }
   ],
   "source": [
    "test6(l)"
   ]
  },
  {
   "cell_type": "code",
   "execution_count": 56,
   "id": "6cc2d3f5-2a7f-4fc3-a5fe-eb2226b4492d",
   "metadata": {},
   "outputs": [],
   "source": [
    "def test7(lst):\n",
    "    n=[]\n",
    "    for i in lst:\n",
    "        if type(i)==list:\n",
    "            for j in i:\n",
    "                if type(j)==int or type(j)==float:\n",
    "                    n.append(j)\n",
    "        else: \n",
    "            if type(i)==int or type(i)==float:\n",
    "                n.append(i)\n",
    "    return n"
   ]
  },
  {
   "cell_type": "code",
   "execution_count": 57,
   "id": "ab86ba1e-039e-494d-8166-edc3b6cc8022",
   "metadata": {},
   "outputs": [
    {
     "data": {
      "text/plain": [
       "[1, 2, 3, 4, 5, 1, 2, 3, 4, 564, 40]"
      ]
     },
     "execution_count": 57,
     "metadata": {},
     "output_type": "execute_result"
    }
   ],
   "source": [
    "test7(l)"
   ]
  }
 ],
 "metadata": {
  "kernelspec": {
   "display_name": "Python 3 (ipykernel)",
   "language": "python",
   "name": "python3"
  },
  "language_info": {
   "codemirror_mode": {
    "name": "ipython",
    "version": 3
   },
   "file_extension": ".py",
   "mimetype": "text/x-python",
   "name": "python",
   "nbconvert_exporter": "python",
   "pygments_lexer": "ipython3",
   "version": "3.10.8"
  }
 },
 "nbformat": 4,
 "nbformat_minor": 5
}
