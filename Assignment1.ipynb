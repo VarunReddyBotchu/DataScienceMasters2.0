{
 "cells": [
  {
   "cell_type": "markdown",
   "id": "2d7b6bda-0570-4c00-85ba-da6b2da8238e",
   "metadata": {
    "tags": []
   },
   "source": [
    "## Assignment 1"
   ]
  },
  {
   "cell_type": "markdown",
   "id": "f1f857d7-a77e-4841-9ead-69bca64e2184",
   "metadata": {},
   "source": [
    "#### Q1. Create one variable containing following type of data:\n",
    "##### (i) string\n",
    "##### (ii) list\n",
    "##### (iii) float\n",
    "##### (iv) tuple"
   ]
  },
  {
   "cell_type": "code",
   "execution_count": 7,
   "id": "224f2327-abe9-41db-9d29-fc7d93bfafcf",
   "metadata": {},
   "outputs": [],
   "source": [
    "var1=\"ant\"\n",
    "var2=[\"carpenter\", \"fire\", \"bullet\", \"Red\", \"Black\", \"Army\"]\n",
    "var3=36.54\n",
    "var4=(\"weaver\", \"banded\", \"Pheidole\", \"Tapinoma\", \"weaver\")"
   ]
  },
  {
   "cell_type": "markdown",
   "id": "b3222982-942e-40d4-8d86-c04648c03707",
   "metadata": {},
   "source": [
    "#### Q2. Given are some following variables containing data:\n",
    "##### (i) var1 = ‘ ‘\n",
    "##### (ii) var2 = ‘[ DS , ML , Python]’\n",
    "##### (iii) var3 = [ ‘DS’ , ’ML’ , ‘Python’ ]\n",
    "##### (iv) var4 = 1.\n",
    "\n",
    "###### What will be the data type of the above given variable."
   ]
  },
  {
   "cell_type": "code",
   "execution_count": 15,
   "id": "b33f3ec7-0d29-4030-b30d-3ba398fd5a9d",
   "metadata": {},
   "outputs": [
    {
     "name": "stdout",
     "output_type": "stream",
     "text": [
      "<class 'str'>\n",
      "<class 'str'>\n",
      "<class 'list'>\n",
      "<class 'float'>\n"
     ]
    }
   ],
   "source": [
    "var1 =' '\n",
    "var2 ='[DS, ML, Python]'\n",
    "var3 =['DS','ML','Python']\n",
    "var4 =1.\n",
    "print(type(var1))\n",
    "print(type(var2))\n",
    "print(type(var3))\n",
    "print(type(var4))"
   ]
  },
  {
   "cell_type": "markdown",
   "id": "8f9c9967-371c-4659-bd3d-d9a6ba7040c7",
   "metadata": {},
   "source": [
    "#### Q3. Explain the use of the following operators using an example:\n",
    "##### (i) /\n",
    "##### (ii) %\n",
    "##### (iii) //\n",
    "##### (iv) **"
   ]
  },
  {
   "cell_type": "code",
   "execution_count": 20,
   "id": "ad1ddc4a-c17f-4f65-a561-8499ee3bdaa4",
   "metadata": {},
   "outputs": [
    {
     "name": "stdout",
     "output_type": "stream",
     "text": [
      "11.714285714285714\n"
     ]
    }
   ],
   "source": [
    "#(i)/ is an arithmetic operator used for division of first argument by second argument\n",
    "var1=246\n",
    "var2=21\n",
    "var3=var1/var2\n",
    "print(var3)"
   ]
  },
  {
   "cell_type": "code",
   "execution_count": 25,
   "id": "62c38bff-c8a7-4175-9322-429274a6d08d",
   "metadata": {},
   "outputs": [
    {
     "name": "stdout",
     "output_type": "stream",
     "text": [
      "15\n"
     ]
    }
   ],
   "source": [
    "'''(ii)% is an arithmetic operator used for remainder popularly known as modulus operator.\n",
    "   This operator giver the remainder of the division of first argument by second argument'''\n",
    "var3=var1%var2\n",
    "print(var3)"
   ]
  },
  {
   "cell_type": "code",
   "execution_count": 26,
   "id": "56736cb9-e571-4d2c-b50b-56fec663f6c8",
   "metadata": {},
   "outputs": [
    {
     "name": "stdout",
     "output_type": "stream",
     "text": [
      "11\n"
     ]
    }
   ],
   "source": [
    "\"\"\"(iii)// is an arithmetic operator known as division floor operator.\n",
    "   This operator divides the first argument by second argument and round the result to nearest number.\"\"\"\n",
    "var3=var1//var2\n",
    "print(var3)"
   ]
  },
  {
   "cell_type": "code",
   "execution_count": 27,
   "id": "34cd702f-f2c2-4751-8857-e4b59ca8d65c",
   "metadata": {},
   "outputs": [
    {
     "name": "stdout",
     "output_type": "stream",
     "text": [
      "162045602229753983854074340862654019581429359312896\n"
     ]
    }
   ],
   "source": [
    "'''(iiii)** is an arithmetic operator used as power operator.\n",
    "   This operator gives the result of first argument to the power of second argument'''\n",
    "var3=var1**var2\n",
    "print(var3)"
   ]
  },
  {
   "cell_type": "markdown",
   "id": "afb2f58b-70c8-4a4e-ae2c-e936971226e9",
   "metadata": {},
   "source": [
    "#### Q4.Create a list of length 10 of your choice containing multiple types of data. Using for loop print the element and its data type."
   ]
  },
  {
   "cell_type": "code",
   "execution_count": 31,
   "id": "42594b9b-f1aa-4d22-8ea3-d49d6c731816",
   "metadata": {},
   "outputs": [
    {
     "name": "stdout",
     "output_type": "stream",
     "text": [
      "23\n",
      "<class 'int'>\n",
      "True\n",
      "<class 'bool'>\n",
      "39.51\n",
      "<class 'float'>\n",
      "Soccer\n",
      "<class 'str'>\n",
      "(3+5j)\n",
      "<class 'complex'>\n",
      "45\n",
      "<class 'int'>\n",
      "False\n",
      "<class 'bool'>\n",
      "Football\n",
      "<class 'str'>\n",
      "(5+6j)\n",
      "<class 'complex'>\n",
      "-61.69\n",
      "<class 'float'>\n"
     ]
    }
   ],
   "source": [
    "list1 =[23, True, 39.51, \"Soccer\", 3+5j, 45, False, \"Football\", 5+6j, -61.69]\n",
    "for i in list1:\n",
    "    print(i)\n",
    "    print(type(i))"
   ]
  },
  {
   "cell_type": "markdown",
   "id": "d2f6e5c2-91a4-4943-b153-3dff53ba9a97",
   "metadata": {},
   "source": [
    "#### Q5. Using a while loop, verify if the number A is purely divisible by number B and if so then how many times it can be divisible."
   ]
  },
  {
   "cell_type": "code",
   "execution_count": 35,
   "id": "fed87a88-df38-4252-bce8-211a1315d32e",
   "metadata": {},
   "outputs": [
    {
     "name": "stdout",
     "output_type": "stream",
     "text": [
      "17.0\n"
     ]
    }
   ],
   "source": [
    "var1=34\n",
    "var2=2\n",
    "while var1%var2==0:\n",
    "    print(var1/var2)\n",
    "    break"
   ]
  },
  {
   "cell_type": "markdown",
   "id": "ec4e29a1-f61c-41ad-8d71-7ba03acb6524",
   "metadata": {},
   "source": [
    "#### Q6.Create a list containing 25 int type data. Using for loop and if-else condition print if the element is divisible by 3 or not."
   ]
  },
  {
   "cell_type": "code",
   "execution_count": 42,
   "id": "e219ac11-e961-48ad-9827-5e7769e2b19d",
   "metadata": {},
   "outputs": [
    {
     "name": "stdout",
     "output_type": "stream",
     "text": [
      "238 is not divisible by 3\n",
      "45 is divisible by 3\n",
      "675 is divisible by 3\n",
      "264 is divisible by 3\n",
      "72 is divisible by 3\n",
      "9 is divisible by 3\n",
      "34 is not divisible by 3\n",
      "456 is divisible by 3\n",
      "925 is not divisible by 3\n",
      "345 is divisible by 3\n",
      "278 is not divisible by 3\n",
      "659 is not divisible by 3\n",
      "3724 is not divisible by 3\n",
      "8351 is not divisible by 3\n",
      "32562 is divisible by 3\n",
      "12 is divisible by 3\n",
      "3 is divisible by 3\n",
      "52 is not divisible by 3\n",
      "62 is not divisible by 3\n",
      "234 is divisible by 3\n",
      "23 is not divisible by 3\n",
      "52 is not divisible by 3\n",
      "42 is divisible by 3\n",
      "45 is divisible by 3\n",
      "14 is not divisible by 3\n"
     ]
    }
   ],
   "source": [
    "list2=[238,45,675,264,72,9,34,456,925,345,278,659,3724,8351,32562,12,3,52,62,234,23,52,42,45,14]\n",
    "for i in list2:\n",
    "    if i%3==0:\n",
    "        print(f\"{i} is divisible by 3\")\n",
    "    else:\n",
    "        print(f\"{i} is not divisible by 3\")"
   ]
  },
  {
   "cell_type": "markdown",
   "id": "a2c9ea76-c415-45c4-9fc4-e2ffbe2d3c7c",
   "metadata": {},
   "source": [
    "#### Q7. What do you understand about mutable and immutable data types? Give examples for both showing this property."
   ]
  },
  {
   "cell_type": "code",
   "execution_count": 46,
   "id": "601c0fb6-0063-49f4-b39b-a6cf8a007cef",
   "metadata": {},
   "outputs": [
    {
     "name": "stdout",
     "output_type": "stream",
     "text": [
      "['EDM', 23, -89.23, 45]\n"
     ]
    }
   ],
   "source": [
    "\"\"\"Mutable data types are the data types whose values can be changed by assigning a new value.\n",
    "  whereas, Immutable data types are the data types whose values cannot be changed by assigning a new value.\"\"\"\n",
    "#Mutable\n",
    "list3=[\"EDM\", 23, -89.23, True]\n",
    "list3[3]=45\n",
    "print(list3)"
   ]
  },
  {
   "cell_type": "code",
   "execution_count": 48,
   "id": "da1a9adc-2d55-496a-848e-c305a56dc07e",
   "metadata": {},
   "outputs": [
    {
     "ename": "SyntaxError",
     "evalue": "cannot assign to function call here. Maybe you meant '==' instead of '='? (3256333032.py, line 3)",
     "output_type": "error",
     "traceback": [
      "\u001b[0;36m  Cell \u001b[0;32mIn[48], line 3\u001b[0;36m\u001b[0m\n\u001b[0;31m    tuple1(1)=22\u001b[0m\n\u001b[0m    ^\u001b[0m\n\u001b[0;31mSyntaxError\u001b[0m\u001b[0;31m:\u001b[0m cannot assign to function call here. Maybe you meant '==' instead of '='?\n"
     ]
    }
   ],
   "source": [
    "#immutable, we can see we get an syntax error\n",
    "tuple1=(1, 23.93, \"HipHop\")\n",
    "tuple1(1)=22"
   ]
  }
 ],
 "metadata": {
  "kernelspec": {
   "display_name": "Python 3 (ipykernel)",
   "language": "python",
   "name": "python3"
  },
  "language_info": {
   "codemirror_mode": {
    "name": "ipython",
    "version": 3
   },
   "file_extension": ".py",
   "mimetype": "text/x-python",
   "name": "python",
   "nbconvert_exporter": "python",
   "pygments_lexer": "ipython3",
   "version": "3.10.8"
  }
 },
 "nbformat": 4,
 "nbformat_minor": 5
}
