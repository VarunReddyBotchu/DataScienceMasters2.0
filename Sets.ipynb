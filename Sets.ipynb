{
 "cells": [
  {
   "cell_type": "markdown",
   "id": "cea8b310-ee3c-44bd-a648-923f225302ec",
   "metadata": {},
   "source": [
    "### Sets\n",
    "1. Basics of sets, list to set and tuple to set and viceversa\n",
    "2. list in sets, tuple in sets\n",
    "3. Case-Sensitivity in Sets, slicing operation in sets\n",
    "4. iteration in sets, in built functions of sets\n",
    "5. \n"
   ]
  },
  {
   "cell_type": "code",
   "execution_count": 11,
   "id": "89b96739-f0ea-4412-9a63-1e3bf8052f84",
   "metadata": {},
   "outputs": [
    {
     "name": "stdout",
     "output_type": "stream",
     "text": [
      "<class 'dict'>\n",
      "<class 'set'>\n",
      "{1, 2, 3, 424, 3532, 22, 55, 343}\n",
      "[1, 2, 3, 424, 3532, 22, 55, 343]\n",
      "(1, 2, 3, 424, 3532, 22, 55, 343)\n",
      "{65, 1, 2, 3, 4, 5, 234, 434}\n",
      "{1, 2, 3, 4, 42, 44, 2423, 24}\n"
     ]
    }
   ],
   "source": [
    "#1.1 & 1.2\n",
    "set1={}\n",
    "print(type(set1))#before assigning values it returns type dictionary\n",
    "set1={1,2,3,4.56}\n",
    "print(type(set1))#aftr assigning values it returns type set\n",
    "set2={1,1,1.0,2,3,2,2.0,55,343,3532,424,2,2,22,2,2}\n",
    "print(set2)#set removes all duplicates(usability) it always try to store unique info only.\n",
    "print(list(set2))#conversion of set to list\n",
    "print(tuple(set2))#conversion of set to tuple\n",
    "lst1=[1,2,3,4,65,5,434,2,234]\n",
    "tupl1=(1,3,42,24,2423,4,44,2)\n",
    "print(set(lst1))#conversion of list to set\n",
    "print(set(tupl1))#conversion of tuple to set"
   ]
  },
  {
   "cell_type": "code",
   "execution_count": 12,
   "id": "47ec348a-5d4c-4ec9-af81-053cfbd1791a",
   "metadata": {},
   "outputs": [
    {
     "ename": "TypeError",
     "evalue": "unhashable type: 'list'",
     "output_type": "error",
     "traceback": [
      "\u001b[0;31m---------------------------------------------------------------------------\u001b[0m",
      "\u001b[0;31mTypeError\u001b[0m                                 Traceback (most recent call last)",
      "Cell \u001b[0;32mIn[12], line 1\u001b[0m\n\u001b[0;32m----> 1\u001b[0m set3\u001b[38;5;241m=\u001b[39m{\u001b[38;5;241m9\u001b[39m,\u001b[38;5;241m6675\u001b[39m,\u001b[38;5;241m53\u001b[39m,\u001b[38;5;241m33\u001b[39m,\u001b[38;5;241m53\u001b[39m,[\u001b[38;5;241m4\u001b[39m,\u001b[38;5;241m5\u001b[39m,\u001b[38;5;241m33\u001b[39m,\u001b[38;5;241m35\u001b[39m,\u001b[38;5;241m24\u001b[39m,\u001b[38;5;241m24\u001b[39m]}\n",
      "\u001b[0;31mTypeError\u001b[0m: unhashable type: 'list'"
     ]
    }
   ],
   "source": [
    "#2.1\n",
    "set3={9,6675,53,33,53,[4,5,33,35,24,24]}#it doesn't store list in set because list is mutable where as set is immutable"
   ]
  },
  {
   "cell_type": "code",
   "execution_count": 14,
   "id": "300b6f2c-0867-443d-a77c-c950625b2688",
   "metadata": {},
   "outputs": [
    {
     "name": "stdout",
     "output_type": "stream",
     "text": [
      "{33, 434, 3, 35, 435, (345, 45, 3453, 5, 657675, 7678, 6, 4354, 4, 7, 75, 4, 3)}\n"
     ]
    }
   ],
   "source": [
    "#2.2\n",
    "set4={435,35,33,3,434,(345,45,3453,5,657675,7678,6,4354,4,7,75,4,3)}#it can store tuple because tuple is also immutable\n",
    "print(set4)"
   ]
  },
  {
   "cell_type": "code",
   "execution_count": 16,
   "id": "00449544-b319-46bf-85ac-499667bb6001",
   "metadata": {},
   "outputs": [
    {
     "name": "stdout",
     "output_type": "stream",
     "text": [
      "{3, 4323, 453, 'varun', 42, 'Varun'}\n",
      "{'varun'}\n"
     ]
    },
    {
     "ename": "TypeError",
     "evalue": "'set' object is not subscriptable",
     "output_type": "error",
     "traceback": [
      "\u001b[0;31m---------------------------------------------------------------------------\u001b[0m",
      "\u001b[0;31mTypeError\u001b[0m                                 Traceback (most recent call last)",
      "Cell \u001b[0;32mIn[16], line 5\u001b[0m\n\u001b[1;32m      3\u001b[0m \u001b[38;5;28mprint\u001b[39m(set5)\n\u001b[1;32m      4\u001b[0m \u001b[38;5;28mprint\u001b[39m(set6)\n\u001b[0;32m----> 5\u001b[0m \u001b[38;5;28mprint\u001b[39m(\u001b[43mset6\u001b[49m\u001b[43m[\u001b[49m\u001b[38;5;241;43m0\u001b[39;49m\u001b[43m]\u001b[49m)\n",
      "\u001b[0;31mTypeError\u001b[0m: 'set' object is not subscriptable"
     ]
    }
   ],
   "source": [
    "#3.1\n",
    "set5={\"Varun\",3,4323,42,42,453,\"varun\"}#didnt take out varun because python is case-sensitive\n",
    "set6={\"varun\",\"varun\"}\n",
    "print(set5)\n",
    "print(set6)\n",
    "print(set6[0])#we cannot do indexing in set"
   ]
  },
  {
   "cell_type": "code",
   "execution_count": 17,
   "id": "20e3a659-fe7c-408b-984a-f246e3501902",
   "metadata": {},
   "outputs": [
    {
     "ename": "TypeError",
     "evalue": "'set' object is not subscriptable",
     "output_type": "error",
     "traceback": [
      "\u001b[0;31m---------------------------------------------------------------------------\u001b[0m",
      "\u001b[0;31mTypeError\u001b[0m                                 Traceback (most recent call last)",
      "Cell \u001b[0;32mIn[17], line 1\u001b[0m\n\u001b[0;32m----> 1\u001b[0m \u001b[38;5;28mprint\u001b[39m(\u001b[43mset6\u001b[49m\u001b[43m[\u001b[49m\u001b[43m:\u001b[49m\u001b[43m:\u001b[49m\u001b[38;5;241;43m-\u001b[39;49m\u001b[38;5;241;43m1\u001b[39;49m\u001b[43m]\u001b[49m)\n",
      "\u001b[0;31mTypeError\u001b[0m: 'set' object is not subscriptable"
     ]
    }
   ],
   "source": [
    "#3.2\n",
    "print(set6[::-1])`#we cannot perform slicing operation on sets"
   ]
  },
  {
   "cell_type": "code",
   "execution_count": 19,
   "id": "76b72d1c-ba12-442c-9f0d-3856ddd29972",
   "metadata": {},
   "outputs": [
    {
     "name": "stdout",
     "output_type": "stream",
     "text": [
      "3\n",
      "4323\n",
      "453\n",
      "varun\n",
      "42\n",
      "Varun\n"
     ]
    }
   ],
   "source": [
    "#4.1\n",
    "for i in set5:\n",
    "    print(i)"
   ]
  },
  {
   "cell_type": "code",
   "execution_count": 34,
   "id": "8478243b-a1d0-4693-929a-f352035c3596",
   "metadata": {},
   "outputs": [
    {
     "name": "stdout",
     "output_type": "stream",
     "text": [
      "{3}\n",
      "1\n",
      "{3}\n",
      "set()\n"
     ]
    }
   ],
   "source": [
    "#4.2\n",
    "set5.add(3)#takes only one argument adds a value to set \n",
    "print(set5)#it doesnt add values already in set, tries ot maintain uniqueness at any cost\n",
    "print(len(set5))#prints length of set\n",
    "print(set5)\n",
    "set7={34,\"varun\", 67}\n",
    "set7.clear()#removes all the elements from the set\n",
    "print(set7)\n"
   ]
  },
  {
   "cell_type": "code",
   "execution_count": 37,
   "id": "036bc620-f997-40a1-ac82-c2bd55efcb5c",
   "metadata": {},
   "outputs": [
    {
     "name": "stdout",
     "output_type": "stream",
     "text": [
      "set()\n",
      "{34, 53, (5+6j)}\n"
     ]
    }
   ],
   "source": [
    "set8={\"Varun\",3,4323,42,42,453,\"varun\"}\n",
    "set9={\"Varun\",3,4323,42,42,453,34,53,5+6j,\"varun\"}\n",
    "print(set8.difference(set9))\n",
    "print(set9.difference(set8))"
   ]
  },
  {
   "cell_type": "code",
   "execution_count": null,
   "id": "156e32a2-89e6-44f9-bca1-066814310a01",
   "metadata": {},
   "outputs": [],
   "source": []
  }
 ],
 "metadata": {
  "kernelspec": {
   "display_name": "Python 3 (ipykernel)",
   "language": "python",
   "name": "python3"
  },
  "language_info": {
   "codemirror_mode": {
    "name": "ipython",
    "version": 3
   },
   "file_extension": ".py",
   "mimetype": "text/x-python",
   "name": "python",
   "nbconvert_exporter": "python",
   "pygments_lexer": "ipython3",
   "version": "3.10.8"
  }
 },
 "nbformat": 4,
 "nbformat_minor": 5
}
