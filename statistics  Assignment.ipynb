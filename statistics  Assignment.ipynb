{
 "cells": [
  {
   "cell_type": "markdown",
   "id": "ecaa7bae-a43a-400b-916c-365ca8ce8d8f",
   "metadata": {},
   "source": [
    "Q1) What is Statistics?"
   ]
  },
  {
   "cell_type": "markdown",
   "id": "881e6ac9-7fef-4ccd-b42b-89eea6b54e94",
   "metadata": {},
   "source": [
    "Statistics is the science of collecting, organizing and analyzing which help in decision making process."
   ]
  },
  {
   "cell_type": "markdown",
   "id": "ce6551eb-345d-4819-ae9f-9d868d0ed3af",
   "metadata": {},
   "source": [
    "Q2)Define the different types of statistics and give an example of when each type might be used."
   ]
  },
  {
   "cell_type": "markdown",
   "id": "d90195d5-da19-4f8a-82e5-e49aa75a145b",
   "metadata": {},
   "source": [
    "There are two types of statistics, Descriptive statistics and Inferential Statistics.\n",
    "Descriptive Statistics consists of organizing and summarising the data.\n",
    "Inferential statistics consists of using data measured to form conclusion.\n",
    "Diff:\n",
    "     Consider weight of different persons in an office,\n",
    "Descriptive Statistics is used to answer questions like average weight, common weight of people in the office,\n",
    "Inferential Statistics is used to answer questions like is the average weight of people in the office similar to average weights of people in all branches."
   ]
  },
  {
   "cell_type": "markdown",
   "id": "2e4d84b8-4b3b-4e15-8305-cc685a6dc2a5",
   "metadata": {},
   "source": [
    "Q3) Define the different types of data and how do they differ from each other?Provide an example of each type of data."
   ]
  },
  {
   "cell_type": "markdown",
   "id": "29091abb-f1d7-4236-87bf-42d065c2624a",
   "metadata": {},
   "source": [
    "There are two major types of data, Quantitative and Qualitative which are further divided as follows:\n",
    "Quantitative data is numerical data.It is further divided into Discrete and Continuous Data.\n",
    "Discrete Data is data which is whole numbers, where as Continuous data is data which can have any value, any range including decimal values.\n",
    "Ex:No of cars in a parking lot can only be whole numbers i'e Discrete data type, speed of vehicles on road can be any value like 20.5mls/hr or 45.9mls/hr.\n",
    "Qualitative data is fixed set of  categorical data.It is further divided into Nominal and Ordinal Scale Data.\n",
    "Nominal Data is data in which there is no rank, where as Ordinal data is data which have rank.\n",
    "Ex:Gender is an example of Nominal Data, Rating Scale is an example of Ordinal Data. \n"
   ]
  },
  {
   "cell_type": "markdown",
   "id": "0c5d34f1-ec32-4acf-82c1-881b3392b917",
   "metadata": {},
   "source": [
    "Q4) Categorise the following datasets with respect to quantitative and qualitative data types:\n",
    "(i) Grading in exam: A+, A, B+, B, C+, C, D, E\n",
    "\n",
    "(ii) Colour of mangoes: yellow, green, orange, red\n",
    "\n",
    "(iii) Height data of a class: [178.9, 179, 179.5, 176, 177.2, 178.3, 175.8,...]\n",
    "\n",
    "(iv) Number of mangoes exported by a farm: [500, 600, 478, 672, ...]"
   ]
  },
  {
   "cell_type": "markdown",
   "id": "40c9230a-02c1-4afe-b354-dd16ae9f6907",
   "metadata": {},
   "source": [
    "(i)Qualitative Data(Ordinal)\n",
    "\n",
    "(ii)Qualitative Data(Nominal)\n",
    "\n",
    "(iii)Quantitative Data(Continous)\n",
    "\n",
    "(iv)Quantitative Data(Discrete)"
   ]
  },
  {
   "cell_type": "markdown",
   "id": "f512d386-d8e4-4119-899b-b1f7cc4e0591",
   "metadata": {},
   "source": [
    "Q5) Explain the concept of levels of measurement and give an example of a variable for each level."
   ]
  },
  {
   "cell_type": "markdown",
   "id": "7ca8ce26-a756-47b6-b41e-781bfab0c462",
   "metadata": {},
   "source": [
    "In data collection phase, we need to measure different types of data, the scales of measurement of data refers to different ways in which data can be classified based on the properties of the values being measured.\n",
    "They are of 4 types:\n",
    "    \n",
    "    Nominal Scale Data consist of categories or labels without any inherent orderor ranking.\n",
    "    Ex:Gender,Types of cars\n",
    "    \n",
    "    Ordinal Scale  Data represents categories with a natural order or ranking, but the intervals between the categories are not necessarily equal or quantifiable.\n",
    "    Ex:Education levels\n",
    "    \n",
    "    Interval Scale Data has equal intervals between them, but they lack a true zero point. \n",
    "    Ex:Temperature, IQ\n",
    "    \n",
    "    Ratio Scale Data have all the properties of interval data, but they also possess a true zero point, indicating the absence of the measured quantity.\n",
    "    Ex:Height, weight, income."
   ]
  },
  {
   "cell_type": "markdown",
   "id": "c2916286-5031-46f8-a2c3-e05189a45340",
   "metadata": {},
   "source": [
    "Q6) Why is it important to understand the level of measurement when analyzing data? Provide an\n",
    "example to illustrate your answer."
   ]
  },
  {
   "cell_type": "markdown",
   "id": "b20d97e5-3ff1-4fc0-9ae8-16200e443247",
   "metadata": {},
   "source": [
    "Understanding the level of measurement is crucial when analyzingdata because it determines the appropriate statistical techniques that can be applied and the interpretations that can be made from the analysis.Using wrong statistical methodsor misinterpretingthe results can lead to erroneous conclusions and flawed decision-making.\n",
    "\n",
    "For example, in case of nominal scale data like favorite colour of different people we need to focus more on the count, rather than ranking the colours.\n",
    "in case of ratio scale data like marks, we need to focus more on ratio of different values to form meaningful conclusions."
   ]
  },
  {
   "cell_type": "markdown",
   "id": "6e2c23fb-824f-4ae1-a179-cb1c23bf3079",
   "metadata": {},
   "source": [
    "Q7) How nominal data type is different from ordinal data type."
   ]
  },
  {
   "cell_type": "markdown",
   "id": "2d3ec9e0-aebe-4513-995e-53919718ebf2",
   "metadata": {},
   "source": [
    "Nominal data type has no ranking, all the values have the same rank, where as in ordinal data type ranking and order matter, difference cannot be measured in case of ordinal data."
   ]
  },
  {
   "cell_type": "markdown",
   "id": "5cb89c3b-96e8-433f-9e9f-4502df416c75",
   "metadata": {},
   "source": [
    "Q8) Which type of plot can be used to display data in terms of range?"
   ]
  },
  {
   "cell_type": "markdown",
   "id": "16e98f41-b02c-4554-bee2-46b4ddec1d4d",
   "metadata": {},
   "source": [
    "Histograms, Bar Chart, Pie chars, Box Plots."
   ]
  },
  {
   "cell_type": "markdown",
   "id": "140ab562-2915-472d-aa9d-85111f33bb33",
   "metadata": {},
   "source": [
    "Q9) Describe the difference between descriptive and inferential statistics. Give an example of each\n",
    "type of statistics and explain how they are used."
   ]
  },
  {
   "cell_type": "markdown",
   "id": "b524ed39-a76b-4584-83ae-d1f8bd3d14ef",
   "metadata": {},
   "source": [
    "Descriptive Statistics is used to organize and Summarize the data.It is used to measure central tendency of the data and measure of Dispersion of data or to know how well the data is distributed where as Inferential statistics is using the data measured in sample to form conclusion in population data.\n",
    "\n",
    "Descriptive Statistics is used in calculating the average height of all students, the difference between the tallest and shortest heights and to find measure of the dispersion or spread of the heights around the mean.\n",
    "\n",
    "Inferential Statistics is used in estimating the range within which the population parameter (mean height of female students) is likely to fall, to find the relationship between height and other variables like gender, age."
   ]
  },
  {
   "cell_type": "markdown",
   "id": "32ef8a81-df58-4601-aae7-e0bfc8396e8c",
   "metadata": {},
   "source": [
    "Q10) What are some common measures of central tendency and variability used in statistics? Explain\n",
    "how each measure can be used to describe a dataset.`"
   ]
  },
  {
   "cell_type": "markdown",
   "id": "c921da56-fd9b-4d34-a6c7-258b578a1051",
   "metadata": {},
   "source": [
    "Measures of Central Tendency:\n",
    "\n",
    "Mean: The mean, or average, is calculated by summing up all the values in a dataset and dividing by the total number of values. It represents the \"center\" of the data.\n",
    "\n",
    "Median: The median is the middle value in a dataset when the values are arranged in ascending order. If there is an even number of values, the median is the average of the two middle values. The median is less affected by extreme values (outliers) than the mean and provides a better representation of the typical value in the dataset.\n",
    "\n",
    "Mode: The mode is the value that appears most frequently in a dataset. It represents the most common observation or category in the data.\n",
    "\n",
    "The mean is sensitive to extreme values and is most appropriate for symmetrically distributed data. The median is more robust to outliers and is suitable for skewed distributions. The mode is useful for categorical data or when identifying the most frequent observation is important.\n",
    "\n",
    "\n",
    "Measures of Variability:\n",
    "\n",
    "Range: The range is the difference between the maximum and minimum values in a dataset. It provides a simple measure of the spread of the data but is sensitive to outliers.\n",
    "\n",
    "Variance: Variance measures how much the values in a dataset deviate from the mean. It is calculated by taking the average of the squared differences between each value and the mean. A higher variance indicates greater variability in the data.\n",
    "\n",
    "Standard Deviation: The standard deviation is the square root of the variance. It provides a measure of the average distance of individual data points from the mean. A smaller standard deviation indicates less variability, while a larger standard deviation indicates greater variability.\n",
    "\n",
    "The range gives a basic understanding of the data's spread, while variance and standard deviation provide more precise measures of variability. "
   ]
  },
  {
   "cell_type": "code",
   "execution_count": null,
   "id": "011d3e02-d82c-4220-8eeb-f2fffb48d340",
   "metadata": {},
   "outputs": [],
   "source": []
  }
 ],
 "metadata": {
  "kernelspec": {
   "display_name": "Python 3 (ipykernel)",
   "language": "python",
   "name": "python3"
  },
  "language_info": {
   "codemirror_mode": {
    "name": "ipython",
    "version": 3
   },
   "file_extension": ".py",
   "mimetype": "text/x-python",
   "name": "python",
   "nbconvert_exporter": "python",
   "pygments_lexer": "ipython3",
   "version": "3.10.8"
  }
 },
 "nbformat": 4,
 "nbformat_minor": 5
}
