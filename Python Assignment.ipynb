{
 "cells": [
  {
   "cell_type": "markdown",
   "id": "04d3c212-c078-4f9a-bb43-5f54839205a6",
   "metadata": {},
   "source": [
    "### Python Assignment"
   ]
  },
  {
   "cell_type": "markdown",
   "id": "cf1dc6b9-f45b-4715-87ca-0ada64ccb263",
   "metadata": {},
   "source": [
    "##### Q1. Create a python program to sort the given list of tuples based on integer value using a lambda function.\n",
    "[('Sachin Tendulkar', 34357), ('Ricky Ponting', 27483), ('Jack Kallis', 25534), ('Virat Kohli', 24936)]"
   ]
  },
  {
   "cell_type": "code",
   "execution_count": 11,
   "id": "94a2951d-fae9-4bea-a916-c2ffbb4ed271",
   "metadata": {},
   "outputs": [
    {
     "name": "stdout",
     "output_type": "stream",
     "text": [
      "[('Virat Kohli', 24936), ('Jack Kallis', 25534), ('Ricky Ponting', 27483), ('Sachin Tendulkar', 34357)]\n"
     ]
    }
   ],
   "source": [
    "lst1=[('Sachin Tendulkar', 34357), ('Ricky Ponting', 27483), ('Jack Kallis', 25534), ('Virat Kohli', 24936)]\n",
    "srtd_lst=sorted(lst1, key=lambda x:x[1])\n",
    "print(srtd_lst)"
   ]
  },
  {
   "cell_type": "markdown",
   "id": "cc0f4eee-901e-487d-b7c9-f2744d353739",
   "metadata": {},
   "source": [
    "##### Q2. Write a Python Program to find the squares of all the numbers in the given list of integers using lambda and map functions.\n",
    "[1, 2, 3, 4, 5, 6, 7, 8, 9, 10]"
   ]
  },
  {
   "cell_type": "code",
   "execution_count": 12,
   "id": "eeaadda2-9e37-4e3f-9925-b250592f30da",
   "metadata": {},
   "outputs": [
    {
     "data": {
      "text/plain": [
       "[1, 4, 9, 16, 25, 36, 49, 64, 81, 100]"
      ]
     },
     "execution_count": 12,
     "metadata": {},
     "output_type": "execute_result"
    }
   ],
   "source": [
    "l=[1, 2, 3, 4, 5, 6, 7, 8, 9, 10]\n",
    "list(map(lambda x:x**2,l))"
   ]
  },
  {
   "cell_type": "markdown",
   "id": "63f6201e-8681-4a5e-9bd8-44e8ceccad6d",
   "metadata": {},
   "source": [
    "##### Q3. Write a python program to convert the given list of integers into a tuple of strings. Use map and lambda functions\n",
    "##### Given String: [1, 2, 3, 4, 5, 6, 7, 8, 9, 10]\n",
    "##### Expected output: ('1', '2', '3', '4', '5', '6', '7', '8', '9', '10')"
   ]
  },
  {
   "cell_type": "code",
   "execution_count": 17,
   "id": "5b53ef86-453e-4a99-921c-c90e6d204cd5",
   "metadata": {},
   "outputs": [
    {
     "name": "stdout",
     "output_type": "stream",
     "text": [
      "('1', '2', '3', '4', '5', '6', '7', '8', '9', '10')\n"
     ]
    }
   ],
   "source": [
    "lst2=[1, 2, 3, 4, 5, 6, 7, 8, 9, 10]\n",
    "lst3=tuple(map(lambda x:str(x),lst2))\n",
    "print(lst3)"
   ]
  },
  {
   "cell_type": "markdown",
   "id": "a1f4b5b4-12e0-4145-8035-ab7df45be8c2",
   "metadata": {},
   "source": [
    "##### Q4. Write a python program using reduce function to compute the product of a list containing numbers from 1 to 25."
   ]
  },
  {
   "cell_type": "code",
   "execution_count": 25,
   "id": "4b8b5c4e-beca-49b5-a3b1-e117d88c4dca",
   "metadata": {},
   "outputs": [
    {
     "data": {
      "text/plain": [
       "15511210043330985984000000"
      ]
     },
     "execution_count": 25,
     "metadata": {},
     "output_type": "execute_result"
    }
   ],
   "source": [
    "from functools import reduce\n",
    "lst4=[1,2,3,4,5,6,7,8,9,10,11,12,13,14,15,16,17,18,19,20,21,22,23,24,25]\n",
    "reduce(lambda x,y:x*y,lst4)"
   ]
  },
  {
   "cell_type": "code",
   "execution_count": 27,
   "id": "781a969f-d32d-40fb-b513-a0170aee2f15",
   "metadata": {},
   "outputs": [
    {
     "data": {
      "text/plain": [
       "15511210043330985984000000"
      ]
     },
     "execution_count": 27,
     "metadata": {},
     "output_type": "execute_result"
    }
   ],
   "source": [
    "reduce(lambda x,y:x*y,range(1,26))"
   ]
  },
  {
   "cell_type": "markdown",
   "id": "27981b01-9eca-437d-8066-b5b4440463dd",
   "metadata": {},
   "source": [
    "##### Q5. Write a python program to filter the numbers in a given list that are divisible by 2 and 3 using the filter function.\n",
    "##### [2, 3, 6, 9, 27, 60, 90, 120, 55, 46]"
   ]
  },
  {
   "cell_type": "code",
   "execution_count": 33,
   "id": "ff8f907d-bd91-44a8-8ae6-6ad9a0d54fd3",
   "metadata": {},
   "outputs": [
    {
     "name": "stdout",
     "output_type": "stream",
     "text": [
      "All numbers divisible by 2 are [2, 6, 60, 90, 120, 46]\n",
      "All numbers divisible by 3 are [3, 6, 9, 27, 60, 90, 120]\n"
     ]
    }
   ],
   "source": [
    "lst5=[2, 3, 6, 9, 27, 60, 90, 120, 55, 46]\n",
    "lst6=list(filter(lambda x:x%2==0,lst5))\n",
    "lst7=list(filter(lambda x:x%3==0,lst5))\n",
    "print(\"All numbers divisible by 2 are\",lst6)\n",
    "print(\"All numbers divisible by 3 are\",lst7)"
   ]
  },
  {
   "cell_type": "markdown",
   "id": "7a6cf604-2bb2-4981-a313-4c380c5d2f21",
   "metadata": {},
   "source": [
    "##### Q6. Write a python program to find palindromes in the given list of strings using lambda and filter function.\n",
    "['python', 'php', 'aba', 'radar', 'level']"
   ]
  },
  {
   "cell_type": "code",
   "execution_count": 34,
   "id": "a499d164-ccdd-4178-88e6-cbe965dbb8b4",
   "metadata": {},
   "outputs": [
    {
     "name": "stdout",
     "output_type": "stream",
     "text": [
      "Palindromes: ['php', 'aba', 'radar', 'level']\n"
     ]
    }
   ],
   "source": [
    "words = ['python', 'php', 'aba', 'radar', 'level']\n",
    "palindromes = list(filter(lambda word: word == word[::-1], words))\n",
    "print(\"Palindromes:\", palindromes)"
   ]
  }
 ],
 "metadata": {
  "kernelspec": {
   "display_name": "Python 3 (ipykernel)",
   "language": "python",
   "name": "python3"
  },
  "language_info": {
   "codemirror_mode": {
    "name": "ipython",
    "version": 3
   },
   "file_extension": ".py",
   "mimetype": "text/x-python",
   "name": "python",
   "nbconvert_exporter": "python",
   "pygments_lexer": "ipython3",
   "version": "3.10.8"
  }
 },
 "nbformat": 4,
 "nbformat_minor": 5
}
