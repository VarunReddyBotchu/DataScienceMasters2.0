{
 "cells": [
  {
   "cell_type": "markdown",
   "id": "c6f00113-03c6-4137-8ab9-fcbe0eb47b1a",
   "metadata": {},
   "source": [
    "### OOPS Assignment"
   ]
  },
  {
   "cell_type": "markdown",
   "id": "ef1ded27-4c78-403d-9f2d-17074c2b55ee",
   "metadata": {},
   "source": [
    "#### Q1. Explain Class and Object with respect to Object-Oriented Programming. Give a suitable example."
   ]
  },
  {
   "cell_type": "markdown",
   "id": "7060524f-de73-4009-92b5-f83de356d63f",
   "metadata": {},
   "source": [
    "##### A)Classes are user-defined data types that act as blue-print or code template for creating individual objects, attributes and methods.Objects are instances of a class reated with specifically defined data.Objets can correspond to real-world objects or an abstract entity."
   ]
  },
  {
   "cell_type": "code",
   "execution_count": 7,
   "id": "38750b7a-7c01-4daa-99bd-d388e14c3acd",
   "metadata": {},
   "outputs": [],
   "source": [
    "#example\n",
    "class shirt():#creating a class shirt\n",
    "    shirt_colour = \"\"\n",
    "    shirt_size = \"S\""
   ]
  },
  {
   "cell_type": "code",
   "execution_count": 8,
   "id": "4a10bed5-b380-4f93-80f0-917bf979206d",
   "metadata": {},
   "outputs": [],
   "source": [
    "shirt1 = shirt()#creating objects \n",
    "shirt2 = shirt()"
   ]
  },
  {
   "cell_type": "code",
   "execution_count": 9,
   "id": "cca5359c-a8ce-48f5-bdb7-db1a9b002a37",
   "metadata": {},
   "outputs": [],
   "source": [
    "shirt1.shirt_colour = \"Blue\"#assigning object attributes\n",
    "shirt1.shirt_size = \"M\""
   ]
  },
  {
   "cell_type": "code",
   "execution_count": 10,
   "id": "c322e288-bcd6-41e8-9f92-c85168065844",
   "metadata": {},
   "outputs": [],
   "source": [
    "shirt2.shirt_colour = \"Green\"\n",
    "shirt2.shirt_size = \"XL\""
   ]
  },
  {
   "cell_type": "code",
   "execution_count": 26,
   "id": "58b72c38-e43a-4030-b4f9-ffae161b0d11",
   "metadata": {},
   "outputs": [
    {
     "name": "stdout",
     "output_type": "stream",
     "text": [
      "shirt1: Blue,  M\n",
      "shirt2: Green,  XL\n"
     ]
    }
   ],
   "source": [
    "print(f\"shirt1: {shirt1.shirt_colour},  {shirt1.shirt_size}\")\n",
    "print(f\"shirt2: {shirt2.shirt_colour},  {shirt2.shirt_size}\")"
   ]
  },
  {
   "cell_type": "markdown",
   "id": "e36b536c-0237-447a-86be-86398957f598",
   "metadata": {},
   "source": [
    "##### Q2. Name the four pillars of OOPs."
   ]
  },
  {
   "cell_type": "markdown",
   "id": "23e86cda-e3a5-4984-b8ce-5c6f41c8737b",
   "metadata": {},
   "source": [
    "##### The four pillars of OOPS are:\n",
    "1) Encapsulation\n",
    "2) Inheritance\n",
    "3) Polymorphism\n",
    "4) Abstraction"
   ]
  },
  {
   "cell_type": "markdown",
   "id": "da4c537f-2f61-47fb-b4c2-5ee8cbde2410",
   "metadata": {},
   "source": [
    "##### Q3. Explain why the __init__() function is used. Give a suitable example."
   ]
  },
  {
   "cell_type": "markdown",
   "id": "17c55eb3-8927-4971-9085-f173b1f47cbe",
   "metadata": {},
   "source": [
    "##### A python function defined inside a class is called method.init() is a special constructor function that runs whenever a new object is created.It is used to initialize the attributes of that class."
   ]
  },
  {
   "cell_type": "code",
   "execution_count": 34,
   "id": "a3e74b45-04c2-4584-9f9b-84880f9c164d",
   "metadata": {},
   "outputs": [],
   "source": [
    "class game():\n",
    "    def __init__(self, console, genre, release_year):\n",
    "        self.console = console\n",
    "        self.genre = genre\n",
    "        self.release_year = release_year\n",
    "    \n",
    "    def return_game(self):\n",
    "        return self.console, self.genre, self.release_year  "
   ]
  },
  {
   "cell_type": "code",
   "execution_count": 35,
   "id": "eb903392-324d-4976-8923-f761bfdcbafa",
   "metadata": {},
   "outputs": [],
   "source": [
    "pubg = game(\"pc\", \"fps\", 2017)"
   ]
  },
  {
   "cell_type": "code",
   "execution_count": 36,
   "id": "3857d3ea-85d2-4b7a-baff-4b5b48766ea3",
   "metadata": {},
   "outputs": [],
   "source": [
    "amnesia = game(\"ps5\", \"horror\", 2023)"
   ]
  },
  {
   "cell_type": "code",
   "execution_count": 37,
   "id": "55b62fc4-bac5-46eb-b3e2-1a7a0462e074",
   "metadata": {},
   "outputs": [],
   "source": [
    "street_fighter = game(\"ps5\", \"arcade\", 2023)"
   ]
  },
  {
   "cell_type": "code",
   "execution_count": 40,
   "id": "5e2efdac-b4fd-4a26-a7d8-0239ec5071d9",
   "metadata": {},
   "outputs": [
    {
     "data": {
      "text/plain": [
       "('pc', 'fps', 2017)"
      ]
     },
     "execution_count": 40,
     "metadata": {},
     "output_type": "execute_result"
    }
   ],
   "source": [
    "pubg.return_game()"
   ]
  },
  {
   "cell_type": "markdown",
   "id": "bd15855a-6623-471c-910f-ea9e0a8e3108",
   "metadata": {},
   "source": [
    "##### Q4. Why self is used in OOPs?"
   ]
  },
  {
   "cell_type": "markdown",
   "id": "50efabd7-8414-4959-ad99-b2998170048d",
   "metadata": {},
   "source": [
    "##### Self represents instance of a class.By using self we can access attributes and methods of the class.Without using the self argument, the same class can't hold the information for different objects.Thsi allows each object to have its own attributes and methods."
   ]
  },
  {
   "cell_type": "markdown",
   "id": "4ec56a32-6375-4710-9a4e-0b61092a6ec4",
   "metadata": {},
   "source": [
    "##### Q5. What is inheritance? Give an example for each type of inheritance."
   ]
  },
  {
   "cell_type": "markdown",
   "id": "1544e455-be59-4b49-9118-a4b4a09dc5cf",
   "metadata": {},
   "source": [
    "##### Inheritance is a process of obtaining properties and characteristics of another class.In hierariccal order the class which inherits is called child or subclass  and the other is parent class.There are 5 different types of Inheritance:\n",
    "1) Single Inheritance\n",
    "2) Multiple Inheritance\n",
    "3) Multilevel Inheritance\n",
    "4) Hierarchical Inheritance\n",
    "5) Hybrid Inheritance"
   ]
  },
  {
   "cell_type": "code",
   "execution_count": 47,
   "id": "9c6f0f99-b3ba-49e5-9d0b-11d2f98f89d0",
   "metadata": {},
   "outputs": [],
   "source": [
    "#Single Inheritance\n",
    "class parent:#base class\n",
    "    def parent_height(self):\n",
    "        print(\"Father's height is 5'8\")\n",
    "\n",
    "class child(parent):#derived class\n",
    "    def height(self):\n",
    "        print(\"Son's height is 5'7\")"
   ]
  },
  {
   "cell_type": "code",
   "execution_count": 48,
   "id": "17ff7319-f7fa-4e61-8ac7-0ca0e69a6857",
   "metadata": {},
   "outputs": [],
   "source": [
    "kamal = child()"
   ]
  },
  {
   "cell_type": "code",
   "execution_count": 49,
   "id": "e26d6fb8-4479-4ed3-95cb-2a4caea91b3d",
   "metadata": {},
   "outputs": [
    {
     "name": "stdout",
     "output_type": "stream",
     "text": [
      "Son's height is 5'7\n"
     ]
    }
   ],
   "source": [
    "kamal.height()"
   ]
  },
  {
   "cell_type": "code",
   "execution_count": 50,
   "id": "e2147615-60f8-4279-ae7d-922552ee4330",
   "metadata": {},
   "outputs": [
    {
     "name": "stdout",
     "output_type": "stream",
     "text": [
      "Father's height is 5'8\n"
     ]
    }
   ],
   "source": [
    "kamal.parent_height()"
   ]
  },
  {
   "cell_type": "code",
   "execution_count": 51,
   "id": "20b20dbc-794e-4257-a403-d611e091951e",
   "metadata": {},
   "outputs": [],
   "source": [
    "#Multiple Inheritance\n",
    "class father:\n",
    "    father_name = \"\"\n",
    "    def father(self):\n",
    "        print(self.father_name)\n",
    "\n",
    "class mother:\n",
    "    mother_name = \"\"\n",
    "    def mother(self):\n",
    "        print(self.mother_name)\n",
    "\n",
    "class son(mother, father):\n",
    "    def parents(self):\n",
    "        print(\"Father name is :\", self.father_name)\n",
    "        print(\"Mother name is :\", self.mother_name)"
   ]
  },
  {
   "cell_type": "code",
   "execution_count": 52,
   "id": "84487925-3a65-4d26-a8d5-8c8a868e99c8",
   "metadata": {},
   "outputs": [],
   "source": [
    "arvind = son()"
   ]
  },
  {
   "cell_type": "code",
   "execution_count": 53,
   "id": "cbf29889-bcee-4b06-806d-07c4afd02430",
   "metadata": {},
   "outputs": [],
   "source": [
    "arvind.father_name = \"Kamal\"\n",
    "arvind.mother_name = \"Rajini\""
   ]
  },
  {
   "cell_type": "code",
   "execution_count": 57,
   "id": "d9bc2a0e-3141-453a-90ff-6a55ba34c23c",
   "metadata": {},
   "outputs": [
    {
     "name": "stdout",
     "output_type": "stream",
     "text": [
      "Kamal\n"
     ]
    }
   ],
   "source": [
    "arvind.father()"
   ]
  },
  {
   "cell_type": "code",
   "execution_count": 58,
   "id": "7e7692ee-507c-4fbe-aabc-f5b8375c989a",
   "metadata": {},
   "outputs": [
    {
     "name": "stdout",
     "output_type": "stream",
     "text": [
      "Rajini\n"
     ]
    }
   ],
   "source": [
    "arvind.mother()"
   ]
  },
  {
   "cell_type": "code",
   "execution_count": 54,
   "id": "3c5ae289-7ac7-4586-ba99-4fa900509174",
   "metadata": {},
   "outputs": [
    {
     "name": "stdout",
     "output_type": "stream",
     "text": [
      "Father name is : Kamal\n",
      "Mother name is : Rajini\n"
     ]
    }
   ],
   "source": [
    "arvind.parents()"
   ]
  },
  {
   "cell_type": "code",
   "execution_count": 62,
   "id": "2b805bba-b728-459d-8f26-b4baf2d10333",
   "metadata": {},
   "outputs": [],
   "source": [
    "#Multilevel Inheritance\n",
    "class Animal:\n",
    "    def __init__(self, name):\n",
    "        self.name = name\n",
    "\n",
    "    def eat(self):\n",
    "        print(f\"{self.name} is eating.\")\n",
    "\n",
    "class Dog(Animal):\n",
    "    def bark(self):\n",
    "        print(f\"{self.name} is barking.\")\n",
    "\n",
    "class Bulldog(Dog):\n",
    "    def guard(self):\n",
    "        print(f\"{self.name} is guarding.\")"
   ]
  },
  {
   "cell_type": "code",
   "execution_count": 63,
   "id": "92771035-ace6-4d7e-8534-40c416ce1193",
   "metadata": {},
   "outputs": [],
   "source": [
    "bulldog = Bulldog(\"Rocky\")"
   ]
  },
  {
   "cell_type": "code",
   "execution_count": 64,
   "id": "80b99173-f6e8-4fd9-828d-1d10c80b62a4",
   "metadata": {},
   "outputs": [
    {
     "name": "stdout",
     "output_type": "stream",
     "text": [
      "Rocky is eating.\n",
      "Rocky is barking.\n",
      "Rocky is guarding.\n"
     ]
    }
   ],
   "source": [
    "bulldog.eat()\n",
    "bulldog.bark()\n",
    "bulldog.guard()"
   ]
  },
  {
   "cell_type": "code",
   "execution_count": 66,
   "id": "a2cd9644-8282-4821-8b46-0b68d57439c4",
   "metadata": {},
   "outputs": [],
   "source": [
    "#Hierarical Inheritancce\n",
    "class Animal:\n",
    "    def __init__(self, name):\n",
    "        self.name = name\n",
    "\n",
    "    def eat(self):\n",
    "        print(f\"{self.name} is eating.\")\n",
    "\n",
    "class Dog(Animal):\n",
    "    def bark(self):\n",
    "        print(\"Woof!\")\n",
    "\n",
    "class Cat(Animal):\n",
    "    def meow(self):\n",
    "        print(\"Meow!\")"
   ]
  },
  {
   "cell_type": "code",
   "execution_count": 67,
   "id": "f0a02b5b-d69a-4fe0-b1eb-a162b53254c0",
   "metadata": {},
   "outputs": [],
   "source": [
    "dog = Dog(\"Buddy\")"
   ]
  },
  {
   "cell_type": "code",
   "execution_count": 68,
   "id": "83e016e7-2139-4211-8af9-139bb16c2de0",
   "metadata": {},
   "outputs": [
    {
     "name": "stdout",
     "output_type": "stream",
     "text": [
      "Buddy is eating.\n",
      "Woof!\n"
     ]
    }
   ],
   "source": [
    "dog.eat()\n",
    "dog.bark()"
   ]
  },
  {
   "cell_type": "code",
   "execution_count": 69,
   "id": "4228744f-9983-4a66-944d-fe6567d776dd",
   "metadata": {},
   "outputs": [],
   "source": [
    "cat = Cat(\"Whiskers\")"
   ]
  },
  {
   "cell_type": "code",
   "execution_count": 70,
   "id": "32164b01-c5af-43b8-b996-6cca3a52b03e",
   "metadata": {},
   "outputs": [
    {
     "name": "stdout",
     "output_type": "stream",
     "text": [
      "Whiskers is eating.\n",
      "Meow!\n"
     ]
    }
   ],
   "source": [
    "cat.eat()\n",
    "cat.meow()"
   ]
  },
  {
   "cell_type": "code",
   "execution_count": 74,
   "id": "12460cc0-85c7-4e84-9c80-c1c810be6860",
   "metadata": {},
   "outputs": [],
   "source": [
    "#Hybrid Inheritance\n",
    "class office():\n",
    "    def office_telephone(self):\n",
    "        print(\"You reached  office telephone\")\n",
    "\n",
    "class manager(office):\n",
    "    def manager_telephone(self):\n",
    "        print(\"You reached manager telephone\")\n",
    "        \n",
    "class accountent(office):\n",
    "    def accountent_telephone(self):\n",
    "        print(\"You reached accountent telephone\")\n",
    "        \n",
    "class secretory(manager, office):\n",
    "    def secretory_telephone(self):\n",
    "        print(\"You reached secretory telephone\")"
   ]
  },
  {
   "cell_type": "code",
   "execution_count": 75,
   "id": "d33dd3c1-939e-4ffc-92dd-32e516666723",
   "metadata": {},
   "outputs": [],
   "source": [
    "line1 = secretory()"
   ]
  },
  {
   "cell_type": "code",
   "execution_count": 76,
   "id": "1782d2b7-48e9-49fd-a500-470fadba6208",
   "metadata": {},
   "outputs": [
    {
     "name": "stdout",
     "output_type": "stream",
     "text": [
      "You reached  office telephone\n"
     ]
    }
   ],
   "source": [
    "line1.office_telephone()"
   ]
  },
  {
   "cell_type": "code",
   "execution_count": 77,
   "id": "ed39cc06-2f1d-42dc-a20f-b66adfc809ea",
   "metadata": {},
   "outputs": [
    {
     "name": "stdout",
     "output_type": "stream",
     "text": [
      "You reached manager telephone\n"
     ]
    }
   ],
   "source": [
    "line1.manager_telephone()"
   ]
  },
  {
   "cell_type": "code",
   "execution_count": 78,
   "id": "4b4cc991-b287-4fb6-b838-8d848c94ec2d",
   "metadata": {},
   "outputs": [
    {
     "name": "stdout",
     "output_type": "stream",
     "text": [
      "You reached secretory telephone\n"
     ]
    }
   ],
   "source": [
    "line1.secretory_telephone()"
   ]
  }
 ],
 "metadata": {
  "kernelspec": {
   "display_name": "Python 3 (ipykernel)",
   "language": "python",
   "name": "python3"
  },
  "language_info": {
   "codemirror_mode": {
    "name": "ipython",
    "version": 3
   },
   "file_extension": ".py",
   "mimetype": "text/x-python",
   "name": "python",
   "nbconvert_exporter": "python",
   "pygments_lexer": "ipython3",
   "version": "3.10.8"
  }
 },
 "nbformat": 4,
 "nbformat_minor": 5
}
