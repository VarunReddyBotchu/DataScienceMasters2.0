{
 "cells": [
  {
   "cell_type": "markdown",
   "id": "436bac42-75b4-49c3-9c03-3738e6c7b48a",
   "metadata": {},
   "source": [
    "### Buffered Read and Write Other File Methods"
   ]
  },
  {
   "cell_type": "code",
   "execution_count": 1,
   "id": "fc60cebb-c14d-441b-b7ca-6f23418b0b00",
   "metadata": {},
   "outputs": [],
   "source": [
    "import io"
   ]
  },
  {
   "cell_type": "code",
   "execution_count": 10,
   "id": "e8019ff5-1b38-47ed-9f72-7981f2e0a8f3",
   "metadata": {},
   "outputs": [],
   "source": [
    "with open(\"test.txt\",\"wb\") as f:\n",
    "    file = io.BufferedWriter(f)\n",
    "    file.write(b\"This is my buffer write\\n\")\n",
    "    file.write(b\"this is my second line that i am trying to write\\n\")\n",
    "    file.write(b\"Most rockets derive their energy in thermal form by combustion of condensed-phase propellants at elevated pressure. The gaseous combustion products are exhausted through the nozzle that converts most of the thermal energy to kinetic energy. The maximum amount of energy available is limited to that provided by combustion or by practical considerations imposed by the high temperature involved. Higher energies are possible if other energy sources (e.g., electric or microwave heating) are used in conjunction with the chemical propellants on board the rockets, and extremely high energies are achievable when the exhaust is accelerated by electromagnetic means.\")\n",
    "    file.flush()"
   ]
  },
  {
   "cell_type": "code",
   "execution_count": 24,
   "id": "36c66080-346c-4145-a6bd-0552aed41106",
   "metadata": {},
   "outputs": [
    {
     "name": "stdout",
     "output_type": "stream",
     "text": [
      "b'This is my buffer write\\nthis is my second line that i am trying to write\\nMost rockets derive their energy in thermal form by combustion of condensed-phase propellants at elevated pressure. The gaseous combustion products are exhausted through the nozzle that converts most of the thermal energy to kinetic energy. The maximum amount of energy available is limited to that provided by combustion or by practical considerations imposed by the high temperature involved. Higher energies are possible if other energy sources (e.g., electric or microwave heating) are used in conjunction with the chemical propellants on board the rockets, and extremely high energies are achievable when the exhaust is accelerated by electro'\n"
     ]
    }
   ],
   "source": [
    "with open(\"test.txt\", \"rb\") as f:\n",
    "    file = io.BufferedReader(f)\n",
    "    data = file.read(720)\n",
    "    print(data)"
   ]
  }
 ],
 "metadata": {
  "kernelspec": {
   "display_name": "Python 3 (ipykernel)",
   "language": "python",
   "name": "python3"
  },
  "language_info": {
   "codemirror_mode": {
    "name": "ipython",
    "version": 3
   },
   "file_extension": ".py",
   "mimetype": "text/x-python",
   "name": "python",
   "nbconvert_exporter": "python",
   "pygments_lexer": "ipython3",
   "version": "3.10.8"
  }
 },
 "nbformat": 4,
 "nbformat_minor": 5
}
