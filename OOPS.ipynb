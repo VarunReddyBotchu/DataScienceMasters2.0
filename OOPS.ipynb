{
 "cells": [
  {
   "cell_type": "markdown",
   "id": "e8e5f730-adb6-47ab-9411-4606a0de9d06",
   "metadata": {},
   "source": [
    "### OOPS\n",
    "1. Basics\n",
    "2. init"
   ]
  },
  {
   "cell_type": "code",
   "execution_count": 9,
   "id": "13eaefbe-692a-46a2-843e-663ca861cf17",
   "metadata": {},
   "outputs": [
    {
     "name": "stdout",
     "output_type": "stream",
     "text": [
      "<class 'int'>\n"
     ]
    }
   ],
   "source": [
    "#OOPS stands for Object-Oriented Programming System\n",
    "a=23\n",
    "print(type(a))"
   ]
  },
  {
   "cell_type": "code",
   "execution_count": 2,
   "id": "28462f4c-011e-47d6-9f08-f7534cb44b9c",
   "metadata": {},
   "outputs": [
    {
     "name": "stdout",
     "output_type": "stream",
     "text": [
      "<class 'str'>\n"
     ]
    }
   ],
   "source": [
    "print(type(\"varun\"))"
   ]
  },
  {
   "cell_type": "code",
   "execution_count": 3,
   "id": "fc25aa0d-ff46-44b0-8556-a7eae24795a9",
   "metadata": {},
   "outputs": [],
   "source": [
    "class test:\n",
    "    pass"
   ]
  },
  {
   "cell_type": "code",
   "execution_count": 4,
   "id": "bc60563a-2fc9-4e26-ab0c-9edc8ce1d25a",
   "metadata": {},
   "outputs": [],
   "source": [
    "a = test()"
   ]
  },
  {
   "cell_type": "code",
   "execution_count": 5,
   "id": "c37aa3e7-0b0d-43b8-abc2-1ca89aa66bcb",
   "metadata": {},
   "outputs": [
    {
     "data": {
      "text/plain": [
       "__main__.test"
      ]
     },
     "execution_count": 5,
     "metadata": {},
     "output_type": "execute_result"
    }
   ],
   "source": [
    "type(a)"
   ]
  },
  {
   "cell_type": "code",
   "execution_count": 4,
   "id": "2df9a409-1306-49e8-b4b0-c57e83cf2485",
   "metadata": {},
   "outputs": [],
   "source": [
    "class pwskills:\n",
    "    def welcome_msg(self):\n",
    "        print(\"Welcome to PWSKILLS\")"
   ]
  },
  {
   "cell_type": "code",
   "execution_count": 5,
   "id": "cdb78626-4521-4110-9014-39b330b0c879",
   "metadata": {},
   "outputs": [],
   "source": [
    "kumar = pwskills()"
   ]
  },
  {
   "cell_type": "code",
   "execution_count": 6,
   "id": "5a9d3b21-e79a-490a-b338-830ffafe01f4",
   "metadata": {},
   "outputs": [
    {
     "name": "stdout",
     "output_type": "stream",
     "text": [
      "Welcome to PWSKILLS\n"
     ]
    }
   ],
   "source": [
    "kumar.welcome_msg()"
   ]
  },
  {
   "cell_type": "code",
   "execution_count": 7,
   "id": "c345e3cf-8287-442a-b179-11e9432903d4",
   "metadata": {},
   "outputs": [],
   "source": [
    "reddy =pwskills()"
   ]
  },
  {
   "cell_type": "code",
   "execution_count": 8,
   "id": "98601505-19c8-4873-8ba1-261e8b91d9ef",
   "metadata": {},
   "outputs": [
    {
     "name": "stdout",
     "output_type": "stream",
     "text": [
      "Welcome to PWSKILLS\n"
     ]
    }
   ],
   "source": [
    "reddy.welcome_msg()"
   ]
  },
  {
   "cell_type": "code",
   "execution_count": 17,
   "id": "0d90a2b4-f7ac-4de3-8c20-bff6efd66978",
   "metadata": {},
   "outputs": [],
   "source": [
    "class pwskills1:\n",
    "    def __init__(self, phone_number, email_id, student_id):\n",
    "        self.phone_number = phone_number\n",
    "        self.email_id = email_id\n",
    "        self.student_id = student_id\n",
    "        \n",
    "    def return_student(self):\n",
    "         return self.phone_number, self.email_id, self.student_id"
   ]
  },
  {
   "cell_type": "code",
   "execution_count": 18,
   "id": "9aa9942a-4b0d-47e5-9336-f20d639f9c11",
   "metadata": {},
   "outputs": [],
   "source": [
    "rohan = pwskills1(9154894238, \"varunreddy@hotmail.com\", \"ANB1920\")"
   ]
  },
  {
   "cell_type": "code",
   "execution_count": 22,
   "id": "fd193f5d-dd3f-4f5f-b46b-c655dc45dd4e",
   "metadata": {},
   "outputs": [
    {
     "data": {
      "text/plain": [
       "(9154894238, 'varunreddy@hotmail.com', 'ANB1920')"
      ]
     },
     "execution_count": 22,
     "metadata": {},
     "output_type": "execute_result"
    }
   ],
   "source": [
    "rohan.phone_number, rohan.email_id, rohan.student_id"
   ]
  },
  {
   "cell_type": "code",
   "execution_count": 23,
   "id": "08694a56-0286-483c-83b5-61dbd35127a0",
   "metadata": {},
   "outputs": [
    {
     "data": {
      "text/plain": [
       "(9154894238, 'varunreddy@hotmail.com', 'ANB1920')"
      ]
     },
     "execution_count": 23,
     "metadata": {},
     "output_type": "execute_result"
    }
   ],
   "source": [
    "rohan.return_student()"
   ]
  },
  {
   "cell_type": "code",
   "execution_count": 25,
   "id": "b26cdafd-0ce4-4f63-a683-bd14947316c4",
   "metadata": {},
   "outputs": [],
   "source": [
    "kumar = pwskills1(91548243238, \"va23423dy@hotmail.com\", \"ANB15620\")"
   ]
  },
  {
   "cell_type": "code",
   "execution_count": 26,
   "id": "073b2b3a-22ab-4086-8c9f-2523e1f3fa53",
   "metadata": {},
   "outputs": [
    {
     "data": {
      "text/plain": [
       "(91548243238, 'va23423dy@hotmail.com', 'ANB15620')"
      ]
     },
     "execution_count": 26,
     "metadata": {},
     "output_type": "execute_result"
    }
   ],
   "source": [
    "kumar.return_student()"
   ]
  },
  {
   "cell_type": "code",
   "execution_count": 27,
   "id": "5678ddff-6fdd-466b-9970-64cab3814bb0",
   "metadata": {},
   "outputs": [
    {
     "data": {
      "text/plain": [
       "(91548243238, 'va23423dy@hotmail.com', 'ANB15620')"
      ]
     },
     "execution_count": 27,
     "metadata": {},
     "output_type": "execute_result"
    }
   ],
   "source": [
    "kumar.phone_number, kumar.email_id, kumar.student_id"
   ]
  }
 ],
 "metadata": {
  "kernelspec": {
   "display_name": "Python 3 (ipykernel)",
   "language": "python",
   "name": "python3"
  },
  "language_info": {
   "codemirror_mode": {
    "name": "ipython",
    "version": 3
   },
   "file_extension": ".py",
   "mimetype": "text/x-python",
   "name": "python",
   "nbconvert_exporter": "python",
   "pygments_lexer": "ipython3",
   "version": "3.10.8"
  }
 },
 "nbformat": 4,
 "nbformat_minor": 5
}
