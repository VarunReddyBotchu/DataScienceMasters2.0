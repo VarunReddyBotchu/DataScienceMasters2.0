{
 "cells": [
  {
   "cell_type": "markdown",
   "id": "84e9f3b3-69e1-4baa-8f5f-a7ba895319c4",
   "metadata": {},
   "source": [
    "#### Python Basics1 Topics Covered\n",
    "1. Print Statement\n",
    "2. Variable Syntax\n",
    "3. Type Function\n",
    "4. Data Types\n",
    "5. Boolean Data Type\n",
    "6. Complex Data Type\n",
    "7. Comments(Single and Multiline Comments)\n",
    "8. Concatination and Type Casting"
   ]
  },
  {
   "cell_type": "code",
   "execution_count": 51,
   "id": "a4b3480b-484b-4ad2-91ba-cad3c00b2e82",
   "metadata": {},
   "outputs": [
    {
     "name": "stdout",
     "output_type": "stream",
     "text": [
      "Hello, This is Varun Kumar.I started my Data Science Masters 2.0 in PwSkills\n"
     ]
    }
   ],
   "source": [
    "#1\n",
    "print(\"Hello, This is Varun Kumar.I started my Data Science Masters 2.0 in PwSkills\")"
   ]
  },
  {
   "cell_type": "code",
   "execution_count": 50,
   "id": "c69f86cc-6ff1-4ea3-a458-dfc667237bc2",
   "metadata": {},
   "outputs": [
    {
     "name": "stdout",
     "output_type": "stream",
     "text": [
      "1 Code 20.98 True (2+9j)\n"
     ]
    }
   ],
   "source": [
    "#2 and 4\n",
    "a = 1\n",
    "_b = \"Code\"\n",
    "c3 = 20.98\n",
    "d = True\n",
    "e = 2+9j\n",
    "print(a, _b, c3, d, e)"
   ]
  },
  {
   "cell_type": "code",
   "execution_count": 49,
   "id": "5b95bd76-f93e-401f-96a7-8dfd860c67ed",
   "metadata": {},
   "outputs": [
    {
     "data": {
      "text/plain": [
       "int"
      ]
     },
     "execution_count": 49,
     "metadata": {},
     "output_type": "execute_result"
    }
   ],
   "source": [
    "#3\n",
    "type(a)"
   ]
  },
  {
   "cell_type": "code",
   "execution_count": 48,
   "id": "009593f3-0b03-4bef-ac40-ca9634350bb6",
   "metadata": {},
   "outputs": [
    {
     "data": {
      "text/plain": [
       "str"
      ]
     },
     "execution_count": 48,
     "metadata": {},
     "output_type": "execute_result"
    }
   ],
   "source": [
    "#3\n",
    "type(_b)"
   ]
  },
  {
   "cell_type": "code",
   "execution_count": 47,
   "id": "3ef36ea5-bdb9-40de-aaa2-c993d7d305b0",
   "metadata": {},
   "outputs": [
    {
     "data": {
      "text/plain": [
       "float"
      ]
     },
     "execution_count": 47,
     "metadata": {},
     "output_type": "execute_result"
    }
   ],
   "source": [
    "#3\n",
    "type(c3)"
   ]
  },
  {
   "cell_type": "code",
   "execution_count": 46,
   "id": "a3197c74-ece9-42ad-88e7-9109ec7585ed",
   "metadata": {},
   "outputs": [
    {
     "data": {
      "text/plain": [
       "False"
      ]
     },
     "execution_count": 46,
     "metadata": {},
     "output_type": "execute_result"
    }
   ],
   "source": [
    "#5\n",
    "bool(0)"
   ]
  },
  {
   "cell_type": "code",
   "execution_count": 45,
   "id": "962c931e-b6e9-4b9a-b36d-4a42c0680518",
   "metadata": {},
   "outputs": [
    {
     "data": {
      "text/plain": [
       "True"
      ]
     },
     "execution_count": 45,
     "metadata": {},
     "output_type": "execute_result"
    }
   ],
   "source": [
    "#5\n",
    "bool(45)"
   ]
  },
  {
   "cell_type": "code",
   "execution_count": 44,
   "id": "6f2febbe-24b0-4051-9757-b3d16b4ae8ab",
   "metadata": {},
   "outputs": [
    {
     "data": {
      "text/plain": [
       "1"
      ]
     },
     "execution_count": 44,
     "metadata": {},
     "output_type": "execute_result"
    }
   ],
   "source": [
    "#5 & 8.2\n",
    "int(bool(True))"
   ]
  },
  {
   "cell_type": "code",
   "execution_count": 43,
   "id": "875ab188-8cdc-46ea-86c3-a4051fadc61c",
   "metadata": {},
   "outputs": [
    {
     "data": {
      "text/plain": [
       "0"
      ]
     },
     "execution_count": 43,
     "metadata": {},
     "output_type": "execute_result"
    }
   ],
   "source": [
    "#5 & 8.2\n",
    "int(bool(False))"
   ]
  },
  {
   "cell_type": "code",
   "execution_count": 42,
   "id": "4ab8b427-d69a-4fb2-a218-c352cf7a21da",
   "metadata": {},
   "outputs": [
    {
     "name": "stdout",
     "output_type": "stream",
     "text": [
      "(2+9j)\n"
     ]
    }
   ],
   "source": [
    "#6\n",
    "print(e)"
   ]
  },
  {
   "cell_type": "code",
   "execution_count": 41,
   "id": "b8cfaada-5a7b-42e1-9cad-1e35ac6b5ee1",
   "metadata": {},
   "outputs": [
    {
     "data": {
      "text/plain": [
       "2.0"
      ]
     },
     "execution_count": 41,
     "metadata": {},
     "output_type": "execute_result"
    }
   ],
   "source": [
    "#6\n",
    "e.real"
   ]
  },
  {
   "cell_type": "code",
   "execution_count": 40,
   "id": "1505939a-bfa5-4b92-8285-7a70e7931abf",
   "metadata": {},
   "outputs": [
    {
     "data": {
      "text/plain": [
       "9.0"
      ]
     },
     "execution_count": 40,
     "metadata": {},
     "output_type": "execute_result"
    }
   ],
   "source": [
    "#6\n",
    "e.imag"
   ]
  },
  {
   "cell_type": "code",
   "execution_count": 39,
   "id": "7ceb6171-6402-4e18-a2f1-76681ce6c8ee",
   "metadata": {},
   "outputs": [
    {
     "data": {
      "text/plain": [
       "1499"
      ]
     },
     "execution_count": 39,
     "metadata": {},
     "output_type": "execute_result"
    }
   ],
   "source": [
    "#7 & 8\n",
    "\"\"\"Concatination cannot be done with different data types.\n",
    "The value can be type casted and then concatnation can be done(applicable based on the value).\n",
    "that's the only way concatination can be done to different data type values\"\"\"\n",
    "val1 = 499\n",
    "val2 = 1000\n",
    "val1 + val2"
   ]
  },
  {
   "cell_type": "code",
   "execution_count": 38,
   "id": "d486b17e-5472-4e21-863f-9e8cc88302fa",
   "metadata": {},
   "outputs": [
    {
     "data": {
      "text/plain": [
       "1699"
      ]
     },
     "execution_count": 38,
     "metadata": {},
     "output_type": "execute_result"
    }
   ],
   "source": [
    "#8\n",
    "val3 = \"1200\"\n",
    "val1+ int(val3)"
   ]
  }
 ],
 "metadata": {
  "kernelspec": {
   "display_name": "Python 3 (ipykernel)",
   "language": "python",
   "name": "python3"
  },
  "language_info": {
   "codemirror_mode": {
    "name": "ipython",
    "version": 3
   },
   "file_extension": ".py",
   "mimetype": "text/x-python",
   "name": "python",
   "nbconvert_exporter": "python",
   "pygments_lexer": "ipython3",
   "version": "3.10.8"
  }
 },
 "nbformat": 4,
 "nbformat_minor": 5
}
