{
 "cells": [
  {
   "cell_type": "markdown",
   "id": "02fe3247-848b-4a71-b634-82183446c793",
   "metadata": {},
   "source": [
    "##### Q1. Create a vehicle class with an init method having instance variables as name_of_vehicle, max_speed and average_of_vehicle."
   ]
  },
  {
   "cell_type": "code",
   "execution_count": 9,
   "id": "5584f7c7-2e3e-4a29-a78c-a89eee756b22",
   "metadata": {},
   "outputs": [],
   "source": [
    "class vehicle():\n",
    "    def __init__(self, name_of_vehicle, max_speed, average_of_vehicle):\n",
    "        self.name_of_vehicle = name_of_vehicle\n",
    "        self.max_speed = max_speed\n",
    "        self.average_of_vehicle = average_of_vehicle"
   ]
  },
  {
   "cell_type": "code",
   "execution_count": 12,
   "id": "9bd89882-c031-4c11-b9b4-71029361af88",
   "metadata": {},
   "outputs": [],
   "source": [
    "vehicle1 = vehicle(\"Maruti Swift\", 125, 13.2)"
   ]
  },
  {
   "cell_type": "markdown",
   "id": "7192a6d0-7739-4a33-9d25-9b7ea39ffdb1",
   "metadata": {},
   "source": [
    "##### Q2. Create a child class car from the vehicle class created in Que 1, which will inherit the vehicle class. Create a method named seating_capacity which takes capacity as an argument and returns the name \n",
    "##### of the vehicle and its seating capacity."
   ]
  },
  {
   "cell_type": "code",
   "execution_count": 23,
   "id": "93f9aecd-89e9-424e-b198-760264269044",
   "metadata": {},
   "outputs": [],
   "source": [
    "class car(vehicle):\n",
    "    def seating_capacity(self, capacity):\n",
    "        return (f\"{self.name_of_vehicle} has a seating capacity of {capacity}\") "
   ]
  },
  {
   "cell_type": "code",
   "execution_count": 28,
   "id": "544b1cd7-dc6e-444c-b75a-1dc9d0191fec",
   "metadata": {},
   "outputs": [],
   "source": [
    "car1 = car(\"XUV700\",161,13.7)"
   ]
  },
  {
   "cell_type": "code",
   "execution_count": 29,
   "id": "17514274-83f1-49c5-a4fc-ef622a8f7b12",
   "metadata": {},
   "outputs": [
    {
     "data": {
      "text/plain": [
       "'XUV700 has a seating capacity of 8'"
      ]
     },
     "execution_count": 29,
     "metadata": {},
     "output_type": "execute_result"
    }
   ],
   "source": [
    "car1.seating_capacity(8)"
   ]
  },
  {
   "cell_type": "code",
   "execution_count": 30,
   "id": "00d9fba3-e169-4d25-b0db-2ab4af9d7715",
   "metadata": {},
   "outputs": [],
   "source": [
    "##### Q3. What is multiple inheritance? Write a python code to demonstrate multiple inheritance."
   ]
  },
  {
   "cell_type": "code",
   "execution_count": 31,
   "id": "92f33de8-586e-48e6-a993-8544d842d66e",
   "metadata": {},
   "outputs": [],
   "source": [
    "class donar1:\n",
    "    donar1_name = \"\"\n",
    "    def donar1(self):\n",
    "        print(self.donar1_name)\n",
    "\n",
    "class donar2:\n",
    "    donar2_name = \"\"\n",
    "    def donar2(self):\n",
    "        print(self.donar2_name)\n",
    "\n",
    "class receiver(donar1, donar2):\n",
    "    def donars(self):\n",
    "        print(\"1st donar name is :\", self.donar1_name)\n",
    "        print(\"2nd donar name is :\", self.donar2_name)"
   ]
  },
  {
   "cell_type": "code",
   "execution_count": 32,
   "id": "26194369-fccf-4316-ae1d-3a3d40baa827",
   "metadata": {},
   "outputs": [],
   "source": [
    "ranjit = receiver()"
   ]
  },
  {
   "cell_type": "code",
   "execution_count": 35,
   "id": "e3128d2e-b808-4578-bca8-29d077fb1626",
   "metadata": {},
   "outputs": [],
   "source": [
    "ranjit.donar1_name = \"rajesh varma\""
   ]
  },
  {
   "cell_type": "code",
   "execution_count": 36,
   "id": "b45e4a2e-9b54-4508-aeb2-c8e4c25a65d5",
   "metadata": {},
   "outputs": [],
   "source": [
    "ranjit.donar2_name = \"Hardeep Singh\""
   ]
  },
  {
   "cell_type": "code",
   "execution_count": 38,
   "id": "730ca988-10fb-4c5d-aa90-086fcbbdaa14",
   "metadata": {},
   "outputs": [
    {
     "name": "stdout",
     "output_type": "stream",
     "text": [
      "1st donar name is : rajesh varma\n",
      "2nd donar name is : Hardeep Singh\n"
     ]
    }
   ],
   "source": [
    "ranjit.donars()"
   ]
  },
  {
   "cell_type": "markdown",
   "id": "3e1e9a6c-aee6-4e7d-b99c-b2d8af2a1d36",
   "metadata": {},
   "source": [
    "##### Q4. What are getter and setter in python? Create a class and create a getter and a setter method in this class."
   ]
  },
  {
   "cell_type": "markdown",
   "id": "452d9dd1-62b3-488a-8162-92508757af7c",
   "metadata": {},
   "source": [
    "##### In python, getters and setters are methods used to retrieve and set the values of instance variables of a class.They provide a level of abstraction and encapsulation, allowing for better control over how values are accessed and modified."
   ]
  },
  {
   "cell_type": "code",
   "execution_count": 51,
   "id": "f886f90f-3e79-402f-953b-923e9e0a262c",
   "metadata": {},
   "outputs": [],
   "source": [
    "class guess:\n",
    "    def __init__(self):\n",
    "        self._guess = 0\n",
    "    \n",
    "    def get_guess(self):\n",
    "        return self._guess\n",
    "    \n",
    "    def set_guess(self, new_guess):\n",
    "        self._guess = new_guess"
   ]
  },
  {
   "cell_type": "code",
   "execution_count": 52,
   "id": "23af7827-85e9-456e-a766-dff1aee74053",
   "metadata": {},
   "outputs": [],
   "source": [
    "varun_guess = guess()"
   ]
  },
  {
   "cell_type": "code",
   "execution_count": 53,
   "id": "c0554a1b-b858-43ba-8288-77512097d8d1",
   "metadata": {},
   "outputs": [
    {
     "data": {
      "text/plain": [
       "0"
      ]
     },
     "execution_count": 53,
     "metadata": {},
     "output_type": "execute_result"
    }
   ],
   "source": [
    "varun_guess.get_guess()"
   ]
  },
  {
   "cell_type": "code",
   "execution_count": 54,
   "id": "4c65adf9-3fec-43de-b47b-7bac819e8748",
   "metadata": {},
   "outputs": [],
   "source": [
    "varun_guess.set_guess(847)"
   ]
  },
  {
   "cell_type": "code",
   "execution_count": 55,
   "id": "14d06d5c-6ff9-43eb-a586-fe7f0c0c7d42",
   "metadata": {},
   "outputs": [
    {
     "data": {
      "text/plain": [
       "847"
      ]
     },
     "execution_count": 55,
     "metadata": {},
     "output_type": "execute_result"
    }
   ],
   "source": [
    "varun_guess.get_guess()"
   ]
  },
  {
   "cell_type": "markdown",
   "id": "5ca16eaf-7b08-4c0b-ad91-2c11c6ff5f1c",
   "metadata": {},
   "source": [
    "##### Q5.What is method overriding in python? Write a python code to demonstrate method overriding."
   ]
  },
  {
   "cell_type": "markdown",
   "id": "967fee49-6304-46e4-aeb2-85680eff81d4",
   "metadata": {},
   "source": [
    "##### A)Method Over riding in Python is a concept of Object-oriented programming that allows a subclass or child class to provide a specific implementation of a method that is already provided by its parent class.When a method in a subclass has the same name, same parameters, and same return type as a method in its parent class, then the method in the subclass is said to override the method in the parent class.\n"
   ]
  },
  {
   "cell_type": "code",
   "execution_count": 56,
   "id": "ce412d55-cccf-4c6f-85d8-6eb125d80936",
   "metadata": {},
   "outputs": [],
   "source": [
    "class Vehicle:\n",
    "    def __init__(self, make, model):\n",
    "        self.make = make\n",
    "        self.model = model\n",
    "\n",
    "class Car(Vehicle):\n",
    "    def __init__(self, make, model, year):\n",
    "        super().__init__(make, model)\n",
    "        self.year = year\n",
    "\n",
    "    def seating_capacity(self, capacity):\n",
    "        self.capacity = capacity\n",
    "        print(\"This car has a seating capacity of\", self.capacity, \"persons.\")"
   ]
  },
  {
   "cell_type": "code",
   "execution_count": 57,
   "id": "38fcf2ef-5532-45c0-812f-27016073f7ca",
   "metadata": {},
   "outputs": [],
   "source": [
    "my_car = Car(\"Honda\", \"City\", 2022)"
   ]
  },
  {
   "cell_type": "code",
   "execution_count": 58,
   "id": "a9a318b3-ee90-4d5f-9c42-91aef3a83dc1",
   "metadata": {},
   "outputs": [
    {
     "name": "stdout",
     "output_type": "stream",
     "text": [
      "This car has a seating capacity of 5 persons.\n"
     ]
    }
   ],
   "source": [
    "my_car.seating_capacity(5)"
   ]
  },
  {
   "cell_type": "code",
   "execution_count": null,
   "id": "5e3d95f3-272e-4d15-8a91-5d1d0d515398",
   "metadata": {},
   "outputs": [],
   "source": []
  }
 ],
 "metadata": {
  "kernelspec": {
   "display_name": "Python 3 (ipykernel)",
   "language": "python",
   "name": "python3"
  },
  "language_info": {
   "codemirror_mode": {
    "name": "ipython",
    "version": 3
   },
   "file_extension": ".py",
   "mimetype": "text/x-python",
   "name": "python",
   "nbconvert_exporter": "python",
   "pygments_lexer": "ipython3",
   "version": "3.10.8"
  }
 },
 "nbformat": 4,
 "nbformat_minor": 5
}
