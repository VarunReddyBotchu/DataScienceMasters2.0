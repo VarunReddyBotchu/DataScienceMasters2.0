{
 "cells": [
  {
   "cell_type": "markdown",
   "id": "0406c753-2966-40a8-8c96-5335934e7f83",
   "metadata": {},
   "source": [
    "##### Question 1\n",
    "Convert 1D Array Into 2D Array\n",
    "You are given a 0-indexed 1-dimensional (1D) integer array original, and two integers, m and n. You are tasked with creating a 2-dimensional (2D) array with  m rows and n columns using all the elements from original.\n",
    "The elements from indices 0 to n - 1 (inclusive) of original should form the first row of the constructed 2D array, the elements from indices n to 2 * n - 1 (inclusive) should form the second row of the constructed 2D array, and so on.\n",
    "Return an m x n 2D array constructed according to the above procedure, or an empty 2D array if it is impossible.\n",
    "Example 1:\n",
    "Input: original = [1,2,3,4], m = 2, n = 2\n",
    "Output:** [[1,2],[3,4]]\n",
    "Explanation: The constructed 2D array should contain 2 rows and 2 columns.\n",
    "The first group of n=2 elements in original, [1,2], becomes the first row in the constructed 2D array.\n",
    "The second group of n=2 elements in original, [3,4], becomes the second row in the constructed 2D array."
   ]
  },
  {
   "cell_type": "code",
   "execution_count": 23,
   "id": "eb6d3d20-061f-4da0-ac27-4bb9bf3e4cbb",
   "metadata": {},
   "outputs": [],
   "source": [
    "class Solution:\n",
    "    def shuffle(self, nums: list[int], n: int) -> list[list[int]]:\n",
    "        res = []\n",
    "        for i in range(n):\n",
    "            res.append(nums[i])\n",
    "            res.append(nums[i+n])\n",
    "        return [res[i:i+n] for i in range(0, len(res), n)]"
   ]
  },
  {
   "cell_type": "code",
   "execution_count": 24,
   "id": "8fad3125-34d6-4ab3-a968-92dfeea9bee5",
   "metadata": {},
   "outputs": [
    {
     "name": "stdout",
     "output_type": "stream",
     "text": [
      "[[1, 6], [8, 4]]\n"
     ]
    }
   ],
   "source": [
    "original = [1,8,6,4]\n",
    "m = 2\n",
    "n = 2\n",
    "\n",
    "s = Solution()\n",
    "result = s.shuffle(original, n)\n",
    "\n",
    "print(result)"
   ]
  },
  {
   "cell_type": "markdown",
   "id": "695b0ae7-85fa-412e-958e-8a8d1b901418",
   "metadata": {},
   "source": [
    "##### Question 2\n",
    "You have n coins and you want to build a staircase with these coins. The staircase consists of k rows where the ith row has exactly i coins. The last row of the staircase may be incomplete.\n",
    "Given the integer n, return the number of complete rows of the staircase you will build.\n",
    "Example 1:\n",
    "Input: n = 5\n",
    "Output: 2\n",
    "Explanation: Because the 3rd row is incomplete, we return 2."
   ]
  },
  {
   "cell_type": "code",
   "execution_count": 14,
   "id": "1bca1562-dc77-4e66-9617-a5943d1486f3",
   "metadata": {},
   "outputs": [],
   "source": [
    "def arrangeCoins(n: int) -> int:\n",
    "    left, right = 1, n\n",
    "    while left <= right:\n",
    "        k = (left + right) // 2\n",
    "        total = (k * (k + 1)) // 2\n",
    "        if total == n:\n",
    "            return k\n",
    "        elif total < n:\n",
    "            left = k + 1\n",
    "        else:\n",
    "            right = k - 1\n",
    "    return right"
   ]
  },
  {
   "cell_type": "code",
   "execution_count": 15,
   "id": "3a295089-39be-4ac4-acdc-8c07c5d455a0",
   "metadata": {},
   "outputs": [
    {
     "name": "stdout",
     "output_type": "stream",
     "text": [
      "2\n"
     ]
    }
   ],
   "source": [
    "print(arrangeCoins(5))"
   ]
  },
  {
   "cell_type": "markdown",
   "id": "714d9399-b9c7-470e-8dca-76377b55e283",
   "metadata": {},
   "source": [
    "##### Question 3\n",
    "Given an integer array nums sorted in non-decreasing order, return an array of the squares of each number sorted in non-decreasing order.\n",
    "Example 1:\n",
    "Input: nums = [-4,-1,0,3,10]\n",
    "Output: [0,1,9,16,100]\n",
    "Explanation: After squaring, the array becomes [16,1,0,9,100].\n",
    "After sorting, it becomes [0,1,9,16,100]."
   ]
  },
  {
   "cell_type": "code",
   "execution_count": 70,
   "id": "8ccdf443-ab90-4ad3-8ce2-978467930f9b",
   "metadata": {},
   "outputs": [],
   "source": [
    "def sorted_squares(nums):\n",
    "  \n",
    "    nums = [num**2 for num in nums]\n",
    "    \n",
    "   \n",
    "    nums.sort()\n",
    "    \n",
    "    return nums"
   ]
  },
  {
   "cell_type": "code",
   "execution_count": 71,
   "id": "616fa264-0fb3-4059-a0b8-e33cfabc89e9",
   "metadata": {},
   "outputs": [
    {
     "data": {
      "text/plain": [
       "[0, 1, 9, 16, 100]"
      ]
     },
     "execution_count": 71,
     "metadata": {},
     "output_type": "execute_result"
    }
   ],
   "source": [
    "nums = [-4, -1, 0, 3, 10]\n",
    "sorted_squares(nums)"
   ]
  },
  {
   "cell_type": "markdown",
   "id": "bc45565f-966b-4c3c-8be6-0b768d316b03",
   "metadata": {},
   "source": [
    "##### Question 4\n",
    "Given two 0-indexed integer arrays nums1 and nums2, return a list answer of size 2 where:\n",
    "- answer[0] is a list of all distinct integers in nums1 which are not present in nums2.\n",
    "- answer[1] is a list of all distinct integers in nums2 which are not present in nums1.\n",
    "Note that the integers in the lists may be returned in any order.\n",
    "Example 1:\n",
    "Input: nums1 = [1,2,3], nums2 = [2,4,6]\n",
    "Output: [[1,3],[4,6]]\n",
    "Explanation\n",
    "For nums1, nums1[1] = 2 is present at index 0 of nums2, whereas nums1[0] = 1 and nums1[2] = 3 are not present in nums2. Therefore, answer[0] = [1,3].\n",
    "For nums2, nums2[0] = 2 is present at index 1 of nums1, whereas nums2[1] = 4 and nums2[2] = 6 are not present in nums2. Therefore, answer[1] = [4,6]."
   ]
  },
  {
   "cell_type": "code",
   "execution_count": 68,
   "id": "ccdb019e-147b-4e55-a48e-e93288b9c305",
   "metadata": {},
   "outputs": [],
   "source": [
    "def findDisjoint(nums1, nums2):\n",
    "    set1 = set(nums1)\n",
    "    set2 = set(nums2)\n",
    "    return [list(set1 - set2), list(set2 - set1)]"
   ]
  },
  {
   "cell_type": "code",
   "execution_count": 69,
   "id": "7b5bae9a-b19b-47ae-92cc-ef67ae8a19b4",
   "metadata": {},
   "outputs": [
    {
     "name": "stdout",
     "output_type": "stream",
     "text": [
      "[[1, 3], [4, 6]]\n"
     ]
    }
   ],
   "source": [
    "nums1 = [1,2,3]\n",
    "nums2 = [2,4,6]\n",
    "answer = findDisjoint(nums1, nums2)\n",
    "print(answer)"
   ]
  },
  {
   "cell_type": "markdown",
   "id": "81121ac1-e263-4685-b3c6-81117af5cad1",
   "metadata": {},
   "source": [
    "##### Question 5\n",
    "Given two integer arrays arr1 and arr2, and the integer d, return the distance value between the two arrays.\n",
    "The distance value is defined as the number of elements arr1[i] such that there is not any element arr2[j] where |arr1[i]-arr2[j]| <= d.\n",
    "Example 1:\n",
    "Input: arr1 = [4,5,8], arr2 = [10,9,1,8], d = 2\n",
    "Output: 2\n",
    "Explanation:\n",
    "For arr1[0]=4 we have:\n",
    "|4-10|=6 > d=2\n",
    "|4-9|=5 > d=2\n",
    "|4-1|=3 > d=2\n",
    "|4-8|=4 > d=2\n",
    "For arr1[1]=5 we have:\n",
    "|5-10|=5 > d=2\n",
    "|5-9|=4 > d=2\n",
    "|5-1|=4 > d=2\n",
    "|5-8|=3 > d=2\n",
    "For arr1[2]=8 we have:\n",
    "|8-10|=2 <= d=2\n",
    "|8-9|=1 <= d=2\n",
    "|8-1|=7 > d=2\n",
    "|8-8|=0 <= d=2"
   ]
  },
  {
   "cell_type": "code",
   "execution_count": 41,
   "id": "74fbb9f5-e01f-436f-98f1-6c4b1a573b1f",
   "metadata": {},
   "outputs": [],
   "source": [
    "def findDistanceValue(arr1, arr2, d):\n",
    "    count = 0\n",
    "    for i in range(len(arr1)):\n",
    "        flag = True\n",
    "        for j in range(len(arr2)):\n",
    "            if abs(arr1[i] - arr2[j]) <= d:\n",
    "                flag = False\n",
    "                break\n",
    "        if flag:\n",
    "            count += 1\n",
    "    return count"
   ]
  },
  {
   "cell_type": "code",
   "execution_count": 42,
   "id": "e44bbe39-d8b3-4239-aed0-b2f9f6f9c0cc",
   "metadata": {},
   "outputs": [
    {
     "name": "stdout",
     "output_type": "stream",
     "text": [
      "2\n"
     ]
    }
   ],
   "source": [
    "print(findDistanceValue([4,5,8],[10,9,1,8],2))"
   ]
  },
  {
   "cell_type": "markdown",
   "id": "0e58d0a9-a02c-4d99-9ea6-8556831ec549",
   "metadata": {},
   "source": [
    "##### Question 6\n",
    "Given an integer array nums of length n where all the integers of nums are in the range [1, n] and each integer appears once or twice, return an array of all the integers that appears twice.\n",
    "You must write an algorithm that runs in O(n) time and uses only constant extra space.\n",
    "Example 1:\n",
    "Input: nums = [4,3,2,7,8,2,3,1]\n",
    "Output:[2,3]"
   ]
  },
  {
   "cell_type": "code",
   "execution_count": 64,
   "id": "99b43da9-6955-40e7-b190-98df8fa164b9",
   "metadata": {},
   "outputs": [],
   "source": [
    "def find_duplicates(nums):\n",
    "    res = []\n",
    "    for num in nums:\n",
    "        if nums[abs(num)-1] < 0:\n",
    "            res.append(abs(num))\n",
    "        else:\n",
    "            nums[abs(num)-1] *= -1\n",
    "    return res"
   ]
  },
  {
   "cell_type": "code",
   "execution_count": 66,
   "id": "f019d9de-badd-4485-809e-43483ea99c3c",
   "metadata": {},
   "outputs": [
    {
     "name": "stdout",
     "output_type": "stream",
     "text": [
      "[2, 3]\n"
     ]
    }
   ],
   "source": [
    "nums = [4,3,2,7,8,2,3,1]\n",
    "result = find_duplicates(nums)\n",
    "print(result) "
   ]
  },
  {
   "cell_type": "markdown",
   "id": "e8f28e83-b8bc-4fd5-be4f-c1105d979434",
   "metadata": {},
   "source": [
    "##### Question 7\n",
    "Suppose an array of length n sorted in ascending order is **rotated** between 1 and n times. For example, the array nums = [0,1,2,4,5,6,7] might become:\n",
    "- [4,5,6,7,0,1,2] if it was rotated 4 times.\n",
    "- [0,1,2,4,5,6,7] if it was rotated 7 times.\n",
    "Notice that rotating an array [a[0], a[1], a[2], ..., a[n-1]] 1 time results in the array [a[n-1], a[0], a[1], a[2], ..., a[n-2]].\n",
    "Given the sorted rotated array nums of unique elements, return the minimum element of this array.\n",
    "You must write an algorithm that runs in O(log n) time.\n",
    "Example 1:\n",
    "Input: nums = [3,4,5,1,2]\n",
    "Output: 1\n",
    "Explanation:\n",
    "The original array was [1,2,3,4,5] rotated 3 times."
   ]
  },
  {
   "cell_type": "code",
   "execution_count": 73,
   "id": "62d438f9-4cd9-4337-bec0-25f26e6831fc",
   "metadata": {},
   "outputs": [],
   "source": [
    "def find_min(nums):\n",
    "    left, right = 0, len(nums) - 1\n",
    "    while left < right:\n",
    "        mid = (left + right) // 2\n",
    "        if nums[mid] > nums[right]:\n",
    "            left = mid + 1\n",
    "        else:\n",
    "            right = mid\n",
    "    return nums[left]"
   ]
  },
  {
   "cell_type": "code",
   "execution_count": 74,
   "id": "2bcedbc4-dd84-475f-83e6-061a80117a50",
   "metadata": {},
   "outputs": [
    {
     "name": "stdout",
     "output_type": "stream",
     "text": [
      "1\n"
     ]
    }
   ],
   "source": [
    "print(find_min([3,4,5,1,2]))"
   ]
  },
  {
   "cell_type": "markdown",
   "id": "a42a1652-c54f-4006-9adf-4297b73eaf04",
   "metadata": {},
   "source": [
    "##### Question 8\n",
    "An integer array original is transformed into a doubled array changed by appending twice the value of every element in original, and then randomly shuffling the resulting array.\n",
    "Given an array changed, return original if changed is a doubled array. If changed is not a doubled array, return an empty array. The elements in original may be returned in any order.\n",
    "Example 1:\n",
    "Input: changed = [1,3,4,2,6,8]\n",
    "Output: [1,3,4]\n",
    "Explanation:One possible original array could be [1,3,4]:\n",
    "- Twice the value of 1 is 1 * 2 = 2.\n",
    "- Twice the value of 3 is 3 * 2 = 6.\n",
    "- Twice the value of 4 is 4 * 2 = 8.\n",
    "Other original arrays could be [4,3,1] or [3,1,4]."
   ]
  },
  {
   "cell_type": "code",
   "execution_count": 90,
   "id": "d45f743b-7424-423a-a538-a607c47795c5",
   "metadata": {},
   "outputs": [],
   "source": [
    "def findOriginalArray(changed: list[int]) -> list[int]:\n",
    "    if len(changed) % 2 == 1:\n",
    "        return []\n",
    "    counts = {}\n",
    "    original = []\n",
    "    for num in changed:\n",
    "        half = num // 2\n",
    "        if half in counts:\n",
    "            original.append(half)\n",
    "            counts[half] -= 1\n",
    "            if counts[half] == 0:\n",
    "                del counts[half]\n",
    "        else:\n",
    "            counts[num] = counts.get(num, 0) + 1\n",
    "    if len(counts) == 0:\n",
    "        return original\n",
    "    else:\n",
    "        return []"
   ]
  },
  {
   "cell_type": "code",
   "execution_count": 91,
   "id": "311ade0a-fcd8-4889-b139-5f12f8400cc1",
   "metadata": {},
   "outputs": [
    {
     "name": "stdout",
     "output_type": "stream",
     "text": [
      "[]\n"
     ]
    }
   ],
   "source": [
    "print(findOriginalArray([1,3,4,2,6,8]))"
   ]
  }
 ],
 "metadata": {
  "kernelspec": {
   "display_name": "Python 3 (ipykernel)",
   "language": "python",
   "name": "python3"
  },
  "language_info": {
   "codemirror_mode": {
    "name": "ipython",
    "version": 3
   },
   "file_extension": ".py",
   "mimetype": "text/x-python",
   "name": "python",
   "nbconvert_exporter": "python",
   "pygments_lexer": "ipython3",
   "version": "3.10.8"
  }
 },
 "nbformat": 4,
 "nbformat_minor": 5
}
