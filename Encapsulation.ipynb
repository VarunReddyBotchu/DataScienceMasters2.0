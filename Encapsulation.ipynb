{
 "cells": [
  {
   "cell_type": "markdown",
   "id": "702e0c7a-7dbf-4c1f-842f-b32105e47099",
   "metadata": {},
   "source": [
    "### Encapsulation"
   ]
  },
  {
   "cell_type": "code",
   "execution_count": 17,
   "id": "1e3557ea-5881-4482-9242-73b771d1ddb1",
   "metadata": {},
   "outputs": [],
   "source": [
    "class test:\n",
    "    def __init__(self,a,b):\n",
    "        self.a=a\n",
    "        self.b=b"
   ]
  },
  {
   "cell_type": "code",
   "execution_count": 18,
   "id": "b57690f5-ac48-445d-800b-998c79c3af44",
   "metadata": {},
   "outputs": [],
   "source": [
    "t=test(45,23)"
   ]
  },
  {
   "cell_type": "code",
   "execution_count": 19,
   "id": "3fcafe58-0dd1-4e3d-8d19-7fc5800444ca",
   "metadata": {},
   "outputs": [
    {
     "data": {
      "text/plain": [
       "45"
      ]
     },
     "execution_count": 19,
     "metadata": {},
     "output_type": "execute_result"
    }
   ],
   "source": [
    "t.a"
   ]
  },
  {
   "cell_type": "code",
   "execution_count": 20,
   "id": "838803c1-5b99-45d9-a1cc-fea5d6181ca4",
   "metadata": {},
   "outputs": [
    {
     "data": {
      "text/plain": [
       "23"
      ]
     },
     "execution_count": 20,
     "metadata": {},
     "output_type": "execute_result"
    }
   ],
   "source": [
    "t.b"
   ]
  },
  {
   "cell_type": "code",
   "execution_count": 21,
   "id": "719b9c22-8a3d-412c-b1c3-bc2136bd9e25",
   "metadata": {},
   "outputs": [],
   "source": [
    "t.a=34"
   ]
  },
  {
   "cell_type": "code",
   "execution_count": 22,
   "id": "550fb070-8eb4-4efa-a6c7-0b8eca7ef7a9",
   "metadata": {},
   "outputs": [
    {
     "data": {
      "text/plain": [
       "34"
      ]
     },
     "execution_count": 22,
     "metadata": {},
     "output_type": "execute_result"
    }
   ],
   "source": [
    "t.a"
   ]
  },
  {
   "cell_type": "code",
   "execution_count": 56,
   "id": "5fcdc4f9-b2e3-436e-b15f-b4694e321a47",
   "metadata": {},
   "outputs": [],
   "source": [
    "class car:\n",
    "  \n",
    "    def __init__(self, year, make, model, speed):\n",
    "        self.__year = year\n",
    "        self.__make = make\n",
    "        self.__model = model\n",
    "        self._speed = 0\n",
    "    \n",
    "    def set_speed(self, speed):\n",
    "        self.__speed = 0 if speed < 0 else speed\n",
    "        \n",
    "    def get_speed(self):\n",
    "        return self.__speed\n",
    "        "
   ]
  },
  {
   "cell_type": "code",
   "execution_count": 55,
   "id": "5924a85e-b5c2-4817-aa1b-5c75416b8c4e",
   "metadata": {},
   "outputs": [],
   "source": [
    "obj_car.set_speed(4)"
   ]
  },
  {
   "cell_type": "code",
   "execution_count": 25,
   "id": "a5e18524-c604-486a-979a-0b3f1026e710",
   "metadata": {},
   "outputs": [],
   "source": [
    "obj_car = car(2021,\"BMW\",\"xds5\",118)"
   ]
  },
  {
   "cell_type": "code",
   "execution_count": 26,
   "id": "530ca5e8-e3ff-4b1e-83a8-7cefd910c2b7",
   "metadata": {},
   "outputs": [
    {
     "data": {
      "text/plain": [
       "2021"
      ]
     },
     "execution_count": 26,
     "metadata": {},
     "output_type": "execute_result"
    }
   ],
   "source": [
    "obj_car._car__year"
   ]
  },
  {
   "cell_type": "code",
   "execution_count": 27,
   "id": "100166e6-ce90-42fc-ba50-193612dd867a",
   "metadata": {},
   "outputs": [],
   "source": [
    "obj_car._car__year=2023"
   ]
  },
  {
   "cell_type": "code",
   "execution_count": 28,
   "id": "0b7db4d6-a204-4137-9d8b-8bc7ef743c8c",
   "metadata": {},
   "outputs": [
    {
     "data": {
      "text/plain": [
       "2023"
      ]
     },
     "execution_count": 28,
     "metadata": {},
     "output_type": "execute_result"
    }
   ],
   "source": [
    "obj_car._car__year"
   ]
  },
  {
   "cell_type": "code",
   "execution_count": 60,
   "id": "65608b79-a7f4-4fa8-8aa3-0ea5adc9bd13",
   "metadata": {},
   "outputs": [],
   "source": [
    "obj_car.set_speed(89)"
   ]
  },
  {
   "cell_type": "code",
   "execution_count": 61,
   "id": "7577a9ca-7853-4c57-8500-4ace557bad3f",
   "metadata": {},
   "outputs": [
    {
     "data": {
      "text/plain": [
       "89"
      ]
     },
     "execution_count": 61,
     "metadata": {},
     "output_type": "execute_result"
    }
   ],
   "source": [
    "obj_car.get_speed()"
   ]
  },
  {
   "cell_type": "code",
   "execution_count": 44,
   "id": "08f89d21-111b-40ce-8bae-5e5dc3ff9258",
   "metadata": {},
   "outputs": [],
   "source": [
    "class bank_account:\n",
    "     def __init__(self, balance):\n",
    "        self.__balance = balance\n",
    "    \n",
    "     def deposit(self, amount):\n",
    "        self.__balance = self.__balance+ amount\n",
    "    \n",
    "     def withdraw(self, amount):\n",
    "        if self.__balance>=amount:\n",
    "            self.__balance = self.__balance-amount\n",
    "            \n",
    "            return True\n",
    "        else:\n",
    "            return False\n",
    "    \n",
    "     def get_balance(self):\n",
    "             return self.__balance"
   ]
  },
  {
   "cell_type": "code",
   "execution_count": 45,
   "id": "98651ff4-9dda-46a6-84eb-71d11dc1e7d8",
   "metadata": {},
   "outputs": [],
   "source": [
    "obj_bank_account=bank_account(10099)"
   ]
  },
  {
   "cell_type": "code",
   "execution_count": 47,
   "id": "7e6bd818-3f37-4402-8313-6e5531c5283f",
   "metadata": {},
   "outputs": [
    {
     "data": {
      "text/plain": [
       "10099"
      ]
     },
     "execution_count": 47,
     "metadata": {},
     "output_type": "execute_result"
    }
   ],
   "source": [
    "obj_bank_account.get_balance()"
   ]
  },
  {
   "cell_type": "code",
   "execution_count": 48,
   "id": "34aaef01-b85e-4afa-9159-bf9cec551bd4",
   "metadata": {},
   "outputs": [],
   "source": [
    "obj_bank_account.deposit(234235)"
   ]
  },
  {
   "cell_type": "code",
   "execution_count": 49,
   "id": "bff0a3d8-41bd-469f-b066-6416f1ea0697",
   "metadata": {},
   "outputs": [
    {
     "data": {
      "text/plain": [
       "244334"
      ]
     },
     "execution_count": 49,
     "metadata": {},
     "output_type": "execute_result"
    }
   ],
   "source": [
    "obj_bank_account.get_balance()"
   ]
  },
  {
   "cell_type": "code",
   "execution_count": 50,
   "id": "0d280545-f3c5-4e7d-9718-b55c0514871c",
   "metadata": {},
   "outputs": [
    {
     "data": {
      "text/plain": [
       "False"
      ]
     },
     "execution_count": 50,
     "metadata": {},
     "output_type": "execute_result"
    }
   ],
   "source": [
    "obj_bank_account.withdraw(23345456)"
   ]
  },
  {
   "cell_type": "code",
   "execution_count": 51,
   "id": "09aea5bf-ca38-4f30-b9ee-7ee66c6e0bd1",
   "metadata": {},
   "outputs": [
    {
     "data": {
      "text/plain": [
       "True"
      ]
     },
     "execution_count": 51,
     "metadata": {},
     "output_type": "execute_result"
    }
   ],
   "source": [
    "obj_bank_account.withdraw(234567)"
   ]
  },
  {
   "cell_type": "code",
   "execution_count": 52,
   "id": "cea85b86-46df-4d95-8555-c0fdc57b8618",
   "metadata": {},
   "outputs": [
    {
     "data": {
      "text/plain": [
       "9767"
      ]
     },
     "execution_count": 52,
     "metadata": {},
     "output_type": "execute_result"
    }
   ],
   "source": [
    "obj_bank_account.get_balance()"
   ]
  }
 ],
 "metadata": {
  "kernelspec": {
   "display_name": "Python 3 (ipykernel)",
   "language": "python",
   "name": "python3"
  },
  "language_info": {
   "codemirror_mode": {
    "name": "ipython",
    "version": 3
   },
   "file_extension": ".py",
   "mimetype": "text/x-python",
   "name": "python",
   "nbconvert_exporter": "python",
   "pygments_lexer": "ipython3",
   "version": "3.10.8"
  }
 },
 "nbformat": 4,
 "nbformat_minor": 5
}
