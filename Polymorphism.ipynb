{
 "cells": [
  {
   "cell_type": "markdown",
   "id": "6de98f49-c711-4f24-bc00-6bcca2869678",
   "metadata": {},
   "source": [
    "### Polymorphism\n",
    "1. \n",
    "2. \n"
   ]
  },
  {
   "cell_type": "code",
   "execution_count": 1,
   "id": "362fc834-09d3-49f9-9c2a-8dc7b4d2beed",
   "metadata": {},
   "outputs": [],
   "source": [
    "#have multiple characteristics for same function\n",
    "def test(a,b):\n",
    "    return a+b"
   ]
  },
  {
   "cell_type": "code",
   "execution_count": 2,
   "id": "5fb44d26-ddb9-4886-a94f-80f6dd81620b",
   "metadata": {},
   "outputs": [
    {
     "data": {
      "text/plain": [
       "123"
      ]
     },
     "execution_count": 2,
     "metadata": {},
     "output_type": "execute_result"
    }
   ],
   "source": [
    "test(56,67)"
   ]
  },
  {
   "cell_type": "code",
   "execution_count": 3,
   "id": "29bd32d9-54ba-4a67-b6d3-d118fdc950c6",
   "metadata": {},
   "outputs": [
    {
     "data": {
      "text/plain": [
       "'varun kumar'"
      ]
     },
     "execution_count": 3,
     "metadata": {},
     "output_type": "execute_result"
    }
   ],
   "source": [
    "test(\"varun \" , \"kumar\")"
   ]
  },
  {
   "cell_type": "code",
   "execution_count": 5,
   "id": "f08a633d-eb52-40e4-999c-755ea58db2b7",
   "metadata": {},
   "outputs": [
    {
     "data": {
      "text/plain": [
       "[1, 23, 2, 4, 24, 24, 4432, 234, 2423, 4, 234, 5]"
      ]
     },
     "execution_count": 5,
     "metadata": {},
     "output_type": "execute_result"
    }
   ],
   "source": [
    "test([1,23,2,4,24,24],[4432,234,2423,4,234,5])"
   ]
  },
  {
   "cell_type": "code",
   "execution_count": 11,
   "id": "8b7763c7-6b53-4dc6-b82e-203fef9a7c81",
   "metadata": {},
   "outputs": [],
   "source": [
    "class data_science():\n",
    "    def syllabus(self):\n",
    "        print(\"This is my method for data science syllabus\")"
   ]
  },
  {
   "cell_type": "code",
   "execution_count": 26,
   "id": "d1a1efa4-c42c-4c62-a5cb-3366c5c4053e",
   "metadata": {},
   "outputs": [],
   "source": [
    "class web_dev:\n",
    "    def syllabus(self):\n",
    "        print(\"This is my method for web dev\")"
   ]
  },
  {
   "cell_type": "code",
   "execution_count": 27,
   "id": "90059848-1acb-4309-8af3-6d8a289a6e87",
   "metadata": {},
   "outputs": [],
   "source": [
    "def class_parcer(class_obj):\n",
    "    for i in class_obj:\n",
    "        i.syllabus()"
   ]
  },
  {
   "cell_type": "code",
   "execution_count": 28,
   "id": "e8460f9c-43a2-440e-93dc-174e3dc8b3f8",
   "metadata": {},
   "outputs": [],
   "source": [
    "obj_data_sciencce = data_science()"
   ]
  },
  {
   "cell_type": "code",
   "execution_count": 29,
   "id": "66833a7e-66dc-47d2-b0f7-33e672700ca7",
   "metadata": {},
   "outputs": [],
   "source": [
    "obj_web_dev = web_dev()"
   ]
  },
  {
   "cell_type": "code",
   "execution_count": 30,
   "id": "45c230f6-044b-452e-be9a-3b6d0fe344df",
   "metadata": {},
   "outputs": [],
   "source": [
    " class_obj= [obj_data_sciencce, obj_web_dev]"
   ]
  },
  {
   "cell_type": "code",
   "execution_count": 31,
   "id": "28702ab2-5238-4fba-bdd6-e3d8f97a412e",
   "metadata": {},
   "outputs": [
    {
     "name": "stdout",
     "output_type": "stream",
     "text": [
      "This is my method for data science syllabus\n",
      "This is my method for web dev\n"
     ]
    }
   ],
   "source": [
    "class_parcer(class_obj)"
   ]
  }
 ],
 "metadata": {
  "kernelspec": {
   "display_name": "Python 3 (ipykernel)",
   "language": "python",
   "name": "python3"
  },
  "language_info": {
   "codemirror_mode": {
    "name": "ipython",
    "version": 3
   },
   "file_extension": ".py",
   "mimetype": "text/x-python",
   "name": "python",
   "nbconvert_exporter": "python",
   "pygments_lexer": "ipython3",
   "version": "3.10.8"
  }
 },
 "nbformat": 4,
 "nbformat_minor": 5
}
